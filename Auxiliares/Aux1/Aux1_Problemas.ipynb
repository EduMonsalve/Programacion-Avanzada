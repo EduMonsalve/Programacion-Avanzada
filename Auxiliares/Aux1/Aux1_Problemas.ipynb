{
  "nbformat": 4,
  "nbformat_minor": 0,
  "metadata": {
    "colab": {
      "name": "Aux1_Problemas.ipynb",
      "provenance": [],
      "collapsed_sections": [],
      "toc_visible": true
    },
    "kernelspec": {
      "name": "python3",
      "display_name": "Python 3"
    },
    "language_info": {
      "name": "python"
    }
  },
  "cells": [
    {
      "cell_type": "markdown",
      "source": [
        "<img height=\"120\" src=\"https://raw.githubusercontent.com/joaquinzepeda/Programacion-Avanzada/main/imgs/cropped-logo-fcfm-die-1.png\">\n",
        "\n",
        "# **Aux 1**\n",
        "## Profesor *Alberto Castro*\n",
        "### Por *Gabriel Flores* y *Joaquín Zepeda*\n",
        "\n",
        "**Periodo**: Primavera 2022 . **Repositorio del curso:** <a href=\"https://github.com/joaquinzepeda/Programacion-Avanzada.git\"><img height=\"30\" src=\"https://cdn-icons-png.flaticon.com/512/25/25231.png\"></a>  \n",
        "\n"
      ],
      "metadata": {
        "id": "5t800RQmWHTu"
      }
    },
    {
      "cell_type": "markdown",
      "source": [
        "# Comparativa de rendimiento o Benchmark"
      ],
      "metadata": {
        "id": "Wqo7joN5WNiV"
      }
    },
    {
      "cell_type": "markdown",
      "source": [
        "\n",
        "## Utilizando la librería time\n",
        "\n",
        "Hay muchas formas de comparar el rendimiento de los códigos, una de las formas más simples y comunes es utilizando la libreria time la cual provee varias herramientas, dentro de ellas permite medir el tiempo en 2 puntos del código y con la resta de estos dos puntos se puede obtener el tiempo de ejecución. Se debe importar utilizando ```import time```. Un ejemplo de esto se muestra a continuación:"
      ],
      "metadata": {
        "id": "rxiOHfzlUxyB"
      }
    },
    {
      "cell_type": "code",
      "source": [
        "import time \n",
        "import numpy as np\n",
        "a=np.arange(1000)\n",
        "repeat = 100\n",
        "number = 1000\n",
        "reps = []\n",
        "\n",
        "for _ in range(repeat): \n",
        "    inicio = time.time()\n",
        "    #-- O la función podria ir aqui --\n",
        "    for _ in range(number):\n",
        "        np.random.choice(a)\n",
        "    #------------------------------------\n",
        "    final = time.time()\n",
        "    reps.append(final-inicio)\n"
      ],
      "metadata": {
        "id": "a2-lgzRcTpCX"
      },
      "execution_count": null,
      "outputs": []
    },
    {
      "cell_type": "code",
      "source": [
        "avg = np.mean(reps)\n",
        "median = np.median(reps)\n",
        "std = np.std(reps)\n",
        "print('Tiempo Promedio:', \"{:.4f}\".format(avg))\n",
        "print('Mediana de Tiempo:', \"{:.4f}\".format(median))\n",
        "print('Desviación:', \"{:.4f}\".format(std))"
      ],
      "metadata": {
        "colab": {
          "base_uri": "https://localhost:8080/"
        },
        "id": "1BJ8W-vVYSWM",
        "outputId": "bc48a48f-5d88-4eff-e746-aa38fd16d8bf"
      },
      "execution_count": null,
      "outputs": [
        {
          "output_type": "stream",
          "name": "stdout",
          "text": [
            "Tiempo Promedio: 0.0203\n",
            "Mediana de Tiempo: 0.0143\n",
            "Desviación: 0.0109\n"
          ]
        }
      ]
    },
    {
      "cell_type": "markdown",
      "source": [
        "## Utilizando la librería timeit\n",
        "\n",
        "Timeit permite automatizar el proceso de benchmark pues tiene implementadas funciones ya pensadas para este tipo de aplicaciones, más información en la [documentación](https://docs.python.org/3/library/timeit.html?highlight=timeit#module-timeit). En una línea se puede realizar lo mismo que se realizo con varios ciclos for en el ejemplo anterior, por lo que es mucho más simple. Se debe importar utilizando ```import timeit```. Está libreria viene instalada por defecto en Python, lo cual es ventajoso. Se muestra el mismo ejemplo anterior, pero utilizando timeit a continuación:"
      ],
      "metadata": {
        "id": "ZYtGGZnFWHMD"
      }
    },
    {
      "cell_type": "code",
      "source": [
        "import numpy as np\n",
        "import timeit\n",
        "\n",
        "reps = timeit.repeat(repeat=100, number=1000,\n",
        "                     stmt=\"np.random.choice(a)\",\n",
        "                     setup=\"import numpy as np; a=np.arange(1000)\")"
      ],
      "metadata": {
        "id": "bNZ45lm2Ojkx"
      },
      "execution_count": null,
      "outputs": []
    },
    {
      "cell_type": "code",
      "source": [
        "avg = np.mean(reps)\n",
        "median = np.median(reps)\n",
        "std = np.std(reps)\n",
        "print('Tiempo Promedio:', \"{:.4f}\".format(avg))\n",
        "print('Mediana de Tiempo:', \"{:.4f}\".format(median))\n",
        "print('Desviación:', \"{:.4f}\".format(std))"
      ],
      "metadata": {
        "colab": {
          "base_uri": "https://localhost:8080/"
        },
        "id": "Xm_AYS0kYVx3",
        "outputId": "5df5e6cc-b656-4d5c-8474-2ca9546719cf"
      },
      "execution_count": null,
      "outputs": [
        {
          "output_type": "stream",
          "name": "stdout",
          "text": [
            "Tiempo Promedio: 0.0152\n",
            "Mediana de Tiempo: 0.0134\n",
            "Desviación: 0.0051\n"
          ]
        }
      ]
    },
    {
      "cell_type": "markdown",
      "source": [
        "En caso de no tener instaladas estas librerias se pueden instalar utilizando los siguientes comandos en la terminal (estando dentro del entorno en el que se trabaja):\n",
        "\n",
        "```\n",
        "pip install time\n",
        "```\n"
      ],
      "metadata": {
        "id": "L4uoOFT4W7Ny"
      }
    },
    {
      "cell_type": "markdown",
      "source": [
        "# Parte 1. Problemas (en Python)"
      ],
      "metadata": {
        "id": "6ntjHNBIiDAe"
      }
    },
    {
      "cell_type": "markdown",
      "source": [
        "## A. Capicúa de un número\n",
        "Se define capicúa cualquier número que se lee igual de izquierda a derecha, por ejemplo: 121, 1001001, etc. Por otro lado existen otros números que no son capicúas pero cumplen una propiedad:\n",
        "<center>\n",
        "número_no_capicúa + su_reverso = capicúa_del_número\n",
        "</center>\n",
        "\n",
        "El número 57 no es un número capicúa por lo que se utiliza la segunda definición:\n",
        "<center>\n",
        "57 + 75 = 132 \n",
        "</center>\n",
        "\n",
        "Como sigue sin ser capicúa se vuelve a sumar el inverso:\n",
        "<center>\n",
        "132 + 231 = 363\n",
        "</center>\n",
        "\n",
        "Diremos que el 363 es el capicúa del número 57.\n",
        "\n",
        "**Se pide**: Genere 2 funciones:\n",
        "- `es_capicua(a)`: función que retorna si el número es un capicúa o no. Debe retornar True o False dependiendo del caso. \n",
        "- `encontrar_capicua(a)`: debe retornar el valor del capicúa, según las definiciones.\n",
        "\n",
        "Estas funciones reciben como parámetro un entero.\n",
        "\n",
        "Ejemplos:\n",
        "```\n",
        ">>> encontrar_capicua(121)\n",
        "121\n",
        ">>> encontrar_capicua(57)\n",
        "63\n",
        "```\n",
        "\n",
        "***Hint***: *En caso de que el resultado no sea un número capicúa se vuelve a sumar el reverso hasta que lo sea.*\n"
      ],
      "metadata": {
        "id": "OU3w2SKdRCuw"
      }
    },
    {
      "cell_type": "code",
      "source": [
        "def es_capicua(a):\n",
        "  pass\n",
        "\n",
        "def encontrar_capicua(a):\n",
        "  pass"
      ],
      "metadata": {
        "id": "B8H7azubSfwT"
      },
      "execution_count": null,
      "outputs": []
    },
    {
      "cell_type": "code",
      "source": [
        "assert(encontrar_capicua(121) == 121)\n",
        "assert(encontrar_capicua(57) == 363)"
      ],
      "metadata": {
        "colab": {
          "base_uri": "https://localhost:8080/",
          "height": 184
        },
        "id": "f6Dj9FmqTBoY",
        "outputId": "4a55601c-6935-46ad-cff2-83446020fd43"
      },
      "execution_count": null,
      "outputs": [
        {
          "output_type": "error",
          "ename": "AssertionError",
          "evalue": "ignored",
          "traceback": [
            "\u001b[0;31m---------------------------------------------------------------------------\u001b[0m",
            "\u001b[0;31mAssertionError\u001b[0m                            Traceback (most recent call last)",
            "\u001b[0;32m<ipython-input-2-3a92ae45abcb>\u001b[0m in \u001b[0;36m<module>\u001b[0;34m\u001b[0m\n\u001b[0;32m----> 1\u001b[0;31m \u001b[0;32massert\u001b[0m\u001b[0;34m(\u001b[0m\u001b[0mencontrar_capicua\u001b[0m\u001b[0;34m(\u001b[0m\u001b[0;36m121\u001b[0m\u001b[0;34m)\u001b[0m \u001b[0;34m==\u001b[0m \u001b[0;36m121\u001b[0m\u001b[0;34m)\u001b[0m\u001b[0;34m\u001b[0m\u001b[0;34m\u001b[0m\u001b[0m\n\u001b[0m\u001b[1;32m      2\u001b[0m \u001b[0;32massert\u001b[0m\u001b[0;34m(\u001b[0m\u001b[0mencontrar_capicua\u001b[0m\u001b[0;34m(\u001b[0m\u001b[0;36m57\u001b[0m\u001b[0;34m)\u001b[0m \u001b[0;34m==\u001b[0m \u001b[0;36m63\u001b[0m\u001b[0;34m)\u001b[0m\u001b[0;34m\u001b[0m\u001b[0;34m\u001b[0m\u001b[0m\n",
            "\u001b[0;31mAssertionError\u001b[0m: "
          ]
        }
      ]
    },
    {
      "cell_type": "markdown",
      "source": [
        "## B. Aplanar una lista\n",
        "Se dice que una lista está “plana” si no contiene ninguna otra lista anidada.\n",
        "\n",
        "Programe la función `aplanar(ls)` que aplane una lista.\n",
        "\n",
        "Ejemplos:\n",
        "```\n",
        ">>> aplanar([[‘a’, [‘b’]], ‘c’])\n",
        "[‘a’, ‘b’, ‘c’]\n",
        ">>> aplanar([1,2,[3,[4,[[]],5],6], 7])\n",
        "[1,2,3,4,5,6,7]\n",
        "```"
      ],
      "metadata": {
        "id": "C5rcIfISSrD6"
      }
    },
    {
      "cell_type": "code",
      "source": [
        "def aplanar(ls):\n",
        "  pass"
      ],
      "metadata": {
        "id": "pV_Uk4USS8Wt"
      },
      "execution_count": null,
      "outputs": []
    },
    {
      "cell_type": "code",
      "source": [
        "assert(aplanar([['a', ['b']], 'c']) == ['a', 'b', 'c'])\n",
        "assert(aplanar([1,2,[3,[4,[[]],5],6], 7]) == [1,2,3,4,5,6,7])"
      ],
      "metadata": {
        "colab": {
          "base_uri": "https://localhost:8080/",
          "height": 184
        },
        "id": "4ZUit4dNTMoz",
        "outputId": "0bc83dc6-a27c-4d29-9c5d-0a09897305e4"
      },
      "execution_count": null,
      "outputs": [
        {
          "output_type": "error",
          "ename": "AssertionError",
          "evalue": "ignored",
          "traceback": [
            "\u001b[0;31m---------------------------------------------------------------------------\u001b[0m",
            "\u001b[0;31mAssertionError\u001b[0m                            Traceback (most recent call last)",
            "\u001b[0;32m<ipython-input-9-a0f3e84fe8bc>\u001b[0m in \u001b[0;36m<module>\u001b[0;34m\u001b[0m\n\u001b[0;32m----> 1\u001b[0;31m \u001b[0;32massert\u001b[0m\u001b[0;34m(\u001b[0m\u001b[0maplanar\u001b[0m\u001b[0;34m(\u001b[0m\u001b[0;34m[\u001b[0m\u001b[0;34m[\u001b[0m\u001b[0;34m'a'\u001b[0m\u001b[0;34m,\u001b[0m \u001b[0;34m[\u001b[0m\u001b[0;34m'b'\u001b[0m\u001b[0;34m]\u001b[0m\u001b[0;34m]\u001b[0m\u001b[0;34m,\u001b[0m \u001b[0;34m'c'\u001b[0m\u001b[0;34m]\u001b[0m\u001b[0;34m)\u001b[0m \u001b[0;34m==\u001b[0m \u001b[0;34m[\u001b[0m\u001b[0;34m'a'\u001b[0m\u001b[0;34m,\u001b[0m \u001b[0;34m'b'\u001b[0m\u001b[0;34m,\u001b[0m \u001b[0;34m'c'\u001b[0m\u001b[0;34m]\u001b[0m\u001b[0;34m)\u001b[0m\u001b[0;34m\u001b[0m\u001b[0;34m\u001b[0m\u001b[0m\n\u001b[0m\u001b[1;32m      2\u001b[0m \u001b[0;32massert\u001b[0m\u001b[0;34m(\u001b[0m\u001b[0maplanar\u001b[0m\u001b[0;34m(\u001b[0m\u001b[0;34m[\u001b[0m\u001b[0;36m1\u001b[0m\u001b[0;34m,\u001b[0m\u001b[0;36m2\u001b[0m\u001b[0;34m,\u001b[0m\u001b[0;34m[\u001b[0m\u001b[0;36m3\u001b[0m\u001b[0;34m,\u001b[0m\u001b[0;34m[\u001b[0m\u001b[0;36m4\u001b[0m\u001b[0;34m,\u001b[0m\u001b[0;34m[\u001b[0m\u001b[0;34m[\u001b[0m\u001b[0;34m]\u001b[0m\u001b[0;34m]\u001b[0m\u001b[0;34m,\u001b[0m\u001b[0;36m5\u001b[0m\u001b[0;34m]\u001b[0m\u001b[0;34m,\u001b[0m\u001b[0;36m6\u001b[0m\u001b[0;34m]\u001b[0m\u001b[0;34m,\u001b[0m \u001b[0;36m7\u001b[0m\u001b[0;34m]\u001b[0m\u001b[0;34m)\u001b[0m \u001b[0;34m==\u001b[0m \u001b[0;34m[\u001b[0m\u001b[0;36m1\u001b[0m\u001b[0;34m,\u001b[0m\u001b[0;36m2\u001b[0m\u001b[0;34m,\u001b[0m\u001b[0;36m3\u001b[0m\u001b[0;34m,\u001b[0m\u001b[0;36m4\u001b[0m\u001b[0;34m,\u001b[0m\u001b[0;36m5\u001b[0m\u001b[0;34m,\u001b[0m\u001b[0;36m6\u001b[0m\u001b[0;34m,\u001b[0m\u001b[0;36m7\u001b[0m\u001b[0;34m]\u001b[0m\u001b[0;34m)\u001b[0m\u001b[0;34m\u001b[0m\u001b[0;34m\u001b[0m\u001b[0m\n",
            "\u001b[0;31mAssertionError\u001b[0m: "
          ]
        }
      ]
    },
    {
      "cell_type": "markdown",
      "source": [
        "# Parte 2. C++"
      ],
      "metadata": {
        "id": "gVaqPuYVaVyG"
      }
    },
    {
      "cell_type": "markdown",
      "source": [
        "## Ejecución de código\n",
        "Como podemos ejecutar comandos arbitrarios en colab (anteponiendo `!` para ejecutar en consola en vez de en Python), podemos escribir programas en C++ y compilarlos manualmente.\n",
        "\n",
        "También podemos instalar un *plugin* que nos faclite las cosas."
      ],
      "metadata": {
        "id": "sW_IQi2VuOd_"
      }
    },
    {
      "cell_type": "code",
      "source": [
        "!wget -O cpp_plugin.py https://gist.github.com/akshaykhadse/7acc91dd41f52944c6150754e5530c4b/raw/cpp_plugin.py\n",
        "%load_ext cpp_plugin"
      ],
      "metadata": {
        "colab": {
          "base_uri": "https://localhost:8080/"
        },
        "id": "44dhL6_9acu-",
        "outputId": "383f5212-7664-4aaf-e6f9-f5f496361c8a"
      },
      "execution_count": null,
      "outputs": [
        {
          "output_type": "stream",
          "name": "stdout",
          "text": [
            "--2022-08-18 06:46:38--  https://gist.github.com/akshaykhadse/7acc91dd41f52944c6150754e5530c4b/raw/cpp_plugin.py\n",
            "Resolving gist.github.com (gist.github.com)... 192.30.255.113\n",
            "Connecting to gist.github.com (gist.github.com)|192.30.255.113|:443... connected.\n",
            "HTTP request sent, awaiting response... 301 Moved Permanently\n",
            "Location: https://gist.githubusercontent.com/akshaykhadse/7acc91dd41f52944c6150754e5530c4b/raw/cpp_plugin.py [following]\n",
            "--2022-08-18 06:46:38--  https://gist.githubusercontent.com/akshaykhadse/7acc91dd41f52944c6150754e5530c4b/raw/cpp_plugin.py\n",
            "Resolving gist.githubusercontent.com (gist.githubusercontent.com)... 185.199.108.133, 185.199.109.133, 185.199.110.133, ...\n",
            "Connecting to gist.githubusercontent.com (gist.githubusercontent.com)|185.199.108.133|:443... connected.\n",
            "HTTP request sent, awaiting response... 200 OK\n",
            "Length: 2730 (2.7K) [text/plain]\n",
            "Saving to: ‘cpp_plugin.py’\n",
            "\n",
            "cpp_plugin.py       100%[===================>]   2.67K  --.-KB/s    in 0s      \n",
            "\n",
            "2022-08-18 06:46:38 (27.2 MB/s) - ‘cpp_plugin.py’ saved [2730/2730]\n",
            "\n"
          ]
        }
      ]
    },
    {
      "cell_type": "code",
      "source": [
        "%%cpp -n holamundo.cpp -c true\n",
        "#include <iostream>\n",
        "int main(int argc, char *argv[]) {\n",
        "  std::cout << \"Hola\";\n",
        "  if (argc > 1) {\n",
        "    std::cout << \" \" << argv[1];\n",
        "  }\n",
        "  std::cout << \"!\" << std::endl;\n",
        "  return 0;\n",
        "}"
      ],
      "metadata": {
        "colab": {
          "base_uri": "https://localhost:8080/",
          "height": 209
        },
        "id": "EewJ-DdZaoM1",
        "outputId": "af5445ca-86cd-4101-b42c-defb7d379afc"
      },
      "execution_count": null,
      "outputs": [
        {
          "output_type": "stream",
          "name": "stdout",
          "text": [
            "\n"
          ]
        },
        {
          "output_type": "display_data",
          "data": {
            "text/plain": [
              "<IPython.core.display.HTML object>"
            ],
            "text/html": [
              "<!DOCTYPE html PUBLIC \"-//W3C//DTD HTML 4.01//EN\"\n",
              "   \"http://www.w3.org/TR/html4/strict.dtd\">\n",
              "<!--\n",
              "generated by Pygments <https://pygments.org/>\n",
              "Copyright 2006-2019 by the Pygments team.\n",
              "Licensed under the BSD license, see LICENSE for details.\n",
              "-->\n",
              "<html>\n",
              "<head>\n",
              "  <title></title>\n",
              "  <meta http-equiv=\"content-type\" content=\"text/html; charset=None\">\n",
              "  <style type=\"text/css\">\n",
              "/*\n",
              "generated by Pygments <https://pygments.org/>\n",
              "Copyright 2006-2019 by the Pygments team.\n",
              "Licensed under the BSD license, see LICENSE for details.\n",
              "*/\n",
              "td.linenos { background-color: #f0f0f0; padding-right: 10px; }\n",
              "span.lineno { background-color: #f0f0f0; padding: 0 5px 0 5px; }\n",
              "pre { line-height: 125%; }\n",
              "body .hll { background-color: #4f424c }\n",
              "body .c { color: #776e71 } /* Comment */\n",
              "body .err { color: #ef6155 } /* Error */\n",
              "body .k { color: #815ba4 } /* Keyword */\n",
              "body .l { color: #f99b15 } /* Literal */\n",
              "body .n { color: #e7e9db } /* Name */\n",
              "body .o { color: #5bc4bf } /* Operator */\n",
              "body .p { color: #e7e9db } /* Punctuation */\n",
              "body .ch { color: #776e71 } /* Comment.Hashbang */\n",
              "body .cm { color: #776e71 } /* Comment.Multiline */\n",
              "body .cp { color: #776e71 } /* Comment.Preproc */\n",
              "body .cpf { color: #776e71 } /* Comment.PreprocFile */\n",
              "body .c1 { color: #776e71 } /* Comment.Single */\n",
              "body .cs { color: #776e71 } /* Comment.Special */\n",
              "body .gd { color: #ef6155 } /* Generic.Deleted */\n",
              "body .ge { font-style: italic } /* Generic.Emph */\n",
              "body .gh { color: #e7e9db; font-weight: bold } /* Generic.Heading */\n",
              "body .gi { color: #48b685 } /* Generic.Inserted */\n",
              "body .gp { color: #776e71; font-weight: bold } /* Generic.Prompt */\n",
              "body .gs { font-weight: bold } /* Generic.Strong */\n",
              "body .gu { color: #5bc4bf; font-weight: bold } /* Generic.Subheading */\n",
              "body .kc { color: #815ba4 } /* Keyword.Constant */\n",
              "body .kd { color: #815ba4 } /* Keyword.Declaration */\n",
              "body .kn { color: #5bc4bf } /* Keyword.Namespace */\n",
              "body .kp { color: #815ba4 } /* Keyword.Pseudo */\n",
              "body .kr { color: #815ba4 } /* Keyword.Reserved */\n",
              "body .kt { color: #fec418 } /* Keyword.Type */\n",
              "body .ld { color: #48b685 } /* Literal.Date */\n",
              "body .m { color: #f99b15 } /* Literal.Number */\n",
              "body .s { color: #48b685 } /* Literal.String */\n",
              "body .na { color: #06b6ef } /* Name.Attribute */\n",
              "body .nb { color: #e7e9db } /* Name.Builtin */\n",
              "body .nc { color: #fec418 } /* Name.Class */\n",
              "body .no { color: #ef6155 } /* Name.Constant */\n",
              "body .nd { color: #5bc4bf } /* Name.Decorator */\n",
              "body .ni { color: #e7e9db } /* Name.Entity */\n",
              "body .ne { color: #ef6155 } /* Name.Exception */\n",
              "body .nf { color: #06b6ef } /* Name.Function */\n",
              "body .nl { color: #e7e9db } /* Name.Label */\n",
              "body .nn { color: #fec418 } /* Name.Namespace */\n",
              "body .nx { color: #06b6ef } /* Name.Other */\n",
              "body .py { color: #e7e9db } /* Name.Property */\n",
              "body .nt { color: #5bc4bf } /* Name.Tag */\n",
              "body .nv { color: #ef6155 } /* Name.Variable */\n",
              "body .ow { color: #5bc4bf } /* Operator.Word */\n",
              "body .w { color: #e7e9db } /* Text.Whitespace */\n",
              "body .mb { color: #f99b15 } /* Literal.Number.Bin */\n",
              "body .mf { color: #f99b15 } /* Literal.Number.Float */\n",
              "body .mh { color: #f99b15 } /* Literal.Number.Hex */\n",
              "body .mi { color: #f99b15 } /* Literal.Number.Integer */\n",
              "body .mo { color: #f99b15 } /* Literal.Number.Oct */\n",
              "body .sa { color: #48b685 } /* Literal.String.Affix */\n",
              "body .sb { color: #48b685 } /* Literal.String.Backtick */\n",
              "body .sc { color: #e7e9db } /* Literal.String.Char */\n",
              "body .dl { color: #48b685 } /* Literal.String.Delimiter */\n",
              "body .sd { color: #776e71 } /* Literal.String.Doc */\n",
              "body .s2 { color: #48b685 } /* Literal.String.Double */\n",
              "body .se { color: #f99b15 } /* Literal.String.Escape */\n",
              "body .sh { color: #48b685 } /* Literal.String.Heredoc */\n",
              "body .si { color: #f99b15 } /* Literal.String.Interpol */\n",
              "body .sx { color: #48b685 } /* Literal.String.Other */\n",
              "body .sr { color: #48b685 } /* Literal.String.Regex */\n",
              "body .s1 { color: #48b685 } /* Literal.String.Single */\n",
              "body .ss { color: #48b685 } /* Literal.String.Symbol */\n",
              "body .bp { color: #e7e9db } /* Name.Builtin.Pseudo */\n",
              "body .fm { color: #06b6ef } /* Name.Function.Magic */\n",
              "body .vc { color: #ef6155 } /* Name.Variable.Class */\n",
              "body .vg { color: #ef6155 } /* Name.Variable.Global */\n",
              "body .vi { color: #ef6155 } /* Name.Variable.Instance */\n",
              "body .vm { color: #ef6155 } /* Name.Variable.Magic */\n",
              "body .il { color: #f99b15 } /* Literal.Number.Integer.Long */\n",
              "\n",
              "  </style>\n",
              "</head>\n",
              "<body>\n",
              "<h2></h2>\n",
              "\n",
              "<div class=\"highlight\"><pre><span></span><span class=\"cp\">#include</span> <span class=\"cpf\">&lt;iostream&gt;</span><span class=\"cp\"></span>\n",
              "<span class=\"kt\">int</span> <span class=\"nf\">main</span><span class=\"p\">(</span><span class=\"kt\">int</span> <span class=\"n\">argc</span><span class=\"p\">,</span> <span class=\"kt\">char</span> <span class=\"o\">*</span><span class=\"n\">argv</span><span class=\"p\">[])</span> <span class=\"p\">{</span>\n",
              "  <span class=\"n\">std</span><span class=\"o\">::</span><span class=\"n\">cout</span> <span class=\"o\">&lt;&lt;</span> <span class=\"s\">&quot;Hola&quot;</span><span class=\"p\">;</span>\n",
              "  <span class=\"k\">if</span> <span class=\"p\">(</span><span class=\"n\">argc</span> <span class=\"o\">&gt;</span> <span class=\"mi\">1</span><span class=\"p\">)</span> <span class=\"p\">{</span>\n",
              "    <span class=\"n\">std</span><span class=\"o\">::</span><span class=\"n\">cout</span> <span class=\"o\">&lt;&lt;</span> <span class=\"s\">&quot; &quot;</span> <span class=\"o\">&lt;&lt;</span> <span class=\"n\">argv</span><span class=\"p\">[</span><span class=\"mi\">1</span><span class=\"p\">];</span>\n",
              "  <span class=\"p\">}</span>\n",
              "  <span class=\"n\">std</span><span class=\"o\">::</span><span class=\"n\">cout</span> <span class=\"o\">&lt;&lt;</span> <span class=\"s\">&quot;!&quot;</span> <span class=\"o\">&lt;&lt;</span> <span class=\"n\">std</span><span class=\"o\">::</span><span class=\"n\">endl</span><span class=\"p\">;</span>\n",
              "  <span class=\"k\">return</span> <span class=\"mi\">0</span><span class=\"p\">;</span>\n",
              "<span class=\"p\">}</span>\n",
              "</pre></div>\n",
              "</body>\n",
              "</html>\n"
            ]
          },
          "metadata": {}
        }
      ]
    },
    {
      "cell_type": "code",
      "source": [
        "!./holamundo"
      ],
      "metadata": {
        "colab": {
          "base_uri": "https://localhost:8080/"
        },
        "id": "zbF22e7ndqHV",
        "outputId": "8bde4b22-4bb1-4911-ef4c-bb62069259d0"
      },
      "execution_count": null,
      "outputs": [
        {
          "output_type": "stream",
          "name": "stdout",
          "text": [
            "Hola!\n"
          ]
        }
      ]
    },
    {
      "cell_type": "code",
      "source": [
        "!./holamundo Pepito"
      ],
      "metadata": {
        "colab": {
          "base_uri": "https://localhost:8080/"
        },
        "id": "AuZP8OJ8bD46",
        "outputId": "511aa48e-1962-4386-cbcf-b9c6671546d8"
      },
      "execution_count": null,
      "outputs": [
        {
          "output_type": "stream",
          "name": "stdout",
          "text": [
            "Hola Pepito!\n"
          ]
        }
      ]
    },
    {
      "cell_type": "markdown",
      "source": [
        "Usar la magia `%%cpp -n nombrearchivo.cpp -c true` es equivalente a:\n",
        "- hacer `%%writefile nombrearchivo.cpp` y luego (en otra celda),\n",
        "- compilar con `g++ nombrearchivo.cpp -o nombrearchivo`"
      ],
      "metadata": {
        "id": "a-lGHwmnljm3"
      }
    },
    {
      "cell_type": "code",
      "source": [
        "%%cpp -n encontrar_capicua.cpp -c true\n",
        "#include <iostream>\n",
        "\n",
        "bool es_capicua(int a) {\n",
        "    std::string s = std::to_string(a);\n",
        "    int n = s.length();\n",
        "    for (int i=0; i<n/2; i++) {\n",
        "        if (s[i] != s[n-1-i]) {\n",
        "            return false;\n",
        "        }\n",
        "    }\n",
        "    return true;\n",
        "}\n",
        "\n",
        "std::string reverso(std::string s) {\n",
        "    int n = s.length();\n",
        "    std::string new_s = s;\n",
        "    for (int i=0; i<n; i++) {\n",
        "        new_s[i] = s[n-1-i];\n",
        "    }\n",
        "    return new_s;\n",
        "}\n",
        "\n",
        "int encontrar_capicua(int a) {\n",
        "    while (!es_capicua(a)) {\n",
        "        std::string rev = reverso(std::to_string(a));\n",
        "        a += std::stoi(rev);\n",
        "    }\n",
        "    return a;\n",
        "}\n",
        "\n",
        "int main(int argc, char *argv[]) {\n",
        "    if (argc != 2) {\n",
        "        std::cerr << \"Uso: \" << argv[0] << \" <num>\" << std::endl;\n",
        "        return 1;\n",
        "    }\n",
        "    std::cout << encontrar_capicua(atoi(argv[1])) << std::endl;\n",
        "    return 0;\n",
        "}"
      ],
      "metadata": {
        "id": "JW0_i34aeQnK",
        "colab": {
          "base_uri": "https://localhost:8080/",
          "height": 717
        },
        "outputId": "3cdc03d8-1086-4aa2-c0a2-e766ad6f65ca"
      },
      "execution_count": null,
      "outputs": [
        {
          "output_type": "stream",
          "name": "stdout",
          "text": [
            "\n"
          ]
        },
        {
          "output_type": "display_data",
          "data": {
            "text/plain": [
              "<IPython.core.display.HTML object>"
            ],
            "text/html": [
              "<!DOCTYPE html PUBLIC \"-//W3C//DTD HTML 4.01//EN\"\n",
              "   \"http://www.w3.org/TR/html4/strict.dtd\">\n",
              "<!--\n",
              "generated by Pygments <https://pygments.org/>\n",
              "Copyright 2006-2019 by the Pygments team.\n",
              "Licensed under the BSD license, see LICENSE for details.\n",
              "-->\n",
              "<html>\n",
              "<head>\n",
              "  <title></title>\n",
              "  <meta http-equiv=\"content-type\" content=\"text/html; charset=None\">\n",
              "  <style type=\"text/css\">\n",
              "/*\n",
              "generated by Pygments <https://pygments.org/>\n",
              "Copyright 2006-2019 by the Pygments team.\n",
              "Licensed under the BSD license, see LICENSE for details.\n",
              "*/\n",
              "td.linenos { background-color: #f0f0f0; padding-right: 10px; }\n",
              "span.lineno { background-color: #f0f0f0; padding: 0 5px 0 5px; }\n",
              "pre { line-height: 125%; }\n",
              "body .hll { background-color: #4f424c }\n",
              "body .c { color: #776e71 } /* Comment */\n",
              "body .err { color: #ef6155 } /* Error */\n",
              "body .k { color: #815ba4 } /* Keyword */\n",
              "body .l { color: #f99b15 } /* Literal */\n",
              "body .n { color: #e7e9db } /* Name */\n",
              "body .o { color: #5bc4bf } /* Operator */\n",
              "body .p { color: #e7e9db } /* Punctuation */\n",
              "body .ch { color: #776e71 } /* Comment.Hashbang */\n",
              "body .cm { color: #776e71 } /* Comment.Multiline */\n",
              "body .cp { color: #776e71 } /* Comment.Preproc */\n",
              "body .cpf { color: #776e71 } /* Comment.PreprocFile */\n",
              "body .c1 { color: #776e71 } /* Comment.Single */\n",
              "body .cs { color: #776e71 } /* Comment.Special */\n",
              "body .gd { color: #ef6155 } /* Generic.Deleted */\n",
              "body .ge { font-style: italic } /* Generic.Emph */\n",
              "body .gh { color: #e7e9db; font-weight: bold } /* Generic.Heading */\n",
              "body .gi { color: #48b685 } /* Generic.Inserted */\n",
              "body .gp { color: #776e71; font-weight: bold } /* Generic.Prompt */\n",
              "body .gs { font-weight: bold } /* Generic.Strong */\n",
              "body .gu { color: #5bc4bf; font-weight: bold } /* Generic.Subheading */\n",
              "body .kc { color: #815ba4 } /* Keyword.Constant */\n",
              "body .kd { color: #815ba4 } /* Keyword.Declaration */\n",
              "body .kn { color: #5bc4bf } /* Keyword.Namespace */\n",
              "body .kp { color: #815ba4 } /* Keyword.Pseudo */\n",
              "body .kr { color: #815ba4 } /* Keyword.Reserved */\n",
              "body .kt { color: #fec418 } /* Keyword.Type */\n",
              "body .ld { color: #48b685 } /* Literal.Date */\n",
              "body .m { color: #f99b15 } /* Literal.Number */\n",
              "body .s { color: #48b685 } /* Literal.String */\n",
              "body .na { color: #06b6ef } /* Name.Attribute */\n",
              "body .nb { color: #e7e9db } /* Name.Builtin */\n",
              "body .nc { color: #fec418 } /* Name.Class */\n",
              "body .no { color: #ef6155 } /* Name.Constant */\n",
              "body .nd { color: #5bc4bf } /* Name.Decorator */\n",
              "body .ni { color: #e7e9db } /* Name.Entity */\n",
              "body .ne { color: #ef6155 } /* Name.Exception */\n",
              "body .nf { color: #06b6ef } /* Name.Function */\n",
              "body .nl { color: #e7e9db } /* Name.Label */\n",
              "body .nn { color: #fec418 } /* Name.Namespace */\n",
              "body .nx { color: #06b6ef } /* Name.Other */\n",
              "body .py { color: #e7e9db } /* Name.Property */\n",
              "body .nt { color: #5bc4bf } /* Name.Tag */\n",
              "body .nv { color: #ef6155 } /* Name.Variable */\n",
              "body .ow { color: #5bc4bf } /* Operator.Word */\n",
              "body .w { color: #e7e9db } /* Text.Whitespace */\n",
              "body .mb { color: #f99b15 } /* Literal.Number.Bin */\n",
              "body .mf { color: #f99b15 } /* Literal.Number.Float */\n",
              "body .mh { color: #f99b15 } /* Literal.Number.Hex */\n",
              "body .mi { color: #f99b15 } /* Literal.Number.Integer */\n",
              "body .mo { color: #f99b15 } /* Literal.Number.Oct */\n",
              "body .sa { color: #48b685 } /* Literal.String.Affix */\n",
              "body .sb { color: #48b685 } /* Literal.String.Backtick */\n",
              "body .sc { color: #e7e9db } /* Literal.String.Char */\n",
              "body .dl { color: #48b685 } /* Literal.String.Delimiter */\n",
              "body .sd { color: #776e71 } /* Literal.String.Doc */\n",
              "body .s2 { color: #48b685 } /* Literal.String.Double */\n",
              "body .se { color: #f99b15 } /* Literal.String.Escape */\n",
              "body .sh { color: #48b685 } /* Literal.String.Heredoc */\n",
              "body .si { color: #f99b15 } /* Literal.String.Interpol */\n",
              "body .sx { color: #48b685 } /* Literal.String.Other */\n",
              "body .sr { color: #48b685 } /* Literal.String.Regex */\n",
              "body .s1 { color: #48b685 } /* Literal.String.Single */\n",
              "body .ss { color: #48b685 } /* Literal.String.Symbol */\n",
              "body .bp { color: #e7e9db } /* Name.Builtin.Pseudo */\n",
              "body .fm { color: #06b6ef } /* Name.Function.Magic */\n",
              "body .vc { color: #ef6155 } /* Name.Variable.Class */\n",
              "body .vg { color: #ef6155 } /* Name.Variable.Global */\n",
              "body .vi { color: #ef6155 } /* Name.Variable.Instance */\n",
              "body .vm { color: #ef6155 } /* Name.Variable.Magic */\n",
              "body .il { color: #f99b15 } /* Literal.Number.Integer.Long */\n",
              "\n",
              "  </style>\n",
              "</head>\n",
              "<body>\n",
              "<h2></h2>\n",
              "\n",
              "<div class=\"highlight\"><pre><span></span><span class=\"cp\">#include</span> <span class=\"cpf\">&lt;iostream&gt;</span><span class=\"cp\"></span>\n",
              "\n",
              "<span class=\"kt\">bool</span> <span class=\"nf\">es_capicua</span><span class=\"p\">(</span><span class=\"kt\">int</span> <span class=\"n\">a</span><span class=\"p\">)</span> <span class=\"p\">{</span>\n",
              "    <span class=\"n\">std</span><span class=\"o\">::</span><span class=\"n\">string</span> <span class=\"n\">s</span> <span class=\"o\">=</span> <span class=\"n\">std</span><span class=\"o\">::</span><span class=\"n\">to_string</span><span class=\"p\">(</span><span class=\"n\">a</span><span class=\"p\">);</span>\n",
              "    <span class=\"kt\">int</span> <span class=\"n\">n</span> <span class=\"o\">=</span> <span class=\"n\">s</span><span class=\"p\">.</span><span class=\"n\">length</span><span class=\"p\">();</span>\n",
              "    <span class=\"k\">for</span> <span class=\"p\">(</span><span class=\"kt\">int</span> <span class=\"n\">i</span><span class=\"o\">=</span><span class=\"mi\">0</span><span class=\"p\">;</span> <span class=\"n\">i</span><span class=\"o\">&lt;</span><span class=\"n\">n</span><span class=\"o\">/</span><span class=\"mi\">2</span><span class=\"p\">;</span> <span class=\"n\">i</span><span class=\"o\">++</span><span class=\"p\">)</span> <span class=\"p\">{</span>\n",
              "        <span class=\"k\">if</span> <span class=\"p\">(</span><span class=\"n\">s</span><span class=\"p\">[</span><span class=\"n\">i</span><span class=\"p\">]</span> <span class=\"o\">!=</span> <span class=\"n\">s</span><span class=\"p\">[</span><span class=\"n\">n</span><span class=\"o\">-</span><span class=\"mi\">1</span><span class=\"o\">-</span><span class=\"n\">i</span><span class=\"p\">])</span> <span class=\"p\">{</span>\n",
              "            <span class=\"k\">return</span> <span class=\"nb\">false</span><span class=\"p\">;</span>\n",
              "        <span class=\"p\">}</span>\n",
              "    <span class=\"p\">}</span>\n",
              "    <span class=\"k\">return</span> <span class=\"nb\">true</span><span class=\"p\">;</span>\n",
              "<span class=\"p\">}</span>\n",
              "\n",
              "<span class=\"n\">std</span><span class=\"o\">::</span><span class=\"n\">string</span> <span class=\"n\">reverso</span><span class=\"p\">(</span><span class=\"n\">std</span><span class=\"o\">::</span><span class=\"n\">string</span> <span class=\"n\">s</span><span class=\"p\">)</span> <span class=\"p\">{</span>\n",
              "    <span class=\"kt\">int</span> <span class=\"n\">n</span> <span class=\"o\">=</span> <span class=\"n\">s</span><span class=\"p\">.</span><span class=\"n\">length</span><span class=\"p\">();</span>\n",
              "    <span class=\"n\">std</span><span class=\"o\">::</span><span class=\"n\">string</span> <span class=\"n\">new_s</span> <span class=\"o\">=</span> <span class=\"n\">s</span><span class=\"p\">;</span>\n",
              "    <span class=\"k\">for</span> <span class=\"p\">(</span><span class=\"kt\">int</span> <span class=\"n\">i</span><span class=\"o\">=</span><span class=\"mi\">0</span><span class=\"p\">;</span> <span class=\"n\">i</span><span class=\"o\">&lt;</span><span class=\"n\">n</span><span class=\"p\">;</span> <span class=\"n\">i</span><span class=\"o\">++</span><span class=\"p\">)</span> <span class=\"p\">{</span>\n",
              "        <span class=\"n\">new_s</span><span class=\"p\">[</span><span class=\"n\">i</span><span class=\"p\">]</span> <span class=\"o\">=</span> <span class=\"n\">s</span><span class=\"p\">[</span><span class=\"n\">n</span><span class=\"o\">-</span><span class=\"mi\">1</span><span class=\"o\">-</span><span class=\"n\">i</span><span class=\"p\">];</span>\n",
              "    <span class=\"p\">}</span>\n",
              "    <span class=\"k\">return</span> <span class=\"n\">new_s</span><span class=\"p\">;</span>\n",
              "<span class=\"p\">}</span>\n",
              "\n",
              "<span class=\"kt\">int</span> <span class=\"n\">encontrar_capicua</span><span class=\"p\">(</span><span class=\"kt\">int</span> <span class=\"n\">a</span><span class=\"p\">)</span> <span class=\"p\">{</span>\n",
              "    <span class=\"k\">while</span> <span class=\"p\">(</span><span class=\"o\">!</span><span class=\"n\">es_capicua</span><span class=\"p\">(</span><span class=\"n\">a</span><span class=\"p\">))</span> <span class=\"p\">{</span>\n",
              "        <span class=\"n\">std</span><span class=\"o\">::</span><span class=\"n\">string</span> <span class=\"n\">rev</span> <span class=\"o\">=</span> <span class=\"n\">reverso</span><span class=\"p\">(</span><span class=\"n\">std</span><span class=\"o\">::</span><span class=\"n\">to_string</span><span class=\"p\">(</span><span class=\"n\">a</span><span class=\"p\">));</span>\n",
              "        <span class=\"n\">a</span> <span class=\"o\">+=</span> <span class=\"n\">std</span><span class=\"o\">::</span><span class=\"n\">stoi</span><span class=\"p\">(</span><span class=\"n\">rev</span><span class=\"p\">);</span>\n",
              "    <span class=\"p\">}</span>\n",
              "    <span class=\"k\">return</span> <span class=\"n\">a</span><span class=\"p\">;</span>\n",
              "<span class=\"p\">}</span>\n",
              "\n",
              "<span class=\"kt\">int</span> <span class=\"n\">main</span><span class=\"p\">(</span><span class=\"kt\">int</span> <span class=\"n\">argc</span><span class=\"p\">,</span> <span class=\"kt\">char</span> <span class=\"o\">*</span><span class=\"n\">argv</span><span class=\"p\">[])</span> <span class=\"p\">{</span>\n",
              "    <span class=\"k\">if</span> <span class=\"p\">(</span><span class=\"n\">argc</span> <span class=\"o\">!=</span> <span class=\"mi\">2</span><span class=\"p\">)</span> <span class=\"p\">{</span>\n",
              "        <span class=\"n\">std</span><span class=\"o\">::</span><span class=\"n\">cerr</span> <span class=\"o\">&lt;&lt;</span> <span class=\"s\">&quot;Uso: &quot;</span> <span class=\"o\">&lt;&lt;</span> <span class=\"n\">argv</span><span class=\"p\">[</span><span class=\"mi\">0</span><span class=\"p\">]</span> <span class=\"o\">&lt;&lt;</span> <span class=\"s\">&quot; &lt;num&gt;&quot;</span> <span class=\"o\">&lt;&lt;</span> <span class=\"n\">std</span><span class=\"o\">::</span><span class=\"n\">endl</span><span class=\"p\">;</span>\n",
              "        <span class=\"k\">return</span> <span class=\"mi\">1</span><span class=\"p\">;</span>\n",
              "    <span class=\"p\">}</span>\n",
              "    <span class=\"n\">std</span><span class=\"o\">::</span><span class=\"n\">cout</span> <span class=\"o\">&lt;&lt;</span> <span class=\"n\">encontrar_capicua</span><span class=\"p\">(</span><span class=\"n\">atoi</span><span class=\"p\">(</span><span class=\"n\">argv</span><span class=\"p\">[</span><span class=\"mi\">1</span><span class=\"p\">]))</span> <span class=\"o\">&lt;&lt;</span> <span class=\"n\">std</span><span class=\"o\">::</span><span class=\"n\">endl</span><span class=\"p\">;</span>\n",
              "    <span class=\"k\">return</span> <span class=\"mi\">0</span><span class=\"p\">;</span>\n",
              "<span class=\"p\">}</span>\n",
              "</pre></div>\n",
              "</body>\n",
              "</html>\n"
            ]
          },
          "metadata": {}
        }
      ]
    },
    {
      "cell_type": "code",
      "source": [
        "!./encontrar_capicua 57"
      ],
      "metadata": {
        "id": "jp37Sj5vpW47",
        "outputId": "5a8c054e-eaac-4900-8111-0f1b6c754244",
        "colab": {
          "base_uri": "https://localhost:8080/"
        }
      },
      "execution_count": null,
      "outputs": [
        {
          "output_type": "stream",
          "name": "stdout",
          "text": [
            "363\n"
          ]
        }
      ]
    },
    {
      "cell_type": "markdown",
      "source": [
        "## *Benchmarking* en C++\n",
        "En C++ también podemos medir el tiempo que transcurre la ejecución de un código. Existe la función `time(·)` que devuelve la hora actual en segundos, pero para eventos muy rápidos conviene usar `gettimeofday(·,·)`, que nos entrega tanto segundos como microsegundos."
      ],
      "metadata": {
        "id": "TQRpQPVtszTz"
      }
    },
    {
      "cell_type": "code",
      "source": [
        "%%cpp -n bench.cpp -c true\n",
        "\n",
        "#include <iostream>\n",
        "#include <sys/time.h>\n",
        "#include <stdlib.h> // rand\n",
        "\n",
        "#define REPETICIONES 1000000\n",
        "\n",
        "int main(int argc, char *argv[]) {\n",
        "    struct timeval t_i, t_f;\n",
        "    gettimeofday(&t_i, NULL);\n",
        "    for (int i=0; i<REPETICIONES; i++) {\n",
        "        // <función a probar>\n",
        "        rand();\n",
        "        // </función a probar>\n",
        "    }\n",
        "    gettimeofday(&t_f, NULL);\n",
        "    // convertimos la diferencia a milisegundos\n",
        "    int d_t = (t_f.tv_sec - t_i.tv_sec)*1000 + (t_f.tv_usec - t_i.tv_usec)/1000; \n",
        "    std::cout << \"Lo ejecutó \" << REPETICIONES << \" veces en \" << d_t << \" ms.\" << std::endl;\n",
        "\n",
        "    return 0;\n",
        "}"
      ],
      "metadata": {
        "colab": {
          "base_uri": "https://localhost:8080/",
          "height": 419
        },
        "id": "Am42tJ3OsndW",
        "outputId": "e4bde39e-2ea7-4a0f-8540-b4f44b85c3dd"
      },
      "execution_count": null,
      "outputs": [
        {
          "output_type": "stream",
          "name": "stdout",
          "text": [
            "\n"
          ]
        },
        {
          "output_type": "display_data",
          "data": {
            "text/plain": [
              "<IPython.core.display.HTML object>"
            ],
            "text/html": [
              "<!DOCTYPE html PUBLIC \"-//W3C//DTD HTML 4.01//EN\"\n",
              "   \"http://www.w3.org/TR/html4/strict.dtd\">\n",
              "<!--\n",
              "generated by Pygments <https://pygments.org/>\n",
              "Copyright 2006-2019 by the Pygments team.\n",
              "Licensed under the BSD license, see LICENSE for details.\n",
              "-->\n",
              "<html>\n",
              "<head>\n",
              "  <title></title>\n",
              "  <meta http-equiv=\"content-type\" content=\"text/html; charset=None\">\n",
              "  <style type=\"text/css\">\n",
              "/*\n",
              "generated by Pygments <https://pygments.org/>\n",
              "Copyright 2006-2019 by the Pygments team.\n",
              "Licensed under the BSD license, see LICENSE for details.\n",
              "*/\n",
              "td.linenos { background-color: #f0f0f0; padding-right: 10px; }\n",
              "span.lineno { background-color: #f0f0f0; padding: 0 5px 0 5px; }\n",
              "pre { line-height: 125%; }\n",
              "body .hll { background-color: #4f424c }\n",
              "body .c { color: #776e71 } /* Comment */\n",
              "body .err { color: #ef6155 } /* Error */\n",
              "body .k { color: #815ba4 } /* Keyword */\n",
              "body .l { color: #f99b15 } /* Literal */\n",
              "body .n { color: #e7e9db } /* Name */\n",
              "body .o { color: #5bc4bf } /* Operator */\n",
              "body .p { color: #e7e9db } /* Punctuation */\n",
              "body .ch { color: #776e71 } /* Comment.Hashbang */\n",
              "body .cm { color: #776e71 } /* Comment.Multiline */\n",
              "body .cp { color: #776e71 } /* Comment.Preproc */\n",
              "body .cpf { color: #776e71 } /* Comment.PreprocFile */\n",
              "body .c1 { color: #776e71 } /* Comment.Single */\n",
              "body .cs { color: #776e71 } /* Comment.Special */\n",
              "body .gd { color: #ef6155 } /* Generic.Deleted */\n",
              "body .ge { font-style: italic } /* Generic.Emph */\n",
              "body .gh { color: #e7e9db; font-weight: bold } /* Generic.Heading */\n",
              "body .gi { color: #48b685 } /* Generic.Inserted */\n",
              "body .gp { color: #776e71; font-weight: bold } /* Generic.Prompt */\n",
              "body .gs { font-weight: bold } /* Generic.Strong */\n",
              "body .gu { color: #5bc4bf; font-weight: bold } /* Generic.Subheading */\n",
              "body .kc { color: #815ba4 } /* Keyword.Constant */\n",
              "body .kd { color: #815ba4 } /* Keyword.Declaration */\n",
              "body .kn { color: #5bc4bf } /* Keyword.Namespace */\n",
              "body .kp { color: #815ba4 } /* Keyword.Pseudo */\n",
              "body .kr { color: #815ba4 } /* Keyword.Reserved */\n",
              "body .kt { color: #fec418 } /* Keyword.Type */\n",
              "body .ld { color: #48b685 } /* Literal.Date */\n",
              "body .m { color: #f99b15 } /* Literal.Number */\n",
              "body .s { color: #48b685 } /* Literal.String */\n",
              "body .na { color: #06b6ef } /* Name.Attribute */\n",
              "body .nb { color: #e7e9db } /* Name.Builtin */\n",
              "body .nc { color: #fec418 } /* Name.Class */\n",
              "body .no { color: #ef6155 } /* Name.Constant */\n",
              "body .nd { color: #5bc4bf } /* Name.Decorator */\n",
              "body .ni { color: #e7e9db } /* Name.Entity */\n",
              "body .ne { color: #ef6155 } /* Name.Exception */\n",
              "body .nf { color: #06b6ef } /* Name.Function */\n",
              "body .nl { color: #e7e9db } /* Name.Label */\n",
              "body .nn { color: #fec418 } /* Name.Namespace */\n",
              "body .nx { color: #06b6ef } /* Name.Other */\n",
              "body .py { color: #e7e9db } /* Name.Property */\n",
              "body .nt { color: #5bc4bf } /* Name.Tag */\n",
              "body .nv { color: #ef6155 } /* Name.Variable */\n",
              "body .ow { color: #5bc4bf } /* Operator.Word */\n",
              "body .w { color: #e7e9db } /* Text.Whitespace */\n",
              "body .mb { color: #f99b15 } /* Literal.Number.Bin */\n",
              "body .mf { color: #f99b15 } /* Literal.Number.Float */\n",
              "body .mh { color: #f99b15 } /* Literal.Number.Hex */\n",
              "body .mi { color: #f99b15 } /* Literal.Number.Integer */\n",
              "body .mo { color: #f99b15 } /* Literal.Number.Oct */\n",
              "body .sa { color: #48b685 } /* Literal.String.Affix */\n",
              "body .sb { color: #48b685 } /* Literal.String.Backtick */\n",
              "body .sc { color: #e7e9db } /* Literal.String.Char */\n",
              "body .dl { color: #48b685 } /* Literal.String.Delimiter */\n",
              "body .sd { color: #776e71 } /* Literal.String.Doc */\n",
              "body .s2 { color: #48b685 } /* Literal.String.Double */\n",
              "body .se { color: #f99b15 } /* Literal.String.Escape */\n",
              "body .sh { color: #48b685 } /* Literal.String.Heredoc */\n",
              "body .si { color: #f99b15 } /* Literal.String.Interpol */\n",
              "body .sx { color: #48b685 } /* Literal.String.Other */\n",
              "body .sr { color: #48b685 } /* Literal.String.Regex */\n",
              "body .s1 { color: #48b685 } /* Literal.String.Single */\n",
              "body .ss { color: #48b685 } /* Literal.String.Symbol */\n",
              "body .bp { color: #e7e9db } /* Name.Builtin.Pseudo */\n",
              "body .fm { color: #06b6ef } /* Name.Function.Magic */\n",
              "body .vc { color: #ef6155 } /* Name.Variable.Class */\n",
              "body .vg { color: #ef6155 } /* Name.Variable.Global */\n",
              "body .vi { color: #ef6155 } /* Name.Variable.Instance */\n",
              "body .vm { color: #ef6155 } /* Name.Variable.Magic */\n",
              "body .il { color: #f99b15 } /* Literal.Number.Integer.Long */\n",
              "\n",
              "  </style>\n",
              "</head>\n",
              "<body>\n",
              "<h2></h2>\n",
              "\n",
              "<div class=\"highlight\"><pre><span></span><span class=\"cp\">#include</span> <span class=\"cpf\">&lt;iostream&gt;</span><span class=\"cp\"></span>\n",
              "<span class=\"cp\">#include</span> <span class=\"cpf\">&lt;sys/time.h&gt;</span><span class=\"cp\"></span>\n",
              "<span class=\"cp\">#include</span> <span class=\"cpf\">&lt;stdlib.h&gt; // rand</span><span class=\"cp\"></span>\n",
              "\n",
              "<span class=\"cp\">#define REPETICIONES 1000000</span>\n",
              "\n",
              "<span class=\"kt\">int</span> <span class=\"nf\">main</span><span class=\"p\">(</span><span class=\"kt\">int</span> <span class=\"n\">argc</span><span class=\"p\">,</span> <span class=\"kt\">char</span> <span class=\"o\">*</span><span class=\"n\">argv</span><span class=\"p\">[])</span> <span class=\"p\">{</span>\n",
              "    <span class=\"k\">struct</span> <span class=\"n\">timeval</span> <span class=\"n\">t_i</span><span class=\"p\">,</span> <span class=\"n\">t_f</span><span class=\"p\">;</span>\n",
              "    <span class=\"n\">gettimeofday</span><span class=\"p\">(</span><span class=\"o\">&amp;</span><span class=\"n\">t_i</span><span class=\"p\">,</span> <span class=\"nb\">NULL</span><span class=\"p\">);</span>\n",
              "    <span class=\"k\">for</span> <span class=\"p\">(</span><span class=\"kt\">int</span> <span class=\"n\">i</span><span class=\"o\">=</span><span class=\"mi\">0</span><span class=\"p\">;</span> <span class=\"n\">i</span><span class=\"o\">&lt;</span><span class=\"n\">REPETICIONES</span><span class=\"p\">;</span> <span class=\"n\">i</span><span class=\"o\">++</span><span class=\"p\">)</span> <span class=\"p\">{</span>\n",
              "        <span class=\"c1\">// &lt;función a probar&gt;</span>\n",
              "        <span class=\"n\">rand</span><span class=\"p\">();</span>\n",
              "        <span class=\"c1\">// &lt;/función a probar&gt;</span>\n",
              "    <span class=\"p\">}</span>\n",
              "    <span class=\"n\">gettimeofday</span><span class=\"p\">(</span><span class=\"o\">&amp;</span><span class=\"n\">t_f</span><span class=\"p\">,</span> <span class=\"nb\">NULL</span><span class=\"p\">);</span>\n",
              "    <span class=\"c1\">// convertimos la diferencia a milisegundos</span>\n",
              "    <span class=\"kt\">int</span> <span class=\"n\">d_t</span> <span class=\"o\">=</span> <span class=\"p\">(</span><span class=\"n\">t_f</span><span class=\"p\">.</span><span class=\"n\">tv_sec</span> <span class=\"o\">-</span> <span class=\"n\">t_i</span><span class=\"p\">.</span><span class=\"n\">tv_sec</span><span class=\"p\">)</span><span class=\"o\">*</span><span class=\"mi\">1000</span> <span class=\"o\">+</span> <span class=\"p\">(</span><span class=\"n\">t_f</span><span class=\"p\">.</span><span class=\"n\">tv_usec</span> <span class=\"o\">-</span> <span class=\"n\">t_i</span><span class=\"p\">.</span><span class=\"n\">tv_usec</span><span class=\"p\">)</span><span class=\"o\">/</span><span class=\"mi\">1000</span><span class=\"p\">;</span> \n",
              "    <span class=\"n\">std</span><span class=\"o\">::</span><span class=\"n\">cout</span> <span class=\"o\">&lt;&lt;</span> <span class=\"s\">&quot;Lo ejecutó &quot;</span> <span class=\"o\">&lt;&lt;</span> <span class=\"n\">REPETICIONES</span> <span class=\"o\">&lt;&lt;</span> <span class=\"s\">&quot; veces en &quot;</span> <span class=\"o\">&lt;&lt;</span> <span class=\"n\">d_t</span> <span class=\"o\">&lt;&lt;</span> <span class=\"s\">&quot; ms.&quot;</span> <span class=\"o\">&lt;&lt;</span> <span class=\"n\">std</span><span class=\"o\">::</span><span class=\"n\">endl</span><span class=\"p\">;</span>\n",
              "\n",
              "    <span class=\"k\">return</span> <span class=\"mi\">0</span><span class=\"p\">;</span>\n",
              "<span class=\"p\">}</span>\n",
              "</pre></div>\n",
              "</body>\n",
              "</html>\n"
            ]
          },
          "metadata": {}
        }
      ]
    },
    {
      "cell_type": "code",
      "source": [
        "!./bench"
      ],
      "metadata": {
        "colab": {
          "base_uri": "https://localhost:8080/"
        },
        "id": "xFzK7pdztqLu",
        "outputId": "cb410e71-c9ec-40a0-dd00-ff5c400f3f60"
      },
      "execution_count": null,
      "outputs": [
        {
          "output_type": "stream",
          "name": "stdout",
          "text": [
            "Lo ejecutó 1000000 veces en 8 ms.\n"
          ]
        }
      ]
    }
  ]
}