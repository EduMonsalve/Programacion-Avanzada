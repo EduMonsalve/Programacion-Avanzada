{
  "nbformat": 4,
  "nbformat_minor": 0,
  "metadata": {
    "colab": {
      "name": "Aux 2: primer desafío",
      "provenance": [],
      "collapsed_sections": [],
      "toc_visible": true
    },
    "kernelspec": {
      "name": "python3",
      "display_name": "Python 3"
    },
    "language_info": {
      "name": "python"
    }
  },
  "cells": [
    {
      "cell_type": "markdown",
      "source": [
        "<img height=\"120\" src=\"https://raw.githubusercontent.com/joaquinzepeda/Programacion-Avanzada/main/imgs/cropped-logo-fcfm-die-1.png\">\n",
        "\n",
        "# **Aux Primer desafío**\n",
        "## Profesor *Alberto Castro*\n",
        "### Por *Joaquín Zepeda*\n",
        "\n",
        "**Periodo**: Primavera 2022 . **Repositorio del curso:** <a href=\"https://github.com/joaquinzepeda/Programacion-Avanzada.git\"><img height=\"30\" src=\"https://cdn-icons-png.flaticon.com/512/25/25231.png\"></a>  \n"
      ],
      "metadata": {
        "id": "c3EB8mnmbBDQ"
      }
    },
    {
      "cell_type": "markdown",
      "source": [
        "# Tiempo de ejecución de cada celda en Colab con ipython-autotime"
      ],
      "metadata": {
        "id": "vE9xCz0jiV01"
      }
    },
    {
      "cell_type": "code",
      "source": [
        "# Para medir tiempo de ejecucion \n",
        "!pip install ipython-autotime"
      ],
      "metadata": {
        "colab": {
          "base_uri": "https://localhost:8080/"
        },
        "id": "2dOqDjk5Owpt",
        "outputId": "af6f9193-5ad3-47f9-be28-05c3eec33f13"
      },
      "execution_count": null,
      "outputs": [
        {
          "output_type": "stream",
          "name": "stdout",
          "text": [
            "Looking in indexes: https://pypi.org/simple, https://us-python.pkg.dev/colab-wheels/public/simple/\n",
            "Collecting ipython-autotime\n",
            "  Downloading ipython_autotime-0.3.1-py2.py3-none-any.whl (6.8 kB)\n",
            "Requirement already satisfied: ipython in /usr/local/lib/python3.7/dist-packages (from ipython-autotime) (7.9.0)\n",
            "Requirement already satisfied: pygments in /usr/local/lib/python3.7/dist-packages (from ipython->ipython-autotime) (2.6.1)\n",
            "Requirement already satisfied: setuptools>=18.5 in /usr/local/lib/python3.7/dist-packages (from ipython->ipython-autotime) (57.4.0)\n",
            "Requirement already satisfied: prompt-toolkit<2.1.0,>=2.0.0 in /usr/local/lib/python3.7/dist-packages (from ipython->ipython-autotime) (2.0.10)\n",
            "Requirement already satisfied: pexpect in /usr/local/lib/python3.7/dist-packages (from ipython->ipython-autotime) (4.8.0)\n",
            "Requirement already satisfied: backcall in /usr/local/lib/python3.7/dist-packages (from ipython->ipython-autotime) (0.2.0)\n",
            "Requirement already satisfied: traitlets>=4.2 in /usr/local/lib/python3.7/dist-packages (from ipython->ipython-autotime) (5.1.1)\n",
            "Requirement already satisfied: decorator in /usr/local/lib/python3.7/dist-packages (from ipython->ipython-autotime) (4.4.2)\n",
            "Requirement already satisfied: pickleshare in /usr/local/lib/python3.7/dist-packages (from ipython->ipython-autotime) (0.7.5)\n",
            "Collecting jedi>=0.10\n",
            "  Downloading jedi-0.18.1-py2.py3-none-any.whl (1.6 MB)\n",
            "\u001b[K     |████████████████████████████████| 1.6 MB 14.7 MB/s \n",
            "\u001b[?25hRequirement already satisfied: parso<0.9.0,>=0.8.0 in /usr/local/lib/python3.7/dist-packages (from jedi>=0.10->ipython->ipython-autotime) (0.8.3)\n",
            "Requirement already satisfied: six>=1.9.0 in /usr/local/lib/python3.7/dist-packages (from prompt-toolkit<2.1.0,>=2.0.0->ipython->ipython-autotime) (1.15.0)\n",
            "Requirement already satisfied: wcwidth in /usr/local/lib/python3.7/dist-packages (from prompt-toolkit<2.1.0,>=2.0.0->ipython->ipython-autotime) (0.2.5)\n",
            "Requirement already satisfied: ptyprocess>=0.5 in /usr/local/lib/python3.7/dist-packages (from pexpect->ipython->ipython-autotime) (0.7.0)\n",
            "Installing collected packages: jedi, ipython-autotime\n",
            "Successfully installed ipython-autotime-0.3.1 jedi-0.18.1\n"
          ]
        }
      ]
    },
    {
      "cell_type": "code",
      "source": [
        "# Extensiones\n",
        "%load_ext autotime"
      ],
      "metadata": {
        "colab": {
          "base_uri": "https://localhost:8080/"
        },
        "id": "68cgq43fOy6Y",
        "outputId": "8394c7bf-62df-4206-f991-9f4119b97e44"
      },
      "execution_count": null,
      "outputs": [
        {
          "output_type": "stream",
          "name": "stdout",
          "text": [
            "time: 330 µs (started: 2022-08-24 05:34:15 +00:00)\n"
          ]
        }
      ]
    },
    {
      "cell_type": "markdown",
      "source": [
        "# K means\n",
        "\n",
        "K-means es uno de los métodos más populares de Clustering no supervisado (los datos no tienen etiqueta cuando se realiza el algoritmo), esto gracias a su simplicidad. K-means permite determinar k centroides que se utilizan para definir los clusters, de esta manera se pueden clasificar los datos dependiendo de sus distancias al centroide. Es un algoritmo iterativo que comienza con centroides ubicados de forma aleatoria y que van moviéndose buscando minimizar las distancias de los elementos del cluster al centroide (a medida que se mueven los centroides también cambian los elementos que pertenecen a ese respectivo cluster). \n",
        " \n",
        "Veamos una animación para poder comprender de mejor manera como va iterando el algoritmo:\n",
        "<img src=\"https://upload.wikimedia.org/wikipedia/commons/e/ea/K-means_convergence.gif\">\n",
        " \n",
        "En este ejemplo existen 3 clusters representados por los 3 colores, y los centroides corresponden a las cruces de color negro que se van moviendo. \n",
        "\n",
        "\n",
        "\n"
      ],
      "metadata": {
        "id": "jc2I5JWJjMIq"
      }
    },
    {
      "cell_type": "markdown",
      "source": [
        "# Objetivo del desafío\n",
        "\n",
        "### \"Comparar los tiempos de ejecución del método de k-means, con C++ y Python.\" \n",
        " \n",
        "La idea es que comparen los tiempos ejecuta n veces( mínimo de 100 veces) cada método **en las mismas condiciones**, es decir con el mismo conjunto de datos y el mismo número de iteraciones. Recomiendo determinar un tiempo promedio de las n ejecuciones, pues estos datos permiten analizar los resultados de forma más representativa. Por otro lado si lo desean igual pueden obtener otras métricas como el mínimo, el máximo, la mediana, etc. **No mida el tiempo en graficar**, los gráficos son algo extra, no se deben considerar cuando se comparan los tiempos. \n"
      ],
      "metadata": {
        "id": "zIm0EiXTQTEz"
      }
    },
    {
      "cell_type": "markdown",
      "source": [
        "# Dataset\n",
        "\n",
        "Generamos un dataset aleatorio utilizando la libreria sklearn como se muestra a continuación:"
      ],
      "metadata": {
        "id": "BDZx4UgjfQqw"
      }
    },
    {
      "cell_type": "code",
      "source": [
        "import sklearn.datasets\n",
        "import sklearn.cluster\n",
        "import pandas as pd\n",
        "import matplotlib.pyplot as plt\n",
        "n = 100\n",
        "k = 3\n",
        "\n",
        "# data correpsonde a los puntos y\n",
        "# labels nos indica la clase que pertenece (el color en caso de graficar)\n",
        "\n",
        "data, labels = sklearn.datasets.make_blobs(\n",
        "    n_samples=n, n_features=2, centers=k)\n",
        "\n",
        "plt.scatter(data[:, 0], data[:, 1], c=labels)\n",
        "plt.title(\"Datos\")\n",
        "plt.show()"
      ],
      "metadata": {
        "colab": {
          "base_uri": "https://localhost:8080/",
          "height": 281
        },
        "id": "lAy7GerVfSwO",
        "outputId": "8f336bda-5653-4bc4-e389-76e3de7317d3"
      },
      "execution_count": null,
      "outputs": [
        {
          "output_type": "display_data",
          "data": {
            "text/plain": [
              "<Figure size 432x288 with 1 Axes>"
            ],
            "image/png": "[encoded data removed]"
          },
          "metadata": {
            "needs_background": "light"
          }
        }
      ]
    },
    {
      "cell_type": "code",
      "source": [
        "# una muestra de los datos\n",
        "data[0:5]"
      ],
      "metadata": {
        "colab": {
          "base_uri": "https://localhost:8080/"
        },
        "id": "19OtFx6SqWNF",
        "outputId": "01a51aaf-8c1f-4224-f5df-66b3610f1c0c"
      },
      "execution_count": null,
      "outputs": [
        {
          "output_type": "execute_result",
          "data": {
            "text/plain": [
              "array([[-4.37857472, -8.07731489],\n",
              "       [-4.51672873, -8.27245919],\n",
              "       [ 0.49867004,  4.50848147],\n",
              "       [ 0.01843911,  4.16278805],\n",
              "       [ 1.05607432,  4.87941503]])"
            ]
          },
          "metadata": {},
          "execution_count": 36
        },
        {
          "output_type": "stream",
          "name": "stdout",
          "text": [
            "time: 15.8 ms (started: 2022-08-24 00:24:43 +00:00)\n"
          ]
        }
      ]
    },
    {
      "cell_type": "markdown",
      "source": [
        "# Guardar datos\n",
        "\n",
        "## Como csv\n",
        "Guardamos los datos en un archivo .csv para después utilizarlo. Esto se puede realizar de forma simple con numpy y tambien con pandas (hay otras formas de escribir archivos, pero estas me gustan). "
      ],
      "metadata": {
        "id": "X4L8Fz6WlMnX"
      }
    },
    {
      "cell_type": "code",
      "source": [
        "import pandas as pd\n",
        "pd.DataFrame(data).to_csv('data_pd.csv', index=None)\n",
        "pd.DataFrame(data).head()"
      ],
      "metadata": {
        "colab": {
          "base_uri": "https://localhost:8080/",
          "height": 224
        },
        "id": "kVj2OpkipXdQ",
        "outputId": "2fe47fa8-b685-4e01-bf43-343c5fd3d9c2"
      },
      "execution_count": null,
      "outputs": [
        {
          "output_type": "execute_result",
          "data": {
            "text/plain": [
              "          0         1\n",
              "0 -4.378575 -8.077315\n",
              "1 -4.516729 -8.272459\n",
              "2  0.498670  4.508481\n",
              "3  0.018439  4.162788\n",
              "4  1.056074  4.879415"
            ],
            "text/html": [
              "\n",
              "  <div id=\"df-4cf36451-ddc4-4713-9378-6602061b1e1d\">\n",
              "    <div class=\"colab-df-container\">\n",
              "      <div>\n",
              "<style scoped>\n",
              "    .dataframe tbody tr th:only-of-type {\n",
              "        vertical-align: middle;\n",
              "    }\n",
              "\n",
              "    .dataframe tbody tr th {\n",
              "        vertical-align: top;\n",
              "    }\n",
              "\n",
              "    .dataframe thead th {\n",
              "        text-align: right;\n",
              "    }\n",
              "</style>\n",
              "<table border=\"1\" class=\"dataframe\">\n",
              "  <thead>\n",
              "    <tr style=\"text-align: right;\">\n",
              "      <th></th>\n",
              "      <th>0</th>\n",
              "      <th>1</th>\n",
              "    </tr>\n",
              "  </thead>\n",
              "  <tbody>\n",
              "    <tr>\n",
              "      <th>0</th>\n",
              "      <td>-4.378575</td>\n",
              "      <td>-8.077315</td>\n",
              "    </tr>\n",
              "    <tr>\n",
              "      <th>1</th>\n",
              "      <td>-4.516729</td>\n",
              "      <td>-8.272459</td>\n",
              "    </tr>\n",
              "    <tr>\n",
              "      <th>2</th>\n",
              "      <td>0.498670</td>\n",
              "      <td>4.508481</td>\n",
              "    </tr>\n",
              "    <tr>\n",
              "      <th>3</th>\n",
              "      <td>0.018439</td>\n",
              "      <td>4.162788</td>\n",
              "    </tr>\n",
              "    <tr>\n",
              "      <th>4</th>\n",
              "      <td>1.056074</td>\n",
              "      <td>4.879415</td>\n",
              "    </tr>\n",
              "  </tbody>\n",
              "</table>\n",
              "</div>\n",
              "      <button class=\"colab-df-convert\" onclick=\"convertToInteractive('df-4cf36451-ddc4-4713-9378-6602061b1e1d')\"\n",
              "              title=\"Convert this dataframe to an interactive table.\"\n",
              "              style=\"display:none;\">\n",
              "        \n",
              "  <svg xmlns=\"http://www.w3.org/2000/svg\" height=\"24px\"viewBox=\"0 0 24 24\"\n",
              "       width=\"24px\">\n",
              "    <path d=\"M0 0h24v24H0V0z\" fill=\"none\"/>\n",
              "    <path d=\"M18.56 5.44l.94 2.06.94-2.06 2.06-.94-2.06-.94-.94-2.06-.94 2.06-2.06.94zm-11 1L8.5 8.5l.94-2.06 2.06-.94-2.06-.94L8.5 2.5l-.94 2.06-2.06.94zm10 10l.94 2.06.94-2.06 2.06-.94-2.06-.94-.94-2.06-.94 2.06-2.06.94z\"/><path d=\"M17.41 7.96l-1.37-1.37c-.4-.4-.92-.59-1.43-.59-.52 0-1.04.2-1.43.59L10.3 9.45l-7.72 7.72c-.78.78-.78 2.05 0 2.83L4 21.41c.39.39.9.59 1.41.59.51 0 1.02-.2 1.41-.59l7.78-7.78 2.81-2.81c.8-.78.8-2.07 0-2.86zM5.41 20L4 18.59l7.72-7.72 1.47 1.35L5.41 20z\"/>\n",
              "  </svg>\n",
              "      </button>\n",
              "      \n",
              "  <style>\n",
              "    .colab-df-container {\n",
              "      display:flex;\n",
              "      flex-wrap:wrap;\n",
              "      gap: 12px;\n",
              "    }\n",
              "\n",
              "    .colab-df-convert {\n",
              "      background-color: #E8F0FE;\n",
              "      border: none;\n",
              "      border-radius: 50%;\n",
              "      cursor: pointer;\n",
              "      display: none;\n",
              "      fill: #1967D2;\n",
              "      height: 32px;\n",
              "      padding: 0 0 0 0;\n",
              "      width: 32px;\n",
              "    }\n",
              "\n",
              "    .colab-df-convert:hover {\n",
              "      background-color: #E2EBFA;\n",
              "      box-shadow: 0px 1px 2px rgba(60, 64, 67, 0.3), 0px 1px 3px 1px rgba(60, 64, 67, 0.15);\n",
              "      fill: #174EA6;\n",
              "    }\n",
              "\n",
              "    [theme=dark] .colab-df-convert {\n",
              "      background-color: #3B4455;\n",
              "      fill: #D2E3FC;\n",
              "    }\n",
              "\n",
              "    [theme=dark] .colab-df-convert:hover {\n",
              "      background-color: #434B5C;\n",
              "      box-shadow: 0px 1px 3px 1px rgba(0, 0, 0, 0.15);\n",
              "      filter: drop-shadow(0px 1px 2px rgba(0, 0, 0, 0.3));\n",
              "      fill: #FFFFFF;\n",
              "    }\n",
              "  </style>\n",
              "\n",
              "      <script>\n",
              "        const buttonEl =\n",
              "          document.querySelector('#df-4cf36451-ddc4-4713-9378-6602061b1e1d button.colab-df-convert');\n",
              "        buttonEl.style.display =\n",
              "          google.colab.kernel.accessAllowed ? 'block' : 'none';\n",
              "\n",
              "        async function convertToInteractive(key) {\n",
              "          const element = document.querySelector('#df-4cf36451-ddc4-4713-9378-6602061b1e1d');\n",
              "          const dataTable =\n",
              "            await google.colab.kernel.invokeFunction('convertToInteractive',\n",
              "                                                     [key], {});\n",
              "          if (!dataTable) return;\n",
              "\n",
              "          const docLinkHtml = 'Like what you see? Visit the ' +\n",
              "            '<a target=\"_blank\" href=https://colab.research.google.com/notebooks/data_table.ipynb>data table notebook</a>'\n",
              "            + ' to learn more about interactive tables.';\n",
              "          element.innerHTML = '';\n",
              "          dataTable['output_type'] = 'display_data';\n",
              "          await google.colab.output.renderOutput(dataTable, element);\n",
              "          const docLink = document.createElement('div');\n",
              "          docLink.innerHTML = docLinkHtml;\n",
              "          element.appendChild(docLink);\n",
              "        }\n",
              "      </script>\n",
              "    </div>\n",
              "  </div>\n",
              "  "
            ]
          },
          "metadata": {},
          "execution_count": 37
        },
        {
          "output_type": "stream",
          "name": "stdout",
          "text": [
            "time: 36.2 ms (started: 2022-08-24 00:24:48 +00:00)\n"
          ]
        }
      ]
    },
    {
      "cell_type": "markdown",
      "source": [
        "## Como txt "
      ],
      "metadata": {
        "id": "ppD74rCH0ddz"
      }
    },
    {
      "cell_type": "code",
      "source": [
        "import numpy as np\n",
        "np.savetxt('data_np.txt', data, delimiter=\" \")"
      ],
      "metadata": {
        "colab": {
          "base_uri": "https://localhost:8080/"
        },
        "id": "cNWU374IlMQr",
        "outputId": "45d564ac-5346-42d7-8ef3-28f6a22c4bd8"
      },
      "execution_count": null,
      "outputs": [
        {
          "output_type": "stream",
          "name": "stdout",
          "text": [
            "time: 4.44 ms (started: 2022-08-24 00:24:50 +00:00)\n"
          ]
        }
      ]
    },
    {
      "cell_type": "markdown",
      "source": [
        "# Leer datos en Python"
      ],
      "metadata": {
        "id": "TRUaOcnAp_EI"
      }
    },
    {
      "cell_type": "code",
      "source": [
        "data_np = np.genfromtxt('data_np.csv', delimiter=',')\n",
        "data_np[0:5]"
      ],
      "metadata": {
        "colab": {
          "base_uri": "https://localhost:8080/"
        },
        "id": "HpBmv1WeqA5S",
        "outputId": "c6c51bf8-71b2-48b8-afa3-0b0fb9350a95"
      },
      "execution_count": null,
      "outputs": [
        {
          "output_type": "execute_result",
          "data": {
            "text/plain": [
              "array([[ 5.25744753,  3.79102463],\n",
              "       [ 4.03989802, -2.66055944],\n",
              "       [ 0.60626355,  4.7530844 ],\n",
              "       [ 3.41370312, -2.6460803 ],\n",
              "       [ 3.09182449, -3.91288925]])"
            ]
          },
          "metadata": {},
          "execution_count": 39
        },
        {
          "output_type": "stream",
          "name": "stdout",
          "text": [
            "time: 14.7 ms (started: 2022-08-24 00:24:52 +00:00)\n"
          ]
        }
      ]
    },
    {
      "cell_type": "markdown",
      "source": [
        "Ojo que con pandas se lee como DataFrame, por lo que habría que pasarlo a numpy para trabajar."
      ],
      "metadata": {
        "id": "AY23iZ6erfd9"
      }
    },
    {
      "cell_type": "code",
      "source": [
        "data_pd = pd.read_csv(\"data_pd.csv\")\n",
        "data_pd[0:5]"
      ],
      "metadata": {
        "colab": {
          "base_uri": "https://localhost:8080/",
          "height": 224
        },
        "id": "hSARbTGDquGS",
        "outputId": "5eee4391-d0ec-4786-c0af-31ffb35c7811"
      },
      "execution_count": null,
      "outputs": [
        {
          "output_type": "execute_result",
          "data": {
            "text/plain": [
              "          0         1\n",
              "0 -4.378575 -8.077315\n",
              "1 -4.516729 -8.272459\n",
              "2  0.498670  4.508481\n",
              "3  0.018439  4.162788\n",
              "4  1.056074  4.879415"
            ],
            "text/html": [
              "\n",
              "  <div id=\"df-0607d574-b902-489d-95eb-e01df69d35b3\">\n",
              "    <div class=\"colab-df-container\">\n",
              "      <div>\n",
              "<style scoped>\n",
              "    .dataframe tbody tr th:only-of-type {\n",
              "        vertical-align: middle;\n",
              "    }\n",
              "\n",
              "    .dataframe tbody tr th {\n",
              "        vertical-align: top;\n",
              "    }\n",
              "\n",
              "    .dataframe thead th {\n",
              "        text-align: right;\n",
              "    }\n",
              "</style>\n",
              "<table border=\"1\" class=\"dataframe\">\n",
              "  <thead>\n",
              "    <tr style=\"text-align: right;\">\n",
              "      <th></th>\n",
              "      <th>0</th>\n",
              "      <th>1</th>\n",
              "    </tr>\n",
              "  </thead>\n",
              "  <tbody>\n",
              "    <tr>\n",
              "      <th>0</th>\n",
              "      <td>-4.378575</td>\n",
              "      <td>-8.077315</td>\n",
              "    </tr>\n",
              "    <tr>\n",
              "      <th>1</th>\n",
              "      <td>-4.516729</td>\n",
              "      <td>-8.272459</td>\n",
              "    </tr>\n",
              "    <tr>\n",
              "      <th>2</th>\n",
              "      <td>0.498670</td>\n",
              "      <td>4.508481</td>\n",
              "    </tr>\n",
              "    <tr>\n",
              "      <th>3</th>\n",
              "      <td>0.018439</td>\n",
              "      <td>4.162788</td>\n",
              "    </tr>\n",
              "    <tr>\n",
              "      <th>4</th>\n",
              "      <td>1.056074</td>\n",
              "      <td>4.879415</td>\n",
              "    </tr>\n",
              "  </tbody>\n",
              "</table>\n",
              "</div>\n",
              "      <button class=\"colab-df-convert\" onclick=\"convertToInteractive('df-0607d574-b902-489d-95eb-e01df69d35b3')\"\n",
              "              title=\"Convert this dataframe to an interactive table.\"\n",
              "              style=\"display:none;\">\n",
              "        \n",
              "  <svg xmlns=\"http://www.w3.org/2000/svg\" height=\"24px\"viewBox=\"0 0 24 24\"\n",
              "       width=\"24px\">\n",
              "    <path d=\"M0 0h24v24H0V0z\" fill=\"none\"/>\n",
              "    <path d=\"M18.56 5.44l.94 2.06.94-2.06 2.06-.94-2.06-.94-.94-2.06-.94 2.06-2.06.94zm-11 1L8.5 8.5l.94-2.06 2.06-.94-2.06-.94L8.5 2.5l-.94 2.06-2.06.94zm10 10l.94 2.06.94-2.06 2.06-.94-2.06-.94-.94-2.06-.94 2.06-2.06.94z\"/><path d=\"M17.41 7.96l-1.37-1.37c-.4-.4-.92-.59-1.43-.59-.52 0-1.04.2-1.43.59L10.3 9.45l-7.72 7.72c-.78.78-.78 2.05 0 2.83L4 21.41c.39.39.9.59 1.41.59.51 0 1.02-.2 1.41-.59l7.78-7.78 2.81-2.81c.8-.78.8-2.07 0-2.86zM5.41 20L4 18.59l7.72-7.72 1.47 1.35L5.41 20z\"/>\n",
              "  </svg>\n",
              "      </button>\n",
              "      \n",
              "  <style>\n",
              "    .colab-df-container {\n",
              "      display:flex;\n",
              "      flex-wrap:wrap;\n",
              "      gap: 12px;\n",
              "    }\n",
              "\n",
              "    .colab-df-convert {\n",
              "      background-color: #E8F0FE;\n",
              "      border: none;\n",
              "      border-radius: 50%;\n",
              "      cursor: pointer;\n",
              "      display: none;\n",
              "      fill: #1967D2;\n",
              "      height: 32px;\n",
              "      padding: 0 0 0 0;\n",
              "      width: 32px;\n",
              "    }\n",
              "\n",
              "    .colab-df-convert:hover {\n",
              "      background-color: #E2EBFA;\n",
              "      box-shadow: 0px 1px 2px rgba(60, 64, 67, 0.3), 0px 1px 3px 1px rgba(60, 64, 67, 0.15);\n",
              "      fill: #174EA6;\n",
              "    }\n",
              "\n",
              "    [theme=dark] .colab-df-convert {\n",
              "      background-color: #3B4455;\n",
              "      fill: #D2E3FC;\n",
              "    }\n",
              "\n",
              "    [theme=dark] .colab-df-convert:hover {\n",
              "      background-color: #434B5C;\n",
              "      box-shadow: 0px 1px 3px 1px rgba(0, 0, 0, 0.15);\n",
              "      filter: drop-shadow(0px 1px 2px rgba(0, 0, 0, 0.3));\n",
              "      fill: #FFFFFF;\n",
              "    }\n",
              "  </style>\n",
              "\n",
              "      <script>\n",
              "        const buttonEl =\n",
              "          document.querySelector('#df-0607d574-b902-489d-95eb-e01df69d35b3 button.colab-df-convert');\n",
              "        buttonEl.style.display =\n",
              "          google.colab.kernel.accessAllowed ? 'block' : 'none';\n",
              "\n",
              "        async function convertToInteractive(key) {\n",
              "          const element = document.querySelector('#df-0607d574-b902-489d-95eb-e01df69d35b3');\n",
              "          const dataTable =\n",
              "            await google.colab.kernel.invokeFunction('convertToInteractive',\n",
              "                                                     [key], {});\n",
              "          if (!dataTable) return;\n",
              "\n",
              "          const docLinkHtml = 'Like what you see? Visit the ' +\n",
              "            '<a target=\"_blank\" href=https://colab.research.google.com/notebooks/data_table.ipynb>data table notebook</a>'\n",
              "            + ' to learn more about interactive tables.';\n",
              "          element.innerHTML = '';\n",
              "          dataTable['output_type'] = 'display_data';\n",
              "          await google.colab.output.renderOutput(dataTable, element);\n",
              "          const docLink = document.createElement('div');\n",
              "          docLink.innerHTML = docLinkHtml;\n",
              "          element.appendChild(docLink);\n",
              "        }\n",
              "      </script>\n",
              "    </div>\n",
              "  </div>\n",
              "  "
            ]
          },
          "metadata": {},
          "execution_count": 40
        },
        {
          "output_type": "stream",
          "name": "stdout",
          "text": [
            "time: 28.2 ms (started: 2022-08-24 00:24:54 +00:00)\n"
          ]
        }
      ]
    },
    {
      "cell_type": "markdown",
      "source": [
        "# Parte 1: C++/C++ en Python\n",
        "\n",
        "Para la parte $1$ existen 2 alternativas, la opción $1.1$ y la opción $1.2$ que se muestran a continuación:"
      ],
      "metadata": {
        "id": "XfVuoC-fbNoz"
      }
    },
    {
      "cell_type": "markdown",
      "source": [
        "## $1.1$ Realización y ejecución del método k-means en C++\n",
        "\n",
        "\n",
        "\n"
      ],
      "metadata": {
        "id": "plPzr7SGedR0"
      }
    },
    {
      "cell_type": "markdown",
      "source": [
        "De los códigos de ejemplo dejados por el profesor en las instrucciones, se destacan algunas cosas útiles que **vamos a revisar y probar en el auxiliar**.    "
      ],
      "metadata": {
        "id": "Do3hx1rLwn8R"
      }
    },
    {
      "cell_type": "markdown",
      "source": [
        "\n",
        "## Leer los datos desde un Archivo .txt en C++\n",
        "\n",
        "C++ proporciona las siguientes clases para realizar la salida y entrada de caracteres para leer y escribir archivos:\n",
        "\n",
        "* ofstream: Stream class to write on files \\\\\n",
        "* ifstream: Stream class to read from files \\\\\n",
        "* fstream: Stream class to both read and write  from/to files. \\\\\n",
        "\n",
        "A continuación se presenta un ejemplo para leer puntos, para más información ver la [documentación](https://cplusplus.com/doc/tutorial/files/) (en general leer lineas es lo más típico).\n",
        "\n",
        "```cpp\n",
        "// g++ leer_datos.cpp -o ejemplo && ./ejemplo <nombre_archivo>\n",
        "\n",
        "#include <iostream>\n",
        "#include <fstream>\n",
        "#include <sstream>\n",
        "#include <vector>\n",
        "\n",
        "struct Point {\n",
        "  float x{0}, y{0};\n",
        "};\n",
        "\n",
        "using DataFrame = std::vector<Point>;\n",
        "\n",
        "/*\n",
        "leer_datos.cpp\n",
        "\n",
        "Programa que lee puntos desde un archivo .txt en C++ (considerando los datos separados por un espacio)\n",
        "*/\n",
        "int main(int argc, char **argv){\n",
        "\n",
        "    if (argc < 1) {\n",
        "    std::cerr << \"falta escribir el nomrbe del archivo.\\n usage: ./ejemplo <nombre_archivo>\"\n",
        "              << std::endl;\n",
        "    std::exit(EXIT_FAILURE);\n",
        "  }\n",
        "\n",
        "    DataFrame data;\n",
        "    std::ifstream stream(argv[1]);\n",
        "    if (!stream) {\n",
        "        std::cerr << \"Could not open file: \" << argv[1] << std::endl;\n",
        "        std::exit(EXIT_FAILURE);\n",
        "  }\n",
        "\n",
        "    std::string line;\n",
        "    while (std::getline(stream, line)) {\n",
        "        Point point;\n",
        "        std::istringstream line_stream(line);\n",
        "        size_t label;\n",
        "        line_stream >> point.x >> point.y >> label;\n",
        "        data.push_back(point);\n",
        "    }\n",
        "\n",
        "    std::cout << \"Ejemplo de acceso a los puntos: \" << \"\\n\";\n",
        "    std::cout << data[0].x << \" \" << data[0].y << \"\\n\";\n",
        "    return 0;\n",
        "}\n",
        "```\n",
        "\n"
      ],
      "metadata": {
        "id": "ZDfF-k7WuTUK"
      }
    },
    {
      "cell_type": "markdown",
      "source": [
        "## Función main()\n",
        "Es la que ejecuta nuestro programa. (Pseudo código)\n",
        "\n",
        "```cpp\n",
        "int main(int argc, const char* argv[]) {\n",
        "  DataFrame means;\n",
        "  double total_elapsed = 0;\n",
        "  for (int run = 0; run < number_of_runs; ++run) {\n",
        "    const auto start = std::chrono::high_resolution_clock::now();\n",
        "    means = k_means(data, k, iterations);\n",
        "    const auto end = std::chrono::high_resolution_clock::now();\n",
        "    const auto duration =\n",
        "        std::chrono::duration_cast<std::chrono::duration<double>>(end - start);\n",
        "    total_elapsed += duration.count();\n",
        "  }\n",
        "  std::cerr << \"Took: \" << total_elapsed / number_of_runs << \"s (\"\n",
        "            << number_of_runs << \" runs)\" << std::endl;\n",
        "\n",
        "  for (auto& mean : means) {\n",
        "    std::cout << mean.x << \" \" << mean.y << std::endl;\n",
        "  }\n",
        "```"
      ],
      "metadata": {
        "id": "_LsFFCjTvrJI"
      }
    },
    {
      "cell_type": "markdown",
      "source": [
        "## $1.2$ Realización y ejecución del método k-means usando una libreria de C++ en Python.\n",
        "\n",
        "Veamos como utilizar mlpack, una librería de machine learning rápida y flexible escrita en C++.\n",
        "\n",
        "# Instalar la librería"
      ],
      "metadata": {
        "id": "BsLh53J6ehzK"
      }
    },
    {
      "cell_type": "code",
      "source": [
        "!pip install mlpack3"
      ],
      "metadata": {
        "colab": {
          "base_uri": "https://localhost:8080/"
        },
        "id": "Za4QI2mBeiR5",
        "outputId": "aab48c89-370b-4613-d5cb-a7159d342489"
      },
      "execution_count": null,
      "outputs": [
        {
          "output_type": "stream",
          "name": "stdout",
          "text": [
            "Looking in indexes: https://pypi.org/simple, https://us-python.pkg.dev/colab-wheels/public/simple/\n",
            "Collecting mlpack3\n",
            "  Downloading mlpack3-3.4.2-cp37-cp37m-manylinux1_x86_64.whl (93.0 MB)\n",
            "\u001b[K     |████████████████████████████████| 93.0 MB 1.2 MB/s \n",
            "\u001b[?25hRequirement already satisfied: cython>=0.24 in /usr/local/lib/python3.7/dist-packages (from mlpack3) (0.29.32)\n",
            "Requirement already satisfied: numpy in /usr/local/lib/python3.7/dist-packages (from mlpack3) (1.21.6)\n",
            "Requirement already satisfied: pandas in /usr/local/lib/python3.7/dist-packages (from mlpack3) (1.3.5)\n",
            "Requirement already satisfied: pytz>=2017.3 in /usr/local/lib/python3.7/dist-packages (from pandas->mlpack3) (2022.2.1)\n",
            "Requirement already satisfied: python-dateutil>=2.7.3 in /usr/local/lib/python3.7/dist-packages (from pandas->mlpack3) (2.8.2)\n",
            "Requirement already satisfied: six>=1.5 in /usr/local/lib/python3.7/dist-packages (from python-dateutil>=2.7.3->pandas->mlpack3) (1.15.0)\n",
            "Installing collected packages: mlpack3\n",
            "Successfully installed mlpack3-3.4.2\n"
          ]
        }
      ]
    },
    {
      "cell_type": "markdown",
      "source": [
        "## Ejemplo de uso mlpack\n",
        "\n",
        "[Ver documentación](https://www.mlpack.org/doc/mlpack-3.1.1/python_documentation.html#kmeans).\n",
        "\n",
        "Tabla que describe algunos de los parámetros que recibe la función k-means implementada en esta librería.\n",
        "\n",
        "| name |\ttype |\tdescription\tdefault|\n",
        " |   --    |  --      |      --          | \n",
        "|algorithm|\tstr|\tAlgorithm to use for the Lloyd iteration (‘naive’, ‘pelleg-moore’, ‘elkan’, ‘hamerly’, ‘dualtree’, or ‘dualtree-covertree’).\t'naive'|\n",
        "|clusters |\tint|\tNumber of clusters to find (0 autodetects from initial centroids).\trequired |\n",
        "|initial_centroids\t|matrix|\tStart with the specified initial centroids.\tnp.empty([0, 0])|\n",
        "|max_iterations |\tint\t|Maximum number of iterations before k-means terminates.\t1000|\n",
        "|seed|\tint\t|Random seed. If 0, ‘std::time(NULL)’ is used.\t0|\n",
        "|verbose\t|bool |\tDisplay informational messages and the full list of parameters and timers at the end of execution.\tFalse|"
      ],
      "metadata": {
        "id": "byELCTQfSFZ7"
      }
    },
    {
      "cell_type": "code",
      "source": [
        "from mlpack import kmeans\n",
        "\n",
        "d = kmeans( clusters=3, input=data, max_iterations=300)\n",
        "centroid = d['centroid']\n",
        "output = d['output'] # a que clase clasifica cada valor"
      ],
      "metadata": {
        "colab": {
          "base_uri": "https://localhost:8080/"
        },
        "id": "vCq7Og4bSFhN",
        "outputId": "8a2a2d98-6379-4388-f273-f89c14b1a823"
      },
      "execution_count": null,
      "outputs": [
        {
          "output_type": "stream",
          "name": "stdout",
          "text": [
            "time: 2.68 ms (started: 2022-08-24 05:34:30 +00:00)\n"
          ]
        }
      ]
    },
    {
      "cell_type": "code",
      "source": [
        "plt.scatter(data[:, 0], data[:, 1], c=labels)\n",
        "plt.scatter(centroid[:, 0], centroid[:, 1], linewidths=3, c='magenta',marker='x')\n",
        "plt.title(\"K-means usando la libreria mlpack\")\n",
        "plt.show()"
      ],
      "metadata": {
        "colab": {
          "base_uri": "https://localhost:8080/",
          "height": 299
        },
        "id": "ZCa1yeorUzTC",
        "outputId": "d008ef14-ae04-4297-c7df-be9e77f810f5"
      },
      "execution_count": null,
      "outputs": [
        {
          "output_type": "display_data",
          "data": {
            "text/plain": [
              "<Figure size 432x288 with 1 Axes>"
            ],
            "image/png": "[encoded data removed]"
          },
          "metadata": {
            "needs_background": "light"
          }
        },
        {
          "output_type": "stream",
          "name": "stdout",
          "text": [
            "time: 128 ms (started: 2022-08-24 05:34:32 +00:00)\n"
          ]
        }
      ]
    },
    {
      "cell_type": "markdown",
      "source": [
        "# Otra alternativa: Cython\n",
        "Cython es una forma de escribir código en C/C++ con Python, esta tiene una sintaxis similar a la de C/C++ pero tambien es similar Python.\n",
        "Más información ver la [documentación](https://cython.readthedocs.io/en/latest/src/tutorial/cython_tutorial.html), además recomiendo el siguiente [tutorial](https://nyu-cds.github.io/python-cython/01-syntax/).\n",
        "\n",
        "## Definir variables\n",
        "\n",
        "A diferencia de Python, para definir variables en C/C++ es necesario explicitar el tipo de la variable cuando se inicializa, por ejemplo:\n",
        "\n",
        "```cpp\n",
        "int val = 8;\n",
        "```\n",
        "Luego para hacer lo mismo en Cython se utiliza una palabra clave llamada \"cdef\", luego se explicita el tipo de la variable y luego lo de siempre.\n",
        "```python\n",
        "import cython\n",
        "\n",
        "cdef int val = 8\n",
        "```\n",
        "\n",
        "## Definir funciones en C++\n",
        "\n",
        "Para definir funciones es necesario explicitar el tipo que retorna la función antes del nombre de esta, veamos un ejemplo:\n",
        "```cpp\n",
        "int my_funcion(long l, float f):\n",
        "    ...\n",
        "```\n",
        "Luego para hacer lo mismo en Cython se hace de forma similar a lo anterior:\n",
        "\n",
        "```python\n",
        "cdef int cy_funcion(int n):\n",
        "    ...\n",
        "\n",
        "def funcion(int n):\n",
        "    cy_funcion(n)\n",
        "\n",
        "```\n",
        "Para llamar a la función definimos una auxiliar."
      ],
      "metadata": {
        "id": "pRalwTubF88v"
      }
    },
    {
      "cell_type": "markdown",
      "source": [
        "## Ejemplo uso Cython\n",
        "\n",
        "Ejemplo a partir de un tutorial "
      ],
      "metadata": {
        "id": "aeZowYb-JvWW"
      }
    },
    {
      "cell_type": "code",
      "source": [
        "%load_ext cython"
      ],
      "metadata": {
        "id": "uGqIIvtwJQPU"
      },
      "execution_count": 2,
      "outputs": []
    },
    {
      "cell_type": "code",
      "source": [
        "%%cython\n",
        "\n",
        "# - python version\n",
        "def py_sum(n):\n",
        "  \"\"\"Compute the sum\"\"\"\n",
        "  i = 0\n",
        "  the_sum = 0\n",
        "  for i in range(n):\n",
        "    the_sum += i\n",
        "  return the_sum\n",
        "\n",
        "# - cython version\n",
        "cdef int cy_sum(int n):\n",
        "  cdef int i = 0\n",
        "  cdef int the_sum = 0\n",
        "  for i in range(n):\n",
        "    the_sum += i\n",
        "  return the_sum\n",
        "\n",
        "def cy_contenedor(int n):\n",
        "  return cy_sum(n)"
      ],
      "metadata": {
        "id": "Xej2ClyFF9Lm"
      },
      "execution_count": 11,
      "outputs": []
    },
    {
      "cell_type": "markdown",
      "source": [
        "## Comparando los tiempos"
      ],
      "metadata": {
        "id": "z9bL-B7dJiDO"
      }
    },
    {
      "cell_type": "code",
      "source": [
        "print(\"python time complexity\")\n",
        "%timeit py_sum(100000000)\n",
        "print('\\n')\n",
        "\n",
        "print('cython time complexity')\n",
        "%timeit cy_contenedor(100000000)\n",
        "print('\\n')"
      ],
      "metadata": {
        "colab": {
          "base_uri": "https://localhost:8080/"
        },
        "id": "-6V46CqUGBRJ",
        "outputId": "3e587889-a852-40d3-8fad-926a21a7afb4"
      },
      "execution_count": 12,
      "outputs": [
        {
          "output_type": "stream",
          "name": "stdout",
          "text": [
            "python time complexity\n",
            "4.22 s ± 27.6 ms per loop (mean ± std. dev. of 7 runs, 1 loop each)\n",
            "\n",
            "\n",
            "cython time complexity\n",
            "38.9 ms ± 363 µs per loop (mean ± std. dev. of 7 runs, 10 loops each)\n",
            "\n",
            "\n"
          ]
        }
      ]
    },
    {
      "cell_type": "markdown",
      "source": [
        "## Usando Python sum y Numpy"
      ],
      "metadata": {
        "id": "oCSLppIXKwI6"
      }
    },
    {
      "cell_type": "code",
      "source": [
        "import numpy as np\n",
        "\n",
        "print(\"python sum function\")\n",
        "%timeit sum(range(1,100000000))\n",
        "print('\\n')\n",
        "\n",
        "print(\"numpy sum\")\n",
        "%timeit np.sum(range(1, 100000000))"
      ],
      "metadata": {
        "colab": {
          "base_uri": "https://localhost:8080/"
        },
        "id": "ZyXmAayTJgOT",
        "outputId": "84548900-362f-41c1-9e4b-94d804c5b8e3"
      },
      "execution_count": 13,
      "outputs": [
        {
          "output_type": "stream",
          "name": "stdout",
          "text": [
            "python sum function\n",
            "1.99 s ± 52.3 ms per loop (mean ± std. dev. of 7 runs, 1 loop each)\n",
            "\n",
            "\n",
            "numpy sum\n",
            "10.9 s ± 179 ms per loop (mean ± std. dev. of 7 runs, 1 loop each)\n"
          ]
        }
      ]
    },
    {
      "cell_type": "markdown",
      "source": [
        "## Promedio y desviación 100 iteraciones"
      ],
      "metadata": {
        "id": "2IzucQ2XNCL8"
      }
    },
    {
      "cell_type": "code",
      "source": [
        "print(\"python time complexity\")\n",
        "%timeit -r100 py_sum(10000) \n",
        "print('\\n')\n",
        "\n",
        "print('cython time complexity')\n",
        "%timeit -r100 cy_contenedor(10000) \n",
        "print('\\n')"
      ],
      "metadata": {
        "colab": {
          "base_uri": "https://localhost:8080/"
        },
        "id": "67z2FGcCLPbd",
        "outputId": "5c8d7c08-32af-4eed-c8ba-15def5d5f005"
      },
      "execution_count": 15,
      "outputs": [
        {
          "output_type": "stream",
          "name": "stdout",
          "text": [
            "python time complexity\n",
            "353 µs ± 9.24 µs per loop (mean ± std. dev. of 100 runs, 1000 loops each)\n",
            "\n",
            "\n",
            "cython time complexity\n",
            "3.98 µs ± 44.8 ns per loop (mean ± std. dev. of 100 runs, 100000 loops each)\n",
            "\n",
            "\n"
          ]
        }
      ]
    },
    {
      "cell_type": "markdown",
      "source": [
        "# Parte 2: Python sin librerías\n",
        "\n",
        "$2.$ Realización y ejecución del método k-means en Python, sin uso de librerías. Recomiendo revisar las referencias en las instrucciones, los pseudos códigos, las clases del Profesor, etc."
      ],
      "metadata": {
        "id": "UNWZnnO-eiYj"
      }
    },
    {
      "cell_type": "code",
      "source": [
        "def nuestro_kmeans(data, k, iter=300):\n",
        "\n",
        "    # AQUI EL CODIGO\n",
        "    pass\n",
        "    #return clusters\n",
        "\n",
        "means = nuestro_kmeans(data,k,300)"
      ],
      "metadata": {
        "colab": {
          "base_uri": "https://localhost:8080/"
        },
        "id": "fmu-jGtAeu0g",
        "outputId": "44903a65-cf55-45f3-b8b1-68f4a2f1b3cb"
      },
      "execution_count": null,
      "outputs": [
        {
          "output_type": "stream",
          "name": "stdout",
          "text": [
            "time: 1.44 ms (started: 2022-08-24 00:27:43 +00:00)\n"
          ]
        }
      ]
    },
    {
      "cell_type": "code",
      "source": [
        "import matplotlib.pyplot as plt\n",
        "\n",
        "plt.scatter(data[:, 0], data[:, 1], c=labels)\n",
        "plt.scatter(means[:, 0], means[:, 1], linewidths=2)\n",
        "plt.title(\"K-means usando la libreria scikit-learn\")\n",
        "plt.show()"
      ],
      "metadata": {
        "colab": {
          "base_uri": "https://localhost:8080/",
          "height": 299
        },
        "id": "tFoQ0ho2tXvF",
        "outputId": "9aeb5e97-8211-4f52-a6ba-6b89dab645b1"
      },
      "execution_count": null,
      "outputs": [
        {
          "output_type": "display_data",
          "data": {
            "text/plain": [
              "<Figure size 432x288 with 1 Axes>"
            ],
            "image/png": "[encoded data removed]"
          },
          "metadata": {
            "needs_background": "light"
          }
        },
        {
          "output_type": "stream",
          "name": "stdout",
          "text": [
            "time: 172 ms (started: 2022-08-24 00:28:01 +00:00)\n"
          ]
        }
      ]
    },
    {
      "cell_type": "markdown",
      "source": [
        "# Parte 3: Python con librerías\n",
        "\n",
        "$3.$ Realización y ejecución del método k-means en Python con uso de librerías, por ejemplo con scikit-learn.\n"
      ],
      "metadata": {
        "id": "spcmGJLBevEL"
      }
    },
    {
      "cell_type": "code",
      "source": [
        "import sklearn.datasets\n",
        "import sklearn.cluster\n",
        "import scipy.cluster.vq\n",
        "\n",
        "\n",
        "n = 100\n",
        "k = 3\n",
        "\n",
        "# scipy\n",
        "means, _ = scipy.cluster.vq.kmeans(data, k, iter=300)"
      ],
      "metadata": {
        "colab": {
          "base_uri": "https://localhost:8080/"
        },
        "id": "xoplzDpHgtYh",
        "outputId": "46c75489-1d9f-488a-8a7f-78afab2d2448"
      },
      "execution_count": null,
      "outputs": [
        {
          "output_type": "stream",
          "name": "stdout",
          "text": [
            "time: 107 ms (started: 2022-08-24 05:34:44 +00:00)\n"
          ]
        }
      ]
    },
    {
      "cell_type": "code",
      "source": [
        "plt.scatter(data[:, 0], data[:, 1], c=labels)\n",
        "plt.scatter(means[:, 0], means[:, 1], linewidths=3, c='magenta',marker='x')\n",
        "plt.title(\"K-means usando la libreria Scipy\")\n",
        "plt.show()"
      ],
      "metadata": {
        "colab": {
          "base_uri": "https://localhost:8080/",
          "height": 299
        },
        "id": "JwPcEB1Bp2XN",
        "outputId": "4c8b4684-82e9-4861-f0ac-f84be903b180"
      },
      "execution_count": null,
      "outputs": [
        {
          "output_type": "display_data",
          "data": {
            "text/plain": [
              "<Figure size 432x288 with 1 Axes>"
            ],
            "image/png": "[encoded data removed]"
          },
          "metadata": {
            "needs_background": "light"
          }
        },
        {
          "output_type": "stream",
          "name": "stdout",
          "text": [
            "time: 122 ms (started: 2022-08-24 05:34:46 +00:00)\n"
          ]
        }
      ]
    },
    {
      "cell_type": "code",
      "source": [
        "# scikit-learn\n",
        "kmeans = sklearn.cluster.KMeans(k, max_iter=300)\n",
        "kmeans.fit(data)\n",
        "means = kmeans.cluster_centers_"
      ],
      "metadata": {
        "colab": {
          "base_uri": "https://localhost:8080/"
        },
        "id": "TmzSAZZes4nd",
        "outputId": "248b0024-1468-4ae3-943f-f64eb63eabcd"
      },
      "execution_count": null,
      "outputs": [
        {
          "output_type": "stream",
          "name": "stdout",
          "text": [
            "time: 21.9 ms (started: 2022-08-24 05:34:50 +00:00)\n"
          ]
        }
      ]
    },
    {
      "cell_type": "code",
      "source": [
        "plt.scatter(data[:, 0], data[:, 1], c=labels)\n",
        "plt.scatter(means[:, 0], means[:, 1], linewidths=2, c='magenta',marker='x')\n",
        "plt.title(\"K-means usando la libreria scikit-learn\")\n",
        "plt.show()"
      ],
      "metadata": {
        "colab": {
          "base_uri": "https://localhost:8080/",
          "height": 299
        },
        "id": "qITqE6TWs4qX",
        "outputId": "e6002233-d2de-4cf7-e94d-61fb48b86df1"
      },
      "execution_count": null,
      "outputs": [
        {
          "output_type": "display_data",
          "data": {
            "text/plain": [
              "<Figure size 432x288 with 1 Axes>"
            ],
            "image/png": "[encoded data removed]"
          },
          "metadata": {
            "needs_background": "light"
          }
        },
        {
          "output_type": "stream",
          "name": "stdout",
          "text": [
            "time: 124 ms (started: 2022-08-24 05:34:51 +00:00)\n"
          ]
        }
      ]
    }
  ]
}