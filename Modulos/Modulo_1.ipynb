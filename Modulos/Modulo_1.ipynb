{
  "nbformat": 4,
  "nbformat_minor": 0,
  "metadata": {
    "colab": {
      "name": "Modulo 1",
      "provenance": [],
      "toc_visible": true,
      "collapsed_sections": [
        "wb9c4B_xLud9",
        "PjkN7AwALugZ",
        "tyDCnIoVYaBm",
        "isM6oAz8hxaw",
        "ZqO6l79xJ5Sj",
        "dvMq0Kx2J6C1",
        "4cdGu7Z6iTzR",
        "Vj4Zpc3MhUwx",
        "w83wIWa13Tf2",
        "yo8MJW9OJ-J0"
      ]
    },
    "kernelspec": {
      "name": "python3",
      "display_name": "Python 3"
    },
    "language_info": {
      "name": "python"
    }
  },
  "cells": [
    {
      "cell_type": "markdown",
      "source": [
        "<img height=\"120\" src=\"https://raw.githubusercontent.com/joaquinzepeda/Programacion-Avanzada/main/imgs/cropped-logo-fcfm-die-1.png\">\n",
        "\n",
        "# Curso EL4203 Programación avanzada **Módulo 1**\n",
        "### Por *Joaquin Zepeda Valero*\n",
        "\n",
        "Los objetivos de este módulo son:\n",
        "\n",
        "1. Identificar distintos tipos de datos, funciones y expresiones, a\n",
        "partir de ejemplos.\n",
        "2. Utilizar conceptos de programación orientada a\n",
        "objetos (clases, estado) en el diseño de algoritmos.\n",
        "3. Diseñar algoritmos para resolver problemas de\n",
        "diversa naturaleza.\n",
        "4. Implementar algoritmos, usando programación orientada a\n",
        "objetos, programación iterativa y recursividad.\n",
        "\n",
        "[Referencias](https://colab.research.google.com/drive/1ej3ZGUCJu1pRP7xF0RqS4MbAOYCxvk_6?usp=sharing)"
      ],
      "metadata": {
        "id": "4ioMKdIf81xI"
      }
    },
    {
      "cell_type": "markdown",
      "source": [
        "\n",
        "\n",
        "## **Tipos de datos**\n",
        "Existen diferentes tipos de datos por defecto, tales como int, float y boolean. A continuación se introducen más tipos de datos. \n",
        "\n"
      ],
      "metadata": {
        "id": "vKT-gb8e929d"
      }
    },
    {
      "cell_type": "markdown",
      "source": [
        "### Strings\n",
        "Corresponden a secuencias de caracteres, estos están rodeados por comillas simples (s1) o dobles comillas (s2), son un tipo de datos inmutables y su tipo se denomina *str*. Veamos algunos ejemplos de las muchas operaciones que ya vienen definidas para ellos:\n"
      ],
      "metadata": {
        "id": "ppnQ-m1ULrh4"
      }
    },
    {
      "cell_type": "code",
      "execution_count": null,
      "metadata": {
        "id": "CIFvgvyy9uje",
        "colab": {
          "base_uri": "https://localhost:8080/"
        },
        "outputId": "4c42fffd-003f-4776-aab5-4176464f90f2"
      },
      "outputs": [
        {
          "output_type": "stream",
          "name": "stdout",
          "text": [
            "<class 'str'>\n",
            "4\n",
            "hola MUNDO\n",
            "HOLA\n",
            "mundo\n"
          ]
        }
      ],
      "source": [
        "s1 = 'hola'\n",
        "print(type(s1))\n",
        "print(len(s1)) # largo de un string\n",
        "s2 = \"MUNDO\"\n",
        "print(s1+' '+s2) # concatenar strings\n",
        "print(s1.upper())\n",
        "print(s2.lower())"
      ]
    },
    {
      "cell_type": "markdown",
      "source": [
        "Segmentar Strings\n",
        "\n",
        "Podemos segmentar los strings con el fin de obtener partes de ellos. Se indexan partiendo desde el cero, contanto de izquierda a derecha."
      ],
      "metadata": {
        "id": "19R8_IXLaNqx"
      }
    },
    {
      "cell_type": "code",
      "source": [
        "print(s1[1:])\n",
        "print(s2[:-1])\n",
        "print(s2[1:4])\n",
        "print(s1[0]) # primera letra"
      ],
      "metadata": {
        "colab": {
          "base_uri": "https://localhost:8080/"
        },
        "id": "OtwYRjyYaH7L",
        "outputId": "e19b6406-1397-4840-fdb2-d9ceecf88454"
      },
      "execution_count": null,
      "outputs": [
        {
          "output_type": "stream",
          "name": "stdout",
          "text": [
            "ola\n",
            "MUND\n",
            "UND\n",
            "h\n"
          ]
        }
      ]
    },
    {
      "cell_type": "markdown",
      "source": [
        "Separar por carácteres:"
      ],
      "metadata": {
        "id": "IahmSYEaWokx"
      }
    },
    {
      "cell_type": "code",
      "source": [
        "#Separar strings por un caracter\n",
        "s4 = '10/08/1999'\n",
        "s4.split('/')"
      ],
      "metadata": {
        "colab": {
          "base_uri": "https://localhost:8080/"
        },
        "id": "MCP-5olxWlnS",
        "outputId": "c349929c-9d1d-4ecc-dbfa-e0b74a39e29c"
      },
      "execution_count": null,
      "outputs": [
        {
          "output_type": "execute_result",
          "data": {
            "text/plain": [
              "['10', '08', '1999']"
            ]
          },
          "metadata": {},
          "execution_count": 4
        }
      ]
    },
    {
      "cell_type": "markdown",
      "source": [
        "Recorrer strings"
      ],
      "metadata": {
        "id": "nRTftxEp0Qiv"
      }
    },
    {
      "cell_type": "code",
      "source": [
        "for letra in s1:\n",
        "    print(letra)"
      ],
      "metadata": {
        "colab": {
          "base_uri": "https://localhost:8080/"
        },
        "id": "a37oDWYCXMJw",
        "outputId": "f13d1b77-c7ac-4cd8-dfa1-98ec0e13653d"
      },
      "execution_count": null,
      "outputs": [
        {
          "output_type": "stream",
          "name": "stdout",
          "text": [
            "h\n",
            "o\n",
            "l\n",
            "a\n"
          ]
        }
      ]
    },
    {
      "cell_type": "markdown",
      "source": [
        "### Lists\n",
        "Una lista es una secuencia de elementos, la forma de definirlas es con un par de corchetes y los datos dentro de la lista se separan por una coma. Puede contener cualquier tipo de datos por lo que son bastante útiles y versatiles. Son un tipo de datos **mutables** y su tipo se denomina *list*, veamos algunos ejemplos de algunas de las muchas operaciones que ya vienen definidas para ellos:"
      ],
      "metadata": {
        "id": "D7hZfoS4LubZ"
      }
    },
    {
      "cell_type": "code",
      "source": [
        "l1 = [1, 2, 3, 4, 5]\n",
        "print(type(l1))\n",
        "print(len(l1)) # largo de una lista\n",
        "l2 = ['manzana', 'pera', 'naranja']\n",
        "print(l1+l2) # concatenar listas"
      ],
      "metadata": {
        "id": "lUVFUFyr9wOZ",
        "colab": {
          "base_uri": "https://localhost:8080/"
        },
        "outputId": "0430856d-18cb-4cab-9277-bd7b08443d70"
      },
      "execution_count": null,
      "outputs": [
        {
          "output_type": "stream",
          "name": "stdout",
          "text": [
            "<class 'list'>\n",
            "5\n",
            "[1, 2, 3, 4, 5, 'manzana', 'pera', 'naranja']\n"
          ]
        }
      ]
    },
    {
      "cell_type": "code",
      "source": [
        "l1.append(6)\n",
        "print(l1)\n",
        "ultimo_elem = l1.pop()\n",
        "print(l1)\n",
        "print(ultimo_elem)"
      ],
      "metadata": {
        "colab": {
          "base_uri": "https://localhost:8080/"
        },
        "id": "XcAZtjPs38w-",
        "outputId": "9ec1461f-6dbd-42a6-9332-4bf28cc5cc14"
      },
      "execution_count": null,
      "outputs": [
        {
          "output_type": "stream",
          "name": "stdout",
          "text": [
            "[1, 2, 3, 4, 5, 6]\n",
            "[1, 2, 3, 4, 5]\n",
            "6\n"
          ]
        }
      ]
    },
    {
      "cell_type": "markdown",
      "source": [
        "Acceder a elementos de una lista"
      ],
      "metadata": {
        "id": "sqir7X6CxiO3"
      }
    },
    {
      "cell_type": "code",
      "source": [
        "print('Primer elemento: ',l1[0])\n",
        "print('Penultimo elemento: ',l1[-2])\n",
        "print('Ultimo elemento: ',l1[-1]) # o tambien se puede usar l1[len(l1)-1]"
      ],
      "metadata": {
        "colab": {
          "base_uri": "https://localhost:8080/"
        },
        "id": "WDbhiwk7v0bF",
        "outputId": "276b1063-b272-4ccd-cc2a-15703a76e00e"
      },
      "execution_count": null,
      "outputs": [
        {
          "output_type": "stream",
          "name": "stdout",
          "text": [
            "Primer elemento:  1\n",
            "Penultimo elemento:  4\n",
            "Ultimo elemento:  5\n"
          ]
        }
      ]
    },
    {
      "cell_type": "markdown",
      "source": [
        "Definir una lista en base a iterar una formula"
      ],
      "metadata": {
        "id": "r9eFuttcz1Ud"
      }
    },
    {
      "cell_type": "code",
      "source": [
        "l3 = [i**3 for i in range(1,8)]\n",
        "print(l3)"
      ],
      "metadata": {
        "colab": {
          "base_uri": "https://localhost:8080/"
        },
        "id": "HCfOVCQ0z01F",
        "outputId": "91a427a8-26f0-44d3-88e2-acac88d435cc"
      },
      "execution_count": null,
      "outputs": [
        {
          "output_type": "stream",
          "name": "stdout",
          "text": [
            "[1, 8, 27, 64, 125, 216, 343]\n"
          ]
        }
      ]
    },
    {
      "cell_type": "markdown",
      "source": [
        "Recorrer listas"
      ],
      "metadata": {
        "id": "5umSqXvb2ORc"
      }
    },
    {
      "cell_type": "code",
      "source": [
        "# a través de subíndices\n",
        "for i in range(len(l3)):\n",
        "    print(l3[i])"
      ],
      "metadata": {
        "colab": {
          "base_uri": "https://localhost:8080/"
        },
        "id": "YJkxbq7l2N40",
        "outputId": "18867535-4405-4652-9a0c-0c8045a4f902"
      },
      "execution_count": null,
      "outputs": [
        {
          "output_type": "stream",
          "name": "stdout",
          "text": [
            "1\n",
            "8\n",
            "27\n",
            "64\n",
            "125\n",
            "216\n",
            "343\n"
          ]
        }
      ]
    },
    {
      "cell_type": "code",
      "source": [
        "# iterando elementos\n",
        "for elem in l3:\n",
        "    print(elem)"
      ],
      "metadata": {
        "colab": {
          "base_uri": "https://localhost:8080/"
        },
        "id": "Od9A8aPV2eE_",
        "outputId": "15f20c57-b8db-4ccb-8bda-880e996c19bd"
      },
      "execution_count": null,
      "outputs": [
        {
          "output_type": "stream",
          "name": "stdout",
          "text": [
            "1\n",
            "8\n",
            "27\n",
            "64\n",
            "125\n",
            "216\n",
            "343\n"
          ]
        }
      ]
    },
    {
      "cell_type": "markdown",
      "source": [
        "### Tuplas\n",
        "Una tupla es una secuencia de elementos, la forma de definirlas es con un par de paréntesis y los datos dentro de una tupla se separan por una coma.\n",
        "A diferencia de las listas, las tuplas son un tipo de datos **inmutable**, por lo que son más restringidas que las listas y por lo mismo su uso es generalmente diferente. Son bastante utiles para guardar elementos y luego acceder a estos."
      ],
      "metadata": {
        "id": "wb9c4B_xLud9"
      }
    },
    {
      "cell_type": "code",
      "source": [
        "t1 = (1, 2, 3, 'papaya',3)\n",
        "print(type(t1))\n",
        "print(len(t1))\n",
        "print(t1[1:3])\n",
        "print(t1.count(3))"
      ],
      "metadata": {
        "id": "cXbGcHFR9wQw",
        "colab": {
          "base_uri": "https://localhost:8080/"
        },
        "outputId": "36f44a15-937d-4ee4-b656-e568151433ff"
      },
      "execution_count": null,
      "outputs": [
        {
          "output_type": "stream",
          "name": "stdout",
          "text": [
            "<class 'tuple'>\n",
            "5\n",
            "(2, 3)\n",
            "2\n"
          ]
        }
      ]
    },
    {
      "cell_type": "markdown",
      "source": [
        "Un uso común es generar una lista de tuplas, pares ordenados (a,b)"
      ],
      "metadata": {
        "id": "Dsr_5QEo48aK"
      }
    },
    {
      "cell_type": "code",
      "source": [
        "[('papaya', 1), ('banana', 3) , ('mango', 0)]"
      ],
      "metadata": {
        "colab": {
          "base_uri": "https://localhost:8080/"
        },
        "id": "i7V_9dW247vY",
        "outputId": "cd1a256f-fbc0-42a2-8d6e-5ac49b095240"
      },
      "execution_count": null,
      "outputs": [
        {
          "output_type": "execute_result",
          "data": {
            "text/plain": [
              "[('papaya', 1), ('banana', 3), ('mango', 0)]"
            ]
          },
          "metadata": {},
          "execution_count": 13
        }
      ]
    },
    {
      "cell_type": "markdown",
      "source": [
        "### Sets"
      ],
      "metadata": {
        "id": "PjkN7AwALugZ"
      }
    },
    {
      "cell_type": "markdown",
      "source": [
        "Sets es un tipo de datos que representa conjuntos, permite almacenar una colección desordenada de elementos sin duplicados.\n",
        "Es compatible con las operaciones de conjuntos como unión, intersección, diferencia y diferencia simétrica. La forma de definirlas es con un par de llaves {} y los datos dentro de una tupla se separan por comas.\n"
      ],
      "metadata": {
        "id": "moGwLbBCyu7G"
      }
    },
    {
      "cell_type": "code",
      "source": [
        "set1 = {1, 2, 3, 3, 3, 4 ,5 ,5 ,6}\n",
        "print(set1)\n",
        "print(type(set1))\n",
        "print(len(set1))"
      ],
      "metadata": {
        "id": "CckP-UP39wS5",
        "colab": {
          "base_uri": "https://localhost:8080/"
        },
        "outputId": "6d7b359e-3f77-4086-978a-2db5b85019ea"
      },
      "execution_count": null,
      "outputs": [
        {
          "output_type": "stream",
          "name": "stdout",
          "text": [
            "{1, 2, 3, 4, 5, 6}\n",
            "<class 'set'>\n",
            "6\n"
          ]
        }
      ]
    },
    {
      "cell_type": "markdown",
      "source": [
        "Notese que no hay elementos repetidos en set1 a pesar de que al definirlo habia más de un elemento con el mismo valor.\n",
        "\n",
        "Otra forma de definir los set es con la función set()."
      ],
      "metadata": {
        "id": "hSEV4EOdz-qw"
      }
    },
    {
      "cell_type": "code",
      "source": [
        "set('papaya')"
      ],
      "metadata": {
        "colab": {
          "base_uri": "https://localhost:8080/"
        },
        "id": "MFvNhgnA0KtO",
        "outputId": "facc414d-ba91-4c51-d8c0-c179cd612607"
      },
      "execution_count": null,
      "outputs": [
        {
          "output_type": "execute_result",
          "data": {
            "text/plain": [
              "{'a', 'p', 'y'}"
            ]
          },
          "metadata": {},
          "execution_count": 15
        }
      ]
    },
    {
      "cell_type": "markdown",
      "source": [
        "Veamos ejemplos de operaciones entre conjuntos."
      ],
      "metadata": {
        "id": "kFxwevqq0Zcb"
      }
    },
    {
      "cell_type": "code",
      "source": [
        "set2 = {2, 3, 7}\n",
        "print('Unión: ',set1.union(set2))\n",
        "print('Intersección: ',set1.intersection(set2))"
      ],
      "metadata": {
        "colab": {
          "base_uri": "https://localhost:8080/"
        },
        "id": "WbuLGz2s0Zsx",
        "outputId": "5a3be525-9bf4-4fcb-96cf-d713a9fb3c62"
      },
      "execution_count": null,
      "outputs": [
        {
          "output_type": "stream",
          "name": "stdout",
          "text": [
            "Unión:  {1, 2, 3, 4, 5, 6, 7}\n",
            "Intersección:  {2, 3}\n"
          ]
        }
      ]
    },
    {
      "cell_type": "markdown",
      "source": [
        "Subconjuntos\n",
        "\n",
        "{2, 3, 7} ⊂ {1, 2, 3, 4, 5, 6, 7} es Verdadero "
      ],
      "metadata": {
        "id": "QbzuQ_6M04Xu"
      }
    },
    {
      "cell_type": "code",
      "source": [
        "set2.issubset({1, 2, 3, 4, 5, 6, 7})"
      ],
      "metadata": {
        "colab": {
          "base_uri": "https://localhost:8080/"
        },
        "id": "jj8CpOQL0yQi",
        "outputId": "76d0ed81-7d38-41cc-c533-4e588d60be0d"
      },
      "execution_count": null,
      "outputs": [
        {
          "output_type": "execute_result",
          "data": {
            "text/plain": [
              "True"
            ]
          },
          "metadata": {},
          "execution_count": 17
        }
      ]
    },
    {
      "cell_type": "markdown",
      "source": [
        "### Diccionarios\n",
        "Son un tipo de datos que se idexan mediante llaves las cuales identifican un valor, de esta manera los diccionarios son pares llave-valor. Se definen con llaves y los elementos son de la forma llave:valor separandose por comas entre elementos.\n",
        "\n",
        "Son un tipo de datos **mutables**.\n",
        "Veamos ejemplos para entenderlo mejor:"
      ],
      "metadata": {
        "id": "hDboiXd8L3OI"
      }
    },
    {
      "cell_type": "code",
      "source": [
        "dict1 = {'Nombre':'Juanito', 'Edad':21, 'Fecha de nacimiento': '10/09/2000', 'Pais': 'Chile'}\n",
        "print(type(dict1))\n",
        "print(len(dict1))\n",
        "print(dict1.keys())\n",
        "print(dict1.values())"
      ],
      "metadata": {
        "id": "_hT7CAed9wVg",
        "colab": {
          "base_uri": "https://localhost:8080/"
        },
        "outputId": "0c13d242-daff-40ee-a2af-64d65cd96166"
      },
      "execution_count": null,
      "outputs": [
        {
          "output_type": "stream",
          "name": "stdout",
          "text": [
            "<class 'dict'>\n",
            "4\n",
            "dict_keys(['Nombre', 'Edad', 'Fecha de nacimiento', 'Pais'])\n",
            "dict_values(['Juanito', 21, '10/09/2000', 'Chile'])\n"
          ]
        }
      ]
    },
    {
      "cell_type": "markdown",
      "source": [
        "Recorrer las llaves de un diccionario."
      ],
      "metadata": {
        "id": "swyafkOA9bzr"
      }
    },
    {
      "cell_type": "code",
      "source": [
        "for llave in dict1.keys():\n",
        "    print(llave)"
      ],
      "metadata": {
        "colab": {
          "base_uri": "https://localhost:8080/"
        },
        "id": "pEXBq1DD7g9m",
        "outputId": "45747d56-0c79-4b4c-e608-93470c91f5f9"
      },
      "execution_count": null,
      "outputs": [
        {
          "output_type": "stream",
          "name": "stdout",
          "text": [
            "Nombre\n",
            "Edad\n",
            "Fecha de nacimiento\n",
            "Pais\n"
          ]
        }
      ]
    },
    {
      "cell_type": "markdown",
      "source": [
        "Recorrer los valores de un diccionario."
      ],
      "metadata": {
        "id": "yqxnX1Qh9esG"
      }
    },
    {
      "cell_type": "code",
      "source": [
        "for valor in dict1.values():\n",
        "    print(valor)"
      ],
      "metadata": {
        "colab": {
          "base_uri": "https://localhost:8080/"
        },
        "id": "fiqQk-nG7mJN",
        "outputId": "aa7e78a4-4cbf-4ac2-f5be-aa0c5ccccf79"
      },
      "execution_count": null,
      "outputs": [
        {
          "output_type": "stream",
          "name": "stdout",
          "text": [
            "Juanito\n",
            "21\n",
            "10/09/2000\n",
            "Chile\n"
          ]
        }
      ]
    },
    {
      "cell_type": "markdown",
      "source": [
        "¿Que hacemos si queremos saber la fecha de nacimiento de juanito? Accedemos mediante la llave a su valor:"
      ],
      "metadata": {
        "id": "noq8-tPE8A5f"
      }
    },
    {
      "cell_type": "code",
      "source": [
        "dict1['Fecha de nacimiento']"
      ],
      "metadata": {
        "colab": {
          "base_uri": "https://localhost:8080/"
        },
        "id": "m-t0oOku7q1B",
        "outputId": "366a60b7-a078-4a95-c68c-13c777643617"
      },
      "execution_count": null,
      "outputs": [
        {
          "output_type": "execute_result",
          "data": {
            "text/plain": [
              "'10/09/2000'"
            ],
            "application/vnd.google.colaboratory.intrinsic+json": {
              "type": "string"
            }
          },
          "metadata": {},
          "execution_count": 22
        }
      ]
    },
    {
      "cell_type": "markdown",
      "source": [
        "Uno de los usos de diccionarios es guardar información para que sea fácil de acceder, por ejemplo guardar nombres de usuario y contraseñas, veamos ejemplos de diccionarios más complejos"
      ],
      "metadata": {
        "id": "QtSezp_28KKE"
      }
    },
    {
      "cell_type": "code",
      "source": [
        "usuarios = {\n",
        " 'Juanito':{'Edad':21, 'Pais': 'Chile', 'cursos':['EL3001','EL3002'], 'tieneHijos':False}  ,\n",
        " 'Pepito': {'Edad':22, 'Pais': 'Chile', 'cursos':['EL4001','EL4002'], 'tieneHijos':True}\n",
        "}\n",
        "print(usuarios['Juanito'])\n",
        "print(usuarios['Pepito']['cursos'])"
      ],
      "metadata": {
        "colab": {
          "base_uri": "https://localhost:8080/"
        },
        "id": "iIeBwEl68dW2",
        "outputId": "2bac93ae-f9f7-4ec4-dda5-323b28ca97aa"
      },
      "execution_count": null,
      "outputs": [
        {
          "output_type": "stream",
          "name": "stdout",
          "text": [
            "{'Edad': 21, 'Pais': 'Chile', 'cursos': ['EL3001', 'EL3002'], 'tieneHijos': False}\n",
            "['EL4001', 'EL4002']\n"
          ]
        }
      ]
    },
    {
      "cell_type": "markdown",
      "source": [
        "Si llega un nuevo usuario, podemos agregarlo definiendolo como se accede a el, esto es \n",
        "\n",
        "nombre_diccionario[nueva_llave] = nuevo_valor"
      ],
      "metadata": {
        "id": "lGoXW3939nyL"
      }
    },
    {
      "cell_type": "code",
      "source": [
        "usuarios['Maria'] = {'Edad':23, 'Pais': 'Chile', 'cursos':['EL4013'], 'tieneHijos':False}\n",
        "print(usuarios)"
      ],
      "metadata": {
        "colab": {
          "base_uri": "https://localhost:8080/"
        },
        "id": "5gvkQ90u9tpt",
        "outputId": "becae854-488a-4850-b840-72d4c2737ff2"
      },
      "execution_count": null,
      "outputs": [
        {
          "output_type": "stream",
          "name": "stdout",
          "text": [
            "{'Juanito': {'Edad': 21, 'Pais': 'Chile', 'cursos': ['EL3001', 'EL3002'], 'tieneHijos': False}, 'Pepito': {'Edad': 22, 'Pais': 'Chile', 'cursos': ['EL4001', 'EL4002'], 'tieneHijos': True}, 'Maria': {'Edad': 23, 'Pais': 'Chile', 'cursos': ['EL4013'], 'tieneHijos': False}}\n"
          ]
        }
      ]
    },
    {
      "cell_type": "markdown",
      "source": [
        "Además de esto, se puede convertir un diccionario en una lista de llaves. Se puede consultar si una llave pertenece a un diccionario o no. "
      ],
      "metadata": {
        "id": "WjTcl8mv-kk_"
      }
    },
    {
      "cell_type": "code",
      "source": [
        "print(list(usuarios))\n",
        "print('Juanito' in usuarios)\n",
        "print('Joaquin' in usuarios)\n",
        "print('Joaquin' not in usuarios)"
      ],
      "metadata": {
        "colab": {
          "base_uri": "https://localhost:8080/"
        },
        "id": "GQrc1BJb-TpY",
        "outputId": "a80f8207-b17e-4a05-bc57-d79d92196dda"
      },
      "execution_count": null,
      "outputs": [
        {
          "output_type": "stream",
          "name": "stdout",
          "text": [
            "['Juanito', 'Pepito', 'Maria']\n",
            "True\n",
            "False\n",
            "True\n"
          ]
        }
      ]
    },
    {
      "cell_type": "markdown",
      "source": [
        "### Arreglos de numpy\n",
        "\n",
        "NumPy es una librería de Python utilizada para realizar cálculos numéricos con grandes conjuntos de datos, vectores y/o matrices n-dimensionales. Es una de las librerías fundamentales para cálculos numéricos gracias a sus ventajas en velocidad con respecto a las listas de Python y sus funciones predefinidas. \n",
        "\n",
        "Está codificada en Python y en C (el cual es un lenguaje de bajo nivel el cual es más rápido que Python). \n",
        "A pesar de esto, los arreglos de numpy solo aceptan datos numéricos lo cual es menos versátil en comparación a lo que ofrecen las listas, pero esto es una de las razones por las cuales son más rápidos en sus cálculos.\n",
        "\n",
        "Para utilizarlo primero hay que importar la librería (en caso de que haya algún error al importar primero hay que instalarla), luego para generar un arreglo/vector podemos utilizar la función np.array() para convertir una lista en un arreglo."
      ],
      "metadata": {
        "id": "zbFUj0G3L68d"
      }
    },
    {
      "cell_type": "code",
      "source": [
        "import numpy as np"
      ],
      "metadata": {
        "id": "jfT08LfnC5zp"
      },
      "execution_count": null,
      "outputs": []
    },
    {
      "cell_type": "markdown",
      "source": [
        "Veamos como se definen los arreglos y vectores y algunas operaciones básicas."
      ],
      "metadata": {
        "id": "4OINQT5JR01S"
      }
    },
    {
      "cell_type": "markdown",
      "source": [
        "Vectores:\n",
        "\n",
        "$x = \\begin{pmatrix}1 & 2 & 3\\end{pmatrix}$"
      ],
      "metadata": {
        "id": "Tfh6Bj2ZCeF9"
      }
    },
    {
      "cell_type": "code",
      "source": [
        "x = np.array([1, 2, 3])\n",
        "print(type(x))\n",
        "print(x.shape)\n",
        "print(x)"
      ],
      "metadata": {
        "id": "gzvW2wc59wYB",
        "colab": {
          "base_uri": "https://localhost:8080/"
        },
        "outputId": "77a046b6-0ad3-479f-e32f-b0fb2e173714"
      },
      "execution_count": null,
      "outputs": [
        {
          "output_type": "stream",
          "name": "stdout",
          "text": [
            "<class 'numpy.ndarray'>\n",
            "(3,)\n",
            "[1 2 3]\n"
          ]
        }
      ]
    },
    {
      "cell_type": "markdown",
      "source": [
        "Recorrer arreglos de una dimensión es similar a como se recorren las listas, a través de índices"
      ],
      "metadata": {
        "id": "Np6sRFFdPtw1"
      }
    },
    {
      "cell_type": "code",
      "source": [
        "print(x[1])  # segundo elemento\n",
        "print(x[:2]) # desde el comienzo hasta el el segundo elemento\n",
        "print(x[-1]) # el último elemento"
      ],
      "metadata": {
        "colab": {
          "base_uri": "https://localhost:8080/"
        },
        "id": "91FTu89VPtWR",
        "outputId": "c37aea46-d33a-4751-ebc4-5159b54c2328"
      },
      "execution_count": null,
      "outputs": [
        {
          "output_type": "stream",
          "name": "stdout",
          "text": [
            "2\n",
            "[1 2]\n",
            "3\n"
          ]
        }
      ]
    },
    {
      "cell_type": "markdown",
      "source": [
        "Matrices:\n",
        "\n",
        "$a = \\begin{pmatrix}10 & -1\\\\ 5 &3\\end{pmatrix}$ "
      ],
      "metadata": {
        "id": "OP5e6GfzC3i9"
      }
    },
    {
      "cell_type": "code",
      "source": [
        "a = np.array([[10, -1],[5, 3]])\n",
        "print(type(a))\n",
        "print(a.shape)\n",
        "print(a)"
      ],
      "metadata": {
        "id": "a72yghqyORDg",
        "colab": {
          "base_uri": "https://localhost:8080/"
        },
        "outputId": "0aa841ee-62e0-4913-9d61-4a90d9a4f751"
      },
      "execution_count": null,
      "outputs": [
        {
          "output_type": "stream",
          "name": "stdout",
          "text": [
            "<class 'numpy.ndarray'>\n",
            "(2, 2)\n",
            "[[10 -1]\n",
            " [ 5  3]]\n"
          ]
        }
      ]
    },
    {
      "cell_type": "markdown",
      "source": [
        "Para acceder a las matrices hay que indicar 2 indices, el primero indica la fila ( i ) y el segundo la columna ( j ), es decir $a[i,j]$."
      ],
      "metadata": {
        "id": "AcOGVH3MQejv"
      }
    },
    {
      "cell_type": "code",
      "source": [
        "print(a[:,0]) #todas las filas y la primera columna\n",
        "print(a[1,:]) #la segunda fila y todas las columnas\n",
        "print(a[0,0]) #elemento en la posición 0,0"
      ],
      "metadata": {
        "colab": {
          "base_uri": "https://localhost:8080/"
        },
        "id": "2UahHpnnQewa",
        "outputId": "20e1606c-7b88-4fdc-fafe-2dae8f1494de"
      },
      "execution_count": null,
      "outputs": [
        {
          "output_type": "stream",
          "name": "stdout",
          "text": [
            "[10  5]\n",
            "[5 3]\n",
            "10\n"
          ]
        }
      ]
    },
    {
      "cell_type": "code",
      "source": [
        "b= np.arange(1, 10)\n",
        "print(b[b<5])\n",
        "c = np.zeros((2,2))\n",
        "print('c =',c)\n",
        "c[0, 1] = 10\n",
        "c[1, 0] = 2\n",
        "print('c^2 =',c**2)\n",
        "print(np.ones((2,2)))\n"
      ],
      "metadata": {
        "colab": {
          "base_uri": "https://localhost:8080/"
        },
        "id": "IskOl542SJQj",
        "outputId": "8a24a830-cd23-4b96-e973-cfa7e6b1f882"
      },
      "execution_count": null,
      "outputs": [
        {
          "output_type": "stream",
          "name": "stdout",
          "text": [
            "[1 2 3 4]\n",
            "c = [[0. 0.]\n",
            " [0. 0.]]\n",
            "c^2 = [[  0. 100.]\n",
            " [  4.   0.]]\n",
            "[[1. 1.]\n",
            " [1. 1.]]\n"
          ]
        }
      ]
    },
    {
      "cell_type": "code",
      "source": [
        "r = np.random.random(5)\n",
        "print(r)"
      ],
      "metadata": {
        "colab": {
          "base_uri": "https://localhost:8080/"
        },
        "id": "iY06hbCZjytv",
        "outputId": "9979e8f2-9a00-4abd-983d-35f9f0ea448a"
      },
      "execution_count": null,
      "outputs": [
        {
          "output_type": "stream",
          "name": "stdout",
          "text": [
            "[0.83637288 0.82541306 0.35068749 0.10749998 0.39126011]\n"
          ]
        }
      ]
    },
    {
      "cell_type": "markdown",
      "source": [
        "### Arreglos de arreglos\n",
        "\n",
        "Es posible definir arreglos multidimensionales utilizando arreglos dentro de arreglos, los cuales son bastante útiles. Estos de definen de la siguiente manera:\n",
        "\n",
        "\n",
        "\n",
        "```python\n",
        "#multidimensional list example\n",
        "md = [[1,2,3,4],[5,6,7,8],...,[100,101,102,103]]\n",
        "#tambien se puede ordenar para verlo de forma visual\n",
        "md = [\n",
        "    [1,2,3,4],\n",
        "    [5,6,7,8],\n",
        "    ...,\n",
        "    [100,101,102,103]\n",
        "]\n",
        "\n",
        "```\n",
        "De esta manera se pueden formar vectores de muchas dimensiones.\n",
        "\n"
      ],
      "metadata": {
        "id": "TlFWBgkFg8jG"
      }
    },
    {
      "cell_type": "markdown",
      "source": [
        "Ejemplo de un arreglo multidimensional vacio con las siguientes dimensiones"
      ],
      "metadata": {
        "id": "EXAONvfezscF"
      }
    },
    {
      "cell_type": "code",
      "source": [
        "w = 4 #width\n",
        "h = 3 #height\n",
        "d = 3 #depth\n",
        "\n",
        "# Forma 1 (extendida):\n",
        "#el underscore reemplaza una variable que no se utiliza\n",
        "data1 = []\n",
        "data2 = []\n",
        "for _ in range(w):\n",
        "    data1.append([0]*h)\n",
        "for _ in range(d):\n",
        "    data2.append(data1)  \n",
        "data2"
      ],
      "metadata": {
        "colab": {
          "base_uri": "https://localhost:8080/"
        },
        "id": "jYFIpgeRzstR",
        "outputId": "0ff68f64-9ec8-455e-d631-855e2793ac71"
      },
      "execution_count": null,
      "outputs": [
        {
          "output_type": "execute_result",
          "data": {
            "text/plain": [
              "[[[0, 0, 0], [0, 0, 0], [0, 0, 0], [0, 0, 0]],\n",
              " [[0, 0, 0], [0, 0, 0], [0, 0, 0], [0, 0, 0]],\n",
              " [[0, 0, 0], [0, 0, 0], [0, 0, 0], [0, 0, 0]]]"
            ]
          },
          "metadata": {},
          "execution_count": 16
        }
      ]
    },
    {
      "cell_type": "code",
      "source": [
        "# Forma 2:\n",
        "#el underscore reemplaza una variable que no se utiliza\n",
        "data = [[[0]*h for _ in range(w)] for _ in range(d)]\n",
        "data"
      ],
      "metadata": {
        "colab": {
          "base_uri": "https://localhost:8080/"
        },
        "id": "PAypuZ7l2lGw",
        "outputId": "59d60e80-dfc2-451c-ed91-d03727dfd7ff"
      },
      "execution_count": null,
      "outputs": [
        {
          "output_type": "execute_result",
          "data": {
            "text/plain": [
              "[[[0, 0, 0], [0, 0, 0], [0, 0, 0], [0, 0, 0]],\n",
              " [[0, 0, 0], [0, 0, 0], [0, 0, 0], [0, 0, 0]],\n",
              " [[0, 0, 0], [0, 0, 0], [0, 0, 0], [0, 0, 0]]]"
            ]
          },
          "metadata": {},
          "execution_count": 17
        }
      ]
    },
    {
      "cell_type": "markdown",
      "source": [
        "## Nano Desafío 1: Mayúsculas a un string\n",
        "\n",
        "**Problema:**\n",
        "Complete la función mayúsculas, esta recibe un string y cambia las iniciales de las palabras por mayúsculas.\n",
        "\n",
        "\n",
        "**Ejemplos:**\n",
        "\n",
        "\"cristiano ronaldo\" → \"Cristiano Ronaldo\"\n",
        "\" cristiano ronaldo \" → \" Cristiano Ronaldo \"\n",
        "\n",
        "hint: Quizás sea útil utilizar expresiones condicionales. "
      ],
      "metadata": {
        "id": "DPNk4mqD6ijA"
      }
    },
    {
      "cell_type": "code",
      "source": [
        "# str s\n",
        "def mayusculas(s):\n",
        "    #Escribe tu código aquí\n",
        "    pass"
      ],
      "metadata": {
        "id": "MBV5O8CF6ix7"
      },
      "execution_count": null,
      "outputs": []
    },
    {
      "cell_type": "code",
      "source": [
        "# Test\n",
        "s1 = \"cristiano ronaldo\"\n",
        "s2 = \" cristiano ronaldo \"\n",
        "assert \"Cristiano Ronaldo\"==mayusculas(s1)\n",
        "assert \" Cristiano Ronaldo \"==mayusculas(s2)"
      ],
      "metadata": {
        "id": "_qOaWxpMunWb"
      },
      "execution_count": null,
      "outputs": []
    },
    {
      "cell_type": "markdown",
      "source": [
        "## Nano Desafío 2: Rotar lista hacia la izquierda\n",
        "\n",
        "**Problema:**\n",
        "\n",
        "Complete la función rotarIzq que se encuentra a continuación, esta función realiza $d$ movimientos hacia la izquierda cambiando el orden de los elementos de la lista. La función recibe como parámetros un entero y una lista de $n$ elementos, con $n<10^5$.\n",
        "\n",
        "**Ejemplo:**\n",
        "\n",
        "Sean $d=4, L= [1,2,3,4,5]$, para realizar las $4$ rotaciones hacia la izquierda la lista L pasa por la siguiente secuencia de cambios:\n",
        "\n",
        "$[1,2,3,4,5] → [2,3,4,5,1] →  [3,4,5,1,2] →  [4,5,1,2,3] →  [5,1,2,3,4]$"
      ],
      "metadata": {
        "id": "OpA_EkfWgsVu"
      }
    },
    {
      "cell_type": "code",
      "source": [
        "# int d \n",
        "# list L\n",
        "\n",
        "def rotarIzq(d, L):\n",
        "    #Escribe tu código aquí\n",
        "    pass\n"
      ],
      "metadata": {
        "colab": {
          "base_uri": "https://localhost:8080/",
          "height": 217
        },
        "id": "rts2CBxMgsq8",
        "outputId": "12b8e543-f24b-44a6-a57c-823bce676a7e"
      },
      "execution_count": null,
      "outputs": [
        {
          "output_type": "error",
          "ename": "AssertionError",
          "evalue": "ignored",
          "traceback": [
            "\u001b[0;31m---------------------------------------------------------------------------\u001b[0m",
            "\u001b[0;31mAssertionError\u001b[0m                            Traceback (most recent call last)",
            "\u001b[0;32m<ipython-input-19-705aca4e2b82>\u001b[0m in \u001b[0;36m<module>\u001b[0;34m()\u001b[0m\n\u001b[1;32m      8\u001b[0m \u001b[0;31m# Test\u001b[0m\u001b[0;34m\u001b[0m\u001b[0;34m\u001b[0m\u001b[0;34m\u001b[0m\u001b[0m\n\u001b[1;32m      9\u001b[0m \u001b[0mL\u001b[0m \u001b[0;34m=\u001b[0m \u001b[0;34m[\u001b[0m\u001b[0;36m1\u001b[0m\u001b[0;34m,\u001b[0m\u001b[0;36m2\u001b[0m\u001b[0;34m,\u001b[0m\u001b[0;36m3\u001b[0m\u001b[0;34m,\u001b[0m\u001b[0;36m4\u001b[0m\u001b[0;34m,\u001b[0m\u001b[0;36m5\u001b[0m\u001b[0;34m]\u001b[0m\u001b[0;34m\u001b[0m\u001b[0;34m\u001b[0m\u001b[0m\n\u001b[0;32m---> 10\u001b[0;31m \u001b[0;32massert\u001b[0m \u001b[0;34m[\u001b[0m\u001b[0;36m5\u001b[0m\u001b[0;34m,\u001b[0m\u001b[0;36m1\u001b[0m\u001b[0;34m,\u001b[0m\u001b[0;36m2\u001b[0m\u001b[0;34m,\u001b[0m\u001b[0;36m3\u001b[0m\u001b[0;34m,\u001b[0m\u001b[0;36m4\u001b[0m\u001b[0;34m]\u001b[0m\u001b[0;34m==\u001b[0m\u001b[0mrotarIzq\u001b[0m\u001b[0;34m(\u001b[0m\u001b[0;36m4\u001b[0m\u001b[0;34m,\u001b[0m \u001b[0mL\u001b[0m\u001b[0;34m)\u001b[0m\u001b[0;34m\u001b[0m\u001b[0;34m\u001b[0m\u001b[0m\n\u001b[0m\u001b[1;32m     11\u001b[0m \u001b[0;32massert\u001b[0m \u001b[0;34m[\u001b[0m\u001b[0;36m3\u001b[0m\u001b[0;34m,\u001b[0m\u001b[0;36m4\u001b[0m\u001b[0;34m,\u001b[0m\u001b[0;36m5\u001b[0m\u001b[0;34m,\u001b[0m\u001b[0;36m1\u001b[0m\u001b[0;34m,\u001b[0m\u001b[0;36m2\u001b[0m\u001b[0;34m]\u001b[0m\u001b[0;34m==\u001b[0m\u001b[0mrotarIzq\u001b[0m\u001b[0;34m(\u001b[0m\u001b[0;36m2\u001b[0m\u001b[0;34m,\u001b[0m \u001b[0mL\u001b[0m\u001b[0;34m)\u001b[0m\u001b[0;34m\u001b[0m\u001b[0;34m\u001b[0m\u001b[0m\n",
            "\u001b[0;31mAssertionError\u001b[0m: "
          ]
        }
      ]
    },
    {
      "cell_type": "code",
      "source": [
        "# Test\n",
        "L = [1,2,3,4,5]\n",
        "assert [5,1,2,3,4]==rotarIzq(4, L)\n",
        "assert [3,4,5,1,2]==rotarIzq(2, L)"
      ],
      "metadata": {
        "id": "cCYEI2YaukKo"
      },
      "execution_count": null,
      "outputs": []
    },
    {
      "cell_type": "markdown",
      "source": [
        "## **Funciones**\n",
        "Hay funciones pre-definidas y funciones que uno puede definir.\n",
        "Algunas de las funciones pre definidas comunes de utilizar son las del modulo math, las cuales contienen operaciones matematicas.\n"
      ],
      "metadata": {
        "id": "ehtrst8hMI5H"
      }
    },
    {
      "cell_type": "code",
      "source": [
        "#Funciones pre definidas\n",
        "import math\n",
        "x = math.sin(math.pi/6)\n",
        "x"
      ],
      "metadata": {
        "id": "Pm1gf8-o9wai",
        "colab": {
          "base_uri": "https://localhost:8080/"
        },
        "outputId": "d50f51ee-3a80-4a7b-81dd-c4e0554fb7f0"
      },
      "execution_count": null,
      "outputs": [
        {
          "output_type": "execute_result",
          "data": {
            "text/plain": [
              "0.49999999999999994"
            ]
          },
          "metadata": {},
          "execution_count": 35
        }
      ]
    },
    {
      "cell_type": "markdown",
      "source": [
        "Para definir funciones se utiliza la siguiente receta:\n",
        "\n",
        "\n",
        "```python\n",
        "def nombre_de_la_funcion(argumento1,argumento2, ...):\n",
        "    '''Descripcion de la funcion,lo que hace, los parametros que recibe,lo que retorna, etc\n",
        "    '''\n",
        "    #comentarios\n",
        "    lo que hace la funcion\n",
        "    return retorno_de_la_funcion (es opcional)\n",
        "```\n",
        "Si bien la descripción de la función no es obligatoria para que esta funcione, es bastante útil para las demás personas que lean el código. Por otro lado, más adelante en el curso se entregarán herramientas para cómo realizar una correcta documentación, aunque existen varias formas de documentar. Veamos un ejemplo\n"
      ],
      "metadata": {
        "id": "7Nkls4JSrKGT"
      }
    },
    {
      "cell_type": "code",
      "source": [
        "def hipotenusa(cateto1,cateto2):\n",
        "    \"\"\"\n",
        "    funcion que retorna la hipotenusa con 2 decimales dados 2 catetos\n",
        "\n",
        "    :param int cateto1: primer cateto\n",
        "    :param int cateto2: segundo cateto\n",
        "\n",
        "    return hipotenusa\n",
        "    autor: joaquin zepeda\n",
        "    fecha: 05/07/2022\n",
        "    \"\"\"\n",
        "    c = (cateto1**2+cateto2**2)**0.5\n",
        "    return round(c,2)"
      ],
      "metadata": {
        "id": "1bS64hpPnp-q"
      },
      "execution_count": null,
      "outputs": []
    },
    {
      "cell_type": "code",
      "source": [
        "print(hipotenusa(3,4))\n",
        "print(hipotenusa(7,18))"
      ],
      "metadata": {
        "colab": {
          "base_uri": "https://localhost:8080/"
        },
        "id": "iJFC-8_ktMN3",
        "outputId": "031a9896-9a80-4d27-d634-baac5e50ad3f"
      },
      "execution_count": null,
      "outputs": [
        {
          "output_type": "stream",
          "name": "stdout",
          "text": [
            "5.0\n",
            "19.31\n"
          ]
        }
      ]
    },
    {
      "cell_type": "markdown",
      "source": [
        "La función help nos ayuda a acceder a la información/descripción de la función"
      ],
      "metadata": {
        "id": "TJcRsdqLtfTT"
      }
    },
    {
      "cell_type": "code",
      "source": [
        "help(hipotenusa)"
      ],
      "metadata": {
        "colab": {
          "base_uri": "https://localhost:8080/"
        },
        "id": "daHQ3nC0tbRL",
        "outputId": "ed7a2d93-f86b-4bd2-bb8d-66d3104d064d"
      },
      "execution_count": null,
      "outputs": [
        {
          "output_type": "stream",
          "name": "stdout",
          "text": [
            "Help on function hipotenusa in module __main__:\n",
            "\n",
            "hipotenusa(cateto1, cateto2)\n",
            "    funcion que retorna la hipotenusa con 2 decimales dados 2 catetos\n",
            "    \n",
            "    :param int cateto1: primer cateto\n",
            "    :param int cateto2: segundo cateto\n",
            "    \n",
            "    return hipotenusa\n",
            "    autor: joaquin zepeda\n",
            "    fecha: 05/07/2022\n",
            "\n"
          ]
        }
      ]
    },
    {
      "cell_type": "markdown",
      "source": [
        "Tambien podemos agregar parametros por defecto"
      ],
      "metadata": {
        "id": "wp3GWmCqyntt"
      }
    },
    {
      "cell_type": "code",
      "source": [
        "def hipotenusa2(cateto1,cateto2=1):\n",
        "    \"\"\"\n",
        "    funcion que retorna la hipotenusa con 2 decimales dados 2 catetos, por \n",
        "    defecto el cateto2 tiene el valor de 1\n",
        "    \n",
        "    :param int cateto1: primer cateto\n",
        "    :param int cateto2: segundo cateto\n",
        "\n",
        "    return hipotenusa\n",
        "    autor: joaquin zepeda\n",
        "    fecha: 05/07/2022\n",
        "    \"\"\"\n",
        "    c = (cateto1**2+cateto2**2)**0.5\n",
        "    return round(c,2)"
      ],
      "metadata": {
        "id": "KZ6GsbnWyqs6"
      },
      "execution_count": null,
      "outputs": []
    },
    {
      "cell_type": "code",
      "source": [
        "print(hipotenusa2(1)) #el segundo cateto es 1 por defecto, pero se puede asginar\n",
        "print(hipotenusa2(1,2))"
      ],
      "metadata": {
        "colab": {
          "base_uri": "https://localhost:8080/"
        },
        "id": "5rX6-v3ay2dS",
        "outputId": "df1c70c0-0970-4ce5-e536-4d5aad4ffae9"
      },
      "execution_count": null,
      "outputs": [
        {
          "output_type": "stream",
          "name": "stdout",
          "text": [
            "1.41\n",
            "2.24\n"
          ]
        }
      ]
    },
    {
      "cell_type": "markdown",
      "source": [
        "Variables locales y globales\n",
        "Las funciones tienen variables locales, las cuales corresponden a sus argumentos, por ejemplo en la función hipotenusa, cateto1 y cateto2 corresponden a variables locales, pues estas en realidad no están definidas. Por lo que si tratamos de llamarlas, la consola entrega un error como se muestra a continuación.\n"
      ],
      "metadata": {
        "id": "nw7uGBII6K8h"
      }
    },
    {
      "cell_type": "markdown",
      "source": [
        "\n",
        "\n",
        "```python\n",
        "print(cateto1)\n",
        "---------------------------------------------------------------------------\n",
        "NameError                                 Traceback (most recent call last)\n",
        "<ipython-input-60-3cd74033c55c> in <module>()\n",
        "----> 1 cateto1\n",
        "\n",
        "NameError: name 'cateto1' is not defined\n",
        "```\n",
        "\n"
      ],
      "metadata": {
        "id": "O_7H6qlY7JCf"
      }
    },
    {
      "cell_type": "markdown",
      "source": [
        "Por otro lado, las variables globales son las que se definen fuera de una función y para que una función las pueda modificar hay que indicar de forma explícita que son variables globales utilizando \n",
        "\n",
        "```\n",
        "global nombre_variable\n",
        "```\n",
        "Veamos un ejemplo\n"
      ],
      "metadata": {
        "id": "1qp_HDZ67UO6"
      }
    },
    {
      "cell_type": "code",
      "source": [
        "n = 5\n",
        "def print_n():\n",
        "    global n\n",
        "    print('Valor de n es',n)\n",
        "    n = 4 #redefinimos n\n",
        "    print(f'Valor de n redefinido {n}')\n",
        "print_n()\n",
        "print('nuevo n:',n) #se modifica el valor dentro de la función"
      ],
      "metadata": {
        "colab": {
          "base_uri": "https://localhost:8080/"
        },
        "id": "-_nIq71Q7fip",
        "outputId": "79297510-7b5c-483c-dd09-dc83820d2d7b"
      },
      "execution_count": null,
      "outputs": [
        {
          "output_type": "stream",
          "name": "stdout",
          "text": [
            "Valor de n es 5\n",
            "Valor de n redefinido 4\n",
            "nuevo n: 4\n"
          ]
        }
      ]
    },
    {
      "cell_type": "markdown",
      "source": [
        "### Funciones Lambda\n",
        "\n",
        "Corresponden a otra forma de definir funciones, en la cual se usa una sola linea generalmente. Son útiles para simplificar el código cuando se tienen funciones simples. En estas funciones no se utiliza una descripción, si no que solamente se anotan los argumentos y la expresión que retornan. Se definen de la forma\n",
        "\n",
        "\n",
        "```\n",
        "lambda arguments: expression\n",
        "```\n",
        "\n",
        "A continuación se muestra un ejemplo:"
      ],
      "metadata": {
        "id": "tyDCnIoVYaBm"
      }
    },
    {
      "cell_type": "code",
      "source": [
        "suma5 = lambda x: x+5\n",
        "print(suma5(1))\n",
        "hipotenusa3 = lambda a,b: (a**2+b**2)**(0.5)\n",
        "print(hipotenusa3(3,4))"
      ],
      "metadata": {
        "colab": {
          "base_uri": "https://localhost:8080/"
        },
        "id": "IGSiTwgwYaLJ",
        "outputId": "ff11b34a-21e9-4d48-b5c9-a59cb43d321a"
      },
      "execution_count": null,
      "outputs": [
        {
          "output_type": "stream",
          "name": "stdout",
          "text": [
            "6\n",
            "5.0\n"
          ]
        }
      ]
    },
    {
      "cell_type": "markdown",
      "source": [
        "## **Iteración**\n",
        "\n",
        "Corresponde a realizar tareas repetitivas de forma simple. Para esto utilizamos loops o bucles los cuales se repiten un determinado número de veces.\n",
        "\n",
        "Ciclos **For** permiten realizar bucles de forma definida, su sintaxis es de la siguiente forma:\n",
        "\n",
        "\n",
        "```python\n",
        "for variable a iterar in secuencia o rango de iteración:\n",
        "    bloque de código (hace algo)\n",
        "```\n",
        "\n",
        "\n"
      ],
      "metadata": {
        "id": "Ro6YnMrleayz"
      }
    },
    {
      "cell_type": "markdown",
      "source": [
        "### Ejemplo1 Sumatoria de un número al cuadrado:\n",
        "<div align=\"center\">\n",
        "$\\sum_{i=1}^{10}i^2 $\n",
        "</div>\n",
        "Si recordamos los primeros cursos de cálculo, es posible darse cuenta que este problema corresponde a una sumatoria conocida, la cual tiene el siguiente valor:\n",
        "<div align=\"center\">\n",
        "$\\sum_{i=1}^{n}i^2 = \\frac{n(n+1)(2n+1)}{6} $\n",
        "</div>\n",
        "Reemplazando $n=10$, el resultado de la sumatoria corresponde a $\\frac{10(11)(21)}{6} = 385$. Pero este es un problema muy tedioso en caso de no recordar esa fórmula mágica, ¿Como se resuelve este problema utilizando un ciclo For?"
      ],
      "metadata": {
        "id": "isM6oAz8hxaw"
      }
    },
    {
      "cell_type": "code",
      "source": [
        "sum = 0 #variable que guarda el valor de la suma\n",
        "for i in range(1,11):\n",
        "    sum+=i**2\n",
        "print(sum)"
      ],
      "metadata": {
        "id": "OicJ1bJnfW5F",
        "colab": {
          "base_uri": "https://localhost:8080/"
        },
        "outputId": "94552774-3196-42f1-9a8f-eacff20d1f78"
      },
      "execution_count": null,
      "outputs": [
        {
          "output_type": "stream",
          "name": "stdout",
          "text": [
            "385\n"
          ]
        }
      ]
    },
    {
      "cell_type": "markdown",
      "source": [
        "La variable $i$ se recorre en los elementos de la lista que genera $range(a,b)$, tomando como valor inicial $i=a$ y como valor final $i=b-1$, por lo que en el bloque de código anterior el valor $i$ toma los valores $1,2,...,9,10$."
      ],
      "metadata": {
        "id": "sLflnSXZgK__"
      }
    },
    {
      "cell_type": "markdown",
      "source": [
        "Los ciclos **while** permiten realizar bucles de forma indefinida, repetiran el bloque de código siempre y cuando la expresión que se le asocie sea verdadera.\n",
        "\n",
        "```python\n",
        "while expresion_logica:\n",
        "    bloque de código (hace algo)\n",
        "```\n",
        "\n",
        "**Nota:** Cuidado con los loops infinitos, es decir, los ciclos en donde la expresion_logica siempre es verdadera y no cambia.\n",
        "\n",
        "Ejemplos de loops infinitos:\n",
        "\n",
        "```python\n",
        "while True:\n",
        "    bloque de código (hace algo)\n",
        "```\n",
        "\n",
        "```python\n",
        "while 1:\n",
        "    bloque de código (hace algo)\n",
        "```\n",
        "```python\n",
        "n=5\n",
        "while n>5:\n",
        "    n+=1\n",
        "```\n",
        "De todas maneras, en algunas ocasiones si se busca tener un loop infinito, por ejemplo cuando se monta un servidor.\n",
        "\n",
        "En caso de querer utilizar estas condiciones será de utilidad el uso de 'break', ejemplo:\n",
        "\n",
        "```python\n",
        "n=5\n",
        "while True:\n",
        "    if n>100:\n",
        "        break\n",
        "    n+=1\n",
        "```\n",
        "La palabra/comando break termina el ciclo while. Veamos el mismo un ejemplo:"
      ],
      "metadata": {
        "id": "VYWipdg8J11W"
      }
    },
    {
      "cell_type": "markdown",
      "source": [
        "### Ejemplo2 Sumatoria de un número al cuadrado\n",
        "\n",
        "A diferencia del ciclo for, acá es necesario definir una variable afuera de la función while la cual inicializa el valor de i, una vez que se vuelve falsa la condición del while el ciclo termina y continua el código."
      ],
      "metadata": {
        "id": "224fMQeZ6aah"
      }
    },
    {
      "cell_type": "code",
      "source": [
        "# Primer ejemplo de como realizar esta sumatoria\n",
        "sum = 0\n",
        "i=0\n",
        "while i<11:\n",
        "    sum+=i**2\n",
        "    i+=1\n",
        "print(sum)\n",
        "\n",
        "# Segundo ejemplo de como realizar esta sumatoria\n",
        "sum = 0\n",
        "i=0\n",
        "while True:\n",
        "    sum+=i**2\n",
        "    i+=1\n",
        "    if i>10:\n",
        "        break\n",
        "print(sum)"
      ],
      "metadata": {
        "id": "Qs4CbbSiJ25r",
        "colab": {
          "base_uri": "https://localhost:8080/"
        },
        "outputId": "84f2517e-a292-4ad5-e133-b41ca6a35df8"
      },
      "execution_count": null,
      "outputs": [
        {
          "output_type": "stream",
          "name": "stdout",
          "text": [
            "385\n",
            "385\n"
          ]
        }
      ]
    },
    {
      "cell_type": "markdown",
      "source": [
        "## Nano desafío 3: N° Divisores de un número\n",
        "**Problema:**\n",
        "Defina una función llamada $divisores(num)$, la cual recibe como parámetro un número natural mayor a $1$ y retorna el número de divisores que tiene este número.\n",
        "\n",
        "**Ejemplo:**\n",
        "El número $12$ tiene $6$ divisores los cuales corresponden a: $1, 2, 3, 4, 6, 12$. "
      ],
      "metadata": {
        "id": "mtEpTEW1JorE"
      }
    },
    {
      "cell_type": "code",
      "source": [
        "#Escribe la función divisores aqui"
      ],
      "metadata": {
        "id": "FaiQmrWH-tNK"
      },
      "execution_count": null,
      "outputs": []
    },
    {
      "cell_type": "code",
      "source": [
        "assert divisores(12)==6\n",
        "assert divisores(90)==12\n",
        "assert divisores(1000)==16"
      ],
      "metadata": {
        "id": "KgeuyTpwuhlw"
      },
      "execution_count": null,
      "outputs": []
    },
    {
      "cell_type": "markdown",
      "source": [
        "## **Recursión**\n",
        "\n",
        "Una función recursiva es una función que se llama asi misma. Es similar a las sucesiones matematicas, de hecho, veremos algunos ejemplos de sucesiones que se resuelven de esta manera. Tienen la siguiente forma:\n",
        "```python\n",
        "def funcion_recursiva():\n",
        "    caso base\n",
        "    paso recursivo\n",
        "```\n",
        "El caso base es fundamental en una función recursiva pues permite terminar la recursión, por otro lado el paso recursivo es el que va dividiendo el problema en otros más pequeños."
      ],
      "metadata": {
        "id": "PU5r_tH8fXF5"
      }
    },
    {
      "cell_type": "markdown",
      "source": [
        "### Ejemplo Factorial:\n",
        "\n",
        "Calcular el factorial de un número de forma recursiva:\n",
        "\n",
        "Veamos que el factorial se puede calcular de forma recursiva pues se puede sacar un elemento (n) y calcular el factorial del resto(n-1).\n",
        "\n",
        "\n",
        "$n! = n \\cdot (n-1)!$\n",
        "\n",
        "Además, el caso base corrresponde al factorial de $1!=1$."
      ],
      "metadata": {
        "id": "u2UoIU5IHeot"
      }
    },
    {
      "cell_type": "code",
      "source": [
        "def factorial(n):\n",
        "    if n==1: # caso base \n",
        "        return 1\n",
        "    else: # paso recursivo\n",
        "        return n*factorial(n-1) # llamada recursiva\n",
        "\n",
        "factorial(5)"
      ],
      "metadata": {
        "id": "xR_vHX80fHdA",
        "colab": {
          "base_uri": "https://localhost:8080/"
        },
        "outputId": "d63860ed-8093-43ca-dba5-703d938855cb"
      },
      "execution_count": null,
      "outputs": [
        {
          "output_type": "execute_result",
          "data": {
            "text/plain": [
              "120"
            ]
          },
          "metadata": {},
          "execution_count": 33
        }
      ]
    },
    {
      "cell_type": "markdown",
      "source": [
        "Nota: Nuevamente es importante notar que en las funciones recursivas debe ir convergiendo/disminuyendo el valor, pues sino se vuelve un ciclo infito, veamos un ejemplo de una implementación erronea del factorial:\n",
        "\n",
        "```python\n",
        "def factorial_erroneo(n):\n",
        "    if n==1: #caso base \n",
        "        return 1\n",
        "    else:\n",
        "        return n*factorial(n)\n",
        "```\n",
        "En este caso $n$ nunca va llegar a alcanzar el caso base para poder terminar la recursión. \n",
        "\n"
      ],
      "metadata": {
        "id": "WMLFu3DpISH0"
      }
    },
    {
      "cell_type": "markdown",
      "source": [
        "### Divide and Conquer\n",
        "\n",
        "Dividir para reinar es una estrategia para resolver problemas dificiles, se basa en dividir el problema dificil en muchos problemas similares fáciles de resolver. Los ejemplos más clasicos que se resuelven utilizando este problema son las Torres de Hanoi y el algoritmo Quicksort,  recomiendo revisar las referencias para encontrar la solución de estos ejemplos que requieren una explicación más grande.\n",
        "\n",
        "Pasos:\n",
        "\n",
        "1.   Divide el problema en subproblemas del mismo tipo.\n",
        "2.   De forma recursiva resuelve estos subproblemas (los cuales son más simples de resolver que el problema inicial)\n",
        "3. Combinar de forma apropiada la solución de los multiples subproblemas para encontrar la solución del problema original.\n",
        "\n"
      ],
      "metadata": {
        "id": "ddtzQdlaJ_Au"
      }
    },
    {
      "cell_type": "markdown",
      "source": [
        "## Ejemplo búsqueda binaria:\n",
        "Sea una lista ordenada de menor a mayor (también funciona al revés), supongamos que se busca ver si el número 28 está dentro de la lista.\n",
        " \n",
        "<div align=\"center\">\n",
        "<img src=\"https://raw.githubusercontent.com/joaquinzepeda/Programacion-Avanzada/main/imgs/Ej_busqueda_binaria.png\">\n",
        "</div>\n",
        " \n",
        "La solución lineal si bien no es difícil, es muy tediosa en el caso de tener una lista muy grande, esto se debe a que se tendría que revisar todos los elementos de la lista para encontrar el número buscado.\n",
        " \n",
        "Esto se puede optimizar utilizando la estrategia divide y reinarás. La idea es la siguiente:\n",
        " \n",
        "Se toma un elemento en el centro de la lista y se compara con el elemento buscado, en caso de que sea menor se vuelve a ejecutar el algoritmo con la sublista inferior, en caso contrario se ejecuta el algoritmo con la sublista superior. Estas sublistas corresponden a los subproblemas, luego si aún no se encuentra el número se vuelven a encontrar 2 sublistas dentro de la sublista inicial para seguir ejecutando el algoritmo de forma recursiva.\n",
        " \n",
        "De esta manera no es necesario comparar el número buscado con todos los elementos de la lista, incluso gracias a este algoritmo es posible bajar el orden de la función de $O(n)$ a $O(log(n))$, lo cual es considerablemente mayor.\n",
        "\n",
        "**Nota:** En un próximo capítulo se explicará a que se refiere el orden de una función y la notación $O(Big-O)$.\n"
      ],
      "metadata": {
        "id": "xUhl9brfRMKB"
      }
    },
    {
      "cell_type": "code",
      "source": [
        "#arr se refiere a array\n",
        "def busquedaBinaria(arr, l, r, x):\n",
        "\n",
        "\tmid = l + (r - l) // 2\n",
        "\t# si el elemento se encuentra en la mitad\n",
        "\tif arr[mid] == x:\n",
        "\t\treturn mid\n",
        "\n",
        "\t# si es menor, se busca en el subarreglo izquierdo\n",
        "\telif arr[mid] > x:\n",
        "\t\treturn busquedaBinaria(arr, l, mid-1, x)\n",
        "\n",
        "\t# si es mayor, se busca en el subarreglo derecho\n",
        "\telse:\n",
        "\t\treturn busquedaBinaria(arr, mid + 1, r, x)\n",
        "\n",
        "\n",
        "# Test\n",
        "L = [1,5,7,12,16,28,42,70,101,102]\n",
        "x = 28\n",
        "\n",
        "index = busquedaBinaria(L, 0, len(L)-1, x)\n",
        "print(\"El elemento se encuentra en el indice % d\" % index)\n",
        "\n"
      ],
      "metadata": {
        "colab": {
          "base_uri": "https://localhost:8080/"
        },
        "id": "5QWnSgGJMEQU",
        "outputId": "c32b79c3-f97a-4bc8-ca4c-e4108700cdcc"
      },
      "execution_count": null,
      "outputs": [
        {
          "output_type": "stream",
          "name": "stdout",
          "text": [
            "El elemento se encuentra en el indice  5\n"
          ]
        }
      ]
    },
    {
      "cell_type": "code",
      "source": [
        ""
      ],
      "metadata": {
        "id": "bvcyTNuKXDfN"
      },
      "execution_count": null,
      "outputs": []
    },
    {
      "cell_type": "markdown",
      "source": [
        "## Nano desafío: Fibonacci\n",
        "\n",
        "Sea la ecuación de Fibonacci\n",
        "\n",
        "$$\n",
        "\\begin{align}\n",
        "f_n &= f_{n-1}+f_{n-2} \\text{ para } n\\ge 2\\\\\n",
        "f_0 &= 0\\\\\n",
        "f_1 &= 1\n",
        "\\end{align}\n",
        "$$\n",
        "\n",
        "Complete la función fibonacci() que calcula de *forma recursiva* el valor de esta sucesión:"
      ],
      "metadata": {
        "id": "ZqO6l79xJ5Sj"
      }
    },
    {
      "cell_type": "code",
      "source": [
        "def fibonacci(n):\n",
        "    pass\n"
      ],
      "metadata": {
        "id": "iWMff1T3goS9"
      },
      "execution_count": null,
      "outputs": []
    },
    {
      "cell_type": "code",
      "source": [
        "assert fibonacci(10) == 55\n",
        "assert fibonacci(20) == 6765"
      ],
      "metadata": {
        "id": "sBIkHsZrucZa"
      },
      "execution_count": null,
      "outputs": []
    },
    {
      "cell_type": "markdown",
      "source": [
        "## **Expresiones Condicionales**\n",
        "\n",
        "Corresponden a expresiones condicionales que permiten realizar distintas acciones dependiendo de si se cumplen o no las expresiones lógicas.\n",
        "La estructura general es la siguiente:\n",
        "```python\n",
        "if logical expression:\n",
        "    code block\n",
        "else:\n",
        "    code block\n",
        "```\n",
        "Si bien esta es la estructura general, no es necesario agregar un else, por ejemplo si se busca realizar una acción siempre que $n>0$ basta con:\n",
        "\n",
        "```\n",
        "if n>0:\n",
        "    code block\n",
        "continua el codigo\n",
        "```\n",
        "Además, existe otra expresión la cual se denomina $elif$, esta expresión es una abreviación de un else y luego un if, lo cual simplifica código, los siguientes códigos son equivalentes:\n",
        "\n",
        "\n",
        "\n",
        "```\n",
        "if n>0:\n",
        "    code block\n",
        "else:\n",
        "    if logic_expression:\n",
        "        code block\n",
        "```\n",
        "```\n",
        "if n>0:\n",
        "    code block\n",
        "\n",
        "elif logic_expression:\n",
        "    code block\n",
        "```\n",
        "¿Qué pasa si hay más de un if? Para analizar que ocurre en estos casos es importante tener en cuenta que las condiciones de los if siempre son revisadas (con excepción si es que el if está dentro de un else), es decir, en el siguiente código va a revisar la condición del primer if la cual al cumplirla va a entrar a ejecutar el bloque de código de este primer if, luego revisará la condición del segundo if el cual como también cumple la condición también ejecuta su bloque de código correspondiente, pero luego no se revisaran el elif ni el else debido a que ya entró a su if correspondiente. \n",
        " \n",
        "Puede que suene un poco enredado, pero en resumen:\n",
        " \n",
        "*   Los if que no están anidados siempre son revisados\n",
        "*   En caso de que no se cumpla la condición de un if pasa a revisarse la condición del elif (en caso de haber uno) y en caso de no cumplirse la condición de este pasa a ejecutarse el bloque de código del else. \n",
        " \n",
        "A continuación se presenta un ejemplo que ilustra la situación:"
      ],
      "metadata": {
        "id": "BCoG8iCQM03G"
      }
    },
    {
      "cell_type": "code",
      "source": [
        "n = 2\n",
        "if n>=0:\n",
        "    print('primer if')\n",
        "if n>1:\n",
        "    print('segundo if')\n",
        "elif n>0:\n",
        "    print('elif')\n",
        "else:\n",
        "    print('else')"
      ],
      "metadata": {
        "id": "c5Xc_-lRcm_H",
        "colab": {
          "base_uri": "https://localhost:8080/"
        },
        "outputId": "3b57b60d-9e16-4851-f918-5301c1cec1f2"
      },
      "execution_count": null,
      "outputs": [
        {
          "output_type": "stream",
          "name": "stdout",
          "text": [
            "primer if\n",
            "segundo if\n"
          ]
        }
      ]
    },
    {
      "cell_type": "markdown",
      "source": [
        "Como se puede observar no se ejecuta el codigo del elif a pesar de que si cumpla la condición de que el $n>0$, esto pues ya entro al su respectivo if por lo que no entra ni al elif ni al else. A continación se presentan otras situaciones:"
      ],
      "metadata": {
        "id": "CmK3_5FMnn3E"
      }
    },
    {
      "cell_type": "code",
      "source": [
        "n = 1\n",
        "if n>=0:\n",
        "    print('primer if')\n",
        "if n>1:\n",
        "    print('segundo if')\n",
        "elif n>0:\n",
        "    print('elif')\n",
        "else:\n",
        "    print('else')"
      ],
      "metadata": {
        "id": "jPFZvCohcnBV",
        "colab": {
          "base_uri": "https://localhost:8080/"
        },
        "outputId": "a54bdaf8-4d55-4c3a-8afd-ff0a3e7031a4"
      },
      "execution_count": null,
      "outputs": [
        {
          "output_type": "stream",
          "name": "stdout",
          "text": [
            "primer if\n",
            "elif\n"
          ]
        }
      ]
    },
    {
      "cell_type": "code",
      "source": [
        "n = 0\n",
        "if n>=0:\n",
        "    print('primer if')\n",
        "if n>1:\n",
        "    print('segundo if')\n",
        "elif n>0:\n",
        "    print('elif')\n",
        "else:\n",
        "    print('else')"
      ],
      "metadata": {
        "id": "Ma8smcH6cnHy",
        "colab": {
          "base_uri": "https://localhost:8080/"
        },
        "outputId": "a1fb7cc4-57f6-47f2-afff-f992ceca309d"
      },
      "execution_count": null,
      "outputs": [
        {
          "output_type": "stream",
          "name": "stdout",
          "text": [
            "primer if\n",
            "else\n"
          ]
        }
      ]
    },
    {
      "cell_type": "markdown",
      "source": [
        "### Nano desafío: Piedra, papel o tijera\n",
        "\n",
        "**Problema:**\n",
        "Complete la funcion $jugarPPT(jj1,jj2)$, la cual recibe las jugadas de 2 jugadores (como strings) y retorna el resultado del juego. \n",
        "\n",
        "Es importante saber que según las reglas del juego: \n",
        "piedra le gana a tijera\n",
        "tijera le gana a papel\n",
        "papel le gana a piedra\n",
        "\n",
        "En caso de que sean iguales, hay empate.\n",
        "\n",
        "**Restricciones:** \n",
        "$jj1$ y $jj2$ solo pueden tomar los valores de piedra, papel o tijeras.\n",
        "\n",
        "Formato de salida:\n",
        "* Gano el jugador 1\n",
        "* Gano el jugador 2\n",
        "* Empate\n",
        "\n",
        "**Ejemplo:**\n",
        "\n",
        "Si la jugada del jugador 1 ($jj1$) es \"tijeras\" y la jugada del jugador 2 ($jj2$) es \"piedra\", la función debe retornar \"Gano el jugador 2\".\n",
        "\n",
        "Si la jugada del jugador 1 ($jj1$) es \"papel\" y la jugada del jugador 2 ($jj2$) es \"piedra\", la función debe retornar \"Gano el jugador 1\".\n",
        "\n",
        "Si la jugada del jugador 1 ($jj1$) es \"papel\" y la jugada del jugador 2 ($jj2$) es \"papel\", la función debe retornar \"Empate\".\n"
      ],
      "metadata": {
        "id": "dvMq0Kx2J6C1"
      }
    },
    {
      "cell_type": "code",
      "source": [
        "def jugarPPT(jj1,jj2):\n",
        "    pass\n"
      ],
      "metadata": {
        "id": "U2LMnKwbr77z"
      },
      "execution_count": null,
      "outputs": []
    },
    {
      "cell_type": "code",
      "source": [
        "assert jugarPPT(\"tijeras\",\"piedra\") == \"Gano el jugador 2\"\n",
        "assert jugarPPT(\"tijeras\",\"papel\") == \"Gano el jugador 1\"\n",
        "assert jugarPPT(\"tijeras\",\"tijeras\") == \"Empate\"\n",
        "assert jugarPPT(\"piedra\",\"papel\") == \"Gano el jugador 2\"\n",
        "assert jugarPPT(\"piedra\",\"tijeras\") == \"Gano el jugador 1\"\n",
        "assert jugarPPT(\"piedra\",\"piedra\") == \"Empate\"\n",
        "assert jugarPPT(\"papel\",\"tijeras\") == \"Gano el jugador 2\"\n",
        "assert jugarPPT(\"papel\",\"piedra\") == \"Gano el jugador 1\"\n",
        "assert jugarPPT(\"papel\",\"papel\") == \"Empate\""
      ],
      "metadata": {
        "id": "NF4ciw2Qtjmu"
      },
      "execution_count": null,
      "outputs": []
    },
    {
      "cell_type": "markdown",
      "source": [
        "## **Programación orientada a objetos (OOP)**\n",
        "\n",
        "Es un modelo que divide la tarea de programación en objetos que se combinan entre sí, este enfoque es adecuado para programas largos, complejos y que se actualizan constantemente. \n",
        "\n",
        "La programación orientada a objetos facilita el desarrollo de programas entre distintos colaboradores y proyectos que se dividen en grupos.\n",
        "\n",
        "- Clase: Corresponde a un plantilla o receta que permite definir **estructuras de datos** que modelan entidades, estas contienen atributos, métodos y las cuales simulan su comportamiento. \n",
        "\n",
        "    ```python\n",
        "    class NombreClase():\n",
        "        def __init__(self, atributo1):\n",
        "            self.atributo1 = atributo1\n",
        "            ...\n",
        "        def metodo1(self):\n",
        "            hace algo\n",
        "        def metodo2(self,x):\n",
        "            recibe x como parametro y además hace algo\n",
        "            print(x)\n",
        "    ```\n",
        "    La primera \"función\" \\_\\_init\\_\\_ correpsonde al constructor de la clase, la cual se encarga de inicializar los valores de los atributos del objeto cuando se incializa este.\n",
        "\n",
        "- Objeto: Es una instancia de una clase con valores reales, se inicializa de la siguiente forma, en donde se le deben asignar los atributos que reciba la clase.\n",
        "    ```python\n",
        "    objeto1 = NombreClase(atributo1)\n",
        "    ```\n",
        "\n",
        "- Atributos: Son variables que existen dentro de los objetos.\n",
        "\n",
        "    Acceder a atributos:\n",
        "    ```python\n",
        "    objeto1.atributo1\n",
        "    ```\n",
        "\n",
        "- Métodos: Son funciones que existen dentro de los objetos, estos se definen dentro de las clases.\n",
        "\n",
        "    Llamar a métodos\n",
        "    ```python\n",
        "    objeto1.metodo1()\n",
        "    objeto1.metodo2(5)\n",
        "    ```"
      ],
      "metadata": {
        "id": "5NbWfEa7cmqu"
      }
    },
    {
      "cell_type": "markdown",
      "source": [
        "Uno de los beneficios de OOP es crear código reutilizable (evitando repetir código). A continuación se presentan los 3 principales principios de usar OOP:\n",
        " \n",
        " \n",
        "* Herencia: permite crear clases que derivan de otra por herencia, de esta manera la clase derivada o  subclase (clase hija) comparten atributos y métodos con la superclase (clase padre), por eso se utiliza el término de herencia, pues la clase hija hereda de la clase padre. Esto permite no tener que definir todo lo de la clase padre nuevamente en la clase hija\n",
        " \n",
        "* Encapsulación : permite definir atributos y métodos privados, es decir, solo se pueden acceder a ellos dentro de la misma clase y no se puede acceder de forma externa, esto permite que algunos atributos no puedan ser cambiados por cualquiera. \n",
        "  \n",
        "* Polimorfismo : permite usar métodos/operadores comunes en distintos objetos.\n"
      ],
      "metadata": {
        "id": "btFADTU_pDcI"
      }
    },
    {
      "cell_type": "markdown",
      "source": [
        "### Ejemplo simple: clase Auto\n",
        "\n",
        "Un auto tiene una marca, un año y un número de kilómetros recorridos, además un auto puede prender luces."
      ],
      "metadata": {
        "id": "4cdGu7Z6iTzR"
      }
    },
    {
      "cell_type": "code",
      "source": [
        "class Auto():\n",
        "    # corresponde al constructor\n",
        "    def __init__(self, marca, ano, km):\n",
        "        self.marca = marca #atributo marca\n",
        "        self.ano = ano   #atributo año\n",
        "        self.km = km   #atributo año\n",
        "        self.luces = False \n",
        "    # corresponde a un metodo    \n",
        "    def prender_luces(self):\n",
        "        self.luces = True\n",
        "        print(\"Luces encendidas\")"
      ],
      "metadata": {
        "id": "lRpjHNJDiWyX"
      },
      "execution_count": null,
      "outputs": []
    },
    {
      "cell_type": "code",
      "source": [
        "auto1 = Auto('audi','2019',25000)\n",
        "print(auto1.marca)\n",
        "print(auto1.km)\n",
        "print(auto1.luces)\n",
        "auto1.prender_luces()\n",
        "print(auto1.luces)"
      ],
      "metadata": {
        "colab": {
          "base_uri": "https://localhost:8080/"
        },
        "id": "uOB9hYQ5jpec",
        "outputId": "97457562-3e5a-45cf-de86-bd1ef6f43201"
      },
      "execution_count": null,
      "outputs": [
        {
          "output_type": "stream",
          "name": "stdout",
          "text": [
            "audi\n",
            "2019\n",
            "False\n",
            "Luces encendidas\n",
            "True\n"
          ]
        }
      ]
    },
    {
      "cell_type": "markdown",
      "source": [
        "### Diagramas de clases\n",
        "\n",
        "Muchas veces es útil utilizar una representación gráfica de las clases y de como se relacionan entre ellas.\n",
        "\n",
        "<div align=\"center\">\n",
        "<img height=\"150\" src=\"https://raw.githubusercontent.com/joaquinzepeda/Programacion-Avanzada/main/imgs/plantilla_diagrama.png\">\n",
        "</div>"
      ],
      "metadata": {
        "id": "Vj4Zpc3MhUwx"
      }
    },
    {
      "cell_type": "markdown",
      "source": [
        "### Ejemplo simple: clase Mascota\n",
        "\n",
        "Veamos un ejemplo más complejo, en esta ocasión hay más de una clase y se relacionan por el siguiente diagrama:\n",
        "<div align=\"center\">\n",
        "<img  src=\"https://raw.githubusercontent.com/joaquinzepeda/Programacion-Avanzada/main/imgs/ej_diagrama.png\">\n",
        "</div>\n",
        "En este diagrama se muestra un ejemplo de la Herencia de las clases, existe una clase padre y clases hijas, tanto la clase Perro como Gato heredan los atributos de la clase Mascota y además heredan el método dormir()."
      ],
      "metadata": {
        "id": "w83wIWa13Tf2"
      }
    },
    {
      "cell_type": "code",
      "source": [
        "class Mascota:\n",
        "    def __init__(self,nombre):\n",
        "        self.nombre = nombre\n",
        "        self.isSleep = False\n",
        "    def dormir(self):\n",
        "        self.isSleep = True\n",
        "\n",
        "class Perro(Mascota):\n",
        "    def __init__(self, nombre, tamano):\n",
        "        super().__init__(nombre) # se llama al constructor de la clase padre\n",
        "        self.tamano = tamano\n",
        "    def ladrar(self):\n",
        "        print('Guau guau')\n",
        "class Gato(Mascota):\n",
        "    def __init__(self, nombre):\n",
        "        super().__init__(nombre)\n",
        "    def maullar(self):\n",
        "        print('Miau miau')\n"
      ],
      "metadata": {
        "id": "SN3h4QlVwfpd"
      },
      "execution_count": null,
      "outputs": []
    },
    {
      "cell_type": "code",
      "source": [
        "Firulais = Perro('firulais','Tamaño mediano')\n",
        "Firulais.ladrar()\n",
        "print('El perro se llama ',Firulais.nombre)\n",
        "Michi = Gato('michi')\n",
        "Michi.maullar()"
      ],
      "metadata": {
        "colab": {
          "base_uri": "https://localhost:8080/"
        },
        "id": "sjMtew8Pzh2u",
        "outputId": "e94b5b76-0641-47ea-f420-597e44fd4d24"
      },
      "execution_count": null,
      "outputs": [
        {
          "output_type": "stream",
          "name": "stdout",
          "text": [
            "Guau guau\n",
            "El perro se llama  firulais\n",
            "Miau miau\n"
          ]
        }
      ]
    },
    {
      "cell_type": "markdown",
      "source": [
        "Existen algunos métodos especiales como \\_\\_str\\_\\_(self), \\_\\_repr\\_\\_(self) el primero es un string que representa a la clase y el método repr que en caso de no definirlo retorna un string que describe el puntero al objeto en cuestión, en caso de definirlo generalmente retorna un string que representa a este. Para acceder a estos, ya que son especiales, se puede utilizar str(Objeto), repr(Objeto).\n",
        "\n",
        "Además los métodos getters y setters son bastante comunes, estos se refieren a métodos que permiten obtener atributos y métodos que setteen atributos. Veamos como quedaría al agregar algunos métodos a la clase Mascota:"
      ],
      "metadata": {
        "id": "X5IisMo303yo"
      }
    },
    {
      "cell_type": "code",
      "source": [
        "class Mascota:\n",
        "    def __init__(self,nombre):\n",
        "        self.nombre = nombre\n",
        "        self.isSleep = False\n",
        "    def dormir(self):\n",
        "        self.isSleep = True\n",
        "    def __str__(self):\n",
        "        return f'Mascota(nombre={self.nombre},isSleep={self.isSleep})'\n",
        "    def get_name(self):\n",
        "        return self.nombre\n",
        "    def set_name(self,name):\n",
        "        self.nombre = name"
      ],
      "metadata": {
        "id": "oCknw2Px1XUR"
      },
      "execution_count": null,
      "outputs": []
    },
    {
      "cell_type": "code",
      "source": [
        "Mascota1 = Mascota('piolin')\n",
        "print(str(Mascota1)) # Se accede de forma distinta pues es un metodo especial\n",
        "print(repr(Mascota1))\n",
        "print(Mascota1.get_name()) \n",
        "Mascota1.set_name('Piolin 2')\n",
        "print(Mascota1.get_name()) "
      ],
      "metadata": {
        "colab": {
          "base_uri": "https://localhost:8080/"
        },
        "id": "uvEc4SA-7RCD",
        "outputId": "3c34f638-9364-4790-ba9d-42b0262b3f37"
      },
      "execution_count": null,
      "outputs": [
        {
          "output_type": "stream",
          "name": "stdout",
          "text": [
            "Mascota(nombre=piolin,isSleep=False)\n",
            "<__main__.Mascota object at 0x7fa102743710>\n",
            "piolin\n",
            "Piolin 2\n"
          ]
        }
      ]
    },
    {
      "cell_type": "markdown",
      "source": [
        "Por supuesto a la clase Mascota le falta bastante para estar completa, por ejemplo se podría crear los métodos despertar(), correr(), comer(), etc. \n",
        "\n",
        "\n",
        "**Nota:** Hay mucho que hablar sobre la programación orientada a objetos, pero en este curso se darán las herramientas generales sobre este tema. En caso de querer profundizar en esta área se recomienda el curso \"CC3002 Metodologías de diseño y programación\" el cual se enfoca en este tópico. "
      ],
      "metadata": {
        "id": "KsX5GQwl_MdD"
      }
    },
    {
      "cell_type": "markdown",
      "source": [
        "## Nano desafío: SimpleComplexNumber\n",
        "\n",
        "Complete la clase SimpleComplexNumber la cual representa las operaciones básicas de los números complejos. \\_\\_init\\_\\_ corresponde al constructor de la clase y \\_\\_add\\_\\_, \\_\\_sub\\_\\_, \\_\\_mul\\_\\_ y\\_\\_str\\_\\_ corresponden a los métodos.\n",
        "\n",
        "Ejemplos de uso:\n",
        "\n",
        "\n",
        "```\n",
        "#representa a 1+2j\n",
        "a = SimpleComplexNumber(1,2) \n",
        "\n",
        "#representa a 3-4j\n",
        "b = SimpleComplexNumber(3,-4) \n",
        "```\n",
        "c = a+b corresponde a lo que retorna el método \\_\\_add\\_\\_.\n",
        "\n",
        "d = a-b corresponde a lo que retorna el método \\_\\_sub\\_\\_.\n",
        "\n",
        "e = a*b corresponde a lo que retorna el método \\_\\_mul\\_\\_.\n",
        "\n",
        "- c = 4-2j\n",
        "- d = -2+6j\n",
        "- e = 11+2j\n",
        "\n",
        "**Nota:** No se permite utilizar ningun módulo o libreria.\n"
      ],
      "metadata": {
        "id": "yo8MJW9OJ-J0"
      }
    },
    {
      "cell_type": "code",
      "source": [
        "class SimpleComplexNumber(object):\n",
        "\n",
        "    def __init__(self, re, im):\n",
        "        pass\n",
        "\n",
        "    def __add__(self, other):\n",
        "        pass\n",
        "\n",
        "    def __sub__(self, other):\n",
        "        pass\n",
        "    def __mul__(self, other):\n",
        "        pass\n"
      ],
      "metadata": {
        "id": "DYF5vqE6iOq9"
      },
      "execution_count": null,
      "outputs": []
    },
    {
      "cell_type": "code",
      "source": [
        "#Test\n",
        "#representa a 1+2j\n",
        "a = SimpleComplexNumber(1,2) \n",
        "\n",
        "#representa a 3-4j\n",
        "b = SimpleComplexNumber(3,-4) \n",
        "c = a+b\n",
        "d = a-b\n",
        "e = a*b\n",
        "assert  4==c.re and -2==c.im\n",
        "assert -2==d.re and 6==d.im\n",
        "assert 11==e.re and 2==e.im"
      ],
      "metadata": {
        "id": "_7K6mbnC9wc4"
      },
      "execution_count": null,
      "outputs": []
    }
  ]
}