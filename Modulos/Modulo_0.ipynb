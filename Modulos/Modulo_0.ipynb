{
  "nbformat": 4,
  "nbformat_minor": 0,
  "metadata": {
    "colab": {
      "name": "Modulo 0",
      "provenance": [],
      "toc_visible": true
    },
    "kernelspec": {
      "name": "python3",
      "display_name": "Python 3"
    },
    "language_info": {
      "name": "python"
    }
  },
  "cells": [
    {
      "cell_type": "markdown",
      "source": [
        "\n",
        "<img height=\"120\" src=\"https://raw.githubusercontent.com/joaquinzepeda/Programacion-Avanzada/main/imgs/cropped-logo-fcfm-die-1.png\">\n",
        "\n",
        "# **Bienvenidos al Curso de EL4203 Programación Avanzada**\n",
        "## Profesor *Alberto Castro*\n",
        "### Por *Joaquín Zepeda Valero*\n",
        "\n",
        "**Periodo**: Primavera 2022 . **Repositorio del curso:** <a href=\"https://github.com/joaquinzepeda/Programacion-Avanzada.git\"><img height=\"30\" src=\"https://cdn-icons-png.flaticon.com/512/25/25231.png\"></a>  \n",
        "\n",
        "\n",
        "\n",
        "\n",
        "\n",
        "\n",
        "El curso de Programación avanzada tiene como propósito que los y las estudiantes diseñen y codifiquen\n",
        "algoritmos en diversos lenguajes de programación aplicables a problemas en diversas áreas de la\n",
        "Ingeniería Eléctrica, ejecutando y documentando las soluciones que permitan la replicabilidad de estas. \n",
        "Para esto, utilizan herramientas de programación orientada a objetos, estructuras de datos, métodos\n",
        "de ordenamiento y búsqueda, y metodologías de diseño y programación.\n",
        "\n",
        "**Nota:** Los módulos están en proceso y probablemente contengan errores, cualquier duda, feedback o recomendación por favor realizarla a mi correo joaquin.zepeda\\@ug.uchile.cl. \n",
        "\n",
        "\n",
        "## Módulo 1: Fundamentos de Programación para la Ingeniería Eléctrica\n",
        "\n",
        "Contenidos:\n",
        "  * Tipos de datos, funciones y expresiones. \n",
        "  * Programación orientada a objetos. \n",
        "  * Programación iterativa.\n",
        "  * Recursividad.\n",
        "\n",
        "\n",
        "\n",
        "[![Open In Colab](https://colab.research.google.com/assets/colab-badge.svg)](https://colab.research.google.com/drive/1VOQGcXPirhau8hqyV7UO7TNucQ4rpjwr?usp=sharing) \n",
        "\n",
        "\n",
        "\n",
        "Duración estimada: 2 semanas. \n",
        "\n",
        "## Módulo 2: Estructuras y tipos de datos\n",
        "\n",
        "Contenidos:\n",
        "  * Arreglos. \n",
        "  * Punteros y listas enlazadas. \n",
        "  * Árboles. \n",
        "  * Pilas y colas. \n",
        "  * Representación de matrices y vectores. \n",
        "  * Casos de estudio de estructuras y tipos de datos.\n",
        "\n",
        "\n",
        "[![Open In Colab](https://colab.research.google.com/assets/colab-badge.svg)](https://colab.research.google.com/drive/1M5WVy72fDoBmYztm2oDF5lYQUL2p71GO?usp=sharing)\n",
        "\n",
        "Duración estimada: 3 semanas. \n",
        "\n",
        "## Módulo 3: Búsquedas y ordenamientos\n",
        "\n",
        "Contenidos:\n",
        "  * Búsqueda secuencial y binaria.\n",
        "  * Árboles de búsqueda binaria y balanceados. \n",
        "  * Hashing.\n",
        "  * Algoritmos de ordenación. (quicksort, heapsort, mergesort,etc.)\n",
        "  * Casos de estudio de búsqueda y ordenamientos.\n",
        "\n",
        "[![Open In Colab](https://colab.research.google.com/assets/colab-badge.svg)](https://colab.research.google.com/drive/1Zd75apOmNnulqpish7aCV3vzu2orM_ur?usp=sharing)\n",
        "\n",
        "Duración estimada: 3 semanas. \n",
        "\n",
        "## Módulo 4: Diseño y análisis de algoritmos\n",
        "\n",
        "Contenidos:\n",
        "  * Estudio de los algoritmos\n",
        "  * Programación dinámica\n",
        "  * Grafos\n",
        "  * Computación paralela\n",
        "\n",
        "\n",
        "[![Open In Colab](https://colab.research.google.com/assets/colab-badge.svg)](https://colab.research.google.com/drive/1mZxw72igoqblG4CZFG7upXHdFymiwKc5?usp=sharing)\n",
        "\n",
        "Duración estimada: 2 semanas. \n",
        "\n",
        "\n",
        "## Módulo 5: Estándares y metodologías de proyectos de software \n",
        "\n",
        "\n",
        "Contenidos:\n",
        "\n",
        "* Normas de codificación.\n",
        "* Estilos de programación.\n",
        "* Sistemas de versiones.\n",
        "* Conceptos de verificación y\n",
        "validación de software.\n",
        "\n",
        "[![Open In Colab](https://colab.research.google.com/assets/colab-badge.svg)](https://colab.research.google.com/drive/1Yw-yF261umYdo-_8Axr1mGGFuVEuwnQd?usp=sharing)\n",
        "\n",
        "\n",
        "\n",
        "\n",
        "Duración estimada: 1.5 semanas. \n",
        "\n",
        "## Módulo 6: Aplicaciones de programación a la Ingeniería Eléctrica\n",
        "\n",
        "Contenidos:\n",
        "\n",
        "Duración estimada: 3.5 semanas. \n"
      ],
      "metadata": {
        "id": "J4xlYcasYmvi"
      }
    },
    {
      "cell_type": "markdown",
      "source": [
        "## Instalación\n",
        "\n",
        "Guía de instalación. \n",
        "\n",
        "[![Open In Colab](https://colab.research.google.com/assets/colab-badge.svg)](https://colab.research.google.com/drive/1goqKPQtSxjrckAssPZH9HU0HRLd3EsXG?usp=sharing)\n",
        "\n"
      ],
      "metadata": {
        "id": "ATNGD1lHiZBs"
      }
    },
    {
      "cell_type": "markdown",
      "source": [
        "## Referencias Principales: \n",
        "\n",
        "[1] Qingkai Kong, Timmy Siauw, Alexandre Bayen (2020).\n",
        "Python Programming And Numerical Methods: A Guide For Engineers And Scientists\n",
        "\\[Online]. Available: https://pythonnumericalmethods.berkeley.edu/notebooks/Index.html\n",
        "\n",
        "[2] BÁEZ LÓPEZ, David; CERVANTES VILLAGÓMEZ, Ofelia\n",
        "ARÍZAGA SILVA, Juan Antonio ; CASTILLO JUÁREZ, Esteban (2017).\n",
        "Python Con Aplicaciones A Las Matemáticas, Ingeniería y finanzas. Publisher: AlfaOmega; 1st edition.\n",
        "\n",
        "[3] Patricio Poblete. Apuntes del curso CC3001 Algoritmos y Estructuras de Datos.\n",
        "\n",
        "\n",
        "[4] Karumanchi, Narasimha (2015). Data Structure and Algorithmic Thinking with Python: Data Structure and Algorithmic Puzzles. Publisher: CareerMonk Publications; 1st edition.\n",
        "\n",
        "\n",
        "[5] Stroustrup, Bjarne (2014). Programming: Principles and Practice Using C++. Publisher: AddisonWesley Professional; second edition.\n",
        "\n"
      ],
      "metadata": {
        "id": "LO0DX4Y7_sFW"
      }
    },
    {
      "cell_type": "markdown",
      "source": [
        "## Referencias Complementaria: \n",
        "\n",
        "[6] Chan, Jamie (2015). Learn C# Fast and Learn It Well. Master C# Programming with a unique\n",
        "Hands-On Project. Publisher: Learn Coding Fast.\n",
        "\n",
        "[7] Green, Bradley (2013). Programming Problems: Advanced Algorithms (Volume 2). Publisher:\n",
        "CreateSpace Independent Publishing Platform.\n",
        "\n",
        "[8] O'Regan, Gerard (2017). Concise Guide to Software Engineering: From Fundamentals to\n",
        "Application Methods (Undergraduate Topics in Computer Science). Publisher: Springer; 1st ed..\n",
        "\n",
        "[9] William H. Press, Saul A. Teukolsky, et al. (2007). Numerical Recipes 3rd Edition: The Art of\n",
        "Scientific. Publisher: Cambridge University Press; 3 edition.\n",
        "\n"
      ],
      "metadata": {
        "id": "mTYyZsX_nV98"
      }
    },
    {
      "cell_type": "markdown",
      "source": [
        "Además, se sacaron problemas de las siguientes páginas: \n",
        "\n",
        "https://www.hackerrank.com/\n",
        "\n",
        "https://www.geeksforgeeks.org\n",
        "\n"
      ],
      "metadata": {
        "id": "dAhwPG6hdQJn"
      }
    }
  ]
}