{
  "nbformat": 4,
  "nbformat_minor": 0,
  "metadata": {
    "colab": {
      "name": "Modulo 5",
      "provenance": [],
      "collapsed_sections": [],
      "toc_visible": true
    },
    "kernelspec": {
      "name": "python3",
      "display_name": "Python 3"
    },
    "language_info": {
      "name": "python"
    }
  },
  "cells": [
    {
      "cell_type": "markdown",
      "source": [
        "<img height=\"120\" src=\"https://raw.githubusercontent.com/joaquinzepeda/Programacion-Avanzada/main/imgs/cropped-logo-fcfm-die-1.png\">\n",
        "\n",
        "# Curso EL4203 Programación avanzada **Módulo 5**\n",
        "### Por *Joaquin Zepeda Valero*\n",
        "\n",
        "Los objetivos de este módulo son:\n",
        "\n",
        "1. Identifica y analiza algunas metodologías y\n",
        "herramientas usadas para el desarrollo de software.\n",
        "2. Programa mediante el uso de metodologías de diseño\n",
        "y herramientas computacionales, considerando\n",
        "normas de codificación y estándares de calidad para el\n",
        "diseño.\n",
        "3. Valida la ejecución del software, mediante técnicas y\n",
        "herramientas de debugging para diagnosticar errores\n",
        "de programación.\n",
        "4. Evalúa y califica la calidad del proyecto de software,\n",
        "considerando estándares técnicos y ético–\n",
        "profesionales tales como tiempos de ejecución y el uso\n",
        "de memoria.\n",
        "\n",
        "\n",
        "Contenidos:\n",
        "\n",
        "* Normas de codificación.\n",
        "* Estilos de programación.\n",
        "* Sistemas de versiones.\n",
        "* Conceptos de verificación y\n",
        "validación de software.\n",
        "\n",
        "[Referencias](https://colab.research.google.com/drive/1ej3ZGUCJu1pRP7xF0RqS4MbAOYCxvk_6?usp=sharing)"
      ],
      "metadata": {
        "id": "rBn8rOAzgzKi"
      }
    },
    {
      "cell_type": "markdown",
      "source": [
        "# Desarrollo de Software\n",
        "\n",
        "En general cuando se desarrolla un programa, una aplicación o un producto este pasa por diferentes etapas, por un lado está el diseño, la implementación, las pruebas, la mantención, etc. A pesar de todos estos procesos es muy común que los usuarios encuentren errores o problemas y que luego cuando otra persona trata de arreglar esto no entiende el funcionamiento del programa. Pensando en estas cosas dentro del área de la computación se han desarrollado distintos estándares y metodologías de diseño y programación, dentro de las cuales se encuentran la documentación y de testing las cuales se les dará énfasis en este módulo.  \n",
        " \n",
        "La idea general es no solamente desarrollar un código o programa que funcione en ocasiones, sino que otras personas puedan entenderlo y además que este sea probado con pruebas exhaustivas para así evitar que aparezcan muchos problemas a futuro. \n"
      ],
      "metadata": {
        "id": "AFKf38ljfJ8G"
      }
    },
    {
      "cell_type": "markdown",
      "source": [
        "# Diagramas UML\n",
        "\n",
        "El Lenguaje Unificado de Modelado (UML) es una representación gráfica que describe la estructura, interacción y comportamiento del sistema y los objetos que tiene. Se utiliza para diseñar y representar programación orientada a objetos y una de las grandes ventajas de estos son que no dependen del lenguaje de programación, pues los objetos e interacciones se pueden representar sin importar esto. Cuando hay muchas clases en un programa, un diagrama permite comprender de forma más fácil. En general se utiliza para el diseño, la construcción y la documentación en el desarrollo de Software.\n",
        "\n",
        "Algunos editores de texto permiten generar los diagramas UML a partir de código (no solo en Python) realizado, por ejemplo Intellij Idea, PyCharm.\n",
        "\n"
      ],
      "metadata": {
        "id": "0-pROc14yozn"
      }
    },
    {
      "cell_type": "markdown",
      "source": [
        "## Tipos de diagramas\n",
        "\n",
        "Existen distintos tipos de diagramas, algunos más detallados que otros y dependiendo de la forma de los elementos del diagrama representan cosas diferentes (líneas rectas, lineas puntadas, direcciones de las flechas, etc).\n",
        "\n"
      ],
      "metadata": {
        "id": "HQRKF0UMJlQI"
      }
    },
    {
      "cell_type": "markdown",
      "source": [
        "## Diagramas de clases\n",
        "\n",
        "Muchas veces es útil utilizar una representación gráfica de las clases y de como se relacionan entre ellas.\n",
        "\n",
        "<div align=\"center\">\n",
        "<img height=\"150\" src=\"https://raw.githubusercontent.com/joaquinzepeda/Programacion-Avanzada/main/imgs/plantilla_diagrama.png\">\n",
        "</div>\n",
        "\n",
        "En la parte superior se agrega el nombre de la clase, luego los atributos que posee y en la parte inferior  se agregan los métodos que tiene la clase."
      ],
      "metadata": {
        "id": "Vj4Zpc3MhUwx"
      }
    },
    {
      "cell_type": "markdown",
      "source": [
        "### Ejemplo simple: clase Mascota\n",
        "\n",
        "Veamos un ejemplo más complejo, en esta ocasión hay más de una clase y se relacionan por el siguiente diagrama:\n",
        "<div align=\"center\">\n",
        "<img  src=\"https://raw.githubusercontent.com/joaquinzepeda/Programacion-Avanzada/main/imgs/ej_diagrama.png\">\n",
        "</div>\n",
        "En este diagrama se muestra un ejemplo de la Herencia de las clases, existe una clase padre y clases hijas, tanto la clase Perro como Gato heredan los atributos de la clase Mascota y además heredan el método dormir()."
      ],
      "metadata": {
        "id": "w83wIWa13Tf2"
      }
    },
    {
      "cell_type": "code",
      "source": [
        "class Mascota:\n",
        "    def __init__(self,nombre):\n",
        "        self.nombre = nombre\n",
        "        self.isSleep = False\n",
        "    def dormir(self):\n",
        "        self.isSleep = True\n",
        "\n",
        "class Perro(Mascota):\n",
        "    def __init__(self, nombre, tamano):\n",
        "        super().__init__(nombre) # se llama al constructor de la clase padre\n",
        "        self.tamano = tamano\n",
        "    def ladrar(self):\n",
        "        print('Guau guau')\n",
        "class Gato(Mascota):\n",
        "    def __init__(self, nombre):\n",
        "        super().__init__(nombre)\n",
        "    def maullar(self):\n",
        "        print('Miau miau')\n"
      ],
      "metadata": {
        "id": "SN3h4QlVwfpd"
      },
      "execution_count": null,
      "outputs": []
    },
    {
      "cell_type": "code",
      "source": [
        "Firulais = Perro('firulais','Tamaño mediano')\n",
        "Firulais.ladrar()\n",
        "print('El perro se llama ',Firulais.nombre)\n",
        "Michi = Gato('michi')\n",
        "Michi.maullar()"
      ],
      "metadata": {
        "colab": {
          "base_uri": "https://localhost:8080/"
        },
        "id": "sjMtew8Pzh2u",
        "outputId": "e94b5b76-0641-47ea-f420-597e44fd4d24"
      },
      "execution_count": null,
      "outputs": [
        {
          "output_type": "stream",
          "name": "stdout",
          "text": [
            "Guau guau\n",
            "El perro se llama  firulais\n",
            "Miau miau\n"
          ]
        }
      ]
    },
    {
      "cell_type": "markdown",
      "source": [
        "A continuación se presenta un ejemplo de la página [diagrams.net](https://www.diagrams.net/) la cual es gratuita y tiene herramientas para formar diagramas. En este diagrama se representan 4 clases: Person, Address, Student y Professor. Como los estudiantes y los profesores son personas, estos son hijos de la clase Person por lo que heredan sus atributos y métodos. Además cada persona tiene 1 dirección.\n",
        "\n",
        "<div align=\"center\">\n",
        "<img  src=\"https://raw.githubusercontent.com/joaquinzepeda/Programacion-Avanzada/main/imgs/class-diagram-example.png\">\n",
        "</div>\n",
        "\n"
      ],
      "metadata": {
        "id": "s5w-3LzswxNH"
      }
    },
    {
      "cell_type": "markdown",
      "source": [
        "## Diagramas de Objetos \n",
        "\n",
        "Los diagramas de objetos modelan las instancias de elementos contenidos en los diagramas de clases. Estos se utilizan para visualizar, especificar, construir y documentar la existencia de ciertas instancias en el sistema junto a las relaciones entre ellas. \n",
        "\n",
        "En los diagramas de objetos tambien se muestran los atributos y sus valores, a continuación se presenta un ejemplo de estos:\n",
        "\n",
        "<div align=\"center\">\n",
        "<img  src=\"https://raw.githubusercontent.com/joaquinzepeda/Programacion-Avanzada/main/imgs/obj1.png\">\n",
        "</div>\n",
        "\n",
        "En este ejemplo, se modelan 3 objetos que modelan instancias, se modela un Objeto cliente que se guarda con el nombre de Joaquin, y 2 objetos que modelan una clase Contrato. Ambas tienen distintos tipos de atributos, por ejemplo la clase Cliente tiene 2 atributos: \"nombre\" y \"edad\", los cuales tienen sus respectivos valores luego del igual. Veamos un pseudo código de como se representaria esto:\n",
        "\n",
        "```python\n",
        "Joaquin = Cliente(\"Joaquin Z\", 23)\n",
        "primero = Contrato(1,15000000,\"10/08/2005\")\n",
        "segundo = Contrato(2,30000000,\"10/08/2022\")\n",
        "```\n",
        "\n",
        "**Nota:** Se suponen definidas las clases Cliente y Contrato."
      ],
      "metadata": {
        "id": "tWT5j7d0zvXY"
      }
    },
    {
      "cell_type": "markdown",
      "source": [
        "# Documentación\n",
        "Una de las formas de documentar un programa es realizando **diagramas de flujos** de estos. Estos representan la estructura y control del programa y permite evidenciar las posibles opciones que tiene este. \n",
        " \n",
        "Estos diagramas pueden representar los distintos tipos de secciones de un programa como se muestra a continuación:\n",
        "<div align=\"center\">\n",
        "<img  src=\"https://raw.githubusercontent.com/joaquinzepeda/Programacion-Avanzada/main/imgs/diagramas_ej.png\">\n",
        "</div>\n",
        "\n",
        "\n",
        "<center> <h2>Ejemplos Diagrama de flujo</h2> </center>\n",
        " \n",
        "<div align=\"center\">\n",
        "<img  src=\"https://raw.githubusercontent.com/joaquinzepeda/Programacion-Avanzada/main/imgs/Diagrama_de_flujo.png\">\n",
        "</div>\n",
        " \n",
        " \n",
        "Por otro lado, se recomienda utilizar **Grafos de flujo** para mostrar de forma gráfica la estructura y funcionamiento de los programas, puede pensar los Grafos de flujos como un diagrama de flujo resumido, pues se muestran las secuencias de los procesos.\n",
        " \n",
        "<center> <h2>Ejemplo Grafo de flujo</h2> </center>\n",
        "\n",
        "<div align=\"center\">\n",
        "<img  src=\"https://raw.githubusercontent.com/joaquinzepeda/Programacion-Avanzada/main/imgs/Grafos_de_flujo.png\">\n",
        "</div>\n",
        " \n",
        " \n",
        "Cada círculo representa un Nodo y corresponde a una secuencia de cuadros de cuadros de proceso y a un rombo de decisión. Además, las $R_{i}$ representa a las regiones. \n"
      ],
      "metadata": {
        "id": "jZNeyi2hzPCo"
      }
    },
    {
      "cell_type": "markdown",
      "source": [
        "## Complejidad Ciclomática \n",
        "\n",
        "Corresponde a una métrica del software que proporciona una medición cuantitativa de la complejidad lógica de un programa. Es decir, el número de **caminos independientes** del conjunto básico de un programa y el límite superior para el número de pruebas por realizar, para asegurarse que todos los caminos se ejecuten correctamente por lo menos una vez."
      ],
      "metadata": {
        "id": "j4tjd-Jg_Vsg"
      }
    },
    {
      "cell_type": "markdown",
      "source": [
        "# Pruebas de software\n",
        "\n",
        "En un proceso de desarrollo de software existen muchas pruebas posibles (pruebas de comparación, de seguridad, de resistencia, de documentación, interfaces gráficas, etc.), pero dentro del curso se realizará un enfoque a las **pruebas funcionales** del programa (y quizás pruebas de rendimiento). Las pruebas deberian comenzar por lo básico y simple, para luego progresar hacia lo complejo y grande.\n",
        " \n",
        "En general hay 2 tipos de diseños para casos de pruebas de programas:\n",
        " \n",
        "1.   **Prueba de caja negra:** en general se le llama a los modelos de caja negra a los sistemas los cuales se desconoce cómo funcionan, algo similar ocurre con las pruebas de caja negra, en estas pruebas no se testea la estructura interna de cada función pues se desconoce), pero si se realizan *pruebas que demuestren que cada función es completamente operativa*, es decir, que cada función cumple con su trabajo. \n",
        " \n",
        " En resumen, se prueba una función sin saber cómo funciona.\n",
        " \n",
        " En general se estudian las especificaciones de entrada y salida de las funciones buscando derivar casos de prueba. \n",
        " \n",
        " Con estas pruebas se intenta encontrar errores de las siguientes formas:\n",
        " \n",
        "    *   funciones incorrectas o que no existen.\n",
        "    *   errores en estructuras o accesos a bases de datos.\n",
        "    *   errores de rendimiento.\n",
        "    *   errores de inicialización y de término.\n",
        " \n",
        " \n",
        " \n",
        "2.   **Prueba de caja blanca:** Conociendo el funcionamiento del producto, se pueden desarrollar pruebas que aseguren que la operación interna de las funciones cumplan con las especificaciones. \n",
        " \n",
        "    En resumen, como se conoce el funcionamiento de la función se pueden desarrollar tests que comprueben todos los casos por los cuales la función puede pasar con el fin de comprobar el adecuado funcionamiento. \n",
        "    En general se centra en elegir casos de pruebas a partir de la estructura interna del programa. Lo más típico es probar los caminos lógicos más importantes, con el fin de recorrer lo más importante del programa. \n",
        " \n",
        "**Nota:** estas pruebas son no excluyentes.\n"
      ],
      "metadata": {
        "id": "KFDAhhu7zPGE"
      }
    },
    {
      "cell_type": "markdown",
      "source": [
        "En general se recomienda para las pruebas funcionales lo siguiente:\n",
        " \n",
        "1.   Si una condición de entrada debe pertenecer a un rango específico, se define una prueba válida y dos no válidas (refiriéndose a una prueba con un valor dentro del rango y 2 con valores fuera del rango). \n",
        "2.   Si una condición de entrada es lógica, se define una prueba válida y otra no válida.\n",
        "3.   Analizar los valores límites de la función. \n",
        " \n",
        "Cuidado, si una prueba funciona cuando aún no se implementa la función es una mala prueba."
      ],
      "metadata": {
        "id": "AG_9X5Yj3QXR"
      }
    },
    {
      "cell_type": "markdown",
      "source": [
        "# Depuración o Debugging\n",
        "\n",
        "La depuración es una consecuencia de las pruebas, corresponde a identificar y corregir errores de programación. \n",
        " \n",
        "El proceso de la depuración puede y debe ser un proceso ordenado para así no pasar por alto ningún elemento. A pesar de esto, en muchas ocasiones se encuentran los errores utilizando la función ```print()```, pero al trabajar en proyectos más grandes la depuración se vuelve necesaria. \n",
        "\n",
        "En general el testeo corresponde a Testear funciones, clases, programas, etc. Esto se realiza con otra función que comunmente comienza con $test\\_nombre\\_funcion()$. Existen varias librerias que ayudan a testear las aplicaciones dependiendo del lenguaje en que este programado (Unit Test es una libreria famosa con respecto a esto), a continuación se verá la utilización de Pytest. \n"
      ],
      "metadata": {
        "id": "jESvitiG7EyJ"
      }
    },
    {
      "cell_type": "markdown",
      "source": [
        "# Testear Python aplicaciones con *Pytest*\n",
        "\n",
        "En base al blog de Kevin Ndung'u Gathuku, jul 2022. Testing Python Applications with Pytest. Disponible [aqui](https://semaphoreci.com/community/tutorials/testing-python-applications-with-pytest\n",
        ").\n",
        "\n",
        "### Instalar Pytest\n",
        "\n",
        "Pytest es una librería externa, por lo que es necesario instalarla (se recomienda que se instale dentro del entorno creado, más información en el módulo de instalación). \n",
        " \n",
        "```\n",
        "pip install pytest\n",
        "```\n",
        "Nota: Si instala Python mediante Anaconda no es necesario instalar Pytest pues lo instala de forma automática. \n",
        "\n",
        "\n",
        "\n",
        "\n",
        "\n",
        "\n"
      ],
      "metadata": {
        "id": "n7Jw2g2HI_dK"
      }
    },
    {
      "cell_type": "markdown",
      "source": [
        "## Uso Básico\n",
        "\n",
        "Primero es importante que los archivos de Test que se creen tengan el siguiente formato:\n",
        "<center><b>\n",
        "El nombre del archivo debe comenzar con test_ o terminar con $\\_test.py$ \n",
        "</b></center>\n",
        "\n",
        "por ejemplo $test\\_myfuncion.py$ o $myfuncion\\_test.py$. De esta manera Pytest reconoce estos archivos como Tests y los ejecuta con el siguiente comando:\n",
        "\n",
        "```\n",
        "pytest\n",
        "```"
      ],
      "metadata": {
        "id": "LpFzXAMUm1Z5"
      }
    },
    {
      "cell_type": "markdown",
      "source": [
        "## Ejemplo Primera mayúscula (Capital Case)\n",
        " \n",
        "Es un ejemplo similar al Nano desafío 1 el cual correspondía a la función Mayusculas(). Se define la función capital_case la cual recibe un String y retorna el String con la primera letra en mayúsculas. \n"
      ],
      "metadata": {
        "id": "ymc5URltm3Vz"
      }
    },
    {
      "cell_type": "code",
      "source": [
        "def capital_case(x):\n",
        "    return x.capitalize()\n",
        "\n",
        "print(capital_case(\"buenas tardes\"))"
      ],
      "metadata": {
        "colab": {
          "base_uri": "https://localhost:8080/"
        },
        "id": "zHOn7fZLrMAL",
        "outputId": "9d0f9171-87f8-4bdf-80de-6b2f7a47aa0f"
      },
      "execution_count": null,
      "outputs": [
        {
          "output_type": "stream",
          "name": "stdout",
          "text": [
            "Buenas tardes\n"
          ]
        }
      ]
    },
    {
      "cell_type": "markdown",
      "source": [
        "Para testear esta función se crea un archivo el cual se llamará *test_capitalize.py*. En Colab esto se puede realizar utilizando el comando mágico <b> *%%writefile* </b> el cual creará un archivo *.py* (este puede observarse desde la ventana de archivos que se encuentra abajo de la ventana del índice, del buscador y del explorador de variables a la izquierda de la página). De forma local, simplemente se crea un nuevo archivo el cual tenga como extensión *.py*.\n",
        " \n",
        "Además de agregar la función que se quiere Testear se agrega una función la cual funciona como un Test. Nótese que esta función la cual corresponde a un test comienza con *test_*, por lo tanto pytest lo va a reconocer. \n",
        "\n",
        "```python\n",
        "def test_capital_case():\n",
        "    assert capital_case('semaphore') == 'Semaphore'\n",
        "```\n",
        "\n",
        "Esta función tiene como objetivo Testear el correcto funcionamiento de la función *capital_case*."
      ],
      "metadata": {
        "id": "4C852s3prsNX"
      }
    },
    {
      "cell_type": "code",
      "source": [
        "%%writefile test_capitalize.py\n",
        "\n",
        "def capital_case(x):\n",
        "    return x.capitalize()\n",
        "\n",
        "def test_capital_case():\n",
        "    assert capital_case('semaphore') == 'Semaphore'"
      ],
      "metadata": {
        "colab": {
          "base_uri": "https://localhost:8080/"
        },
        "id": "ThvjP3oYr1DJ",
        "outputId": "9dae3dd7-53fc-438d-c470-344f5823d1a8"
      },
      "execution_count": null,
      "outputs": [
        {
          "output_type": "stream",
          "name": "stdout",
          "text": [
            "Overwriting test_capitalize.py\n"
          ]
        }
      ]
    },
    {
      "cell_type": "markdown",
      "source": [
        "Al ejecutar el comando ```pytest``` en la consola, lo cual se puede realizar en Colab anteponiendo un signo !, éste reconoce los Test dentro de la carpeta donde se ejecuta a partir de los nombres de estos. Esto es bastante más simple que los múltiples assert's que se pueden encontrar en los Units tests (existen assertEquals, assertTrue, assertFalse, etc). Se puede observar a continuación que el *primer Test pasa*. "
      ],
      "metadata": {
        "id": "U9M9iJCbtmk-"
      }
    },
    {
      "cell_type": "code",
      "source": [
        "!pytest"
      ],
      "metadata": {
        "colab": {
          "base_uri": "https://localhost:8080/"
        },
        "id": "vWhFZjQotEY-",
        "outputId": "baf7508a-f8b2-4047-b528-66b804583f67"
      },
      "execution_count": null,
      "outputs": [
        {
          "output_type": "stream",
          "name": "stdout",
          "text": [
            "\u001b[1m============================= test session starts ==============================\u001b[0m\n",
            "platform linux -- Python 3.7.13, pytest-3.6.4, py-1.11.0, pluggy-0.7.1\n",
            "rootdir: /content, inifile:\n",
            "plugins: typeguard-2.7.1\n",
            "\u001b[1m\rcollecting 0 items                                                             \u001b[0m\u001b[1m\rcollecting 1 item                                                              \u001b[0m\u001b[1m\rcollected 1 item                                                               \u001b[0m\n",
            "\n",
            "test_capitalize.py .\u001b[36m                                                     [100%]\u001b[0m\n",
            "\n",
            "\u001b[32m\u001b[1m=========================== 1 passed in 0.02 seconds ===========================\u001b[0m\n"
          ]
        }
      ]
    },
    {
      "cell_type": "markdown",
      "source": [
        "## Capturando Errores\n",
        "\n",
        "¿Qué pasa si en vez de pasarle un String a la función se le pasa como argumento un número entero?\n",
        "> Aparece un error para lo cual la función capital_case(x) no está preparada pues no comprueba el tipo del argumento para asegurarse que sea un String. \n",
        " \n",
        "Se busca manejar este caso en nuestra función generando una excepción con un mensaje de error amigable para el usuario para que de esta manera pueda entender que es lo que está pasando. \n",
        " \n",
        "A continuación se muestra como manejar un error, si se dan cuenta se espera que al ejecutar capital_case(9) aparece un error de Tipo (TypeError).\n",
        "\n",
        "\n",
        "```python\n",
        "import pytest\n",
        "\n",
        "def test_raises_exception_on_non_string_arguments():\n",
        "    with pytest.raises(TypeError):\n",
        "        capital_case(9)\n",
        "\n",
        "```\n",
        "\n",
        "En rsumen, *pytest.raises* nos ayuda a verificar que nuestra función arroje un TypeError en caso de que el argumento no sea un string. "
      ],
      "metadata": {
        "id": "W-Q_z8vuuYKr"
      }
    },
    {
      "cell_type": "code",
      "source": [
        "%%writefile test_capitalize.py\n",
        "\n",
        "import pytest\n",
        "\n",
        "def capital_case(x):\n",
        "    return x.capitalize()\n",
        "\n",
        "def test_capital_case():\n",
        "    assert capital_case('semaphore') == 'Semaphore'\n",
        "\n",
        "def test_raises_exception_on_non_string_arguments():\n",
        "    with pytest.raises(TypeError):\n",
        "        capital_case(9)"
      ],
      "metadata": {
        "colab": {
          "base_uri": "https://localhost:8080/"
        },
        "id": "xBWng4Gbu8BG",
        "outputId": "e8c073ff-10da-42ee-f8bb-50a15d7c61f1"
      },
      "execution_count": null,
      "outputs": [
        {
          "output_type": "stream",
          "name": "stdout",
          "text": [
            "Overwriting test_capitalize.py\n"
          ]
        }
      ]
    },
    {
      "cell_type": "code",
      "source": [
        "!pytest"
      ],
      "metadata": {
        "colab": {
          "base_uri": "https://localhost:8080/"
        },
        "id": "NvZyBABSu8Dg",
        "outputId": "c4fcfe33-0f14-4bf0-9839-a0efe39eb4f8"
      },
      "execution_count": null,
      "outputs": [
        {
          "output_type": "stream",
          "name": "stdout",
          "text": [
            "\u001b[1m============================= test session starts ==============================\u001b[0m\n",
            "platform linux -- Python 3.7.13, pytest-3.6.4, py-1.11.0, pluggy-0.7.1\n",
            "rootdir: /content, inifile:\n",
            "plugins: typeguard-2.7.1\n",
            "\u001b[1m\rcollecting 0 items                                                             \u001b[0m\u001b[1m\rcollecting 2 items                                                             \u001b[0m\u001b[1m\rcollected 2 items                                                              \u001b[0m\n",
            "\n",
            "test_capitalize.py .F\u001b[36m                                                    [100%]\u001b[0m\n",
            "\n",
            "=================================== FAILURES ===================================\n",
            "\u001b[31m\u001b[1m________________ test_raises_exception_on_non_string_arguments _________________\u001b[0m\n",
            "\n",
            "\u001b[1m    def test_raises_exception_on_non_string_arguments():\u001b[0m\n",
            "\u001b[1m        with pytest.raises(TypeError):\u001b[0m\n",
            "\u001b[1m>           capital_case(9)\u001b[0m\n",
            "\n",
            "\u001b[1m\u001b[31mtest_capitalize.py\u001b[0m:12: \n",
            "_ _ _ _ _ _ _ _ _ _ _ _ _ _ _ _ _ _ _ _ _ _ _ _ _ _ _ _ _ _ _ _ _ _ _ _ _ _ _ _ \n",
            "\n",
            "x = 9\n",
            "\n",
            "\u001b[1m    def capital_case(x):\u001b[0m\n",
            "\u001b[1m>       return x.capitalize()\u001b[0m\n",
            "\u001b[1m\u001b[31mE       AttributeError: 'int' object has no attribute 'capitalize'\u001b[0m\n",
            "\n",
            "\u001b[1m\u001b[31mtest_capitalize.py\u001b[0m:5: AttributeError\n",
            "\u001b[31m\u001b[1m====================== 1 failed, 1 passed in 0.04 seconds ======================\u001b[0m\n"
          ]
        }
      ]
    },
    {
      "cell_type": "markdown",
      "source": [
        "\n",
        "Como se puede observar el segundo test llamado *test_raises_exception_on_non_string_arguments()* arrojó un *AtributeError*. Para manejar este error se modifica la función capital case de tal manera que reconozca el error, nos informe sobre este y retorne un error. Esto se puede realizar utilizando la función *isinstance()* para comprobar si el argumento x corresponde a una instancia de la clase str, siendo asi\n",
        "\n",
        "```python\n",
        "def capital_case(x):\n",
        "    if not isinstance(x, str):\n",
        "        raise TypeError('Por favor entregue un argumento de tipo string.')\n",
        "      return x.capitalize()\n",
        "```"
      ],
      "metadata": {
        "id": "Xv7bhVouxx70"
      }
    },
    {
      "cell_type": "code",
      "source": [
        "%%writefile test_capitalize.py\n",
        "\n",
        "import pytest\n",
        "\n",
        "def capital_case(x):\n",
        "    if not isinstance(x, str):\n",
        "        raise TypeError('Por favor entregue un argumento de tipo string.')\n",
        "    return x.capitalize()\n",
        "\n",
        "def test_capital_case():\n",
        "    assert capital_case('semaphore') == 'Semaphore'\n",
        "\n",
        "def test_raises_exception_on_non_string_arguments():\n",
        "    with pytest.raises(TypeError):\n",
        "        capital_case(9)"
      ],
      "metadata": {
        "colab": {
          "base_uri": "https://localhost:8080/"
        },
        "id": "8s8IFnUmz6Dh",
        "outputId": "f809e23f-784f-4983-a1ef-0b8b034e1cb3"
      },
      "execution_count": null,
      "outputs": [
        {
          "output_type": "stream",
          "name": "stdout",
          "text": [
            "Overwriting test_capitalize.py\n"
          ]
        }
      ]
    },
    {
      "cell_type": "code",
      "source": [
        "!pytest"
      ],
      "metadata": {
        "colab": {
          "base_uri": "https://localhost:8080/"
        },
        "id": "bdYoxJhFz9KK",
        "outputId": "1ffe0593-48f1-420b-9690-005b8979fe4a"
      },
      "execution_count": null,
      "outputs": [
        {
          "output_type": "stream",
          "name": "stdout",
          "text": [
            "\u001b[1m============================= test session starts ==============================\u001b[0m\n",
            "platform linux -- Python 3.7.13, pytest-3.6.4, py-1.11.0, pluggy-0.7.1\n",
            "rootdir: /content, inifile:\n",
            "plugins: typeguard-2.7.1\n",
            "\u001b[1m\rcollecting 0 items                                                             \u001b[0m\u001b[1m\rcollecting 2 items                                                             \u001b[0m\u001b[1m\rcollected 2 items                                                              \u001b[0m\n",
            "\n",
            "test_capitalize.py ..\u001b[36m                                                    [100%]\u001b[0m\n",
            "\n",
            "\u001b[32m\u001b[1m=========================== 2 passed in 0.03 seconds ===========================\u001b[0m\n"
          ]
        }
      ]
    },
    {
      "cell_type": "markdown",
      "source": [
        "De esta manera el error detectado por el Test fue manejado y solucionado, logrando pasar asi los 2 test propuestos. Finalmente quedá así:\n",
        "\n",
        "```python\n",
        "# test_capitalize.py\n",
        "import pytest\n",
        "\n",
        "def capital_case(x):\n",
        "    if not isinstance(x, str):\n",
        "        raise TypeError('Por favor entregue un argumento de tipo string.')\n",
        "    return x.capitalize()\n",
        "\n",
        "def test_capital_case():\n",
        "    assert capital_case('semaphore') == 'Semaphore'\n",
        "\n",
        "def test_raises_exception_on_non_string_arguments():\n",
        "    with pytest.raises(TypeError):\n",
        "        capital_case(9)\n",
        "```\n",
        "\n",
        "**Nota:** en caso de que la función arroje otro tipo de error, no pasará los Test y tiene que volver a analizar los problemas que pueda tener. "
      ],
      "metadata": {
        "id": "ijMWyk29yfS4"
      }
    },
    {
      "cell_type": "markdown",
      "source": [
        "# Uso más avanzado de Pytest en un pequeño proyecto\n",
        "\n",
        "En un proyecto utilizando programación orientada a objetos se pueden realizar test's de forma similar a lo visto anteriormente. \n",
        "\n"
      ],
      "metadata": {
        "id": "SSMgWbBaLcbp"
      }
    },
    {
      "cell_type": "code",
      "source": [
        "%%writefile wallet.py\n",
        "\n",
        "class InsufficientAmount(Exception):\n",
        "    pass\n",
        "\n",
        "\n",
        "class Wallet(object):\n",
        "\n",
        "    def __init__(self, initial_amount=0):\n",
        "        self.balance = initial_amount\n",
        "\n",
        "    def spend_cash(self, amount):\n",
        "        if self.balance < amount:\n",
        "            raise InsufficientAmount('Not enough available to spend {}'.format(amount))\n",
        "        self.balance -= amount\n",
        "\n",
        "    def add_cash(self, amount):\n",
        "        self.balance += amount"
      ],
      "metadata": {
        "colab": {
          "base_uri": "https://localhost:8080/"
        },
        "id": "hLNhojnwHHzP",
        "outputId": "3db1739b-6190-4200-804b-8f5d88e87203"
      },
      "execution_count": null,
      "outputs": [
        {
          "output_type": "stream",
          "name": "stdout",
          "text": [
            "Writing wallet.py\n"
          ]
        }
      ]
    },
    {
      "cell_type": "markdown",
      "source": [
        "El siguiente código corresponde a un Test, el cual si bien cumple con los objetivos, no está optimizado, repite bastante código como la inialización de wallet(), esto se puede mejorar utilizando fixtures, para más información sobre las fixtures ver la documentación."
      ],
      "metadata": {
        "id": "xFv76vpBINeh"
      }
    },
    {
      "cell_type": "code",
      "source": [
        "%%writefile test_wallet.py\n",
        "\n",
        "import pytest\n",
        "from wallet import Wallet, InsufficientAmount\n",
        "\n",
        "\n",
        "def test_default_initial_amount():\n",
        "    wallet = Wallet()\n",
        "    assert wallet.balance == 0\n",
        "\n",
        "def test_setting_initial_amount():\n",
        "    wallet = Wallet(100)\n",
        "    assert wallet.balance == 100\n",
        "\n",
        "def test_wallet_add_cash():\n",
        "    wallet = Wallet(10)\n",
        "    wallet.add_cash(90)\n",
        "    assert wallet.balance == 100\n",
        "\n",
        "def test_wallet_spend_cash():\n",
        "    wallet = Wallet(20)\n",
        "    wallet.spend_cash(10)\n",
        "    assert wallet.balance == 10\n",
        "\n",
        "def test_wallet_spend_cash_raises_exception_on_insufficient_amount():\n",
        "    wallet = Wallet()\n",
        "    with pytest.raises(InsufficientAmount):\n",
        "        wallet.spend_cash(100)"
      ],
      "metadata": {
        "colab": {
          "base_uri": "https://localhost:8080/"
        },
        "id": "ygPnCgd8HdyN",
        "outputId": "3933886d-3bf7-4186-8db6-8dc665bb26b9"
      },
      "execution_count": null,
      "outputs": [
        {
          "output_type": "stream",
          "name": "stdout",
          "text": [
            "Writing test_wallet.py\n"
          ]
        }
      ]
    },
    {
      "cell_type": "markdown",
      "source": [
        "Se puede agregar el flag ```-q/--quiet ``` para que solo muestre el resultado de los test. Además si se tiene más de un test, se puede especificar el archivo el cual se quiere ejecutar agregando el nombre como se muestra a continuación:"
      ],
      "metadata": {
        "id": "OwLcscNeIIdm"
      }
    },
    {
      "cell_type": "code",
      "source": [
        "!pytest -q test_wallet.py"
      ],
      "metadata": {
        "colab": {
          "base_uri": "https://localhost:8080/"
        },
        "id": "0RRLKclGH0hf",
        "outputId": "c9b04703-00ba-46db-919f-1c195a6c8891"
      },
      "execution_count": null,
      "outputs": [
        {
          "output_type": "stream",
          "name": "stdout",
          "text": [
            ".....\u001b[36m                                                                    [100%]\u001b[0m\n",
            "\u001b[32m\u001b[1m5 passed in 0.01 seconds\u001b[0m\n"
          ]
        }
      ]
    },
    {
      "cell_type": "markdown",
      "source": [
        "# Testear Notebook's con nbmake\n",
        "\n",
        "[nbmake](https://github.com/treebeardtech/nbmake) **corresponde a un plugin de Pytest, el cual automatiza el testeo de notebooks**. \n",
        " \n",
        "Para instalar esta librería se puede utilizar pip:\n",
        " \n",
        "```\n",
        "pip install nbmake\n",
        "```\n",
        "Luego para verificar que todo funciona correctamente, se recomienda la primera vez ejecutar el siguiente comando para comprobar que reconoce los $n$ archivos con terminación ```.ipynb``` que corresponden a los notebooks.\n",
        " \n",
        "```\n",
        "pytest --collect-only --nbmake \"./ipynb\" \n",
        "```\n",
        "En caso de tener 3 notebooks en la carpeta debería printear varias cosas entre ellas el fragmento a continuación: \n",
        " \n",
        "```\n",
        "collected 3 items           \n",
        "============================= 3 tests collected in 0.01s =============================\n",
        "```\n",
        " \n",
        "## Comando para Testear\n",
        "El siguiente comando permite testear todos los notebooks que hay en una carpeta, pero también se puede especificar para que se ejecute un solo notebook\n",
        " \n",
        "```\n",
        "pytest --nbmake \"./ipynb\"\n",
        "```\n",
        " \n",
        "Al igual que para las aplicaciones de Python, los nombres de los notebooks que contengan test's deben llamarse \n",
        " \n",
        "```\n",
        "test_nombre_archivo.ipynb\n",
        "```\n",
        " \n",
        " \n",
        "**Nota:** se debe tener pytest instalado también.\n"
      ],
      "metadata": {
        "id": "qepaR9wwzdo8"
      }
    },
    {
      "cell_type": "markdown",
      "source": [
        "# Referencias Testing\n",
        "\n",
        "[1] Kevin Ndung'u Gathuku (2022). Testing Python Applications with Pytest. Available: \n",
        "https://semaphoreci.com/community/tutorials/testing-python-applications-with-pytest\n",
        "\n",
        "[2] Alex Remedios (2021). Códigos simples de pruebas básicas en Jupyter/Python\n",
        "How to Test Jupyter Notebooks with Pytest and Nbmake. Available:\n",
        "https://semaphoreci.com/blog/test-jupyter-notebooks-with-pytest-and-nbmake\n",
        "\n"
      ],
      "metadata": {
        "id": "_tLBwSP0nWqU"
      }
    }
  ]
}