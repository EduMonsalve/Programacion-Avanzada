{
  "nbformat": 4,
  "nbformat_minor": 0,
  "metadata": {
    "colab": {
      "name": "Modulo 3",
      "provenance": [],
      "toc_visible": true
    },
    "kernelspec": {
      "name": "python3",
      "display_name": "Python 3"
    },
    "language_info": {
      "name": "python"
    }
  },
  "cells": [
    {
      "cell_type": "markdown",
      "source": [
        "<img height=\"120\" src=\"https://raw.githubusercontent.com/joaquinzepeda/Programacion-Avanzada/main/imgs/cropped-logo-fcfm-die-1.png\">\n",
        "\n",
        "# Curso EL4203 Programación avanzada **Módulo 3**\n",
        "### Por *Joaquin Zepeda Valero*, basado en los apuntes del curso \"CC3001 Algoritmos y Estructuras de Datos\" realizados por *Patricio Poblete*.\n",
        "\n",
        "Los objetivos de este módulo son:\n",
        "\n",
        "1. Distinguir y analizar diferentes métodos para búsqueda\n",
        "y ordenamiento.\n",
        "2. Seleccionar los métodos de búsqueda y ordenamiento\n",
        "más adecuados para resolver un problema.\n",
        "3. Resolver problemas de Ingeniería Eléctrica,\n",
        "procesando información mediante búsquedas y\n",
        "ordenamientos.\n",
        "4. Implementar la solución de problemas en un lenguaje\n",
        "de programación.\n",
        "5. Aplicar los métodos de búsquedas y ordenamientos, por\n",
        "ejemplo, en problemas de optimización y en análisis de\n",
        "datos.\n",
        "\n",
        "Contenidos:\n",
        "\n",
        "* Búsqueda secuencial y binaria\n",
        "* Árboles de búsqueda binaria y\n",
        "balanceados.\n",
        "* Hashing.\n",
        "* Algoritmos de ordenación.\n",
        "(quicksort, heapsort, mergesort,\n",
        "etc.)\n",
        "* Casos de estudio de búsqueda y\n",
        "ordenamientos\n",
        "\n",
        "[Referencias](https://colab.research.google.com/drive/1ej3ZGUCJu1pRP7xF0RqS4MbAOYCxvk_6?usp=sharing)"
      ],
      "metadata": {
        "id": "uoVg1XgfNzpT"
      }
    },
    {
      "cell_type": "markdown",
      "source": [
        "# Búsqueda secuencial y binaria\n",
        "\n",
        "Existen distintos algoritmos de búsqueda los cuales varían en complejidad, eficiencia, etc. En general buscar datos siempre es algo que se necesita en cualquier aplicación. A continuación se presentan 2 tipos de búsquedas.\n",
        "\n",
        ">   **Búsqueda secuencial:** corresponde a la búsqueda más intuitiva, se compara el elemento que se busca con cada elento del arreglo/lista enlazada (o en el caso de un árbol, en cada nodo), de esta manera se va revisando los elementos hasta encontrar el elemento buscado (se asume que todos los elementos están desordenados). En el mejor de los casos se encuentra el elemento con $1$ comparación y en el peor de los casos se encuentra con $n$ comparaciones siendo $n$ el largo del arreglo. La complejidad corresponde a $O(n)$.\n",
        "\n",
        "\n",
        ">  **Búsqueda binaria:** asume que los elementos están ordenados. La Búsqueda Binaria, compara si el valor buscado está en la mitad superior o inferior. En la que esté, se vuelve a realizar esta búsqueda en el nuevo sub arreglo y así sucesivamente hasta encontrar el valor. La búsqueda con estos algoritmos tienen complejidad de $O(\\log{n})$, siendo más eficiente que la búsqueda secuencial.\n",
        "\n"
      ],
      "metadata": {
        "id": "Vbw_UbzTWIZQ"
      }
    },
    {
      "cell_type": "markdown",
      "metadata": {
        "id": "_J9bS7IocAR1"
      },
      "source": [
        "# Árboles de Busqueda Binaria\n",
        "\n",
        "Este es un tipo especial de árbol binario, llamado *árbol de búsqueda binaria* (*ABB*), que **se caracteriza porque para cada nodo, sus hijos descendientes hacia la izquierda son menores que él, y los de la derecha son mayores**, además todos los elementos del subarbol izquierdo al deben ser menores a la raiz y todos los elementos del subarbol derecho deben ser mayores a la raiz. En resumen:\n",
        "* El sub árbol izquierdo de un nodo X debe solo contener elementos con info menores a la info del nodo X.\n",
        "* El sub árbol derecho de un nodo X debe solo contener elementos con info mayores a la info del nodo X.\n",
        "* Los sub árboles izquierdo y derecho tienen que ser también ABB's.\n",
        "\n",
        "\n",
        "<div align=\"center\">\n",
        "<img src=\"https://raw.githubusercontent.com/joaquinzepeda/Programacion-Avanzada/main/imgs/regla_abb.png\">\n",
        "</div>\n",
        "\n",
        "A continuación se muestran 2 ejemplos, el árbol de la izquierda cumple con las condiciones de los Abb's, pero en el árbol de la derecha se puede observar que hay un elemento menor que la raiz en el sub árbol derecho, por lo que no es un Abb.\n",
        "\n",
        "<div align=\"center\">\n",
        "<img src=\"https://raw.githubusercontent.com/joaquinzepeda/Programacion-Avanzada/main/imgs/abb_ej.png\">\n",
        "</div>\n",
        "\n",
        "A continuación se muestra un ejemplo más complejo:\n",
        "\n",
        "![ejemplo-ABB](https://github.com/ppoblete/AED/blob/master/ejemplo-ABB.png?raw=1)\n",
        "\n",
        "\n",
        "Un nodo apunta hacia abajo a sus hijos (izquierdo y derecho), y se dice que es el *padre* de ellos. Yendo desde un nodo hacia abajo se encuentran sus *descendientes*, y hacia arriba se encuentran sus *ancestros*.\n",
        "\n",
        "\n",
        "![Nodo-arbol-binario](https://github.com/ppoblete/AED/blob/master/Nodo-arbol-binario.png?raw=1)\n",
        "\n",
        "Al dibujarlo con nodos circulares, normalmente las líneas no llevan flecha, porque se entiende que apuntan hacia abajo:\n",
        "\n",
        "![Nodo-arbol-binario-circular](https://github.com/ppoblete/AED/blob/master/Nodo-arbol-binario-circular.png?raw=1)\n",
        "\n",
        " Todo esto permite que la busqueda dentro de estos árboles sea eficiente. Esta estructura de datos es muy famosa!, a continuación se presenta una posible implementación."
      ]
    },
    {
      "cell_type": "code",
      "metadata": {
        "id": "9idcMoGKcAR2"
      },
      "source": [
        "class Nodo:\n",
        "    def __init__(self, izq, info, der):\n",
        "        self.izq=izq\n",
        "        self.info=info\n",
        "        self.der=der"
      ],
      "execution_count": null,
      "outputs": []
    },
    {
      "cell_type": "markdown",
      "source": [
        "\n",
        "Si el nodo  *b*   es descendiente del nodo  *a* , se dice que la distancia entre  *a* y  *b*   es el número de pasos que hay que dar para ir de  *a*  a  *b*  . La máxima distancia entre la raíz y una hoja se llama la **altura del árbol**. En el ejemplo, la altura es  3.\n",
        "\n",
        "La altura máxima de un abb con $n$ nodos internos es $n$, y la altura mínima es $\\lceil \\log_2{(n+1)} \\rceil$. Esto último es una consecuencia de que un abb de altura $h$ puede tener a lo más $2^h$ nodos externos.\n"
      ],
      "metadata": {
        "id": "JtxEO9Rk7HRI"
      }
    },
    {
      "cell_type": "code",
      "metadata": {
        "id": "UT_wwk8PcASC"
      },
      "source": [
        "class ABB:\n",
        "    def __init__(self,raiz=None):\n",
        "        self.raiz=raiz"
      ],
      "execution_count": null,
      "outputs": []
    },
    {
      "cell_type": "markdown",
      "metadata": {
        "id": "0OfPA1VIcASN"
      },
      "source": [
        "### Recorridos de Árboles Binarios\n",
        "\n",
        "Un árbol binario es una estructura esencialmente recursiva, y las principales formas de recorrer un árbol se definen también recursivamente.\n",
        "Los tres tipos de recorridos más conocidos son:\n",
        "\n",
        "* Preorden: Visitar la raíz, recorrer el subárbol izquierdo y recorrer el subárbol derecho\n",
        "\n",
        "* Indorden: Recorrer el subárbol izquierdo, visitar la raíz y recorrer el subárbol derecho\n",
        "\n",
        "* Postorden: Recorrer el subárbol izquierdo, recorrer el subárbol derecho y visitar la raíz\n",
        "\n",
        "A continuación agregamos a la definición de la clase tres métodos que imprimen en contenido del árbol en estos recorridos:"
      ]
    },
    {
      "cell_type": "code",
      "metadata": {
        "id": "Y17mLMlScASN"
      },
      "source": [
        "def pre(p):\n",
        "    if p is not None:\n",
        "        print(p.info,end=\" \")\n",
        "        pre(p.izq)\n",
        "        pre(p.der)\n",
        "\n",
        "def ino(p):\n",
        "    if p is not None:\n",
        "        ino(p.izq)\n",
        "        print(p.info,end=\" \")\n",
        "        ino(p.der)\n",
        "\n",
        "def post(p):\n",
        "    if p is not None:\n",
        "        post(p.izq)\n",
        "        post(p.der)\n",
        "        print(p.info,end=\" \")\n",
        "        \n",
        "class ABB:\n",
        "    def __init__(self,raiz=None):\n",
        "        self.raiz=raiz\n",
        "        \n",
        "    def preorden(self):\n",
        "        print(\"Preorden:\", end=\" \")\n",
        "        pre(self.raiz)\n",
        "        print()\n",
        "        \n",
        "    def inorden(self):\n",
        "        print(\"Inorden:\", end=\" \")\n",
        "        ino(self.raiz)\n",
        "        print()\n",
        "        \n",
        "    def postorden(self):\n",
        "        print(\"Postorden:\", end=\" \")\n",
        "        post(self.raiz)\n",
        "        print()\n"
      ],
      "execution_count": null,
      "outputs": []
    },
    {
      "cell_type": "markdown",
      "source": [
        "Definamos un arbol para poder ejemplificar:"
      ],
      "metadata": {
        "id": "i_AV7zx-LhcO"
      }
    },
    {
      "cell_type": "code",
      "metadata": {
        "id": "qTIM84SBcAS1"
      },
      "source": [
        "a=ABB(\n",
        "    Nodo(\n",
        "        Nodo(\n",
        "            Nodo(None,2,None),\n",
        "            5,\n",
        "            Nodo(\n",
        "                None,\n",
        "                7,\n",
        "                None\n",
        "            )\n",
        "        ),\n",
        "        10,\n",
        "        Nodo(\n",
        "            Nodo(\n",
        "                None,\n",
        "                12,\n",
        "                None\n",
        "            ),\n",
        "            15,\n",
        "            Nodo(\n",
        "                None,\n",
        "                20,\n",
        "                None\n",
        "            )\n",
        "        )\n",
        "       )\n",
        ")"
      ],
      "execution_count": null,
      "outputs": []
    },
    {
      "cell_type": "code",
      "metadata": {
        "id": "GUxu0Dz9cATY",
        "colab": {
          "base_uri": "https://localhost:8080/"
        },
        "outputId": "5c991218-21d2-4e7a-aaf2-b11c19390d20"
      },
      "source": [
        "a.preorden()\n",
        "a.inorden()\n",
        "a.postorden()"
      ],
      "execution_count": null,
      "outputs": [
        {
          "output_type": "stream",
          "name": "stdout",
          "text": [
            "Preorden: 10 5 2 7 15 12 20 \n",
            "Inorden: 2 5 7 10 12 15 20 \n",
            "Postorden: 2 7 5 12 20 15 10 \n"
          ]
        }
      ]
    },
    {
      "cell_type": "markdown",
      "source": [
        "Se puede notar que por los principios en los que se construyen los árboles de busqeda binarios al recorrer el árbol en inorden produce una lista ordenada (menor a mayor)."
      ],
      "metadata": {
        "id": "yF7ECeAsTAns"
      }
    },
    {
      "cell_type": "markdown",
      "source": [
        "Utilizando una función auxiliar se puede observar la forma del árbol."
      ],
      "metadata": {
        "id": "aNFMRW6ZTOdf"
      }
    },
    {
      "cell_type": "code",
      "source": [
        "!git clone https://github.com/joaquinzepeda/Programacion-Avanzada.git\n",
        "%cd Programacion-Avanzada/funciones_auxiliares\n",
        "from printTree import print2D"
      ],
      "metadata": {
        "id": "Qb2_OsoEVApq",
        "colab": {
          "base_uri": "https://localhost:8080/"
        },
        "outputId": "e66902d5-1f15-45e9-f52a-6fbbd075bd4b"
      },
      "execution_count": null,
      "outputs": [
        {
          "output_type": "stream",
          "name": "stdout",
          "text": [
            "Cloning into 'Programacion-Avanzada'...\n",
            "remote: Enumerating objects: 128, done.\u001b[K\n",
            "remote: Counting objects: 100% (128/128), done.\u001b[K\n",
            "remote: Compressing objects: 100% (109/109), done.\u001b[K\n",
            "remote: Total 128 (delta 41), reused 101 (delta 17), pack-reused 0\u001b[K\n",
            "Receiving objects: 100% (128/128), 1.45 MiB | 4.52 MiB/s, done.\n",
            "Resolving deltas: 100% (41/41), done.\n",
            "/content/Programacion-Avanzada/funciones_auxiliares\n"
          ]
        }
      ]
    },
    {
      "cell_type": "code",
      "source": [
        "print2D(a.raiz)"
      ],
      "metadata": {
        "colab": {
          "base_uri": "https://localhost:8080/"
        },
        "id": "QsfQlQnaXkif",
        "outputId": "5928063f-7564-4a8d-aa09-b75a7750462b"
      },
      "execution_count": null,
      "outputs": [
        {
          "output_type": "stream",
          "name": "stdout",
          "text": [
            "\n",
            "                    20\n",
            "\n",
            "          15\n",
            "\n",
            "                    12\n",
            "\n",
            "10\n",
            "\n",
            "                    7\n",
            "\n",
            "          5\n",
            "\n",
            "                    2\n"
          ]
        }
      ]
    },
    {
      "cell_type": "markdown",
      "source": [
        "## Buscar elementos en Árboles de busqueda binarios\n",
        "\n",
        "Buscar elementos en un ABB es $O(\\log{n})$ (bastante eficiente debido a su estructura), si los elementos que hay en el sub árbol izquierdo son menores al valor del elemento que se busca, se salta a buscar en el sub árbol derecho sin buscar en el sub árbol izquierdo, lo mismo con el sub árbol derecho. Esto permite optimizar los tiempos de busqueda. En resumen se busca en el sub árbol izquierdo o derecho, pero no en ambos (y esto no solo se puede hacer con la raiz, se puede hacer con los sub árboles también).\n",
        "\n",
        "A continuación se muestra un ejemplo de implementación de esta busqueda binaria:\n"
      ],
      "metadata": {
        "id": "FF1OaV6zaDBL"
      }
    },
    {
      "cell_type": "code",
      "source": [
        "# función que busca un nodo que contenga de info el valor de x y retorna el nodo\n",
        "def buscar(raiz, x):\n",
        "    p = raiz #nodo actual\n",
        "    while p is not None and x!=p.info:\n",
        "        if x<p.info:  # si es menor que la raiz del nodo actual\n",
        "            p = p.izq #avanzamos al sub árbol izquierdo\n",
        "        else:\n",
        "            p = p.der #avanzamos al sub árbol derecho\n",
        "    return p"
      ],
      "metadata": {
        "id": "ZaGT1_0R1-uX"
      },
      "execution_count": null,
      "outputs": []
    },
    {
      "cell_type": "code",
      "source": [
        "encontrado = buscar(a.raiz,10)\n",
        "print(encontrado.info)"
      ],
      "metadata": {
        "colab": {
          "base_uri": "https://localhost:8080/"
        },
        "id": "jVHAiof02v9R",
        "outputId": "a65da1b6-1aa2-4114-b713-0b6a57a941ae"
      },
      "execution_count": null,
      "outputs": [
        {
          "output_type": "stream",
          "name": "stdout",
          "text": [
            "10\n"
          ]
        }
      ]
    },
    {
      "cell_type": "code",
      "source": [
        "no_encontrado = buscar(a.raiz,100)\n",
        "print(no_encontrado)"
      ],
      "metadata": {
        "colab": {
          "base_uri": "https://localhost:8080/"
        },
        "id": "Uj5cP6-T1-M9",
        "outputId": "2b464177-3bf3-4b59-edec-a282a993f0fe"
      },
      "execution_count": null,
      "outputs": [
        {
          "output_type": "stream",
          "name": "stdout",
          "text": [
            "None\n"
          ]
        }
      ]
    },
    {
      "cell_type": "code",
      "source": [
        "def buscar_recursivo(raiz, x):\n",
        "    p = raiz #nodo actual\n",
        "    if p.info == x:\n",
        "        return p\n",
        "    elif x<p.info:  # si es menor que la raiz del nodo actual\n",
        "        buscar_recursivo(p.izq,x) #buscamos en el subarbol izquierdo\n",
        "    else:\n",
        "        buscar_recursivo(p.der,x) #buscamos en el subarbol derecho"
      ],
      "metadata": {
        "id": "SrqO0g9Z3bV4"
      },
      "execution_count": null,
      "outputs": []
    },
    {
      "cell_type": "code",
      "source": [
        "encontrado_rec = buscar_recursivo(a.raiz,10)\n",
        "print(encontrado_rec.info)\n",
        "no_encontrado_rec = buscar(a.raiz,100)\n",
        "print(no_encontrado_rec)"
      ],
      "metadata": {
        "colab": {
          "base_uri": "https://localhost:8080/"
        },
        "id": "pIr235lU4B-w",
        "outputId": "685e5458-10f4-48a2-96d5-58ce0704fbce"
      },
      "execution_count": null,
      "outputs": [
        {
          "output_type": "stream",
          "name": "stdout",
          "text": [
            "10\n",
            "None\n"
          ]
        }
      ]
    },
    {
      "cell_type": "markdown",
      "source": [
        "## Eliminar un elemento en un árbol de búsqueda binaria\n",
        "\n",
        "Eliminar un nodo de un ABB es una operación un poco más complicada que las otras, esto se debe a que el elemento a eliminar puede no ser un nodo hoja, para eliminar primero es necesario determinar la ubicación del elemento en cuestión, luego se analizan los siguientes casos:\n",
        "\n",
        "* **El nodo a eliminar no tiene hijos:** \n",
        "El elemento a eliminar corresponde al $nodo$ que contiene al $5$, simplemente se cambia el puntero del nodo padre que corresponde al nodo 4 y cambia el puntero para que de esta manera este apunte a None.  \n",
        "\n",
        "\n",
        "```\n",
        "Ejemplo de casos:\n",
        "              7                              7\n",
        "           /     \\         delete(2)       /    \\\n",
        "          4        9       --------->     4      9 \n",
        "         /  \\    /  \\                      \\    /  \\ \n",
        "        2    5  6    8                      5  6    8\n",
        "```\n",
        "\n",
        "\n",
        "\n",
        "* **El nodo a eliminar tiene 1 hijo:**\n",
        "En este caso cambiamos el puntero del nodo padre al nodo por eliminar, para que apunte al único hijo del nodo a eliminar, luego de esto se elimina el nodo.\n",
        "Esto se ejemplifica con la figura a continuación, se elimina el $nodo$ $5$ que tiene 1 solo hijo, se cambia el puntero del nodo padre que corresponde al nodo 4 y cambia el puntero para de esta manera este apunte al nodo 2.\n",
        "\n",
        "```\n",
        "              6                              6\n",
        "           /     \\         delete(4)      /    \\\n",
        "           2      9       --------->     2      9 \n",
        "         /  \\    /  \\                   / \\    /  \\ \n",
        "        1    4  6   8                  1   3    6   8\n",
        "            /\n",
        "           3 \n",
        "```\n",
        "\n",
        "\n",
        "\n",
        "* **El nodo a eliminar tiene 2 hijos:** Existen 2 opciones:\n",
        "    1. Seleccionar del subárbol izquierdo el nodo de mayor valor para que ocupe el lugar del nodo que se quiere eliminar.\n",
        "    2. Seleccionar del subárbol derecho el nodo de menor valor para que ocupe el lugar del nodo que se quiere eliminar.\n",
        "\n",
        "```\n",
        "           4                                   4 \n",
        "         /    \\       opcion1:delete(9)      /  \\\n",
        "        2      9       --------->           2    7 \n",
        "              /  \\                              / \\\n",
        "             6    15                           6   15\n",
        "            / \\   / \\                         /    / \\\n",
        "           5   7 10  16                      5    10  16\n",
        "\n",
        "            4                                   4 \n",
        "          /    \\       opcion2:delete(9)      /   \\\n",
        "         2     9       --------->            2    10 \n",
        "              /  \\                               /  \\\n",
        "            6    15                             6    15\n",
        "           / \\   / \\                           / \\     \\\n",
        "          5  7  10  16                        5   7    16\n",
        "```\n",
        "\n"
      ],
      "metadata": {
        "id": "YzZwHEGTaIRW"
      }
    },
    {
      "cell_type": "code",
      "source": [
        "# el mayor valor se encuentra siempre en el sub árbol derecho\n",
        "def maxValue(nodo):\n",
        "    p = nodo\n",
        "    while p.der is not None:\n",
        "        p = p.der #avanzamos por la derecha hasta llegar al último valor\n",
        "    return p\n",
        "# el menor valor se encuentra siempre en el sub árbol izquierdo\n",
        "def minValue(nodo):\n",
        "    p = nodo\n",
        "    while p.izq is not None:\n",
        "        p = p.izq #avanzamos por la izquierda hasta llegar al último valor\n",
        "    return p\n",
        "\n",
        "def eliminar(raiz,x):\n",
        "    \"\"\"\n",
        "    Elimina un nodo de un árbol de busqueda binario.\n",
        "    \"\"\"\n",
        "\n",
        "    # Caso base\n",
        "    if raiz is None:\n",
        "        return None\n",
        "    \n",
        "    if x < raiz.info:\n",
        "        raiz.izq = eliminar(raiz.izq,x)\n",
        "    elif x>raiz.info:\n",
        "        raiz.der = eliminar(raiz.der,x)\n",
        "    else: #estamos posicionados en el elemento a eliminar, raiz.info == x\n",
        "        \n",
        "        # Caso 1 y 2: un solo hijo o ninguno\n",
        "        if raiz.izq is None:\n",
        "            p = raiz.der\n",
        "            raiz = None #eliminamos el nodo en el que estamos posicionados\n",
        "            return p # devolvemos el nodo hijo del eliminado\n",
        "        \n",
        "        elif raiz.der is None:\n",
        "            p = raiz.izq\n",
        "            raiz = None #eliminamos el nodo en el que estamos posicionados\n",
        "            return p # devolvemos el nodo hijo del eliminado\n",
        "\n",
        "        # Caso 3: raiz.izq != None & raiz.der != None (2 hijos)\n",
        "\n",
        "        #--------- opción 1--------\n",
        "        p = maxValue(raiz.izq) # utilizando el mayor valor del árbol izquierdo como reemplazo\n",
        "        raiz.info = p.info # se reemplaza el nodo a eliminar\n",
        "        raiz.izq = eliminar(raiz.izq,p.info) #se elimina el nodo que se reemplazó\n",
        "\n",
        "        #--------- opción 2--------\n",
        "        '''\n",
        "        p = minValue(raiz.der)\n",
        "        raiz.info = p.info # se reemplaza el nodo a eliminar\n",
        "        raiz.der = eliminar(raiz.der,p.info) #se elimina el nodo que se reemplazó\n",
        "        '''\n",
        "\n",
        "    return raiz\n"
      ],
      "metadata": {
        "id": "deUJyrAZ4bRa"
      },
      "execution_count": null,
      "outputs": []
    },
    {
      "cell_type": "code",
      "source": [
        "print('Caso 1')\n",
        "eliminar(a.raiz,2)\n",
        "print2D(a.raiz)\n",
        "print('\\n')\n",
        "\n",
        "print('Caso 2')\n",
        "eliminar(a.raiz,5)\n",
        "print2D(a.raiz)\n",
        "print('\\n')\n",
        "print('Caso 3')\n",
        "eliminar(a.raiz,15)\n",
        "print2D(a.raiz)\n",
        "print('\\n')"
      ],
      "metadata": {
        "colab": {
          "base_uri": "https://localhost:8080/"
        },
        "id": "VPPd1FlulE9y",
        "outputId": "70f902ba-b8c7-40c8-98b5-0f827f3fe12c"
      },
      "execution_count": null,
      "outputs": [
        {
          "output_type": "stream",
          "name": "stdout",
          "text": [
            "Caso 1\n",
            "\n",
            "                    20\n",
            "\n",
            "          15\n",
            "\n",
            "                    12\n",
            "\n",
            "10\n",
            "\n",
            "                    7\n",
            "\n",
            "          5\n",
            "\n",
            "\n",
            "Caso 2\n",
            "\n",
            "                    20\n",
            "\n",
            "          15\n",
            "\n",
            "                    12\n",
            "\n",
            "10\n",
            "\n",
            "          7\n",
            "\n",
            "\n",
            "Caso 3\n",
            "\n",
            "                    20\n",
            "\n",
            "          12\n",
            "\n",
            "10\n",
            "\n",
            "          7\n",
            "\n",
            "\n"
          ]
        }
      ]
    },
    {
      "cell_type": "markdown",
      "source": [
        "# Nano Desafío 10: Insertar nodo en árbol de busqueda binario\n",
        "\n",
        "**Problema:** Complete la función $insertar(nodoraiz,info)$, el cual inserta un nuevo nodo en el árbol cumpliendo con las reglas de este. \n",
        "La función debe recibir por lo menos la información del nodo que se busca insertar y la raiz del abb.\n",
        "\n",
        "**Ejemplos:** Sea el árbol $a$ a continuación, $insertar(a.raiz,info)$ debe agregar un nodo al árbol. \n",
        "\n",
        "\n",
        "```python\n",
        "                    20\n",
        "\n",
        "          15\n",
        "\n",
        "                    12\n",
        "\n",
        "10\n",
        "\n",
        "                    7\n",
        "\n",
        "          5\n",
        "\n",
        "                    2\n",
        "```\n",
        "Si se inserta el 8 en el árbol, $insertar(a.raiz,8)$ tiene el siguiente resultado:\n",
        "```python\n",
        "                    20\n",
        "\n",
        "          15\n",
        "\n",
        "                    12\n",
        "\n",
        "10\n",
        "\n",
        "                              8\n",
        "\n",
        "                    7\n",
        "\n",
        "          5\n",
        "\n",
        "                    2\n",
        "```\n",
        "**Nota:** Si desea la función insertar puede recibir otros argumentos, que reciba un nodoraiz y la info está pensado para realizar una solución recursiva."
      ],
      "metadata": {
        "id": "aN6uHG3YHW8u"
      }
    },
    {
      "cell_type": "code",
      "source": [
        "def insertar(nodoraiz,info):\n",
        "        # Escribe tú respuesta del nano desafio 10 aquí, se puede cambiar los argumentos que recibe el método insertar\n",
        "        pass\n",
        "insertar(a.raiz,8)\n",
        "print2D(a.raiz)"
      ],
      "metadata": {
        "id": "Mc3yLuyNYh_d",
        "colab": {
          "base_uri": "https://localhost:8080/"
        },
        "outputId": "734a80c5-0700-49c3-d7f6-332cd8eda990"
      },
      "execution_count": null,
      "outputs": [
        {
          "output_type": "stream",
          "name": "stdout",
          "text": [
            "\n",
            "                    20\n",
            "\n",
            "          12\n",
            "\n",
            "10\n",
            "\n",
            "          7\n"
          ]
        }
      ]
    },
    {
      "cell_type": "markdown",
      "source": [
        "\n",
        "# Árboles binarios balanceados\n",
        "\n",
        "Un árbol binario commpletamente balanceado se define como un árbol binario que cumple que:\n",
        "1. **la diferencia de altura del subárbol izquierdo y derecho es menor o igual a 0**.\n",
        "2. que el subárbol izquierdo es un árbol balanceado.\n",
        "3. que el subárbol derecho es un árbol balanceado.\n",
        "\n",
        "Esta condición que se impone sobre la diferencia de alturas afecta de forma directa la inserción de elementos en el árbol, pero también asegura que la búsqueda de un elemento sea lo más óptima posible.\n",
        "\n"
      ],
      "metadata": {
        "id": "bqLziOiNvrV9"
      }
    },
    {
      "cell_type": "markdown",
      "source": [
        "## Árboles  AVL\n",
        "Un árbol binario balanceado se define como un árbol binario que cumple que:\n",
        "1. **la diferencia de altura del subárbol izquierdo y derecho es menor o igual a 1**.\n",
        "2. que el subárbol izquierdo es un árbol balanceado.\n",
        "3. que el subárbol derecho es un árbol balanceado.\n",
        "\n",
        "Este tipo de árboles permite que los costos de búsqueda, inserción y eliminación son garantizadamente $O(\\log{n})$ *en el peor caso*. Además la altura $h=O(\\log{n})$\n",
        "\n",
        "\n",
        "Condición de *altura balanceada*, que consiste en que sus subárboles hijos pueden tener alturas diferentes, pero la diferencia de sus alturas no puede ser mayor que 1.\n",
        "\n",
        "![condicion-AVL](https://github.com/ppoblete/AED/blob/master/condicion-AVL.png?raw=1)\n",
        "\n",
        "Más precisamente, si la función $h(T)$ es la altura del árbol $T$, para cada nodo interno sus subárboles hijos, digamos $A$ y $B$, deben cumplir que $|h(A)-h(B)|\\le 1$.\n",
        "\n",
        "\n",
        "A continuación se muestra un ejemplo en donde el árbol de la izquierda no corresponde a un AVL tree y el de la derecha si. Esto se debe a que uno de los nodos del árbol de la izquierda no cumple con la condición de la diferencias de alturas menor o igual a 1, este tiene una diferencia de alturas de 2.\n",
        "<div align=\"center\">\n",
        "<img src=\"https://raw.githubusercontent.com/joaquinzepeda/Programacion-Avanzada/main/imgs/AVL.png\">\n",
        "</div>\n",
        "Como podrán observar, estos árboles tienen los mismos elementos, pero no comparten la misma estructura, ¿Es posible transformar el árbol de la izquierda en un árbol AVL con alguna \n",
        "\n",
        "*   Elemento de lista\n",
        "*   Elemento de lista\n",
        "\n",
        "operación? La respuesta es si, a continuación se van a introducir las rotaciones, las cuales serán claves en la inserción de elementos en este tipo de árboles.\n",
        "\n",
        "Nota:  inventado por Adelson-Velskii y Landis (AVL por sus iniciales)."
      ],
      "metadata": {
        "id": "yRkaycZBDPkL"
      }
    },
    {
      "cell_type": "code",
      "metadata": {
        "id": "rGqP4dbZFKYL"
      },
      "source": [
        "# Nodo interno\n",
        "class Nodoi:\n",
        "    def __init__(self, izq, info, der):\n",
        "        self.izq=izq\n",
        "        self.info=info\n",
        "        self.der=der\n",
        "    \n",
        "    def altura(self):\n",
        "        return 1+max(self.izq.altura(),self.der.altura())\n",
        "    \n",
        "    def es_AVL(self):\n",
        "        return abs(self.izq.altura()-self.der.altura())<=1 \\\n",
        "                and self.izq.es_AVL() and self.der.es_AVL()\n",
        "        \n",
        "    def __str__(self):\n",
        "        return \"(\"+self.izq.__str__()+str(self.info)+self.der.__str__()+\")\"\n",
        "\n",
        "#Nodo externo\n",
        "class Nodoe:\n",
        "    def __init__(self):\n",
        "        pass\n",
        "\n",
        "    def altura(self):\n",
        "        return 0\n",
        "    \n",
        "    def es_AVL(self):\n",
        "        return True\n",
        "    \n",
        "    def __str__(self):\n",
        "        return\"☐\"\n",
        "\n",
        "class Arbol:\n",
        "    def __init__(self,raiz=Nodoe()):\n",
        "        self.raiz=raiz     \n",
        "    \n",
        "    def es_AVL(self):\n",
        "        return self.raiz.es_AVL()\n",
        "    \n",
        "    def __str__(self):        \n",
        "        return self.raiz.__str__()"
      ],
      "execution_count": null,
      "outputs": []
    },
    {
      "cell_type": "code",
      "metadata": {
        "id": "_9s5SF8PFKYL",
        "outputId": "095ec39d-0d17-4bc0-a47e-d6d27194aeb8"
      },
      "source": [
        "a1=Arbol(Nodoi(Nodoi(Nodoe(),1,Nodoe()),\n",
        "            2,\n",
        "            Nodoi(Nodoe(),3,Nodoi(Nodoe(),4,Nodoe()))))\n",
        "print(a1)\n",
        "print(a1.es_AVL())"
      ],
      "execution_count": null,
      "outputs": [
        {
          "output_type": "stream",
          "text": [
            "((☐1☐)2(☐3(☐4☐)))\n",
            "True\n"
          ],
          "name": "stdout"
        }
      ]
    },
    {
      "cell_type": "code",
      "metadata": {
        "id": "7uSYJUEdFKYM",
        "outputId": "47b34ed3-8b09-4ce4-cfeb-1bced67a762d"
      },
      "source": [
        "a2=Arbol(Nodoi(Nodoi(Nodoe(),1,Nodoe()),\n",
        "            2,\n",
        "            Nodoi(Nodoe(),3,Nodoi(Nodoe(),4,Nodoi(Nodoe(),5,Nodoe())))))\n",
        "print(a2)\n",
        "print(a2.es_AVL())"
      ],
      "execution_count": null,
      "outputs": [
        {
          "output_type": "stream",
          "text": [
            "((☐1☐)2(☐3(☐4(☐5☐))))\n",
            "False\n"
          ],
          "name": "stdout"
        }
      ]
    },
    {
      "cell_type": "markdown",
      "metadata": {
        "id": "poilMBYIFKYM"
      },
      "source": [
        "## Operaciones sobre un árbol AVL"
      ]
    },
    {
      "cell_type": "markdown",
      "metadata": {
        "id": "LyWpas-1FKYM"
      },
      "source": [
        "### Búsqueda\n",
        "\n",
        "Un árbol AVL es un ABB (con una condición adicional de balance), así que el algoritmo de búsqueda es el mismo.\n",
        "El que la altura de todo árbol AVL sea logarítmica garantiza que las operaciones de búsqueda tomarán tiempo logarítmico en el peor caso."
      ]
    },
    {
      "cell_type": "markdown",
      "metadata": {
        "id": "HluuEqQkFKYM"
      },
      "source": [
        "### Inserción\n",
        "\n",
        "Veremos a continuación que se puede insertar una nueva llave en un árbol AVL, preservando la condición AVL, en tiempo a lo más proporcional a la altura del árbol.\n",
        "\n",
        "Supongamos que se inserta una nueva llave $x$ en un árbol AVL como el que muestra la siguiente figura:\n",
        "\n",
        "![AVL1](https://github.com/ppoblete/AED/blob/master/AVL1.png?raw=1)\n",
        "\n",
        "Supongamos que se inserta la llave $x$, siguiendo una trayectoria desde la raíz hasta la hoja respectiva, y que luego se retorna hacia arriba revisando en cada nodo de esa trayectoria si la condición AVL se sigue cumpliendo. Si en todos ellos la condición se cumple, no es necesario hacer nada más. Si no, supongamos qie el nodo marcado con asterisco ($d$) es el primero (de abajo hacia arriba) en donde la condición no se cumple.\n",
        "\n",
        "Consideremos primero el caso en que a partir de $d$, los dos pasos siguientes hacia abajo fueron en la misma dirección (ambos hacia la izquierda, en la figura). Esto se llama una *inserción exterior*, y los dos pasos son de tipo \"zig-zig\" (o \"zag-zag\", en el caso simétrico en que los dos pasos fueron hacia la derecha).\n",
        "\n",
        "Para que la condición AVL no se cumpla en $d$ y sí se cumpla en $b$, es necesario que los tres subárboles $A$, $C$ y $E$ sean todos de la misma altura, digamos $h$, y que la inserción de $x$ haga que la altura de $A$ crezca a $h+1$. Nótese que la altura del árbol, antes de la inserción, era $h+2$.\n",
        "\n",
        "En este caso hacemos una rotación (simple) entre los nodos $b$y $d$, con el resultado que se muestra a la derecha. En el árbol resultante, los nodos $b$ y $d$ ahora cumplen la condición AVL (con diferencia cero) y, más aún, después de esta rotación, el árbol resultante tiene altura $h+2$. Por lo tanto, el árbol completo no ha cambiado de altura, lo cual implica que ningún nodo más arriba puede estar desbalanceado.\n",
        "\n",
        "Por lo tanto, en el caso de una inserción exterior, basta con a lo más una rotación para restaurar la condición AVL en todo el árbol.\n",
        "\n",
        "Consideremos ahora el caso de una *inserción interior*, en que los dos primeros pasos fueron en direcciones opuestas (\"zig-zag\" o el simétrico \"zag-zig\"):\n",
        "\n",
        "![AVL2](https://github.com/ppoblete/AED/blob/master/AVL2.png?raw=1)\n",
        "\n",
        "En este caso, es necesario entrar a examinar la estructura interna del subárbol $C$:\n",
        "\n",
        "![AVL3](https://github.com/ppoblete/AED/blob/master/AVL3.png?raw=1)\n",
        "\n",
        "En este caso, $x$ puede ir al subárbol $F$ o al subárbol $G$ indistintamente (¡pero no a ambos!).\n",
        "Para restaurar la condición de balance AVL, necesitamos hacer _dos_ rotaciones: primero entre $c$ y $b$, y luego entre $c$ y $d$. El resultado neto es que el zig-zag $d-b-c$ se transforma en el subárbol perfectamente balanceado $b-c-d$.\n",
        "El efecto combinado de estas dos rotaciones se llama una _rotación doble_.\n",
        "\n",
        "Tal como ocurrió en el caso anterior, los tres nodos involucrados quedan cumpliendo la condición AVL, y el árbol resultante tiene altura $h+2$, la misma que tenía antes de la inserción. Por lo tanto, no puede haber nodos desbalanceados más arriba.\n",
        "\n",
        "Esto, sumado a lo que vimos antes, demuestra que **a lo más una rotación (simple o doble) basta para recuperar el balance AVL después de una inserción**."
      ]
    },
    {
      "cell_type": "code",
      "metadata": {
        "id": "waqJLFlHFKYM"
      },
      "source": [
        "class Nodoi:\n",
        "    def __init__(self, izq, info, der):\n",
        "        self.izq=izq\n",
        "        self.info=info\n",
        "        self.der=der\n",
        "        self.height=1+max(izq.height,der.height)\n",
        "\n",
        "    def right_rotation(self):\n",
        "        return(Nodoi(self.izq.izq,\n",
        "                     self.izq.info,\n",
        "                     Nodoi(self.izq.der,self.info,self.der)))\n",
        "    \n",
        "    def left_rotation(self):\n",
        "        return(Nodoi(Nodoi(self.izq,self.info,self.der.izq),\n",
        "                     self.der.info,\n",
        "                     self.der.der))\n",
        "        \n",
        "    def insert(self,x):\n",
        "        assert x!=self.info\n",
        "        if x<self.info:\n",
        "            p=Nodoi(self.izq.insert(x),self.info,self.der)\n",
        "            if p.izq.height>p.der.height+1:\n",
        "                if x<p.izq.info: # inserción exterior\n",
        "                    p=p.right_rotation()\n",
        "                else: # inserción interior\n",
        "                    p=Nodoi(p.izq.left_rotation(),p.info,p.der).right_rotation()           \n",
        "        else: # x>self.info, simétrico del anterior\n",
        "            p=Nodoi(self.izq,self.info,self.der.insert(x))\n",
        "            if p.der.height>p.izq.height+1:\n",
        "                if x>p.der.info: # inserción exterior\n",
        "                    p=p.left_rotation()\n",
        "                else: # inserción interior\n",
        "                    p=Nodoi(p.izq,p.info,p.der.right_rotation()).left_rotation()         \n",
        "        return p\n",
        "        \n",
        "    def __str__(self):\n",
        "        return \"(\"+self.izq.__str__()+str(self.info)+self.der.__str__()+\")\"\n",
        "\n",
        "class Nodoe:\n",
        "    def __init__(self):\n",
        "        self.height=0\n",
        "        self.info = None\n",
        "        self.der = None\n",
        "        self.izq = None\n",
        "    \n",
        "    def insert(self,x):\n",
        "        return Nodoi(Nodoe(),x,Nodoe())\n",
        "    \n",
        "    def __str__(self):\n",
        "        return\"☐\"\n",
        "\n",
        "class ArbolAVL:\n",
        "    def __init__(self,raiz=Nodoe()):\n",
        "        self.raiz=raiz     \n",
        "        \n",
        "    def insert(self,x):\n",
        "        self.raiz=self.raiz.insert(x)\n",
        "    \n",
        "    def __str__(self):        \n",
        "        return self.raiz.__str__()"
      ],
      "execution_count": null,
      "outputs": []
    },
    {
      "cell_type": "markdown",
      "source": [
        "### Ejemplo de Inserción en árbol AVL\n",
        "A continuación se presenta un ejemplo de inserción en un árbol AVL, se insertan los siguientes elementos: 20-40-80-10-15. \n",
        "\n",
        "<div align=\"center\">\n",
        "<img src=\"https://raw.githubusercontent.com/joaquinzepeda/Programacion-Avanzada/main/imgs/insertion_example.png\">\n",
        "</div>\n",
        "\n",
        "Notar que en la inserción del elemento 15, el 10 no puede volverse raíz de ese subárbol pues el 15 quedaría como hijo izquierdo y al ser mayor que el 10 no se cumpliría los principios de un árbol binario.\n"
      ],
      "metadata": {
        "id": "tc-DZ_EXUY8Y"
      }
    },
    {
      "cell_type": "code",
      "metadata": {
        "id": "44-CMwLqFKYM",
        "outputId": "d2561de2-979b-4e69-dd4b-d29fa54f5178",
        "colab": {
          "base_uri": "https://localhost:8080/"
        }
      },
      "source": [
        "a=ArbolAVL()\n",
        "a.insert(20)\n",
        "print(a)\n",
        "a.insert(40)\n",
        "print(a)\n",
        "a.insert(80)\n",
        "print(a)\n",
        "a.insert(10)\n",
        "print(a)\n",
        "a.insert(15)\n",
        "print(a)"
      ],
      "execution_count": null,
      "outputs": [
        {
          "output_type": "stream",
          "name": "stdout",
          "text": [
            "(☐20☐)\n",
            "(☐20(☐40☐))\n",
            "((☐20☐)40(☐80☐))\n",
            "(((☐10☐)20☐)40(☐80☐))\n",
            "(((☐10☐)15(☐20☐))40(☐80☐))\n"
          ]
        }
      ]
    },
    {
      "cell_type": "code",
      "source": [
        "print2D(a.raiz)"
      ],
      "metadata": {
        "colab": {
          "base_uri": "https://localhost:8080/"
        },
        "id": "GlQleuKEiGiC",
        "outputId": "37f75a38-6012-4c21-f747-7a51cb1b5467"
      },
      "execution_count": null,
      "outputs": [
        {
          "output_type": "stream",
          "name": "stdout",
          "text": [
            "\n",
            "                    None\n",
            "\n",
            "          80\n",
            "\n",
            "                    None\n",
            "\n",
            "40\n",
            "\n",
            "                              None\n",
            "\n",
            "                    20\n",
            "\n",
            "                              None\n",
            "\n",
            "          15\n",
            "\n",
            "                              None\n",
            "\n",
            "                    10\n",
            "\n",
            "                              None\n"
          ]
        }
      ]
    },
    {
      "cell_type": "markdown",
      "metadata": {
        "id": "cRJV_licFKYN"
      },
      "source": [
        "### Eliminación\n",
        "\n",
        "La eliminación en árbol AVL se realiza de manera análoga a un ABB, pero también **es necesario verificar que la condición de balance se mantenga una vez eliminado el elemento**. En caso que dicha condición se pierda, será necesario realizar una rotación simple o doble dependiendo del caso, pero es posible que se requiera más de una rotación para reestablecer el balance del árbol."
      ]
    },
    {
      "cell_type": "markdown",
      "source": [
        "# Nano Desafío 11: delete AVL node implementation\n",
        "\n",
        "**Problema:** Implemente la función $eliminarAVL()$, la cual elimine un nodo en un árbol AVL (notando que se debe verificar que la eliminación mantenga la condición de balance, en caso de no cumplirse está condición se debe hacer rotaciones).\n",
        "\n",
        "**Ejemplo:** Se debe eliminar un nodo y en caso de que después de la eliminación no se cumpla la condición de balance, se debe realizar las rotaciones necesarias para balancear el nuevo árbol. A continuación se presentan ejemplos de eliminar:\n",
        "\n",
        "```\n",
        "      50                                  50    \n",
        "     /   \\                              /   \\      \n",
        "    40     60      eliminarAVL(10)    40    60   \n",
        "   / \\    /     - - - - - - - - ->   /  \\       \n",
        " 30   45 55                         30    45                  \n",
        " /                                  \n",
        "10                                 \n",
        "```\n",
        "\n",
        "\n",
        "```\n",
        "      50                                  50                          40\n",
        "     /   \\                              /   \\                        /  \\ \n",
        "    40     60      eliminarAVL(55)    40    60   Right Rotate()    30     50\n",
        "   / \\    /     - - - - - - - - ->   /  \\       - - - - - - - ->  /       / \\\n",
        " 30   45 55                         30    45                    10      45  60\n",
        " /                                  /\n",
        "10                                 10\n",
        "```\n",
        "\n"
      ],
      "metadata": {
        "id": "hxBycelxueqo"
      }
    },
    {
      "cell_type": "code",
      "source": [
        "def eliminarAVL(raiz):\n",
        "    pass"
      ],
      "metadata": {
        "id": "aT-Q6jEzuhAW"
      },
      "execution_count": null,
      "outputs": []
    },
    {
      "cell_type": "markdown",
      "source": [
        "# Hashing\n",
        " \n",
        "Es una técnica utilizada para almacenar y recuperar información lo más rápido posible. Se utiliza para realizar **búsquedas óptimas** y es útil para implementar tablas de símbolos. Hashing permite hacer búsquedas en tiempo esperado constante, en la medida que estemos dispuestos a no hacer uso del 100% de la memoria reservada para la estructura de datos. Se puede pensar en una especie de diccionario con una estructura eficiente para las operaciones de búsqueda, inserción y eliminación de elementos.\n",
        " \n",
        "## ¿Por qué usar Hasing?\n",
        "En la sección de árboles binarios de búsqueda balanceados se muestra que buscar, insertar y eliminar nodos en estos árboles es $O(\\log{n})$ (tiempo logarítmico). En las aplicaciones de esto, se busca que las operaciones se puedan realizar en $O(1)$ lo cual es lo ideal, el hashing provee una forma de lograr esto. De todas maneras en el peor caso la complejidad del hashing sigue siendo $O(n)$, pero da $O(1)$ en promedio.\n",
        "\n",
        "\n",
        "**Nota:** Hay mucho que hablar sobre este tema, por lo que solo se darán las nociones básicas sobre esto.\n"
      ],
      "metadata": {
        "id": "b_aio5AzuVal"
      }
    },
    {
      "cell_type": "markdown",
      "source": [
        "## Tablas de Hashing ADT\n",
        "\n",
        "Una tabla de hash es una estructura de datos abstracta que representa los datos en forma de pares de llave-valor.\n",
        "\n",
        "Una tabla de hash se puede pensar como un arreglo el cual está asociado a una **función de hash**, la función de hash permite determinar el indice del dato en forma de llave-valor.\n",
        "\n",
        "\n"
      ],
      "metadata": {
        "id": "dDHRS4q3Yys-"
      }
    },
    {
      "cell_type": "markdown",
      "source": [
        "## Funciones de hash\n",
        "\n",
        "\n",
        "Una función de hashing es una función que transforma una llave $x$ en un valor $h(x) \\in [0..m-1]$, para un valor dado de $m$, donde $m$ es mucho menor que el tamaño del universo al cual pertenece $x$. La función $h$ debe ser de tipo **pseudoaleatorio**, esto es, debe distribuir sus valores uniformemente sobre el rango $[0..m-1]$, pero debe ser reproducible.\n",
        "\n",
        "Python tiene una función ``hash()`` que se vamos a utilizar en nuestros ejemplos. Esta función **recibe cualquier tipo de objetos** (Strings,int, float, etc) y **retorna un entero**."
      ],
      "metadata": {
        "id": "AuZDfhfYfwXr"
      }
    },
    {
      "cell_type": "code",
      "source": [
        "m=1000 # arreglo de mil datos\n",
        "x=\"Programación avanzada\"\n",
        "print(\"h(x)=\",hash(x)%m)"
      ],
      "metadata": {
        "id": "SeOBm_kcuYmL",
        "colab": {
          "base_uri": "https://localhost:8080/"
        },
        "outputId": "fbe45b6e-ead0-4338-d99d-6309c025972c"
      },
      "execution_count": null,
      "outputs": [
        {
          "output_type": "stream",
          "name": "stdout",
          "text": [
            "h(x)= 364\n"
          ]
        }
      ]
    },
    {
      "cell_type": "markdown",
      "source": [
        "## Ejemplos para entender mejor\n",
        "\n",
        "\n",
        "Sea una lista de pares  como la siguiente:\n",
        "\n",
        "```python\n",
        "tab =   [['enero 1990',10.0],\n",
        "                     ...\n",
        "            ['enero 2022', 100.0],\n",
        "            ['febrero 2022', 120.0],\n",
        "            ['marzo 2022', 101.0],\n",
        "            ['abril 2022', 301.0],\n",
        "            ['mayo 2022', 150.0],\n",
        "            ['junio 2022', 50.0]]\n",
        "```\n",
        "En caso de buscar una fecha en específico, como por ejemplo ```'enero 2022'```, esto se puede realizar de forma lineal buscando elemento por elemento:\n",
        "```python\n",
        "for dato in precios:\n",
        "    if dato[0] == 'enero 2022':\n",
        "        print('Precio enero 2022:',dato[1])\n",
        "```\n",
        "¿Cuál es la complejidad de está búsqueda?\n",
        "- La complejidad del algoritmo es de $O(n)$ utilizando las listas de Python y recorriendolas, pues se deben revisar todos los elementos (el largo).\n",
        "\n",
        "Esto se puede mejorar a $O(1)$ utilizando un diccionario de Python, en donde de forma rápida se puede encontrar el valor del precio utilizando la fecha como llave:\n",
        "\n",
        "```python\n",
        "precios =   {'enero 1990':10.0,\n",
        "                     ...\n",
        "            'enero 2022': 100.0,\n",
        "            'febrero 2022': 120.0,\n",
        "            'marzo 2022': 101.0,\n",
        "            'abril 2022': 301.0,\n",
        "            'mayo 2022': 150.0,\n",
        "            'junio 2022': 50.0}\n",
        "```\n",
        "Todo esto se puede realizar con una tabla de hash. A continuación se muestra otro ejemplo sobre esto:\n",
        "\n",
        "<div align=\"center\">\n",
        "<img src=\"https://raw.githubusercontent.com/joaquinzepeda/Programacion-Avanzada/main/imgs/hashtable.png\">\n",
        "</div>\n",
        "\n",
        "\n",
        "Existe un universo de posibles llaves, un arreglo que donde se van guardando los datos.La función de hashing permite determinar un indice que indica la posición del elemento. La salida de la **función de hash** corresponde a un **hash code** el cual corresponde usualmente a un entero de 32 bits, lo cual es muy grande para efectos prácticos, por lo que como estos indices son demasiado grandes (arreglo de $2^{32}$) lo que se realiza generalmente es **reducir el tamaño del arreglo que se utiliza en la hash table**.\n",
        "\n",
        "Para realizar esto lo más común es utilizar la siguiente función de compresión: \n",
        "\n",
        "\\begin{equation}\n",
        "c = \\text{h mod m}\n",
        "\\end{equation}\n",
        "\n",
        "En donde *c* corresponde al *hash code*, *h* el hash code original y m el tamaño del arreglo que se desea utilizar (tambien podria pensarse como el número de espacios disponibles) y *mod* corresponde al módulo.\n",
        "\n",
        "\n",
        " A continuación se muestra un ejemplo donde se disponen de 100 espacios disponibles y se utiliza la función *hash* que trae Python por defecto.\n",
        "\n",
        "\n",
        "\n",
        "\n",
        "\n",
        "\n",
        "\n"
      ],
      "metadata": {
        "id": "ZjqB9WVsjw7I"
      }
    },
    {
      "cell_type": "code",
      "source": [
        "m=100 # arreglo de m datos\n",
        "L=[\"ABC\",\"5\",5]\n",
        "for x in L:\n",
        "    print(\"h(x)=\",hash(x)%m)"
      ],
      "metadata": {
        "colab": {
          "base_uri": "https://localhost:8080/"
        },
        "id": "HynlnDGxUtiH",
        "outputId": "925eb7d9-4e4f-4d04-e851-a329f35f1ac7"
      },
      "execution_count": null,
      "outputs": [
        {
          "output_type": "stream",
          "name": "stdout",
          "text": [
            "h(x)= 29\n",
            "h(x)= 96\n",
            "h(x)= 5\n"
          ]
        }
      ]
    },
    {
      "cell_type": "markdown",
      "source": [
        "**Nota:** Dado un conjunto de $n$ llaves, suponiendo por el momento que $n\\le m$, es posible que todas ellas sean mapeadas por la función $h$ a valores distintos. \n",
        "\n",
        "¿Que sucede si hay más de un valor que tenga el mismo *hash code*?\n",
        "- Soluciones a este problema se muestran a continuación."
      ],
      "metadata": {
        "id": "_i4z98lvLetc"
      }
    },
    {
      "cell_type": "markdown",
      "source": [
        "\n",
        "## Colisiones\n",
        "\n",
        "Puede ocurrir y seguramente vamos a encontrarnos con llaves distintas $x, y$ tales que $h(x)=h(y)$. Esto se llama una _colisión_.\n",
        "\n",
        "El que alguna colisión sea probable que exista viene de la *paradoja de los cumpleaños*, que veremos a continuación. Por otra parte, en promedio no puede haber muchas colisiones, porque para un valor de $k$ dado, el múmero promedio de llaves $x$ que tienen $h(x)=k$ es $n/m\\le 1$, dado que suponemos que $h(x)$ distribuye las llaves uniformemente."
      ],
      "metadata": {
        "id": "lYdGI-0bgcaU"
      }
    },
    {
      "cell_type": "markdown",
      "metadata": {
        "id": "h0ahDNeUFKYO"
      },
      "source": [
        "### La Paradoja de los Cumpleaños\n",
        "\n",
        "Supongamos que en una sala hay $n$ personas. ¿Cuán grande debe ser $n$ para que sea probable que existan dos o más personas con cumpleaños el mismo día? Más precisamente, ¿para qué valor de $n$ la probabilidad de que haya alguna colisión de cumpleaños es $\\ge 1/2$?\n",
        "\n",
        "Resulta más fácil calcular la probabilidad opuesta $d_n$ de que _no_ haya colisión de cumpleaños. Esta probabilidad es igual a\n",
        "\n",
        "$$\n",
        "d_n = \\left( \\frac{365}{365} \\right) \\left( \\frac{364}{365} \\right) \\cdots \\left( \\frac{365-n+1}{365} \\right)\n",
        "$$"
      ]
    },
    {
      "cell_type": "code",
      "metadata": {
        "id": "KZcwn1fiFKYO",
        "outputId": "47f0bdb3-8146-4039-93e9-b124be8968f1"
      },
      "source": [
        "%pylab inline"
      ],
      "execution_count": null,
      "outputs": [
        {
          "output_type": "stream",
          "text": [
            "Populating the interactive namespace from numpy and matplotlib\n"
          ],
          "name": "stdout"
        }
      ]
    },
    {
      "cell_type": "code",
      "metadata": {
        "id": "cUQYEzlTFKYO",
        "outputId": "63721411-8d39-4595-bc32-8cef77169754"
      },
      "source": [
        "n=range(1,101)\n",
        "d=zeros(100)\n",
        "d[0]=1\n",
        "for k in range(1,100):\n",
        "    d[k]=d[k-1]*(365-k)/365\n",
        "plt.plot(n,d,label='$d_n$')"
      ],
      "execution_count": null,
      "outputs": [
        {
          "output_type": "execute_result",
          "data": {
            "text/plain": [
              "[<matplotlib.lines.Line2D at 0x117ea24e0>]"
            ]
          },
          "metadata": {
            "tags": []
          },
          "execution_count": 5
        },
        {
          "output_type": "display_data",
          "data": {
            "image/png": "[encoded data removed]",
            "text/plain": [
              "<Figure size 432x288 with 1 Axes>"
            ]
          },
          "metadata": {
            "tags": [],
            "needs_background": "light"
          }
        }
      ]
    },
    {
      "cell_type": "markdown",
      "source": [
        "Para $n=23$ se tiene $d_n = 0.4927 < 1/2$, por lo tanto para $n=23$ la probabilidad de que exista alguna colisión es mayor que $1/2$.\n",
        "\n",
        "Nótese que $23$ es relativamente pequeño comparado con $365$, lo cual indica, en general, que no es necesario que $n$ sea muy grande en relación a $m$ para que sea probable que exista alguna colisión. Por otra parte, el número total de colisiones no puede ser muy grande, y ambos hechos son los que debemos tener en consideración al aplicar la idea de hashing al diseño de diccionarios.\n",
        "\n",
        "**Nota:** Con 57 personas la probabilidad es cercana al 99.6%."
      ],
      "metadata": {
        "id": "NozkoLNHrhwq"
      }
    },
    {
      "cell_type": "markdown",
      "source": [
        "### Métodos de resolución de colsiones\n",
        "\n",
        "\n",
        "Dado que es inevitable que existan colisiones (aunque esperamos que sean pocas), debe haber alguna manera de resolver el problema que se produce cuando dos o más llaves son enviadas por la función de hashing al mismo casillero de la tabla.\n",
        "\n",
        "Existen dos grandes familias de métodos:\n",
        "\n",
        "* *Encadenamiento*: Utilizar punteros para enlazar los elementos que coinciden en su función de hashing.\n",
        " * Separate Chaining: En este tipo de tablas, la hash table corresponde a un **arreglo de punteros a una lista enlazada**, en caso de una colisión, se inserta el elemento en tiempo constante en la cabeza de su correspondiente lista enlazada. En caso de que el *hash code* de \"ABC\" sea igual al de un elemento \"CDF\" previamente guardado, se va insertando en la lista enlazada en donde se está guardando el puntero a estas listas. \n",
        "\n",
        " \n",
        "<div align=\"center\">\n",
        "<img src=\"https://raw.githubusercontent.com/joaquinzepeda/Programacion-Avanzada/main/imgs/colisiones1.png\">\n",
        "</div>\n",
        "\n",
        "* *Direccionamiento abierto (Open addressing)*: Utilizar una secuencia de funciones de hashing.\n",
        " * Linear probing: En caso de que una llave tenga el mismo *hash code* (o indice) que un elemento previamente guardado, se le asigna el siguiente espacio disponible en la tabla de hashing. \n",
        "    \n",
        "    Más formalmente, la secuencia de funciones de hashing se define como\n",
        "\n",
        "$$\n",
        "\\begin{align}\n",
        "h_0(x) & = h(x)\\\\\n",
        "h_{i+1}(x) & = (h_i(x)+1) \\bmod m\n",
        "\\end{align}\n",
        "$$\n",
        "\n",
        "\n",
        "<div align=\"center\">\n",
        "<img src=\"https://github.com/ppoblete/AED/blob/master/LinearProbing.gif?raw=1\">\n",
        "</div>\n",
        "\n",
        " * Quadratic probing.\n",
        " * Double hashing (utilizar 2 funciones de hashing).\n",
        "\n"
      ],
      "metadata": {
        "id": "5ZTsfHZ2hibz"
      }
    },
    {
      "cell_type": "markdown",
      "source": [
        "# Nano Desafío 12: Implementación de la inserción en una tabla de hashing con linear probing\n",
        "\n",
        "**Problema:** Complete el método insert de la clase hashTable que se encuentra a continuación, este recibe un entero y no retorna nada.\n",
        "\n",
        "**Test:** Para probar que funcione este código, inserte la siguiente secuencia de números\n",
        "\n",
        "```\n",
        "34, 59, 45, 27, 14, 22, 75, 25\n",
        "```\n",
        "El resultado deberia ser: \n",
        "```\n",
        "\t Hash table\n",
        "Hash Value: 0\t\t25\n",
        "Hash Value: 1\t\tNone\n",
        "Hash Value: 2\t\t22\n",
        "Hash Value: 3\t\tNone\n",
        "Hash Value: 4\t\t34\n",
        "Hash Value: 5\t\t45\n",
        "Hash Value: 6\t\t14\n",
        "Hash Value: 7\t\t27\n",
        "Hash Value: 8\t\t75\n",
        "Hash Value: 9\t\t59\n",
        "```\n",
        "\n",
        "Es importante notar que es una buena secuencia pues se ingresan 3 valores con el mismo *hash code*.\n",
        "\n"
      ],
      "metadata": {
        "id": "iBhwrNlxRxO8"
      }
    },
    {
      "cell_type": "code",
      "source": [
        "class hashTable:\n",
        "\n",
        "    def __init__(self,size):\n",
        "        self.size = size\n",
        "        # inicia la tabla con ceros\n",
        "        self.table = list(None for i in range(self.size))\n",
        "        self.elementCount = 0\n",
        "   \n",
        "    # retorna el hashcode\n",
        "    def hashFunction(self, element):\n",
        "        return element % self.size\n",
        "       \n",
        "    # insertar elemento en la tabla de hash\n",
        "    def insert(self, x):\n",
        "        pass\n"
      ],
      "metadata": {
        "id": "9H4y5t2SbHqy"
      },
      "execution_count": null,
      "outputs": []
    },
    {
      "cell_type": "code",
      "source": [
        "L = hashTable(10)\n",
        "L.table"
      ],
      "metadata": {
        "colab": {
          "base_uri": "https://localhost:8080/"
        },
        "id": "cBOjPyZIbX9N",
        "outputId": "2b5d1cde-e4f3-4e60-f621-7678b052e2dc"
      },
      "execution_count": null,
      "outputs": [
        {
          "output_type": "execute_result",
          "data": {
            "text/plain": [
              "[None, None, None, None, None, None, None, None, None, None]"
            ]
          },
          "metadata": {},
          "execution_count": 64
        }
      ]
    },
    {
      "cell_type": "code",
      "source": [
        "llaves = [34, 59, 45, 27, 14, 22, 75, 25]\n",
        "for x in llaves:\n",
        "    L.insert(x)\n",
        "print('\\t Hash table')\n",
        "for i in range(10):\n",
        "    print(\"Hash Value: \"+str(i) + \"\\t\\t\" + str(L.table[i]))"
      ],
      "metadata": {
        "colab": {
          "base_uri": "https://localhost:8080/"
        },
        "id": "HYLvMkWnim4B",
        "outputId": "cf31b0da-d8bb-4ea8-ff25-afcdee7d1e81"
      },
      "execution_count": null,
      "outputs": [
        {
          "output_type": "stream",
          "name": "stdout",
          "text": [
            "\t Hash table\n",
            "Hash Value: 0\t\tNone\n",
            "Hash Value: 1\t\tNone\n",
            "Hash Value: 2\t\tNone\n",
            "Hash Value: 3\t\tNone\n",
            "Hash Value: 4\t\tNone\n",
            "Hash Value: 5\t\tNone\n",
            "Hash Value: 6\t\tNone\n",
            "Hash Value: 7\t\tNone\n",
            "Hash Value: 8\t\tNone\n",
            "Hash Value: 9\t\tNone\n"
          ]
        }
      ]
    },
    {
      "cell_type": "markdown",
      "source": [
        "# Algoritmos de ordenación\n",
        "\n",
        "Son algoritmos que resuelven el problema de ordenar un conjunto de datos, lo cual tiene una gran importancia. A continuación se presentan algunos de los algoritmos de ordenación más famosos."
      ],
      "metadata": {
        "id": "37ixhbjduX0F"
      }
    },
    {
      "cell_type": "markdown",
      "metadata": {
        "id": "ucFiiOAnN5oz"
      },
      "source": [
        "## Quicksort\n",
        "\n",
        "Este método fue inventado por C.A.R. Hoare a comienzos de los '60s, y sigue siendo el método más eficiente para uso general.\n",
        "\n",
        "Quicksort es un ejemplo clásico de la aplicación del principio de *dividir para reinar*. Su estructura es la siguiente:\n",
        "\n",
        "* Primero se elige un elemento al azar, que se denomina el pivote.\n",
        "\n",
        "* El arreglo a ordenar se reordena dejando a la izquierda a los elementos menores que el pivote, el pivote al medio, y a la derecha los elementos mayores que el pivote:\n",
        "\n",
        "![particion](https://github.com/ppoblete/AED/blob/master/particion.gif?raw=1)\n",
        "\n",
        "* Luego cada sub-arreglo se ordena recursivamente.\n",
        "\n",
        "La recursividad termina, en principio, cuando se llega a sub-arreglos de tamaño cero o uno, los cuales trivialmente ya están ordenados. En la práctica veremos que es preferible detener la recursividad antes de eso, para no desperdiciar tiempo ordenando recursivamente arreglos pequeños, los cuales pueden ordenarse más eficientemente usando Ordenación por Inserción, por ejemplo."
      ]
    },
    {
      "cell_type": "code",
      "metadata": {
        "id": "2cHSTRh-N5o0"
      },
      "source": [
        "def quicksort(a):\n",
        "    qsort(a,0,len(a)-1)\n",
        "\n",
        "def qsort(a,i,j): # ordena a[i],...,a[j]\n",
        "    if i<j: # quedan 2 o más elementos por ordenar\n",
        "        k=particion(a,i,j)\n",
        "        qsort(a,i,k-1)\n",
        "        qsort(a,k+1,j)\n",
        "\n",
        "def particion(a,i,j): # particiona a[i],...,a[j], retorna posición del pivote\n",
        "    k=np.random.randint(i,j) # genera un número al azar k en rango i..j\n",
        "    (a[i],a[k])=(a[k],a[i]) # mueve a[k] al extremo izquierdo\n",
        "    # a[i] es el pivote\n",
        "    s=i # invariante: a[i+1..s]<=a[i], a[s+1..t]>a[i]\n",
        "    for t in range(s,j):\n",
        "        if a[t+1]<=a[i]:\n",
        "            (a[s+1],a[t+1])=(a[t+1],a[s+1])\n",
        "            s=s+1\n",
        "    # mover pivote al centro\n",
        "    (a[i],a[s])=(a[s],a[i])\n",
        "    return s"
      ],
      "execution_count": null,
      "outputs": []
    },
    {
      "cell_type": "code",
      "metadata": {
        "id": "R4sRf42BN5o1"
      },
      "source": [
        "def chequea_orden(a):\n",
        "    print(\"Ordenado\" if np.all(a[:-1]<=a[1:]) else \"Desordenado\")"
      ],
      "execution_count": null,
      "outputs": []
    },
    {
      "cell_type": "code",
      "metadata": {
        "id": "Qm5eDIZnN5o2",
        "outputId": "f6bdc539-661b-43a7-d1ef-c7131c155429"
      },
      "source": [
        "import numpy as np\n",
        "a = np.random.random(12)\n",
        "print(a)\n",
        "chequea_orden(a)\n",
        "quicksort(a)\n",
        "print(a)\n",
        "chequea_orden(a)"
      ],
      "execution_count": null,
      "outputs": [
        {
          "output_type": "stream",
          "text": [
            "[0.21939313 0.41324672 0.99870279 0.15140399 0.33302848 0.92304672\n",
            " 0.11206401 0.63418302 0.64504804 0.50401626 0.2064129  0.81939607]\n",
            "Desordenado\n",
            "[0.11206401 0.15140399 0.2064129  0.21939313 0.33302848 0.41324672\n",
            " 0.50401626 0.63418302 0.64504804 0.81939607 0.92304672 0.99870279]\n",
            "Ordenado\n"
          ],
          "name": "stdout"
        }
      ]
    },
    {
      "cell_type": "markdown",
      "metadata": {
        "id": "QTDlam6BN5o3"
      },
      "source": [
        "### Costo promedio de Quicksort\n",
        "\n",
        "Si suponemos, como una primera aproximación, que el pivote siempre resulta ser la mediana del conjunto, entonces el costo de ordenar está dado (aproximadamente) por la ecuación de recurrencia\n",
        "\n",
        "$$\n",
        "T(n)=n+2T\\left( \\frac{n}{2} \\right)\n",
        "$$\n",
        "\n",
        "Esto tiene solución $T(n) = n \\log_2{n}$ y es, en realidad, el *mejor* caso de Quicksort.\n",
        "\n",
        "Para analizar el tiempo promedio que demora la ordenación mediante Quicksort, observemos que el funcionamiento de Quicksort puede graficarse mediante un *árbol de partición*:\n",
        "\n",
        "![arbol-particion](https://github.com/ppoblete/AED/blob/master/arbol-particion.gif?raw=1)\n",
        "\n",
        "Por la forma en que se construye, es fácil ver que el árbol de partición es un *árbol de búsqueda binaria*, y como el pivote es escogido al azar, entonces la raíz de cada subárbol puede ser cualquiera de los elementos del conjunto en forma equiprobable. En consecuencia, los árboles de partición y los árboles de búsqueda binaria tienen exactamente la misma distribución.\n",
        "\n",
        "En el proceso de partición, cada elemento de los subárboles ha sido comparado contra la raíz (el pivote). Al terminar el proceso, cada elemento ha sido comparado contra todos sus ancestros. Si sumamos todas estas comparaciones, el resultado total es igual al *largo de caminos internos*.\n",
        "\n",
        "Usando todas estas correspondencias, tenemos que, usando los resultados ya conocidos para árboles, el número promedio de comparaciones que realiza Quicksort es de:\n",
        "\n",
        "$$\n",
        "T(n)=1.38 n\\log_2{n}+\\Theta(n)\n",
        "$$\n",
        "\n",
        "Por lo tanto, Quicksort, en el caso esperado, corre en un tiempo proporcional a la cota inferior."
      ]
    },
    {
      "cell_type": "markdown",
      "metadata": {
        "id": "7tXHJSs5N5o3"
      },
      "source": [
        "### Peor caso de Quicksort\n",
        "\n",
        "El peor caso de Quicksort se produce cuando el pivote resulta ser siempre el mínimo o el máximo del conjunto. En este caso la ecuación de recurrencia es\n",
        "\n",
        "$$\n",
        "T(n) = n - 1 + T(n-1)\n",
        "$$\n",
        "            \n",
        "lo que tiene solución $T(n) = \\Theta(n^2)$.\n",
        "\n",
        "Si bien este peor caso es extremadamente improbable si el pivote se escoge al azar, algunas implementaciones de Quicksort toman como pivote al primer elemento del arreglo (suponiendo que, al venir el arreglo al azar, entonces el primer elemento es tan aleatorio como cualquier otro). El problema es que si el conjunto viene en realidad ordenado, entonces caemos justo en el peor caso cuadrático.\n",
        "\n",
        "Lo anterior refuerza la importancia de que el pivote se escoja al azar. Esto no aumenta significativamente el costo total, porque el número total de elecciones de pivote es $\\Theta(n)$."
      ]
    },
    {
      "cell_type": "markdown",
      "metadata": {
        "id": "bgj9AKZ-N5o6"
      },
      "source": [
        "### Mejoras a Quicksort\n",
        "\n",
        "Quicksort puede ser optimizado de varias maneras, pero hay que ser muy cuidadoso con estas mejoras, porque es fácil que terminen empeorando el desempeño del algoritmo.\n",
        "\n",
        "En primer lugar, es desaconsejable hacer cosas que aumenten la cantidad de trabajo que se hace dentro del \"loop\" de partición, porque este es el lugar en donde se concentra el costo $\\Theta(n \\log{n})$.\n",
        "\n",
        "Algunas de las mejoras que han dado buen resultado son las siguientes:"
      ]
    },
    {
      "cell_type": "markdown",
      "metadata": {
        "id": "5GzVIonrN5o6"
      },
      "source": [
        "#### Quicksort con \"mediana de 3\"\n",
        "\n",
        "En esta variante, el pivote no se escoge como un elemento tomado al azar, sino que primero se extrae una muestra de 3 elementos, y entre ellos se escoge a la mediana de esa muestra como pivote.\n",
        "\n",
        "Si la muestra se escoge tomando al primer elemento del arreglo, al del medio y al último, entonces lo que era el peor caso (arreglo ordenado) se transforma de inmediato en mejor caso.\n",
        "\n",
        "De todas formas, es aconsejable que la muestra se escoja al azar, y en ese caso el análisis muestra que el costo esperado para ordenar n elementos es\n",
        "\n",
        "$$\n",
        "\\frac{12}{7} n \\ln{n}  \\approx  1.19 n \\log_2{n}\n",
        "$$\n",
        "\n",
        "Esta reducción en el costo se debe a que el pivote es ahora una mejor aproximación a la mediana. De hecho, si en lugar de escoger una muestra de tamaño 3, lo hiciéramos con tamaños como 7, 9, etc., se lograría una reducción aún mayor, acercándonos cada vez más al óptimo, pero con rendimientos rápidamente decrecientes."
      ]
    },
    {
      "cell_type": "markdown",
      "metadata": {
        "id": "T_tSskNsN5pE"
      },
      "source": [
        "## Heapsort\n",
        "\n",
        "A partir de cualquier implementación de una cola de prioridad es posible obtener un algoritmo de ordenación. El esquema del algoritmo es:\n",
        "\n",
        "* Comenzar con una cola de prioridad vacía.\n",
        "* *Fase de construcción de la cola de prioridad*:\n",
        "Traspasar todos los elementos del conjunto que se va a ordenar a la cola de prioridad, mediante $n$ inserciones.\n",
        "* *Fase de ordenación*:\n",
        "Sucesivamente extraer el máximo $n$ veces. Los elementos van apareciendo en orden decreciente y se van almacenando en el conjunto de salida.\n",
        "\n",
        "Si aplicamos esta idea a las dos implementaciones simples de colas de prioridad, utilizando lista enlazada ordenada y lista enlazada desordenada, se obtienen los algoritmos de ordenación por Inserción y por Selección, respectivamente. Ambos son algoritmos cuadráticos, pero es posible que una mejor implementación lleve a un algoritmo más rápido. En el capítulo de *Pilas y Colas* vimos que una forma de obtener una implementación eficiente de colas de prioridad es utilizando una estructura de datos llamada *heap*."
      ]
    },
    {
      "cell_type": "markdown",
      "metadata": {
        "id": "kImQrdsSN5pF"
      },
      "source": [
        "### Implementación de Heapsort\n",
        "\n",
        "Al utilizar un heap como implementación de una cola de prioridad para construir un algoritmo de ordenación, se obtiene un algoritmo llamado *Heapsort*, para el cual resulta que tanto la fase de construcción de la cola de prioridad, como la fase de ordenación, tienen ambas costo $\\Theta(n \\log{n})$, de modo que el algoritmo completo tiene ese mismo costo.\n",
        "\n",
        "Por lo tanto, Heapsort tiene un orden de magnitud que coincide con la cota inferior, esto es, es óptimo incluso en el peor caso. Nótese que esto no era así para Quicksort, el cual era óptimo en promedio, pero no en el peor caso.\n",
        "\n",
        "De acuerdo a la descripción de esta familia de algoritmos, daría la impresión de que en la fase de construcción del heap se requeriría un arreglo aparte para el heap, distinto del arreglo de entrada. De la misma manera, se requeriría un arreglo de salida aparte, distinto del heap, para recibir los elementos a medida que van siendo extraídos en la fase de ordenación.\n",
        "\n",
        "En la práctica, esto no es necesario y basta con un sólo arreglo: todas las operaciones pueden efectuarse directamente sobre el arreglo de entrada.\n",
        "\n",
        "En primer lugar, en cualquier momento de la ejecución del algoritmo, los elementos se encuentran particionados entre aquellos que están ya o aún formando parte del heap, y aquellos que se encuentran aún en el conjunto de entrada, o ya se encuentran en el conjunto de salida, según sea la fase. Como ningún elemento puede estar en más de un conjunto a la vez, es claro que, en todo momento, en total nunca se necesita más de $n$ casilleros de memoria, si la implementación se realiza bien.\n",
        "\n",
        "En el caso de Heapsort, durante la fase de construcción del heap, podemos utilizar las celdas de la izquierda del arreglo para ir \"armando\" el heap. Las celdas necesarias para ello se las vamos \"quitando\" al conjunto de entrada, el cual va perdiendo elementos a medida que van \"trepando\" en el heap. Al concluir esta fase, todos los elementos han sido insertados, y el arreglo completo es un solo gran heap.\n",
        "\n",
        "![heap-cons](https://github.com/ppoblete/AED/blob/master/heap-cons.gif?raw=1)\n",
        "\n",
        "En la fase de ordenación, se van extrayendo elementos del heap, con lo cual éste se contrae de tamaño y deja espacio libre al final, el cual puede ser justamente ocupado para ir almacenando los elementos a medida que van saliendo del heap (recordemos que van apareciendo en orden decreciente).\n",
        "\n",
        "![heap-ord](https://github.com/ppoblete/AED/blob/master/heap-ord.gif?raw=1)"
      ]
    },
    {
      "cell_type": "markdown",
      "metadata": {
        "id": "XniKKyG2N5pF"
      },
      "source": [
        "### Optimización de la fase de construcción del heap\n",
        "\n",
        "Como se ha señalado anteriormente, tanto la fase de construcción del heap como la de ordenación demoran tiempo $\\Theta(n \\log{n})$. Esto es el mínimo posible (en orden de magnitud), de modo que no es posible mejorarlo significativamente.\n",
        "\n",
        "Sin embargo, es posible modificar la implementación de la fase de construcción del heap para que sea mucho más eficiente.\n",
        "\n",
        "La idea es invertir el orden de las \"mitades\" del arreglo, haciendo que el \"input\" esté a la izquierda y el \"heap\" a la derecha.\n",
        "\n",
        "En realidad, si el \"heap\" está a la derecha, entonces no es realmente un heap, porque no es un árbol completo (le falta la parte superior), pero sólo nos interesa que en ese sector del arreglo se cumplan las relaciones de orden entre cada padre y sus hijos. En cada iteración, se toma el último elemento del \"input\" y se le \"hunde\" dentro del heap de acuerdo a su nivel de prioridad.\n",
        "\n",
        "![heap-cons2](https://github.com/ppoblete/AED/blob/master/heap-cons2.gif?raw=1)\n",
        "\n",
        "Al concluir, se llega igualmente a un heap completo, pero el proceso es significativamente más rápido.\n",
        "\n",
        "La razón es que, al ser \"hundido\", un elemento paga un costo proporcional a su distancia al fondo del árbol. Dada las características de un árbol, la gran mayoría de los elementos están al fondo o muy cerca de él, por lo cual pagan un costo muy bajo. En un análisis aproximado, la mitad de los elementos pagan 0 (ya están al fondo), la cuarta parte paga 1, la octava parte paga 2, etc. Sumando todo esto, tenemos que el costo total está acotado por\n",
        "\n",
        "$$\n",
        "n \\sum_{i\\ge 0}{\\frac{i}{2^{i+1}}}\n",
        "$$\n",
        "\n",
        "lo cual es igual a $n$.\n",
        "\n",
        "En la práctica, al comenzar a construir el heap \"de abajo hacia arriba\", no hace falta examinar los elementos que no tienen hijos, porque ellos cumplen automáticamente la relación de orden. Por lo tanto, basta comenzar a examinar los elementos desde el casillero $\\lfloor \\frac{n}{2} \\rfloor-1$ hacia atrás."
      ]
    },
    {
      "cell_type": "code",
      "metadata": {
        "id": "1yRSSiAmN5pG"
      },
      "source": [
        "def hundir(a,j,n): # El elemento a[j] se hunde hasta su nivel de prioridad\n",
        "    while 2*j+1<n: # mientras tenga al menos 1 hijo\n",
        "        k=2*j+1 # el hijo izquierdo\n",
        "        if k+1<n and a[k+1]>a[k]: # el hijo derecho existe y es mayor\n",
        "            k+=1\n",
        "        if a[j]>=a[k]: # tiene mejor prioridad que ambos hijos\n",
        "            break\n",
        "        (a[j],a[k])=(a[k],a[j]) # se intercambia con el mayor de los hijos\n",
        "        j=k # bajamos al lugar del mayor de los hijos\n",
        "\n",
        "def heapsort(a):\n",
        "    n=len(a)\n",
        "    # Fase de construcción del heap\n",
        "    for i in range(n//2-1,-1,-1):\n",
        "        hundir(a,i,n)\n",
        "    # Fase de ordenación\n",
        "    for i in range(n-1,-1,-1):\n",
        "        (a[0],a[i])=(a[i],a[0])\n",
        "        hundir(a,0,i)"
      ],
      "execution_count": null,
      "outputs": []
    },
    {
      "cell_type": "code",
      "metadata": {
        "id": "zOtZDvgHN5pG",
        "outputId": "8628b080-06b8-427b-93e4-2437a657dbf9"
      },
      "source": [
        "import numpy as np\n",
        "a = np.random.random(6)\n",
        "print(a)\n",
        "heapsort(a)\n",
        "print(a)"
      ],
      "execution_count": null,
      "outputs": [
        {
          "output_type": "stream",
          "text": [
            "[0.58123276 0.57772293 0.22690173 0.49691097 0.78430617 0.16308228]\n",
            "[0.16308228 0.22690173 0.49691097 0.57772293 0.58123276 0.78430617]\n"
          ],
          "name": "stdout"
        }
      ]
    },
    {
      "cell_type": "markdown",
      "metadata": {
        "id": "RBdQcMjEN5pJ"
      },
      "source": [
        "## Mergesort\n",
        "\n",
        "Si tenemos dos arreglos que ya están ordenados, podemos mezclarlos para formar un solo arreglo ordenado en tiempo proporcional a la suma de los tamaños de los dos arreglos.\n",
        "\n",
        "Esto se hace leyendo el primer elemento de cada arreglo, copiando hacia un arreglod de salida al menor de los dos, y avanzando al siguiente elemento en el arreglo respectivo. Cuando uno de los dos arreglos se termina, todos los elementos restantes del otro se copian hacia la salida. Este proceso se denomina \"mezcla\", o bien \"merge\", por su nombre en inglés.\n",
        "\n",
        "Como cada elemento se copia sólo una vez, y con cada comparación se copia algún elemento, es evidente que el costo de mezclar los dos archivos es lineal.\n",
        "\n",
        "Si bien es posible realizar el proceso de mezcla de dos arreglos contiguos *in situ*, el algoritmo es muy complicado y no resulta práctico. Por esta razón, el proceso se implementa generalmente copiando desde dos arreglos de entrada a uno de salida."
      ]
    },
    {
      "cell_type": "code",
      "metadata": {
        "id": "PFJhMakjN5pJ"
      },
      "source": [
        "def merge(a,b):\n",
        "    i=0\n",
        "    j=0\n",
        "    while i<len(a) or j<len(b):\n",
        "        if j>=len(b) or (i<len(a) and a[i]<=b[j]):\n",
        "            yield a[i]\n",
        "            i=i+1\n",
        "        else:\n",
        "            yield b[j]\n",
        "            j=j+1"
      ],
      "execution_count": null,
      "outputs": []
    },
    {
      "cell_type": "code",
      "metadata": {
        "id": "mgD31VMFN5pK",
        "outputId": "d1fac1e4-1ee0-4e7b-9905-ec5c4458d9dd"
      },
      "source": [
        "a = [24,43,55,57,88,91]\n",
        "b = [10,17,40,61,70,76]\n",
        "print(a)\n",
        "print(b)\n",
        "c=[x for x in merge(a,b)]\n",
        "print(c)"
      ],
      "execution_count": null,
      "outputs": [
        {
          "output_type": "stream",
          "text": [
            "[24, 43, 55, 57, 88, 91]\n",
            "[10, 17, 40, 61, 70, 76]\n",
            "[10, 17, 24, 40, 43, 55, 57, 61, 70, 76, 88, 91]\n"
          ],
          "name": "stdout"
        }
      ]
    },
    {
      "cell_type": "markdown",
      "metadata": {
        "id": "AGxv1Kc1N5pK"
      },
      "source": [
        "Usando esta idea en forma reiterada, es posible ordenar un conjunto. Una forma de ver esto es recursivamente, de manera \"*top-down*\", usando \"dividir para reinar\"."
      ]
    },
    {
      "cell_type": "code",
      "metadata": {
        "id": "-I7be0pFN5pK"
      },
      "source": [
        "def mergesort(a):\n",
        "    n=len(a)\n",
        "    if n>1:    \n",
        "        mergesort(a[0:n//2])\n",
        "        mergesort(a[n//2:n])\n",
        "        a[0:n]=[x for x in merge(a[0:n//2],a[n//2:n])]"
      ],
      "execution_count": null,
      "outputs": []
    },
    {
      "cell_type": "code",
      "metadata": {
        "id": "HZt0vcieN5pL",
        "outputId": "f7372839-8374-4b64-8fc5-7f2b69409aaf"
      },
      "source": [
        "import numpy as np\n",
        "a = np.random.random(6)\n",
        "print(a)\n",
        "mergesort(a)\n",
        "print(a)"
      ],
      "execution_count": null,
      "outputs": [
        {
          "output_type": "stream",
          "text": [
            "[0.98208828 0.87903465 0.49512148 0.9665445  0.75927717 0.20751891]\n",
            "[0.20751891 0.49512148 0.75927717 0.87903465 0.9665445  0.98208828]\n"
          ],
          "name": "stdout"
        }
      ]
    },
    {
      "cell_type": "markdown",
      "metadata": {
        "id": "SjZd3dn0N5pL"
      },
      "source": [
        "El tiempo total está dado aproximadamente por la ecuación de recurrencia\n",
        "\n",
        "$$\n",
        "T(n) = 2 T\\left(\\frac{n}{2}\\right) + n\n",
        "$$\n",
        "\n",
        "la cual tiene solución $\\Theta(n \\log{n})$, de modo que el algoritmo resulta ser óptimo.\n",
        "\n",
        "Esto mismo se puede implementar en forma no recursiva, \"*bottom-up*\", agrupando los elementos de a dos y mezclándolos para formar pares ordenados. Luego mezclamos pares para formar cuádruplas ordenadas, y así sucesivamente hasta mezclar las últimas dos mitades y formar el conjunto completo ordenado. Como cada \"ronda\" tiene costo lineal y se realizan $\\log{n}$ rondas, el costo total es $\\Theta(n \\log{n})$."
      ]
    },
    {
      "cell_type": "markdown",
      "source": [
        "# Nano desafío 13: CheckDuplicates\n",
        "\n",
        "**Problema:** Dado un arreglo de $n$ números que contienen elementos repetidos, optimice la función ```checkDuplicates``` la cual checkea si un arreglo tiene elementos repetidos o no. Esta función tiene como restricción que no se puede utilizar espacio adicional (es decir no se pueden utilizar variables temporales o auxiliares).\n",
        " \n",
        "La complejidad de la función actual tiene una complejidad de $O(n^2)$, **explique por qué está función tiene  esta complejidad y explique la complejidad de la función optimizada** (la cual debe ser menor a $O(n^2)$).\n",
        " \n",
        "**Hint:** estamos en el capítulo de ordenación."
      ],
      "metadata": {
        "id": "JYCq0mMTR203"
      }
    },
    {
      "cell_type": "code",
      "source": [
        "def checkDuplicates(L):\n",
        "    for i in range(len(L)):\n",
        "        for j in range(i+1,len(L)):\n",
        "            if L[i]==L[j]:\n",
        "                print(f'Existe un duplicado en las posiciones i:{i}, j:{j}')\n",
        "                return\n",
        "    print('No existen duplicados :D')"
      ],
      "metadata": {
        "id": "ps4cAT3aR42H"
      },
      "execution_count": null,
      "outputs": []
    },
    {
      "cell_type": "code",
      "source": [
        "import numpy as np\n",
        "L = np.random.randint(1000000, size=10000)\n",
        "checkDuplicates(L)"
      ],
      "metadata": {
        "colab": {
          "base_uri": "https://localhost:8080/"
        },
        "id": "vuJnq8H6w-vj",
        "outputId": "6e8ab726-e488-4e79-edfc-2ec3fcfdd761"
      },
      "execution_count": null,
      "outputs": [
        {
          "output_type": "stream",
          "name": "stdout",
          "text": [
            "Existe un duplicado en las posiciones i:113, j:5631\n"
          ]
        }
      ]
    }
  ]
}