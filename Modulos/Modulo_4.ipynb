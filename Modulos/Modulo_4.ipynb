{
  "nbformat": 4,
  "nbformat_minor": 0,
  "metadata": {
    "colab": {
      "name": "Modulo 4",
      "provenance": [],
      "collapsed_sections": [],
      "toc_visible": true
    },
    "kernelspec": {
      "name": "python3",
      "display_name": "Python 3"
    },
    "language_info": {
      "name": "python"
    },
    "gpuClass": "standard"
  },
  "cells": [
    {
      "cell_type": "markdown",
      "source": [
        "<img height=\"120\" src=\"https://raw.githubusercontent.com/joaquinzepeda/Programacion-Avanzada/main/imgs/cropped-logo-fcfm-die-1.png\">\n",
        "\n",
        "# Curso EL4203 Programación avanzada **Módulo 4**\n",
        "### Por *Joaquin Zepeda Valero*\n",
        "\n",
        "Los objetivos de este módulo son:\n",
        "\n",
        "1. Efectuar análisis matemático de algoritmos.\n",
        "2. Evaluar la eficiencia de la implementación de la solución\n",
        "en cuanto al uso de recursos computacionales, por\n",
        "ejemplo, uso de memoria y tiempo de ejecución.\n",
        "3. Aplicar programación dinámica para la evaluación de\n",
        "complejidad computacional en la optimización de\n",
        "algoritmos.\n",
        "\n",
        "\n",
        "Contenidos:\n",
        "\n",
        "* Estudio de los algoritmos\n",
        "* Programación dinámica\n",
        "* Grafos\n",
        "* Computación paralela\n",
        "\n",
        "\n",
        "[Referencias](https://colab.research.google.com/drive/1ej3ZGUCJu1pRP7xF0RqS4MbAOYCxvk_6?usp=sharing)"
      ],
      "metadata": {
        "id": "uoVg1XgfNzpT"
      }
    },
    {
      "cell_type": "markdown",
      "source": [
        "# Comparación de algoritmos de ordenación\n",
        "\n",
        "En los módulos anteriores se mostraron algunos algoritmos de ordenación, a continuación se presenta una tabla resumen de las complejidades de estos.\n",
        "\n",
        "<center>\n",
        "\n",
        "| Nombre | Caso promedio | Peor caso de estudio   | Memoria auxiliar |\n",
        "| -- | -- | --| -- |\n",
        "| Quicksort | $O(n \\log{n})$ |$O(n^{2}) $  | $O(\\log{n})$|\n",
        "| Heapsort | $O(n \\log{n})$ | $O(n \\log{n})$  | $1$  |\n",
        "| Mergesort | $O(n \\log{n})$ | $O(n\\log{n})$| depende  |\n",
        "\n",
        "</center>\n",
        "\n"
      ],
      "metadata": {
        "id": "UBhTFLyZTSGy"
      }
    },
    {
      "cell_type": "markdown",
      "source": [
        "# Comparación de algoritmos de búsqueda\n",
        "\n",
        "En los módulos anteriores se mostraron algunos algoritmos de búsqueda, a continuación se presenta una tabla resumen de las complejidades de estos.\n",
        "\n",
        "<center>\n",
        "\n",
        "| Implementación | Caso promedio | Peor caso de estudio   | \n",
        "| -- | -- | --| \n",
        "| Arreglo desordenado | $\\frac{n}{2}$ | $n$ | \n",
        "| Arreglo ordenado (búsqueda binaria) | $\\log{n}$ | $\\log{n}$  | \n",
        "| Lista desordenada |  $\\frac{n}{2}$ | $n$ | \n",
        "| Lista ordenada |  $\\frac{n}{2}$ | $n$ | \n",
        "| Árboles de búsqueda binaria |  $\\log{n}$  | $n$ | \n",
        "\n",
        "</center>\n"
      ],
      "metadata": {
        "id": "apsgIjVZbwXp"
      }
    },
    {
      "cell_type": "markdown",
      "source": [
        "# Programación dinámica\n",
        "\n",
        "También conocido como DP por sus siglas en inglés. Este tipo de programación busca solucionar los problemas en los cuales no se logró obtener soluciones optimas usando otras técnicas. La programación dinámica se basa en la **memoización**, a diferencia de divide y vencerás en donde, se divide el problema en subproblemas independientes los cuales pueden ser superpuestos. Esto es de mucha utilidad pues en general se almacenan los sub problemas ya resueltos para luego utilizarlos para resolver los próximos sub problemas, la programación dinámica **reduce los algoritmos de tiempo exponencial ($O(k^n$)) a orden polinómico ($O(n^k)$) para muchos problemas**. \\\\\n",
        "Los mayores componentes de DP corresponden a:\n",
        " \n",
        "*   Recursión: resuelve sub problemas de forma recursiva.\n",
        "*   Memoización: guarda los valores ya calculados en una tabla.\n",
        "\n",
        "\n",
        "\\begin{equation}\n",
        "\\text{Dynamic Programming (DP)} = \\text{Recursion} + \\text{Memoization}\n",
        "\\end{equation}\n"
      ],
      "metadata": {
        "id": "mqjQ0G_ZTUpA"
      }
    },
    {
      "cell_type": "markdown",
      "source": [
        "# Ejemplo Fibonacci\n",
        " \n",
        "\n",
        "Volviendo a utilizar la ecuación de Fibonacci\n",
        "$$\n",
        "\\begin{align}\n",
        "f_n &= f_{n-1}+f_{n-2} \\text{ para } n\\ge 2\\\\\n",
        "f_0 &= 0\\\\\n",
        "f_1 &= 1\n",
        "\\end{align}\n",
        "$$\n"
      ],
      "metadata": {
        "id": "U3EJqJlHTPOv"
      }
    },
    {
      "cell_type": "code",
      "source": [
        "# Función recursiva\n",
        "def fib_rec(n):\n",
        "    if n <= 1:\n",
        "        out = n\n",
        "    else:\n",
        "        out = fib_rec(n-1) + fib_rec(n-2)\n",
        "    return out\n",
        "print(fib_rec(10))"
      ],
      "metadata": {
        "id": "78cnULvHaUwM",
        "colab": {
          "base_uri": "https://localhost:8080/"
        },
        "outputId": "bc6b44dd-6399-462a-8054-c476290a084a"
      },
      "execution_count": null,
      "outputs": [
        {
          "output_type": "stream",
          "name": "stdout",
          "text": [
            "55\n"
          ]
        }
      ]
    },
    {
      "cell_type": "markdown",
      "source": [
        "Esta solución recursiva como se mostró en el módulo 2 es de tiempo exponencial $O(2^n)$ lo cual se vuelve muy ineficiente cuando $n$ es grande. El motivo de esto es que en las llamadas recursivas un mismo número de fibonnaci se calcula independiente si ya fue calculado, por ejemplo si calculamos el número de fibonacci para $5$:\n",
        " \n",
        "\\begin{align}\n",
        "&fib(5) \\\\\n",
        "&fib(4) + fib(3) \\\\\n",
        "&(fib(3) + fib(2)) + (fib(2)+fib(1)) \\\\\n",
        "&(fib(2)+fib(1)) + (fib(1)+fib(0)) + (fib(1)+fib(0))+(fib(1)) \\\\\n",
        "&( (fib(1)+fib(0))+fib(1)) + (fib(1)+fib(0)) + (fib(1)+fib(0))+(fib(1)) \\\\\n",
        "\\end{align}\n",
        " \n",
        "En este ejemplo, se calcula $3$ veces el valor de $fib(2)$, es decir, se resuelve 3 veces el mismo subproblema. Mientras mayor el $n$, mayor es el número de subproblemas que se calculan más de una vez. Para solucionar esto se puede guardar los valores de los subproblemas para así en caso de necesitarlos se puede acceder al valor de ellos. \n",
        " \n",
        "## Memoización\n",
        " \n",
        "Comienza una tabla o arreglo que guarda los valores de los subproblemas, luego si la función es llamada se mira la respuesta en la tabla de algún subproblema.\n",
        "\n"
      ],
      "metadata": {
        "id": "M_g7oCGcUhm4"
      }
    },
    {
      "cell_type": "markdown",
      "source": [
        "## Mejora de la función de Fibonacci:\n",
        "\n",
        "Una de las formas es utilizar una lista de Python como tabla para guardar los valores de los problemas, esto tambien se puede mejorar utilizando un arreglo de numpy pues estos permiten acceder a sus elementos de forma rápida sin importar su tamaño."
      ],
      "metadata": {
        "id": "LQJrBZ76qcFU"
      }
    },
    {
      "cell_type": "code",
      "source": [
        "def fib_DP(n):\n",
        "    fibTable = [0,1] #tabla donde se guardan los datos\n",
        "    for i in range(2,n+1):\n",
        "        fibTable.append(fibTable[i-1]+fibTable[i-2])\n",
        "    return fibTable[n]\n",
        "print(fib_DP(10))"
      ],
      "metadata": {
        "colab": {
          "base_uri": "https://localhost:8080/"
        },
        "id": "0Cb4yXx9qaex",
        "outputId": "5fc2e2bd-b1ad-48ce-facf-da36d818ea44"
      },
      "execution_count": null,
      "outputs": [
        {
          "output_type": "stream",
          "name": "stdout",
          "text": [
            "55\n"
          ]
        }
      ]
    },
    {
      "cell_type": "code",
      "source": [
        "import numpy as np\n",
        "def fibonacci(n):\n",
        "    F=np.zeros(n+1,dtype=int) #tabla donde se guardan los datos\n",
        "    F[0]=0\n",
        "    F[1]=1\n",
        "    for k in range(2,n+1):\n",
        "        F[k]=F[k-1]+F[k-2]\n",
        "    return F[n]\n",
        "print(fibonacci(10))"
      ],
      "metadata": {
        "colab": {
          "base_uri": "https://localhost:8080/"
        },
        "id": "hEpgmx6Qry_s",
        "outputId": "03a0329b-9df6-45bd-871b-51e9f2c7bcf9"
      },
      "execution_count": null,
      "outputs": [
        {
          "output_type": "stream",
          "name": "stdout",
          "text": [
            "55\n"
          ]
        }
      ]
    },
    {
      "cell_type": "markdown",
      "source": [
        "El uso de una memoria auxiliar permite transformar el algoritmo de tiempo exponencial $O(2^n)$ a tiempo polinomial (en específico tiempo lineal pues se utiliza $1$ solo ciclo for) $O(n)$. Esto es una gran mejora en tiempos de ejecución para valores de $n$ grandes.\n",
        " \n",
        "A continuación se puede probar los tiempos que se demora cada función, para $n>30$ ya es significativo el tiempo que se demora la función $fib\\_rec$."
      ],
      "metadata": {
        "id": "EwJtXmAHVtO-"
      }
    },
    {
      "cell_type": "code",
      "source": [
        "n = 40\n",
        "assert n<64, 'use un menor valor de n'"
      ],
      "metadata": {
        "id": "g5_6UsYRtEsl"
      },
      "execution_count": null,
      "outputs": []
    },
    {
      "cell_type": "code",
      "source": [
        "import time #ojo que este se demora un poco\n",
        "inicio = time.time()\n",
        "print(fib_rec(n))\n",
        "fin = time.time()\n",
        "print(\"{:.2f}\".format(fin-inicio),'Segundos')"
      ],
      "metadata": {
        "colab": {
          "base_uri": "https://localhost:8080/"
        },
        "id": "Y9Qg9x5msbOe",
        "outputId": "d5e00659-3620-4806-9beb-de12ef596859"
      },
      "execution_count": null,
      "outputs": [
        {
          "output_type": "stream",
          "name": "stdout",
          "text": [
            "102334155\n",
            "45.54 Segundos\n"
          ]
        }
      ]
    },
    {
      "cell_type": "code",
      "source": [
        "import time\n",
        "inicio = time.time()\n",
        "print(fib_DP(n))\n",
        "fin = time.time()\n",
        "print(\"{:.2f}\".format(fin-inicio),'Segundos')\n",
        "\n"
      ],
      "metadata": {
        "colab": {
          "base_uri": "https://localhost:8080/"
        },
        "id": "BnJRY7DnsRWq",
        "outputId": "5f4e0141-f8e1-4631-b497-015af89c56f5"
      },
      "execution_count": null,
      "outputs": [
        {
          "output_type": "stream",
          "name": "stdout",
          "text": [
            "102334155\n",
            "0.00 Segundos\n"
          ]
        }
      ]
    },
    {
      "cell_type": "code",
      "source": [
        "import time\n",
        "inicio = time.time()\n",
        "print(fibonacci(n))\n",
        "fin = time.time()\n",
        "print(\"{:.2f}\".format(fin-inicio),'Segundos')"
      ],
      "metadata": {
        "colab": {
          "base_uri": "https://localhost:8080/"
        },
        "id": "fbGZ81Pkscwh",
        "outputId": "842cc242-f7d4-4acc-9425-2b66d0b9f7af"
      },
      "execution_count": null,
      "outputs": [
        {
          "output_type": "stream",
          "name": "stdout",
          "text": [
            "102334155\n",
            "0.00 Segundos\n"
          ]
        }
      ]
    },
    {
      "cell_type": "markdown",
      "source": [
        "### Resultados para $n=40$\n",
        "\n",
        "No se ven diferencias significativas al utilizar fib_DP y fibonacci, las cuales utilizan programación dinámica con listas de Python y arreglos de Numpy respectivamente, pero la función recursiva se demora un tiempo significativo al calcular el número de fibonacci. Espero que con este ejemplo se vea la importancia de optimizar algoritmos y de esta solución.\n",
        "\n",
        "<center>\n",
        "\n",
        "|  <font size=\"4\">  fib_rec </font>|  <font size=\"4\">fib_DP</font> | <font size=\"4\">fibonacci</font> |\n",
        "| -- | -- | -- |\n",
        "|<font size=\"3\"> 45.54 [s] </font>|<font size=\"3\"> 0.00 [s]</font> |<font size=\"3\"> 0.00 [s] </font>|\n",
        "\n",
        "</center> \n",
        "\n",
        "**Nota:** Estos valores pueden variar dependiendo del hardware con el que se ejecute el código. Por otro lado, se puede derrotar el algoritmo lineal de la función de fibonacci y llevarla a un tiempo logarítmico utilizando una variable auxiliar y matrices.\n"
      ],
      "metadata": {
        "id": "4F1XpkGutheR"
      }
    },
    {
      "cell_type": "markdown",
      "source": [
        "**Mejora de espacio:** No es necesario guardar todos los valores anteriores, basta con guardar los 2 últimos como se muestra en el código a continuación:"
      ],
      "metadata": {
        "id": "VfFysz9jG5qP"
      }
    },
    {
      "cell_type": "code",
      "source": [
        "def fib(n):\n",
        "    a, b = 0, 1\n",
        "    for i in range(n):\n",
        "        a, b = b, a+b\n",
        "    return a\n",
        "print(fib(40))"
      ],
      "metadata": {
        "colab": {
          "base_uri": "https://localhost:8080/"
        },
        "id": "h7xJ_EJBHEkh",
        "outputId": "fed84034-71ec-4b83-f24d-e6fd6df53d07"
      },
      "execution_count": null,
      "outputs": [
        {
          "output_type": "stream",
          "name": "stdout",
          "text": [
            "102334155\n"
          ]
        }
      ]
    },
    {
      "cell_type": "markdown",
      "source": [
        "# Ejemplo: Factorial de un número\n",
        "\n",
        "Se define el factorial de un número $n$ como:\n",
        "\n",
        "\\begin{align}\n",
        "n! =& n⋅(n-1)! \\\\\n",
        "1! =& 1 \\\\\n",
        "0! =& 1\n",
        "\\end{align}\n",
        "\n",
        "Implementarla en forma recursiva es bastante simple y se muestra a continuación:"
      ],
      "metadata": {
        "id": "MF86QhLaBunV"
      }
    },
    {
      "cell_type": "code",
      "source": [
        "def factorial(n):\n",
        "    if n==0:return 1 #caso base\n",
        "    return n*factorial(n-1)\n",
        "print(factorial(5))"
      ],
      "metadata": {
        "colab": {
          "base_uri": "https://localhost:8080/"
        },
        "id": "ZuRdxqBNB79k",
        "outputId": "57b0f972-7b37-48f7-ae57-711d259d5adb"
      },
      "execution_count": null,
      "outputs": [
        {
          "output_type": "stream",
          "name": "stdout",
          "text": [
            "120\n"
          ]
        }
      ]
    },
    {
      "cell_type": "markdown",
      "source": [
        "Esta función es de orden lineal $O(n)$. En caso de querer calcular el factorial de $m$ con $m>n$, nuevamente se deben calcular todos los factoriales anteriores, esto se puede optimizar usando programación dinámica y una tabla para guardar los valores de los factoriales ya calculados, es decir si se busca este $m$, solo es necesario encontrar los factoriales entre $n$ y $m$, pues los otros ya están calculados."
      ],
      "metadata": {
        "id": "IHatVqgTlLWZ"
      }
    },
    {
      "cell_type": "code",
      "source": [
        "factTable={} #los valores guardados se van guardando en un diccionario\n",
        "def factorial(n):\n",
        "    try:\n",
        "        return factTable[n] #trata de ver si ya está calculado el factorial\n",
        "    except KeyError:\n",
        "        if n == 0: #caso base\n",
        "            factTable[0] = 1\n",
        "            return 1\n",
        "        else:\n",
        "            factTable[n] = n*factorial(n-1)\n",
        "            return factTable[n]\n",
        "print(factorial(5))\n"
      ],
      "metadata": {
        "colab": {
          "base_uri": "https://localhost:8080/"
        },
        "id": "EAquwowpmFp4",
        "outputId": "bc6b90b9-febd-4d09-9b06-ec1eec6d1c22"
      },
      "execution_count": null,
      "outputs": [
        {
          "output_type": "stream",
          "name": "stdout",
          "text": [
            "120\n"
          ]
        }
      ]
    },
    {
      "cell_type": "markdown",
      "source": [
        "# Problema de la Mochila o Knapsack Problem \n",
        "Un algoritmo de problema de la mochila es una estrategia para abordar la optimización combinatoria de manera constructiva. \n",
        " \n",
        " \n",
        "<h4>El problema es el siguiente: </h4>\n",
        "<h5>\n",
        " \n",
        "> Dado un conjunto de elementos los cuales presentan cada uno un peso y un valor o beneficio en específico, se busca determinar el número de cada elemento para incluir en una colección para que el peso total sea menor o igual a un límite dado y además el valor o beneficio sea el máximo. \n",
        "Esto se puede pensar como un problema de objetos que se quieren llevar en una mochila, se tienen distintos artículos valiosos los cuales tienen distinto volumen (peso) y valor, la mochila tiene un tamaño fijo por lo que se busca ver cuáles elementos elegir para llevar con los artículos más valiosos.\n",
        "\n",
        "</h5>\n",
        "\n",
        "## Algunas Soluciones populares a este problema\n",
        " \n",
        " \n",
        "1. <h4> Fuerza bruta </h4> Esta solución se basa en determinar todas las posibles opciones y comparándolas. En el caso del ejemplo a continuación se presenta una solución recursiva la cual es de tiempo del orden $O(2^{n})$ tiene muchos subproblemas redundantes. \n",
        " \n",
        " \n",
        "2.  <h4> Algoritmos avaros o Greedy Algorithms </h4> \n",
        " \n",
        "    Este tipo de algoritmos implementan selecciones locales óptimas con la esperanza de que esas selecciones conduzcan a la mejor solución, en resumen, se selecciona la mejor opción en el momento sin considerar que la selección puede afectar las futuras selecciones. \n",
        " \n",
        "    Esta solución es de tiempo del orden $O(n*logn)$ pero no siempre da la solución óptima.\n",
        " \n",
        "3. <h4> Programación dinámica </h4>  Esta solución es similar  a la de la fuerza bruta, pero se utiliza una tabla para ir guardando los valores ya calculados con el fin de no repetir los cálculos ya realizados. \n",
        " \n",
        "    Esta solución es de tiempo del orden $O(N*W)$ con $N$ el número de elementos y $W$ la capacidad de la mochila.\n",
        "\n",
        "\n",
        "\n"
      ],
      "metadata": {
        "id": "FuhXClLvciEC"
      }
    },
    {
      "cell_type": "code",
      "source": [
        "# Fuerza Bruta\n",
        "def knapSack(W, wt, val, n):\n",
        "   # initial conditions\n",
        "   if n == 0 or W == 0 :\n",
        "      return 0\n",
        "   # If weight is higher than capacity then it is not included\n",
        "   if (wt[n-1] > W):\n",
        "      return knapSack(W, wt, val, n-1)\n",
        "   # return either nth item being included or not\n",
        "   else:\n",
        "      return max(val[n-1] + knapSack(W-wt[n-1], wt, val, n-1),\n",
        "         knapSack(W, wt, val, n-1))\n",
        "# To test above function\n",
        "val = [60, 100, 120]\n",
        "wt = [10, 20, 30]\n",
        "W = 50\n",
        "n = len(val)\n",
        "print(\"Valor óptimo:\",knapSack(W, wt, val, n)) "
      ],
      "metadata": {
        "colab": {
          "base_uri": "https://localhost:8080/"
        },
        "id": "yp6CQipVck6g",
        "outputId": "0840082a-e89f-4933-b405-2fe844d74d58"
      },
      "execution_count": null,
      "outputs": [
        {
          "output_type": "stream",
          "name": "stdout",
          "text": [
            "Valor óptimo: 220\n"
          ]
        }
      ]
    },
    {
      "cell_type": "code",
      "source": [
        "# Programación dinámica\n",
        "def knapSack(W, wt, val, n): \n",
        "    K = [[0 for x in range(W + 1)] for x in range(n + 1)] \n",
        "   \n",
        "    # Build table K[][] in bottom up manner \n",
        "    for i in range(n + 1): \n",
        "        for w in range(W + 1): \n",
        "            if i == 0 or w == 0: \n",
        "                K[i][w] = 0\n",
        "            elif wt[i-1] <= w: \n",
        "                K[i][w] = max(val[i-1] \n",
        "                          + K[i-1][w-wt[i-1]],   \n",
        "                              K[i-1][w]) \n",
        "            else: \n",
        "                K[i][w] = K[i-1][w] \n",
        "\n",
        "    return K[n][W] \n",
        "   \n",
        "   \n",
        "# Driver code \n",
        "val = [60, 100, 120] \n",
        "wt = [10, 20, 30] \n",
        "W = 50\n",
        "n = len(val) \n",
        "print(\"Valor óptimo:\",knapSack(W, wt, val, n)) "
      ],
      "metadata": {
        "colab": {
          "base_uri": "https://localhost:8080/"
        },
        "id": "ZRqtBUwZyAwC",
        "outputId": "890d9cac-b3a1-4696-8162-2ce44b8a4ee7"
      },
      "execution_count": null,
      "outputs": [
        {
          "output_type": "stream",
          "name": "stdout",
          "text": [
            "Valor óptimo: 220\n"
          ]
        }
      ]
    },
    {
      "cell_type": "markdown",
      "source": [
        "# Nano Desafío 14: Recurrencia\n",
        "\n",
        "**Problema:** Convierta la siguiente recurrencia en una función recursiva, luego optimice esta solución utilizando programación dinámica.\n",
        "\n",
        "\\begin{align}\n",
        "T(0) =& T(1) = 2 \\\\\n",
        "T(n) =& \\sum_{i=1}^{n-1} 2⋅T(i)⋅T(i-1), \\text{para n>1}\n",
        "\\end{align}\n",
        "\n",
        "**Ejemplos:**\n",
        "<center>\n",
        "\n",
        "| $𝑛$  | 0 | 1 | 2 | 3 | 4 | 5 |\n",
        "| --- | --- | --- | --- | --- | --- |--- |\n",
        "| $f_n$ | 2 | 2 | 8 | 40 | 680 | 55080 | \n",
        "\n",
        "</center>\n",
        "\n",
        "**Nota:** la función $f_2$ se puede optimizar hasta llegar a tiempo lineal $O(n)$ utilizando programación dinámica, ¿Su solución de que orden es?  "
      ],
      "metadata": {
        "id": "PeUargakylJw"
      }
    },
    {
      "cell_type": "code",
      "source": [
        "#Función recursiva sin utilizar programación dinámica\n",
        "def f(n):\n",
        "    #escriba su código aqui\n",
        "    pass\n",
        "assert f(4)==680\n",
        "assert f(5)==55080"
      ],
      "metadata": {
        "id": "dyjidMgkykmc",
        "colab": {
          "base_uri": "https://localhost:8080/",
          "height": 217
        },
        "outputId": "4c24611c-e332-409d-c4e6-1d0e8a665995"
      },
      "execution_count": null,
      "outputs": [
        {
          "output_type": "error",
          "ename": "AssertionError",
          "evalue": "ignored",
          "traceback": [
            "\u001b[0;31m---------------------------------------------------------------------------\u001b[0m",
            "\u001b[0;31mAssertionError\u001b[0m                            Traceback (most recent call last)",
            "\u001b[0;32m<ipython-input-9-d45141f37202>\u001b[0m in \u001b[0;36m<module>\u001b[0;34m()\u001b[0m\n\u001b[1;32m      3\u001b[0m     \u001b[0;31m#escriba su código aqui\u001b[0m\u001b[0;34m\u001b[0m\u001b[0;34m\u001b[0m\u001b[0;34m\u001b[0m\u001b[0m\n\u001b[1;32m      4\u001b[0m     \u001b[0;32mpass\u001b[0m\u001b[0;34m\u001b[0m\u001b[0;34m\u001b[0m\u001b[0m\n\u001b[0;32m----> 5\u001b[0;31m \u001b[0;32massert\u001b[0m \u001b[0mf\u001b[0m\u001b[0;34m(\u001b[0m\u001b[0;36m4\u001b[0m\u001b[0;34m)\u001b[0m\u001b[0;34m==\u001b[0m\u001b[0;36m680\u001b[0m\u001b[0;34m\u001b[0m\u001b[0;34m\u001b[0m\u001b[0m\n\u001b[0m\u001b[1;32m      6\u001b[0m \u001b[0;32massert\u001b[0m \u001b[0mf\u001b[0m\u001b[0;34m(\u001b[0m\u001b[0;36m5\u001b[0m\u001b[0;34m)\u001b[0m\u001b[0;34m==\u001b[0m\u001b[0;36m55080\u001b[0m\u001b[0;34m\u001b[0m\u001b[0;34m\u001b[0m\u001b[0m\n",
            "\u001b[0;31mAssertionError\u001b[0m: "
          ]
        }
      ]
    },
    {
      "cell_type": "code",
      "source": [
        "#Función utilizando programación dinámica\n",
        "def f2(n):\n",
        "    #escriba su código aqui\n",
        "    pass\n",
        "assert f2(4)==680\n",
        "assert f2(5)==55080"
      ],
      "metadata": {
        "id": "RObtQn3vpE7q"
      },
      "execution_count": null,
      "outputs": []
    },
    {
      "cell_type": "markdown",
      "source": [
        "# Grafos\n",
        "\n",
        "Un grafo es una representación de un sistema que contiene un número de elementos interconectados. Los elementos se representan con **nodos** o **vértices** y las interconexiones se representan por **ejes** o **arcos**.\n",
        " \n",
        "Por ejemplo un grafo puede representar un mapa de ciudades y las carreteras que las conectan, representar las relaciones de amistad en una comunidad, representar las relaciones en una empresa, representar una cadena alimenticia, etc.\n",
        " \n",
        "El siguiente ejemplo representa 3 personas con sus respectivos seguidores en Instagram, Gonza sigue a Carla y a Ale, Carla sigue a Gonza y a Ale y Ale no sigue a nadie. \n",
        " \n",
        "<div align=\"center\">\n",
        "<img  src=\"https://raw.githubusercontent.com/joaquinzepeda/Programacion-Avanzada/main/imgs/grafo1.png\">\n",
        "</div>\n",
        " \n",
        " \n",
        "En algunos grafos, **los arcos pueden tener atributos como largo, costo o peso**. Por ejemplo en un mapa que conecta ciudades los arcos pueden tener un atributo que representa la distancia entre ciudades, en una red social pueden haber distintos tipos de arcos dependiendo de la relación (amistad, trabajo, etc).\n",
        " \n",
        "Los arcos pueden ser **dirigidos** y **no dirigidos**, además dependiendo de la relación pueden ser simétricos o asimétricos. En los diagramas los arcos dirigidos se representan con una flecha y los no dirigidos con una línea.\n",
        " \n",
        " \n",
        "A continuación se muestra un grafo no dirigido de algunas ciudades de Chile en donde los arcos representan el tiempo en auto entre ciudades. \n",
        " \n",
        "<div align=\"center\">\n",
        "<img  src=\"https://raw.githubusercontent.com/joaquinzepeda/Programacion-Avanzada/main/imgs/grafo2.png\">\n",
        "</div>\n",
        " \n",
        " \n",
        "Además de esto, cabe destacar que los grafos comenzaron como una teoría matemática, la cual luego cobró importancia al introducirse a la computación. Existe mucha teoría y problemas matemáticos y algoritmos que resuelven estos problemas.\n",
        " \n",
        "¿Por qué usar grafos? \n",
        "> Los grafos son útiles pues muchos problemas de la vida real se pueden resolver utilizando algoritmos de grafos. Por ejemplo, el algoritmo de Dijkstra's es un algoritmo eficiente para determinar el camino más corto entre un nodo a todos los otros.\n",
        " \n",
        " \n",
        "A continuación se muestra un grafo no dirigido de algunas ciudades de Chile en donde los arcos representan el tiempo en auto entre ciudades. \n",
        "\n",
        "<div align=\"center\">\n",
        "<img  src=\"https://raw.githubusercontent.com/joaquinzepeda/Programacion-Avanzada/main/imgs/grafo2.png\">\n",
        "</div>\n",
        "\n",
        "\n",
        "Además de esto, cabe destacar que los grafos comenzaron como una teoría matematica, la cual luego cobró importancia al introducirse a al computación. Existe mucha teoría y problemas matematicos y algoritmos que resuelven estos problemas.\n",
        "\n",
        "¿Por que usar grafos? \n",
        "> Los grafos son utiles pues muchos problemas de la vida real se pueden resolver utilizando algoritmos de grafos. Por ejemplo, el algoritmo de Dijkstra's es un algoritmo eficiente para determinar el camino más corto entre un nodo a todos los otros.\n",
        "\n",
        "\n"
      ],
      "metadata": {
        "id": "NEm9auHNklEG"
      }
    },
    {
      "cell_type": "markdown",
      "source": [
        "## Representando grafos con Matrices de adyacencia\n",
        "\n",
        "Un grafo se puede representar con una Matriz $M$, en donde si $M[i,j]=1$ si existe un arco entre el nodo $i$ y el nodo $j$, y $0$ en caso contrario. Esta matriz no es simétrica.\n",
        "\n",
        "Una matriz de adyacencia permite determinar si $2$ nodos están conectados o no en **tiempo constante**, lo cual es bueno, pero requieren $O(n^2)$ bits de memoria (pues son Matrices de $nxn$). \n",
        "\n",
        "<div align=\"center\">\n",
        "<img  src=\"https://raw.githubusercontent.com/joaquinzepeda/Programacion-Avanzada/main/imgs/ejemplo_grafo.png\">\n",
        "</div>\n",
        "\n",
        "\n",
        "Dado el siguiente grafo directo, su matriz de adyacencia está dada por:\n",
        "<center>\n",
        "\n",
        "|   | <font size=\"4\">A </font>| <font size=\"4\">B </font> |  <font size=\"4\"> C </font>|  <font size=\"4\">D </font> |\n",
        "|---|---|---|---|---|\n",
        "|  <font size=\"4\">A </font> | <font size=\"3\">0 </font>| <font size=\"3\">1 </font>| <font size=\"3\">0 </font>| <font size=\"3\">1 </font>|\n",
        "|  <font size=\"4\">B </font> | <font size=\"3\">0 </font>| <font size=\"3\">0 </font>| <font size=\"3\">1 </font>| <font size=\"3\">0 </font>|\n",
        "| <font size=\"4\"> C </font> | <font size=\"3\">1</font> | <font size=\"3\">0 | <font size=\"3\">0 </font>| <font size=\"3\">1 </font>|\n",
        "|  <font size=\"4\">D </font> | <font size=\"3\">0</font> |<font size=\"3\"> 0 </font>| <font size=\"3\">0</font> | <font size=\"3\">0 </font>|\n",
        "\n",
        "</center>"
      ],
      "metadata": {
        "id": "NriQPPTPVBvY"
      }
    },
    {
      "cell_type": "markdown",
      "source": [
        "## Representando grafos con Listas de adyacencia\n",
        "\n",
        "Otra forma de representar grafos es utilizando listas enlazadas. Para cada nodo o vertice se usa una lista enlazada y una lista de nodos que representa las conexiones entre el vertice x con otros vertices con los cuales el vertice x tiene un arco. Por otro lado, una alternativa similar es utilizar una lista de listas para guardar estos valores.\n",
        "\n",
        "<div align=\"center\">\n",
        "<img  src=\"https://raw.githubusercontent.com/joaquinzepeda/Programacion-Avanzada/main/imgs/lista_grafo.png\">\n",
        "</div>\n",
        "\n",
        "Si bien esta representación ocupa menos espacio $O(n)$ siendo $n$ el largo de los nodos, permite un acceso eficiente a los vertices adyacentes pero no permite acceso directo a los arcos.\n"
      ],
      "metadata": {
        "id": "OUHrQqsQVTtO"
      }
    },
    {
      "cell_type": "markdown",
      "source": [
        "# Representando grafos con Python usando NetworkX\n",
        "\n",
        "NetworkX es una líbreria externa que es bastante utilizada para representar grafos, más información en la [documentación](https://networkx.org/documentation/networkx-1.9/).\n",
        "\n",
        "Para crear un **grafo dirigido** se puede instanciar la clase *DiGraph()*.\n",
        "\n"
      ],
      "metadata": {
        "id": "cLPoHaUqDGht"
      }
    },
    {
      "cell_type": "code",
      "source": [
        "import networkx as nx\n",
        "G = nx.DiGraph()"
      ],
      "metadata": {
        "id": "4Q2_ojM0ukit"
      },
      "execution_count": null,
      "outputs": []
    },
    {
      "cell_type": "markdown",
      "source": [
        "Luego el objeto G representa un grafo vacio, al cual se le pueden añadir nodos con el método *add_node*."
      ],
      "metadata": {
        "id": "SHhs5tyYsrhn"
      }
    },
    {
      "cell_type": "code",
      "source": [
        "G.add_node('Gonza')\n",
        "G.add_node('Carla')\n",
        "G.add_node('Ale')\n",
        "list(G.nodes())"
      ],
      "metadata": {
        "colab": {
          "base_uri": "https://localhost:8080/"
        },
        "id": "Wrdzf5CuTxJ4",
        "outputId": "7ddfb279-6932-4acf-ec30-6bf2d5b3b383"
      },
      "execution_count": null,
      "outputs": [
        {
          "output_type": "execute_result",
          "data": {
            "text/plain": [
              "['Gonza', 'Carla', 'Ale']"
            ]
          },
          "metadata": {},
          "execution_count": 60
        }
      ]
    },
    {
      "cell_type": "markdown",
      "source": [
        "Se pueden añadir arcos utilizando el método *add_edge*, en general son bastante intuitivos los métodos y se pueden ver en la documentación de la líbreria."
      ],
      "metadata": {
        "id": "r9Mw_e5btlS3"
      }
    },
    {
      "cell_type": "code",
      "source": [
        "G.add_edge('Gonza', 'Carla')\n",
        "G.add_edge( 'Carla','Gonza')\n",
        "G.add_edge('Carla', 'Ale')\n",
        "G.add_edge('Gonza', 'Ale')\n",
        "list(G.edges())"
      ],
      "metadata": {
        "id": "fwy_Z9YRDGJ-",
        "colab": {
          "base_uri": "https://localhost:8080/"
        },
        "outputId": "ce8c0fae-a8ce-47a4-dead-d16bc7711a3b"
      },
      "execution_count": null,
      "outputs": [
        {
          "output_type": "execute_result",
          "data": {
            "text/plain": [
              "[('Gonza', 'Carla'), ('Gonza', 'Ale'), ('Carla', 'Gonza'), ('Carla', 'Ale')]"
            ]
          },
          "metadata": {},
          "execution_count": 61
        }
      ]
    },
    {
      "cell_type": "markdown",
      "source": [
        "NetworkX provee varias funciones para graficar grafos. Una de las funciones para graficar grafos con los vértices o nodos como círculos conectados por los arcos se muestra a continuación: "
      ],
      "metadata": {
        "id": "HKh0vWTwRQaO"
      }
    },
    {
      "cell_type": "code",
      "source": [
        "nx.draw_circular(G,\n",
        "    node_color='C3',\n",
        "    node_size=2000,\n",
        "    with_labels=True)"
      ],
      "metadata": {
        "id": "gmU6dEy_DGL4",
        "colab": {
          "base_uri": "https://localhost:8080/",
          "height": 319
        },
        "outputId": "7e0f63cf-bca6-466e-ec2e-8b2a4758ce3a"
      },
      "execution_count": null,
      "outputs": [
        {
          "output_type": "display_data",
          "data": {
            "text/plain": [
              "<Figure size 432x288 with 1 Axes>"
            ],
            "image/png": "[encoded data removed]"
          },
          "metadata": {}
        }
      ]
    },
    {
      "cell_type": "markdown",
      "source": [
        "Se pueden definir posiciones con un diccionario agregando *longitud* y *latitud* aproximadas."
      ],
      "metadata": {
        "id": "lEqj86hPT40O"
      }
    },
    {
      "cell_type": "code",
      "source": [
        "positions = dict(LaSerena=(-74, 46),\n",
        "                Stgo=(-73, 42),\n",
        "                Valpo=(-75, 43),\n",
        "                Chillan=(-74, 38),\n",
        "                Valdivia=(-75, 35))\n"
      ],
      "metadata": {
        "id": "-YBZhIsrRcXs"
      },
      "execution_count": null,
      "outputs": []
    },
    {
      "cell_type": "markdown",
      "source": [
        "Para crear un **grafo no dirigido** se puede instanciar la clase *Graph()*. Luego el objeto G representa un grafo vacio, al cual se le pueden añadir nodos a partir de un diccionario con las posiciones. "
      ],
      "metadata": {
        "id": "Q0XUG7bYrpwk"
      }
    },
    {
      "cell_type": "code",
      "source": [
        "G = nx.Graph()\n",
        "G.add_nodes_from(positions)"
      ],
      "metadata": {
        "id": "5dugfSErUI_j"
      },
      "execution_count": null,
      "outputs": []
    },
    {
      "cell_type": "markdown",
      "source": [
        "Se le pueden agregar las conexiones con sus respectivos valores con el método *add_edges_from*."
      ],
      "metadata": {
        "id": "P8Pk6ukxtW1L"
      }
    },
    {
      "cell_type": "code",
      "source": [
        "drive_times = {('LaSerena', 'Stgo'): 6,\n",
        "                ('Valpo', 'Stgo'): 1,\n",
        "                ('Stgo', 'Chillan'): 4,\n",
        "                ('Chillan', 'Valdivia'): 5}\n",
        "G.add_edges_from(drive_times)"
      ],
      "metadata": {
        "id": "jUlHSvQbUMVf"
      },
      "execution_count": null,
      "outputs": []
    },
    {
      "cell_type": "markdown",
      "source": [
        "Otra opción es graficar vertices o nodos cuadrados con la función *draw*. "
      ],
      "metadata": {
        "id": "6oiQkEmGurjb"
      }
    },
    {
      "cell_type": "code",
      "source": [
        "nx.draw(G, positions,\n",
        "        node_color='C1',\n",
        "        node_shape='s',\n",
        "        node_size=3000,\n",
        "        with_labels=True)\n",
        "\n",
        "txt = nx.draw_networkx_edge_labels(G, positions,\n",
        "                edge_labels=drive_times)"
      ],
      "metadata": {
        "colab": {
          "base_uri": "https://localhost:8080/",
          "height": 319
        },
        "id": "nWtGH4MQUzky",
        "outputId": "bfeafdb2-7453-4c10-cfae-e57450b36a54"
      },
      "execution_count": null,
      "outputs": [
        {
          "output_type": "display_data",
          "data": {
            "text/plain": [
              "<Figure size 432x288 with 1 Axes>"
            ],
            "image/png": "[encoded data removed]"
          },
          "metadata": {}
        }
      ]
    },
    {
      "cell_type": "markdown",
      "source": [
        "## Grafos completamente conectados"
      ],
      "metadata": {
        "id": "Cy3uxgGXZniJ"
      }
    },
    {
      "cell_type": "code",
      "source": [
        "import numpy as np\n",
        "import networkx as nx"
      ],
      "metadata": {
        "id": "O9B24dHzxbTT"
      },
      "execution_count": null,
      "outputs": []
    },
    {
      "cell_type": "code",
      "source": [
        "def all_pairs(nodes):\n",
        "    for i, u in enumerate(nodes):\n",
        "        for j, v in enumerate(nodes):\n",
        "            if i < j:\n",
        "                yield u, v"
      ],
      "metadata": {
        "id": "59AasmhExEAR"
      },
      "execution_count": null,
      "outputs": []
    },
    {
      "cell_type": "code",
      "execution_count": null,
      "metadata": {
        "id": "Aj5EV4tAIERb"
      },
      "outputs": [],
      "source": [
        "def make_complete_graph(n):\n",
        "    G = nx.Graph()\n",
        "    nodes = range(n)\n",
        "    G.add_nodes_from(nodes)\n",
        "    G.add_edges_from(all_pairs(nodes))\n",
        "    return G"
      ]
    },
    {
      "cell_type": "markdown",
      "metadata": {
        "id": "E9jGQwZGIERc"
      },
      "source": [
        "A continuación se muestra un grafo en donde los 10 nodos estan conectados entre todos."
      ]
    },
    {
      "cell_type": "code",
      "execution_count": null,
      "metadata": {
        "colab": {
          "base_uri": "https://localhost:8080/"
        },
        "id": "UhVPjyLBIERd",
        "outputId": "feecf23e-f172-4d81-8193-4e7aa31d7f46"
      },
      "outputs": [
        {
          "output_type": "execute_result",
          "data": {
            "text/plain": [
              "10"
            ]
          },
          "metadata": {},
          "execution_count": 16
        }
      ],
      "source": [
        "complete = make_complete_graph(10)\n",
        "complete.number_of_nodes()"
      ]
    },
    {
      "cell_type": "markdown",
      "metadata": {
        "id": "ywlSoak4IERd"
      },
      "source": [
        "Así se ve un grafo completamente conectado."
      ]
    },
    {
      "cell_type": "code",
      "execution_count": null,
      "metadata": {
        "colab": {
          "base_uri": "https://localhost:8080/",
          "height": 319
        },
        "id": "F20u4FqtIERe",
        "outputId": "c332b773-c4e3-45a2-e02b-9b8827da9861"
      },
      "outputs": [
        {
          "output_type": "display_data",
          "data": {
            "text/plain": [
              "<Figure size 432x288 with 1 Axes>"
            ],
            "image/png": "[encoded data removed]"
          },
          "metadata": {}
        }
      ],
      "source": [
        "nx.draw_circular(complete, \n",
        "                 node_color='C2', \n",
        "                 node_size=1000, \n",
        "                 with_labels=True)"
      ]
    },
    {
      "cell_type": "markdown",
      "source": [
        "## Grafos aleatorios\n",
        "\n",
        "Existen muchos procesos aleatorios que pueden generar grafos, por lo que existen muchos tipos de grafos aleatorios.\n",
        "\n",
        "En un grafo ER, la probabilidad de que un vertice esté conectado es muy baja cuando p es pequeño y casi 1 cuando p es grade."
      ],
      "metadata": {
        "id": "5aSTNOuwu58E"
      }
    },
    {
      "cell_type": "code",
      "source": [
        "import numpy as np\n",
        "import networkx as nx"
      ],
      "metadata": {
        "id": "iTRA2y8Jw4aP"
      },
      "execution_count": null,
      "outputs": []
    },
    {
      "cell_type": "code",
      "source": [
        "def flip(p):\n",
        "    return np.random.random() < p"
      ],
      "metadata": {
        "id": "i9JCqJ4nu6QU"
      },
      "execution_count": null,
      "outputs": []
    },
    {
      "cell_type": "code",
      "source": [
        "def random_pairs(nodes, p):\n",
        "    for edge in all_pairs(nodes):\n",
        "        if flip(p):\n",
        "            yield edge"
      ],
      "metadata": {
        "id": "noqDcswAwn7n"
      },
      "execution_count": null,
      "outputs": []
    },
    {
      "cell_type": "code",
      "source": [
        "def make_random_graph(n, p):\n",
        "    G = nx.Graph()\n",
        "    nodes = range(n)\n",
        "    G.add_nodes_from(nodes)\n",
        "    G.add_edges_from(random_pairs(nodes, p))\n",
        "    return G"
      ],
      "metadata": {
        "id": "Q5NGrDPSwn-B"
      },
      "execution_count": null,
      "outputs": []
    },
    {
      "cell_type": "markdown",
      "metadata": {
        "id": "FLb4cP7WIERl"
      },
      "source": [
        "Ejemplo con `n=10` y `p=0.3`"
      ]
    },
    {
      "cell_type": "code",
      "execution_count": null,
      "metadata": {
        "colab": {
          "base_uri": "https://localhost:8080/"
        },
        "id": "KB5oi71YIERm",
        "outputId": "74bcc236-923f-4faa-9b19-8a13b68ffd5f"
      },
      "outputs": [
        {
          "output_type": "execute_result",
          "data": {
            "text/plain": [
              "12"
            ]
          },
          "metadata": {},
          "execution_count": 14
        }
      ],
      "source": [
        "np.random.seed(10)\n",
        "\n",
        "random_graph = make_random_graph(10, 0.3)\n",
        "len(random_graph.edges())"
      ]
    },
    {
      "cell_type": "markdown",
      "metadata": {
        "id": "DZHgUUpyIERn"
      },
      "source": [
        "Así se ve un grafo aleatorio."
      ]
    },
    {
      "cell_type": "code",
      "execution_count": null,
      "metadata": {
        "colab": {
          "base_uri": "https://localhost:8080/",
          "height": 319
        },
        "id": "jPRRntsyIERn",
        "outputId": "527a588e-ddeb-4245-898b-df9d59842520"
      },
      "outputs": [
        {
          "output_type": "display_data",
          "data": {
            "text/plain": [
              "<Figure size 432x288 with 1 Axes>"
            ],
            "image/png": "[encoded data removed]"
          },
          "metadata": {}
        }
      ],
      "source": [
        "nx.draw_circular(random_graph, \n",
        "                 node_color='C3', \n",
        "                 node_size=1000, \n",
        "                 with_labels=True)"
      ]
    },
    {
      "cell_type": "markdown",
      "source": [
        "## Analizando los algoritmos de los grafos\n",
        " \n",
        "Analizar el rendimiento de los algoritmos se realiza en general al calcular cómo crecen los tiempos de ejecución a medida que aumenta el tamaño de los grafos. El orden de crecimiento de los algoritmos de los grafos generalmente se expresan como función del número de vértices ($n$) y el número de arcos ($m$).\n"
      ],
      "metadata": {
        "id": "bVOsKChdZpmS"
      }
    },
    {
      "cell_type": "markdown",
      "source": [
        "## Algunos algoritmos con grafos\n",
        "\n",
        "*   Algoritmo de Kruskal\n",
        "*   Algoritmo de Prim\n",
        "*   Algoritmo de Dijkstra para los caminos más cortos desde un nodo origen\n",
        "*   Algoritmo de Floyd para todas las distancias más cortas\n",
        "\n"
      ],
      "metadata": {
        "id": "rjMHsr-xi7ym"
      }
    },
    {
      "cell_type": "markdown",
      "source": [
        "# Problema del viajero (TSP)\n",
        "\n",
        "El problema del viajero o Traveling Salesman Problem corresponde a un problema de **optimización** combinatoria en la teoría de grafos, piense en un grafo en donde los nodos corresponden a las ciudades y los arcos corresponden a las carreteras que conectan cada ciudad, en donde el peso de cada ciudad indica la distancia entre las 2 ciudades.\n",
        " \n",
        " \n",
        "<h4>El problema es el siguiente: </h4>\n",
        "<h5>\n",
        "\n",
        "> Encuentre el *camino* (*path*) que permita al viajero pasar por cada ciudad una vez y retornar a la ciudad inicial minimizando la distancia recorrida. \n",
        "</h5>\n",
        "\n",
        "Este es un problema NP (polinomio no determinista) difícil, es decir, que para grandes valores de $n$ no es factible evaluar todas las soluciones posibles del problema dentro de un periodo de tiempo razonable. \n"
      ],
      "metadata": {
        "id": "ZGRux0OTfMh-"
      }
    },
    {
      "cell_type": "markdown",
      "source": [
        "## Algunas Soluciones populares a este problema\n",
        " \n",
        "1. Fuerza bruta\n",
        "> Calcula y compara todas las posibles permutaciones de caminos para luego determinar el camino óptimo global. Esta solución se puede mejorar utilizando programación dinámica para ir guardando los valores de las rutas. Cuando el número de nodos es grande, esta solución es extremadamente ineficiente pues comienzan a existir muchos distintos caminos posibles.\n",
        " \n",
        "2. The Nearest Neighbor Method\n",
        "> Esta es quizás la heurística TSP más simple. La clave de este método es visitar siempre el destino más cercano y luego volver a la primera ciudad cuando se visitan todas las demás ciudades. Para resolver el TSP usando este método, elige una ciudad al azar y luego busca la ciudad no visitada más cercana y ve allí. Una vez que haya visitado todas las ciudades, debe regresar a la primera ciudad. Es una heurística miope, es decir, en una iteración escoge la mejor opción que tiene disponible, sin ver que esto puede obligar a tomar malas decisiones posteriormente; al final del proceso probablemente quedarán vértices cuya conexión obligará a introducir aristas de coste elevado.\n",
        " \n",
        "3. Método Branch and bound (Ramificación y acotamiento)\n",
        "> Divide el problema en muchos subproblemas a resolver. Cada subproblema puede tener varias soluciones posibles donde la solución seleccionada para un problema puede tener un efecto sobre las posibles soluciones de subproblemas posteriores.\n",
        "Para utilizar este método se elige un nodo de inicio y luego se establece el límite en un valor muy grande (infinito en un comienzo). Luego se selecciona el arco con el valor más pequeño entre el nodo no visitado y el actual agregando esta distancia a la distancia actual (la cual se va a actualizar). Repita el proceso mientras la distancia actual sea menor que el límite. Si la distancia actual es menor que el límite, ya está. Ahora puede sumar la distancia para que el límite sea igual a la distancia actual. Repita este proceso hasta que todos los arcos hayan sido revisados.\n",
        " \n",
        "4. Christofides algorithm \n",
        "> Corresponde a un algoritmo que encuentra una solución aproximada. El coste de la solución obtenida por el algoritmo es $3/2$ de la solución óptima. Sea G un grafo completo definido por un conjunto $V$ de vértices o nodos y una función $w$ que asocia un peso o valor a cada arco del grafo G, las fases para encontrar el óptimo aproximado son las siguientes:\n",
        "    * Obtener el árbol recubridor mínimo *T* de G.\n",
        "    * Sea $O$ un conjunto de vértices de grado impar en *T*, hallar un conjunto independiente de arcos (matching) *M* de mínimo peso en el grafo completo sobre los vértices de $O$. \n",
        "    * Combinar los arcos de *M* y *T* para crear un multigrafo *H*.\n",
        "    * Obtener un ciclo euleriano en *H*.\n",
        "    * Obtener un ciclo hamiltoniano a partir del ciclo euleriano anterior, descartando los nodos visitados. \n",
        " \n",
        "    Como podrán darse cuenta, se meniconan varios conceptos matematicos de la teoria de grafos que probablemente no conocen por lo que puede ser dificil de entender como funciona este algortimo, asi que [aqui](https://www.youtube.com/watch?v=dNCwtFJLsKI&ab_channel=SaucelessGiuseppe) les dejo un video explicativo sobre como funciona el algoritmo.  \n",
        "\n",
        "\n",
        "\n",
        "\n",
        "\n"
      ],
      "metadata": {
        "id": "myJY84-2e2ge"
      }
    },
    {
      "cell_type": "markdown",
      "source": [
        "## Ejemplo con 4 ciudades\n",
        "\n",
        "\n",
        "Para encontrar el camino o ruta optima en un grafo con 4 nodos (que representan las 4 ciudades) se pueden determinar el número de posibles caminos de o ciclos posibles (esto pues el problema pide que pase por cada nodo solo una vez y que comience y termine en el mismo punto), existen $(n-1)!$ ciclos hamiltoneanos únicos posibles."
      ],
      "metadata": {
        "id": "oeeeP5Pdf7SU"
      }
    },
    {
      "cell_type": "code",
      "source": [
        "import networkx as nx\n",
        "\n",
        "def all_pairs(nodes):\n",
        "    for i, u in enumerate(nodes):\n",
        "        for j, v in enumerate(nodes):\n",
        "            if i < j:\n",
        "                yield u, v\n",
        "\n",
        "G = nx.Graph()\n",
        "nodes = [\"Berlin\",\"Dusseldorf\",\"Hamburg\",\"Munich\"]\n",
        "G.add_nodes_from(nodes)\n",
        "G.add_edges_from(all_pairs(nodes))"
      ],
      "metadata": {
        "id": "y6QwqiBYhwSV"
      },
      "execution_count": null,
      "outputs": []
    },
    {
      "cell_type": "code",
      "source": [
        "nx.draw_circular(G, \n",
        "                 node_color='C1', \n",
        "                 node_size=3500, \n",
        "                 with_labels=True)"
      ],
      "metadata": {
        "colab": {
          "base_uri": "https://localhost:8080/",
          "height": 319
        },
        "id": "REW3_WashwTt",
        "outputId": "eb2e17e8-a4d7-42a3-ea8d-ee6beb7e4d26"
      },
      "execution_count": null,
      "outputs": [
        {
          "output_type": "display_data",
          "data": {
            "text/plain": [
              "<Figure size 432x288 with 1 Axes>"
            ],
            "image/png": "[encoded data removed]"
          },
          "metadata": {}
        }
      ]
    },
    {
      "cell_type": "markdown",
      "source": [
        "Los posibles caminos se presentan en la imagen a continuación, donde cada ramificación es una alternativa posible. Dependiendo de las distancias se elegiría el camino con menor distancia recorrida, este ejemplo muestra sólo la idea de cómo funciona la disposición de los caminos, como se puede observar existen $(4-1)!=6$ ciclos hamiltoneanos únicos.  \n",
        "\n",
        "<div align=\"center\">\n",
        "<img width=\"500\" src=\"https://raw.githubusercontent.com/joaquinzepeda/Programacion-Avanzada/main/imgs/Problema viajero/1.png\">\n",
        "</div>\n"
      ],
      "metadata": {
        "id": "gdFcuPrCmm9P"
      }
    },
    {
      "cell_type": "markdown",
      "source": [
        "## Ejemplo problema del viajero con 16 ciudades\n",
        "\n",
        "¿ Cuál es el camino óptimo que permite a un viajero pasar por las 16 ciudades, pasando por cada ciudad una vez y retornar a la ciudad inicial minimizando la distancia recorrida?\n",
        " \n",
        "Como se puede observar en la siguiente imagen, existen múltiples opciones y combinaciones de caminos posibles entre las ciudades, por lo que se vuelve un problema complejo. \n",
        "\n",
        "\n",
        "<div align=\"center\">\n",
        "<img width=\"500\" src=\"https://raw.githubusercontent.com/joaquinzepeda/Programacion-Avanzada/main/imgs/Problema viajero/3.png\">\n",
        "</div>\n",
        "\n",
        "Las distancias entre cada ciudad se muestra en la siguiente tabla:\n",
        "<div align=\"center\">\n",
        "<img  src=\"https://raw.githubusercontent.com/joaquinzepeda/Programacion-Avanzada/main/imgs/Problema viajero/4.png\">\n",
        "</div>\n",
        "\n",
        "La solución encontrada mediante el algoritmo de Christofides se presenta a continuación, donde el camino rojo corresponde al camino óptimo encontrado. Este algoritmo se puede aplicar con la librería NetworkX el cual ya lo trae implementado para grafos no dirigidos y retorna la lista de arcos que son parte de la solución. Por supuesto el grafo G debe estar creado con sus respectivos pesos y nodos.\n",
        "```python\n",
        "cycle = nx_app.christofides(G, weight=\"weight\")\n",
        "edge_list = list(nx.utils.pairwise(cycle))\n",
        "```\n",
        "\n",
        "<div align=\"center\">\n",
        "<img width=\"400\" src=\"https://raw.githubusercontent.com/joaquinzepeda/Programacion-Avanzada/main/imgs/Problema viajero/7.png\">\n",
        "</div>"
      ],
      "metadata": {
        "id": "qw083VQSneAY"
      }
    },
    {
      "cell_type": "markdown",
      "source": [
        "## Aplicaciones de TSP\n",
        " \n",
        " \n",
        " \n",
        "*   **Vendedor viajero:** Por un lado se encuentra la aplicación del ejemplo, la cual resuelve el problema de un comerciante o viajero, por supuesto las ciudades pueden convertirse en puntos de venta y los arcos en vez de ser carreteras pueden ser las calles de la ciudad. \n",
        " \n",
        "*  **Problema de Scheduling:**Este problema es realmente complejo de resolver. Se formula de la siguiente forma: hay T tareas que realizar y m procesadores. Se busca una planificación en m procesadores para T minimizando el tiempo. Si ahondamos un poco más en este tipo de problemas, observamos que existen una gran cantidad de variantes asociadas a si hay orden parcial en T (es decir, algunas actividades son preferentes a otras)...\n",
        " \n",
        "    En este caso las actividades pueden verse como las ciudades y los tiempos como las distancias. El objetivo es determinar una secuencia (schedule) de tal forma que se lleven a cabo en una cantidad mínima de tiempo. Para resolverlo se usa la versión asimétrica del TSP, es decir, debemos tener en cuenta que el costo de pasar de la tarea A a la B, puede ser diferente del costo de recorrer el camino inverso. Como aplicación más cercana, los problemas de scheduling los encontramos en la televisión, donde es necesario planificar un secuenciamiento óptimo de los comerciales durante un corte publicitario.\n",
        " \n",
        "* **Creación de placas de circuitos impresos PCB:** Ésta es sin duda una de las utilidades más ingeniosas que puede plantear el problema del viajante de comercio: la creación de placas de circuitos. Este problema se enfoca en dos suproblemas: el orden óptimo de taladrar las placas y los caminos óptimos que comunican los chips. En los problemas de perforado hemos de tomar las ciudades como las posiciones a perforar y las distancias entre ellas como el tiempo que necesita la máquina en trasladarse de una a otra. El punto inicial y final será un punto adicional donde permanece la perforadora mientras descansa. Claramente si estas máquinas no son correctamente programadas el tiempo que tarda en recorrer un orificio u otro puede ser significativo con lo que la producción de placas bajaría en un período de tiempo.\n",
        " \n",
        "    En el problema de conexión de chips la idea es minimizar la cantidad de cable necesaria para unir todos los puntos de una placa sin que haya interferencias. Como los chips son de pequeño tamaño no se pueden poner más de dos cables en un único pin. Tomando las ciudades como los pins y la cantidad de cable necesaria para unirlos como la distancia, el problema es equivalente al de viajante de comercio.\n",
        " \n",
        "* **Aplicaciones en internet:** Supongamos que el viajante de comercio es un bit de datos, y que las ciudades son servidores de Red distribuidos por todo el planeta. Esta variante del problema del viajante de comercio es algo inherente al uso óptimo de una plataforma masiva de distribución como es Internet. No olvidemos que en cada ruta puede haber miles de ciudades en este caso. Es curioso como para resolver esta variante algunos investigadores se han inspirado en el comportamiento de las hormigas.\n",
        " \n",
        "* **Aplicaciones en Transporte/red de basura:** El problema de la recolección de residuos puede dividirse en 3 grandes tipos: domiciliaria, comercial e industrial. La recolección domiciliaria consiste en atender fundamentalmente casas particulares. La frecuencia puede variar aunque normalmente las rutas suelen repetirse una vez todos los días. La recolección comercial o industrial se encarga de las tiendas, restaurantes o edificios de cocinas. Los objetivos en este tipo de problemas pueden ser diversos: minimizar el número de camiones, la distancia recorrida... Si queremos minimizar la distancia usaremos el problema del viajante de comercio identificando los contenedores o puntos de recogida como las ciudades a visitar. Estos mismos problemas se pueden generalizar a los llamados problemas de vehículos o de reparto. Se usan en las empresas de transportes, en correos, etc.\n",
        " \n",
        "**Nota:** Estas son algunas de las aplicaciones de TSP, no son las únicas.\n",
        " \n",
        " \n",
        "\n"
      ],
      "metadata": {
        "id": "uHP4i-RHsfqx"
      }
    },
    {
      "cell_type": "markdown",
      "source": [
        "## Referencias del problema del viajero: \n",
        "\n",
        "[1] Himalaya Bir Shrestha (2021). \n",
        "Solving the Travelling Salesman Problem for Germany using NetworkX in Python. Available: https://towardsdatascience.com/solving-the-travelling-salesman-problem-for-germany-using-networkx-in-python-2b181efd7b07\n",
        "\n",
        "[2] A. Carpintero, J. Díaz, V. Franco, Pilar López, A. Pérez (2015) . Departamento de Estadística e Investigación Operativa. Available: https://knuth.uca.es/moodle/mod/page/view.php?id=3415\n",
        "\n",
        "[3]  G. González-Santander. El problema del viajante. Available: https://baobabsoluciones.es/blog/2020/10/01/problema-del-viajante/\n",
        "\n",
        "[4] Suzanne Ma. Solving the Travelling Salesman Problem for deliveries. Available: https://blog.routific.com/travelling-salesman-problem\n"
      ],
      "metadata": {
        "id": "7rLHP_CAqglx"
      }
    },
    {
      "cell_type": "markdown",
      "metadata": {
        "id": "iyyQEyBXdty-"
      },
      "source": [
        "## Distancias mínimas en un grafo dirigido\n",
        "\n",
        "\n",
        "Sea un grafo un conjunto $V$ de *vértices* (también llamados *nodos*) y un conjunto $E$ de *arcos*. El número de vértices se suele denotar $n$ y el número de arcos como $m$ (o a veces $e$).\n",
        "\n",
        "Consideremos un grafo *dirigido* $G=(V,E)$, donde para cada arco $e=(u,v)$ se conoce su largo, o distancia, $d(e)=d(u,v)\\ge 0$. Podemos extender la función $d$ a todo $V\\times V$ si definimos $d(u,v)=\\infty$ cuando $(u,v)\\notin E$.\n",
        "\n",
        "Si se define el largo de un camino como la suma de los largos de los arcos que lo componen, es interesante encontrar los caminos más cortos que unen a nodos del grafo.\n",
        "\n",
        "Este problema se suele estudiar en dos variantes:\n",
        "\n",
        "* Encontrar todos los caminos más cortos desde un nodo \"origen\" $s$ hasta todos los demás nodos del grafo.\n",
        "\n",
        "* Encontrar todos los caminos más cortos entre todos los pares de nodos del grafo. Esto se puede resolver iterando $n$ veces el problema anterior, cambiando cada vez el nodo origen, pero es posible encontrar un algoritmo más simple si se resuelve todo de una vez."
      ]
    },
    {
      "cell_type": "markdown",
      "metadata": {
        "id": "3UOjdRlVdty-"
      },
      "source": [
        "### Algoritmo de Dijkstra para los caminos más cortos desde un nodo origen\n",
        "#### Realizado por Patricio Poblete para el curso CC3001.\n",
        "La idea del algoritmo es mantener un conjunto $A$ de nodos \"alcanzables\" desde el nodo origen e ir extendiendo este conjunto en cada iteración.\n",
        "\n",
        "Los nodos alcanzables son aquellos para los cuales ya se ha encontrado su camino óptimo desde el nodo origen. Para esos nodos su distancia óptima al origen es conocida. Inicialmente $A=\\{s\\}$.\n",
        "\n",
        "Para los nodos que todavía no están en $A$ aún no se conoce su camino óptimo desde $s$, pero sí se puede conocer el camino óptimo *que pasa sólo por nodos de* $A$. Esto es, caminos en que todos los nodos intermedios son nodos de $A$. Llamemos a esto su camino óptimo *tentativo*.\n",
        "\n",
        "En cada iteración, el algoritmo encuentra el nodo que no está en $A$ cuyo camino óptimo tentativo tiene largo mínimo. Es fácil demostrar por contradicción que ese camino tiene que ser el camino óptimo para ese nodo. Luego, ese nodo se agrega a $A$ y su camino óptimo tentativo se convierte en su camino óptimo. Luego se actualizan los caminos óptimos tentativos para los demás nodos."
      ]
    },
    {
      "cell_type": "code",
      "metadata": {
        "id": "KegXUZKodty-"
      },
      "source": [
        "# seudo-código\n",
        "def Dijkstra(V,E,d,s):\n",
        "    A=[s]\n",
        "    for v in V:\n",
        "        D[v]=d[v]\n",
        "    D[s]=0\n",
        "    # D[] almacena las distancias óptimas desde s para los nodos en A\n",
        "    # y las distancias óptimas tentativas para los nodos en V-A\n",
        "    while A!=V:\n",
        "        # Encontramos el nodo v de menor distancia óptima tentativa\n",
        "        v = findmin(D[u] for u in V-A)\n",
        "        # Agregamos v al conjunto alcanzable\n",
        "        A.append(v)\n",
        "        # recalculamos las distancias óptimas tentativas\n",
        "        # considerando la posibilidad de pasar por el nuevo nodo v\n",
        "        for w in vecinos[v]: # los nodos w tal que (v,w) in E\n",
        "            D[w] = min(D[w],D[v]+d(v,w))\n",
        "    # Al terminar, D[] almacena las distancias óptimas definitivas\n",
        "    return D"
      ],
      "execution_count": null,
      "outputs": []
    },
    {
      "cell_type": "markdown",
      "metadata": {
        "id": "0th5AZ14dty-"
      },
      "source": [
        "Si $D$ se implementa como un arreglo en donde el mínimo se busca secuencialmente, encontrar el mínimo toma tiempo $\\Theta(n)$, con un aporte de $\\Theta(n^2)$ al tiempo total. Por otra parte, recalcular las distancias óptimas tentativas toma en total tiempo $\\Theta(m)$, porque cada arco se usa a lo más una vez. Como $m=O(n^2)$, el tiempo total es $\\Theta(n^2)$.\n",
        "\n",
        "Una forma alternativa de implementar este algoritmo es usando una *cola de prioridad*, por ejemplo un heap, para almacenar los valores de $D$ de los nodos en $V-A$. Así, encontrar y extraer el mínimo toma tiempo $\\Theta(\\log{n})$, lo cual se ejecuta $n$ veces, y cada recálculo toma también tiempo $\\Theta(\\log{n})$, porque hay que cambiar la prioridad del respectivo elemento en el heap, y esto se ejecuta $m$ veces. Por lo tanto, en esta implementación el tiempo total es $\\Theta(m\\log{n})$."
      ]
    },
    {
      "cell_type": "markdown",
      "source": [
        "# Nano desafío 15: Grafo estaciones de metro.\n",
        "\n",
        "**Problema:** Realice un grafo que represente 6 estaciones de Metro, agregue como atributo en los arcos el tiempo que toma llegar entre cada estación y trate de ubicar los nodos de forma coherente con sus respectivas ubicaciones.\n",
        "\n",
        "**Nota:** No necesariamente tiene que ser el metro de Santiago."
      ],
      "metadata": {
        "id": "u9eaXjccWz5d"
      }
    },
    {
      "cell_type": "code",
      "source": [
        "# Escriba acá su código"
      ],
      "metadata": {
        "id": "hg7NWylxW0IE"
      },
      "execution_count": null,
      "outputs": []
    },
    {
      "cell_type": "markdown",
      "source": [
        "# Computación Paralela\n",
        " \n",
        "La mayoría de los computadores modernos en la actualidad tienen un diseño de procesadores con múltiples núcleos o más conocido como multicores, cada procesador puede realizar una tarea, al tener varios procesadores se pueden realizar varias tareas a la vez en forma paralela lo cual es bastante útil. Por otro lado en la actualidad algunos núcleos pueden realizar más de una tarea, esto gracias al Hyper-Threading que en resumen permite tener más de un hilo lógico por núcleo permitiendo así realizar más tareas en paralelo. \\\\\n",
        " \n",
        "Realizar tareas en paralelo permite ejecutar su código simultáneamente en múltiples núcleos en su/s procesador/es CPU o aumentar la velocidad aprovechando los ciclos de CPU desperdiciados mientras su programa está esperando recursos externos. **La idea fundamental de la computación paralela se basa en realizar múltiples tareas al mismo tiempo para reducir el tiempo de ejecución de su programa.** \\\\\n",
        " \n",
        " \n",
        "Por ejemplo si tiene que ejecutar una operación para 1 millón de archivos, una de las opciones es hacerlo de forma secuencial, es decir, realizar la operación 1 archivo a la vez, por otro lado, esto se podría optimizar realizando operaciones en paralelo, es decir, realizar en forma paralela operaciones a los archivos al mismo tiempo. \\\\\n",
        " \n",
        "En la siguiente imagen se muestra un ejemplo del como se puede realizar 4 tareas de forma paralela mientras que en forma secuencial se puede ejecutar 1 sola tarea mientras que las otras quedan a la espera de que termine. La computación paralela permite aprovechar los recursos computacionales que se tienen.\n",
        "\n",
        "\n",
        "\n",
        "<div align=\"center\">\n",
        "<img width=\"600\" src=\"https://raw.githubusercontent.com/joaquinzepeda/Programacion-Avanzada/main/imgs/parallel_vs_serial.png\">\n",
        "</div>\n"
      ],
      "metadata": {
        "id": "cXQUc6lM_-vo"
      }
    },
    {
      "cell_type": "markdown",
      "source": [
        "\n",
        "## ¿Como puedo saber cuantos Núcleos y procesadores lógicos tiene mi computador?\n",
        " \n",
        "Esto depende del sistema operativo del computador, pero en general está en la información del dispositivo. Por ejemplo, en Windows se puede ver en la ventana del administrador de tareas en el apartado de rendimiento, como se muestra a continuación mi computador tiene 6 núcleos (hexa-core)y cada núcleo tiene 2 procesadores lógicos, por lo que en total se tienen 12 procesadores lógicos los cuales se pueden utilizar para realizar programación en paralelo.\n",
        " \n",
        "<div align=\"center\">\n",
        "<img width=\"600\" src=\"https://raw.githubusercontent.com/joaquinzepeda/Programacion-Avanzada/main/imgs/procesadores.png\">\n",
        "</div>\n",
        " \n",
        "Otra forma de ver esto es utilizando alguna librería de Python u otro lenguaje lo cual se mostrará más adelante. En el caso de Python las librerías más comunes son *multiprocessing* y *threading*.\n",
        " \n",
        " \n",
        " \n",
        " \n",
        "\n",
        "\n"
      ],
      "metadata": {
        "id": "PGHyUTvlLcMA"
      }
    },
    {
      "cell_type": "markdown",
      "source": [
        "# Procesos vs threads\n",
        "\n",
        "Un proceso es una instancia de un programa y cada proceso tiene su propio bloque de memoria. Un Thread es un subproceso que reside dentro del proceso. Cada proceso puede tener múltiples threads los cuales van a compartir espacios de memoria. Si cambia una variable en un Thread, cambiará para todos los demás, en cambio en los procesos esto no ocurre. Tanto los procesos como los Threads tienen ventajas o desventajas, y se pueden usar en diferentes tareas para maximizar los beneficios.\n",
        "\n",
        "**Nota:** En el curso CC3301 Programación de software de Sistemas hay una unidad entera que se centra en Threads, se ve en C el cual si permite utilizar computación paralela con threads sin problemas."
      ],
      "metadata": {
        "id": "urTmbsDeMrE8"
      }
    },
    {
      "cell_type": "markdown",
      "source": [
        "## Global interpreter lock Python (GIL)\n",
        "\n",
        "Con Python al utilizar Threads nunca se logrará un verdadero paralelismo, esto se debe a que GIL permite que sólo un thread nativo tome el control del intérprete, es decir, que solo un thread puede estar en ejecución a la vez. La razón de esto es que Python fue diseñado antes de la introducción de los procesadores multi-core en los computadores personales. A pesar de esto, actualmente existen librerías las cuales permiten aprovechar los multi-core utilizando computación paralela."
      ],
      "metadata": {
        "id": "LH1XD683S2hn"
      }
    },
    {
      "cell_type": "markdown",
      "source": [
        "## Desventajas de usar computación paralela\n",
        "\n",
        "*   Código más complejo.\n",
        "*   Para códigos pequeños, utilizar computación paralela puede tomar mayor tiempo pues toma tiempo inicializar los procesos y mantenerlos.\n",
        "\n"
      ],
      "metadata": {
        "id": "wufEn9WVTIXo"
      }
    },
    {
      "cell_type": "markdown",
      "source": [
        "# Multiprocessing library\n",
        "\n",
        "Corresponde a una libreria estandar de Python que soporta computación paralela usando **procesos**."
      ],
      "metadata": {
        "id": "KYIZsL9nUGFU"
      }
    },
    {
      "cell_type": "code",
      "source": [
        "import multiprocessing as mp\n",
        "\n",
        "print(f\"Number of cpu: {mp.cpu_count()}\")"
      ],
      "metadata": {
        "colab": {
          "base_uri": "https://localhost:8080/"
        },
        "id": "F6KCEDqhA5X9",
        "outputId": "a8a2379f-105a-4243-d12b-cd51096ac1db"
      },
      "execution_count": null,
      "outputs": [
        {
          "output_type": "stream",
          "name": "stdout",
          "text": [
            "Number of cpu: 2\n"
          ]
        }
      ]
    },
    {
      "cell_type": "code",
      "source": [
        "sum(range(1,1001))"
      ],
      "metadata": {
        "colab": {
          "base_uri": "https://localhost:8080/"
        },
        "id": "jjxkrEQQ7iOT",
        "outputId": "9f7bae20-495f-4eeb-e17a-4b7063a258b4"
      },
      "execution_count": null,
      "outputs": [
        {
          "output_type": "execute_result",
          "data": {
            "text/plain": [
              "500500"
            ]
          },
          "metadata": {},
          "execution_count": 43
        }
      ]
    },
    {
      "cell_type": "markdown",
      "source": [
        "## Cosas a considerar cuando se paraleliza\n",
        "\n",
        "Es importante analizar **como se unen las resupuestas de cada proceso paralelo**, \n",
        "> por ejemplo si se busca optener la suma del $1$ al $1000$: \n",
        "1. Se paraleliza en 4 procesos para que en paralelo se calculen las sumas $1-250$, $251-501$, $502-752$ y $753-1000$. \n",
        "2. Las respectivas respuestas serían $31375$, $94376$, $157377$ y $217372$.\n",
        "3. El valor final corresponde  a la suma de los sub-valores obtenidos de forma paralela, luego el resultado final es $500500$.\n"
      ],
      "metadata": {
        "id": "WPWeINlR6-IE"
      }
    },
    {
      "cell_type": "markdown",
      "source": [
        "# Ejemplo código secuencial vs códgio paralelo usando procesos\n",
        "\n",
        "Se generan 10.000.000 números aleatorios a los cuales se les calcula el cuadrado y se guardan en una lista. Para eso se utiliza una función ```random_square```, la idea es ejecutar esta función 10000000 de forma secuencial y luego de forma paralela para luego comparar los tiempos de ejecución:\n",
        "\n",
        "\n",
        "\n"
      ],
      "metadata": {
        "id": "At9krxsaUbew"
      }
    },
    {
      "cell_type": "code",
      "source": [
        "import numpy as np\n",
        "import time\n",
        "\n",
        "def random_square(seed):\n",
        "    np.random.seed(seed)\n",
        "    random_num = np.random.randint(0, 10)\n",
        "    return random_num**2"
      ],
      "metadata": {
        "id": "z_HPTdgrVEml"
      },
      "execution_count": null,
      "outputs": []
    },
    {
      "cell_type": "markdown",
      "source": [
        "## Version secuencial (o serial)\n",
        "\n",
        "Esta es la forma conocida, se realiza un ciclo for el cual ejecuta la función el número de veces deseado."
      ],
      "metadata": {
        "id": "JaK8Sf9VU3GT"
      }
    },
    {
      "cell_type": "code",
      "source": [
        "inicio = time.time()\n",
        "results = []\n",
        "for i in range(10000000): \n",
        "    results.append(random_square(i))\n",
        "final = time.time()\n",
        "print(f'Tiempo de ejecución {final - inicio} s')\n"
      ],
      "metadata": {
        "colab": {
          "base_uri": "https://localhost:8080/"
        },
        "id": "yp2Yn30oUU23",
        "outputId": "7a2ebf85-8b89-4c22-ecdd-e816ad324d02"
      },
      "execution_count": null,
      "outputs": [
        {
          "output_type": "stream",
          "name": "stdout",
          "text": [
            "Tiempo de ejecución 51.3527307510376 s\n"
          ]
        }
      ]
    },
    {
      "cell_type": "markdown",
      "source": [
        "## Version paralela \n",
        "### que no funciona en windows pero si en google colab\n",
        "\n",
        "Se utiliza la libreria multiprocessing la cual utiliza la **clase Pool**. Existen distintos métodos, para más información revisar la [documentación](https://docs.python.org/3/library/multiprocessing.html).\n",
        "\n",
        "\n",
        "El siguiente códgio funciona en linux.\n",
        "\n",
        "```python\n",
        "t0 = time.time()\n",
        "n_cpu = mp.cpu_count()\n",
        "\n",
        "pool = mp.Pool(processes=n_cpu)\n",
        "results = [pool.map(random_square, range(10000000))]\n",
        "t1 = time.time()\n",
        "print(f'Execution time {t1 - t0} s')\n",
        "```\n",
        "```\n",
        "Execution time 6.066138744354248 s\n",
        "```\n",
        "\n"
      ],
      "metadata": {
        "id": "_wWPAFnvmSBT"
      }
    },
    {
      "cell_type": "markdown",
      "source": [
        "## Version paralela que funciona en Windows\n",
        "\n",
        "Se utiliza la libreria multiprocessing la cual utiliza la **clase Pool**. Existen distintos métodos, para más información revisar la [documentación](https://docs.python.org/3/library/multiprocessing.html). Es importante también habilitar el soporte para el multiproceso con ```freeze_support()``` pues esto evita el error.\n",
        "\n",
        "\n"
      ],
      "metadata": {
        "id": "x2tO8xwsU7W3"
      }
    },
    {
      "cell_type": "code",
      "source": [
        "from multiprocessing import Pool, cpu_count, freeze_support\n",
        "import time\n",
        "import numpy as np\n",
        "\n",
        "def random_square(seed):\n",
        "    np.random.seed(seed)\n",
        "    random_num = np.random.randint(0, 10)\n",
        "    return random_num**2\n",
        "\n",
        "if __name__ == '__main__':\n",
        "    inicio = time.time()\n",
        "    \n",
        "    # enable support for multiprocessing\n",
        "    freeze_support()\n",
        "\n",
        "    results = []\n",
        "    for i in range(10000000): \n",
        "        results.append(random_square(i))\n",
        "    final = time.time()\n",
        "    print(f'Secuencial: Tiempo de ejecución {final - inicio} s')\n",
        "\n",
        "    n_cpu = cpu_count() # se determina el número de CPU's disponibles para utilizar\n",
        "    inicio = time.time()\n",
        "    results_p = []\n",
        "    with Pool(processes=n_cpu) as p:\n",
        "        results_p.append(p.map(random_square, range(10000000)))\n",
        "    final = time.time()\n",
        "    print(f'Paralelo: Tiempo de ejecución {final - inicio} s')"
      ],
      "metadata": {
        "colab": {
          "base_uri": "https://localhost:8080/"
        },
        "id": "UfTmNt5MkmYN",
        "outputId": "39595dc5-df5c-43b1-bd65-05f624ab9b1f"
      },
      "execution_count": null,
      "outputs": [
        {
          "output_type": "stream",
          "name": "stdout",
          "text": [
            "Secuencial: Tiempo de ejecución 53.73466491699219 s\n",
            "Paralelo: Tiempo de ejecución 49.92170000076294 s\n"
          ]
        }
      ]
    },
    {
      "cell_type": "markdown",
      "source": [
        "**Nota:** No se aprecia una gran mejora en tiempos de ejecución debido a que Google colab dispone solamente de 2 CPU's, se en caso de utilizar más nucleos la mejora en tiempo es aun mayor. Por ejemplo en el caso de mi computador el cual tiene 12 procesos lógicos los resultados son los siguientes. Dentro del cuadro verde se puede observar el código para utilizar computación en paralelo y en rojo los resultados.\n",
        " \n",
        "<div align=\"center\">\n",
        "<img  src=\"https://raw.githubusercontent.com/joaquinzepeda/Programacion-Avanzada/main/imgs/pool_example.png\">\n",
        "</div>\n"
      ],
      "metadata": {
        "id": "hNidlkC5Vv2B"
      }
    },
    {
      "cell_type": "markdown",
      "source": [
        "# Joblib Library\n",
        "\n",
        "Existen librerias de terceros las cuales hacen más simple realizar computación paralela, una de estas es Joblib la cual provee una manera simple de implementar esto. Como corresponde a una libreria externa primero hay que instalarla. \n",
        "\n",
        "```python\n",
        "pip install joblib\n",
        "```\n",
        "Se presenta nuevamente el ejemplo:\n"
      ],
      "metadata": {
        "id": "u5W5OXxXUVRK"
      }
    },
    {
      "cell_type": "code",
      "source": [
        "from joblib import Parallel, delayed\n",
        "import numpy as np\n",
        "\n",
        "def random_square(seed):\n",
        "    np.random.seed(seed)\n",
        "    random_num = np.random.randint(0, 10)\n",
        "    return random_num**2"
      ],
      "metadata": {
        "id": "bappPUzylPmE"
      },
      "execution_count": null,
      "outputs": []
    },
    {
      "cell_type": "markdown",
      "source": [
        "La clase ``` Parallel ``` es una clase auxiliar que sirve como interfaz para utilizar multiprocessing. ``` delayed ``` se utiliza para capturar los argumentos de la función a paralelizar."
      ],
      "metadata": {
        "id": "zme9Uso3maYB"
      }
    },
    {
      "cell_type": "code",
      "source": [
        "import time\n",
        "\n",
        "inicio = time.time()\n",
        "results = Parallel(n_jobs=8,verbose=1)\\\n",
        "    (delayed(random_square)(i) for i in range(1000000))\n",
        "final = time.time()\n",
        "print(f'Paralelo: Tiempo de ejecución {final - inicio} s')"
      ],
      "metadata": {
        "colab": {
          "base_uri": "https://localhost:8080/"
        },
        "id": "B01i4zjKlVJm",
        "outputId": "41fd5dc8-d57e-47af-fbc5-86f5ede156db"
      },
      "execution_count": null,
      "outputs": [
        {
          "output_type": "stream",
          "name": "stderr",
          "text": [
            "[Parallel(n_jobs=8)]: Using backend LokyBackend with 8 concurrent workers.\n",
            "[Parallel(n_jobs=8)]: Done  56 tasks      | elapsed:    0.1s\n",
            "[Parallel(n_jobs=8)]: Done 40944 tasks      | elapsed:    1.2s\n",
            "[Parallel(n_jobs=8)]: Done 296944 tasks      | elapsed:    7.2s\n",
            "[Parallel(n_jobs=8)]: Done 655344 tasks      | elapsed:   15.5s\n"
          ]
        },
        {
          "output_type": "stream",
          "name": "stdout",
          "text": [
            "Paralelo: Tiempo de ejecución 23.708965063095093 s\n"
          ]
        },
        {
          "output_type": "stream",
          "name": "stderr",
          "text": [
            "[Parallel(n_jobs=8)]: Done 1000000 out of 1000000 | elapsed:   23.7s finished\n"
          ]
        }
      ]
    },
    {
      "cell_type": "markdown",
      "source": [
        "Argumentos:\n",
        "* ``` n_jobs=-1 ``` utiliza toda la potencia computacional del computador utilizado. Tambien se puede setear a un valor como ``` n_jobs=4 ```, en este caso se utilizarian 4 procesos.\n",
        "\n",
        "* ``` verbose = 1 ``` es un argumento que activa la opción para que se retorne mensajes de status.\n",
        "\n"
      ],
      "metadata": {
        "id": "mpG9MrYfl223"
      }
    },
    {
      "cell_type": "code",
      "source": [
        "results = \\\n",
        "    Parallel(n_jobs=-1, backend='multiprocessing', verbose=1)\\\n",
        "    (delayed(random_square)(i) for i in range(1000000))"
      ],
      "metadata": {
        "colab": {
          "base_uri": "https://localhost:8080/"
        },
        "id": "vL9KiZ5nlhzn",
        "outputId": "de941427-130e-437c-d757-c4012058ac7d"
      },
      "execution_count": null,
      "outputs": [
        {
          "output_type": "stream",
          "name": "stderr",
          "text": [
            "[Parallel(n_jobs=-1)]: Using backend MultiprocessingBackend with 2 concurrent workers.\n",
            "[Parallel(n_jobs=-1)]: Done 12284 tasks      | elapsed:    0.2s\n",
            "[Parallel(n_jobs=-1)]: Done 1000000 out of 1000000 | elapsed:    9.4s finished\n"
          ]
        }
      ]
    },
    {
      "cell_type": "markdown",
      "source": [
        "# Nano desafío 16: Aproximación de PI usando Monte Carlo con computación en Paralelo\n",
        "\n",
        "**Problema:** Paralelizar la función que aproxima el número de PI utilizando el método de Monte Carlo el cual consiste en un método numérico no determinista, que se utiliza para aproximar expresiones matemáticas complejas y costosas de evaluar con exactitud. La siguiente función aproxima PI a partir de n puntos aleatorios uniformes dentro de un cuadrado, luego se utiliza que:\n",
        " \n",
        "\\begin{equation}\n",
        "\\frac{\\text{Puntos dentro del circulo}}{\\text{Puntos en el cuadrado}} \\approx \\frac{\\text{Área circulo}}{\\text{Área cuadrado}} =  \\frac{\\pi}{4}\n",
        "\\end{equation}\n",
        " \n",
        "De esta manera se puede despejar PI y aproximarlo. El método es válido siempre y cuando los n puntos aleatorios estén uniformemente distribuidos y además $n$ sea grande.\n",
        "\n"
      ],
      "metadata": {
        "id": "_Pgv_cQfoXk-"
      }
    },
    {
      "cell_type": "markdown",
      "source": [
        "## Presentación del código secuencial\n",
        "A continuación se muestra como funciona la función:"
      ],
      "metadata": {
        "id": "5dlOnXbkC8fj"
      }
    },
    {
      "cell_type": "code",
      "source": [
        "import math\n",
        "import random\n",
        "import time\n",
        "\n",
        "\n",
        "def approximate_pi(num_samples):\n",
        "    start = time.time()\n",
        "    num_inside = 0\n",
        "    X_in,X_out, Y_in, Y_out  = [],[], [],[]\n",
        "    for _ in range(num_samples): \n",
        "        x,y = random.uniform(-1, 1), random.uniform(-1, 1)\n",
        "        if math.hypot(x, y) <= 1:\n",
        "            X_in.append(x)\n",
        "            Y_in.append(y)\n",
        "            num_inside += 1\n",
        "        else:\n",
        "            X_out.append(x)\n",
        "            Y_out.append(y)\n",
        "\n",
        "    print(\"pi ~= {}\".format((4*num_inside)/num_samples))\n",
        "    print(\"Finished in: {:.2f}s\".format(time.time()-start))\n",
        "    value = (4*num_inside)/num_samples\n",
        "    return value, samples"
      ],
      "metadata": {
        "id": "IgqytHrDoXLp"
      },
      "execution_count": null,
      "outputs": []
    },
    {
      "cell_type": "markdown",
      "source": [
        "## Ejemplo Resultados de la función\n"
      ],
      "metadata": {
        "id": "24XffBS9vjn_"
      }
    },
    {
      "cell_type": "code",
      "source": [
        "n_samples = 10000\n",
        "value, samples = approximate_pi(n_samples)"
      ],
      "metadata": {
        "colab": {
          "base_uri": "https://localhost:8080/"
        },
        "id": "I5MhPTg7olYq",
        "outputId": "dcac178f-11a1-4ed6-eaf2-38769c6c3be6"
      },
      "execution_count": null,
      "outputs": [
        {
          "output_type": "stream",
          "name": "stdout",
          "text": [
            "pi ~= 3.1004\n",
            "Finished in: 0.02s\n"
          ]
        }
      ]
    },
    {
      "cell_type": "code",
      "source": [
        "import matplotlib.pyplot as plt\n",
        "\n",
        "circle = plt.Circle((0, 0), 1, color='r', fill=False,linewidth=3)\n",
        "\n",
        "ax = plt.gca()\n",
        "ax.cla() # limpia para tener un gráfico sin nada extra\n",
        "ax.add_patch(circle)\n",
        "plt.plot(samples[0],samples[1],'.',color = 'g')\n",
        "plt.plot(samples[2],samples[3],'.',color = 'b')\n",
        "plt.title('Aproximación de PI con '+str(n_samples)+' muestras\\n PI ~ '+str(value))\n",
        "plt.show()"
      ],
      "metadata": {
        "colab": {
          "base_uri": "https://localhost:8080/",
          "height": 296
        },
        "id": "BaTGqlbXpcng",
        "outputId": "de2bec06-dec0-4a32-aefd-511f75f3d39c"
      },
      "execution_count": null,
      "outputs": [
        {
          "output_type": "display_data",
          "data": {
            "text/plain": [
              "<Figure size 432x288 with 1 Axes>"
            ],
            "image/png": "[encoded data removed]"
          },
          "metadata": {
            "needs_background": "light"
          }
        }
      ]
    },
    {
      "cell_type": "markdown",
      "source": [
        "## Sus respuestas del desafío:\n",
        "\n",
        "Se modifican un poco las funciones para que sea más simple realizar la paralelización. Además se agrega la función secuencial para comparar los tiempos. Se recomienda luego de paralelizar, comparar los tiempos de ejecución de la función secuencial y la función paralela  utilizando ```n_samples = 10000000 ```. Se recomienda testear esta función en su computador de forma local.\n",
        " \n",
        "**Hint:** piense cómo se pueden unir las respuestas de cada proceso, se aconseja modificar levemente la función $aprroximate\\_pi\\_sec()$.\n"
      ],
      "metadata": {
        "id": "FC6p7q6A9eGr"
      }
    },
    {
      "cell_type": "code",
      "source": [
        "n_samples = 10000000"
      ],
      "metadata": {
        "id": "hOeYt6F899Em"
      },
      "execution_count": null,
      "outputs": []
    },
    {
      "cell_type": "code",
      "source": [
        "import math\n",
        "import random\n",
        "import time\n",
        "import multiprocessing as mp\n",
        "\n",
        "# función secuencial\n",
        "def approximate_pi_sec(num_samples):\n",
        "    start = time.time()\n",
        "    num_inside = 0\n",
        "    for _ in range(num_samples): \n",
        "        x,y = random.uniform(-1, 1), random.uniform(-1, 1)\n",
        "        if math.hypot(x, y) <= 1:\n",
        "            num_inside += 1\n",
        "    print(\"Finished in: {:.2f}s\".format(time.time()-start))\n",
        "    return \"pi ~= {}\".format((4*num_inside)/num_samples)\n",
        "\n",
        "# approximate_pi_sec levemente modificada\n",
        "def approximate_pi(num_samples):\n",
        "    pass\n",
        "\n",
        "\n",
        "# windows\n",
        "if __name__ == '__main__':\n",
        "\n",
        "    # enable support for multiprocessing\n",
        "    mp.freeze_support()\n",
        "\n",
        "    # función paralela\n",
        "    def parallel_approximate_pi(num_samples, n_cpu):\n",
        "        start = time.time()\n",
        "        print(\"Finished in: {:.2f}s\".format(time.time()-start))\n",
        "    \n",
        "    n_cpu = ???\n",
        "    n_samples = ???\n",
        "\n",
        "    pi_value_sec = approximate_pi_sec(n_samples)\n",
        "    pi_value_par = parallel_approximate_pi(n_samples,n_cpu)\n",
        "\n",
        "    print(pi_value_sec,pi_value_par)"
      ],
      "metadata": {
        "id": "NTianrW5-CdM"
      },
      "execution_count": null,
      "outputs": []
    },
    {
      "cell_type": "markdown",
      "source": [
        "Para que tengan como referencia, los resultados con mi computador usando $n\\_cpu=8$ y $n\\_samples = 100000000$:\n",
        "\n",
        "```\n",
        "Finished in: 59.36s\n",
        "Finished in: 13.16s\n",
        "pi ~= 3.14154888 pi ~= 3.14158828\n",
        "```\n",
        "Es decir, la función secuencial demoró $59.36s$ y la función paralelizada demoró $13.16s$ en hacer la misma tarea.\n",
        "\n",
        "**Nota:** Si desea puede usar la líbreria *Joblib*. \n",
        "\n"
      ],
      "metadata": {
        "id": "ldbSGfjp_xpH"
      }
    }
  ]
}